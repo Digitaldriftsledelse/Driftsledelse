{
  "nbformat": 4,
  "nbformat_minor": 0,
  "metadata": {
    "colab": {
      "name": "Vandstand i Oslo.ipynb",
      "provenance": []
    },
    "kernelspec": {
      "name": "python3",
      "display_name": "Python 3"
    }
  },
  "cells": [
    {
      "cell_type": "code",
      "metadata": {
        "id": "JpPehlK1b6Qt",
        "colab_type": "code",
        "colab": {
          "base_uri": "https://localhost:8080/",
          "height": 682
        },
        "outputId": "9b77b0b9-5498-4f38-c46d-210d592fe947"
      },
      "source": [
        "!pip install pandas_read_xml"
      ],
      "execution_count": 1,
      "outputs": [
        {
          "output_type": "stream",
          "text": [
            "Collecting pandas_read_xml\n",
            "  Downloading https://files.pythonhosted.org/packages/ea/9e/6d16891cdec58961372d71179d421866cbefb787b34b4d9480a350e299c1/pandas_read_xml-0.0.7-py3-none-any.whl\n",
            "Requirement already satisfied: pandas<2,>=1.0.3 in /usr/local/lib/python3.6/dist-packages (from pandas_read_xml) (1.0.5)\n",
            "Requirement already satisfied: certifi<2021,>=2020.4.5.1 in /usr/local/lib/python3.6/dist-packages (from pandas_read_xml) (2020.6.20)\n",
            "Requirement already satisfied: numpy<2,>=1.18.4 in /usr/local/lib/python3.6/dist-packages (from pandas_read_xml) (1.18.5)\n",
            "Collecting pyarrow<1,>=0.17.0\n",
            "\u001b[?25l  Downloading https://files.pythonhosted.org/packages/ba/3f/6cac1714fff444664603f92cb9fbe91c7ae25375880158b9e9691c4584c8/pyarrow-0.17.1-cp36-cp36m-manylinux2014_x86_64.whl (63.8MB)\n",
            "\u001b[K     |████████████████████████████████| 63.8MB 67kB/s \n",
            "\u001b[?25hRequirement already satisfied: python-dateutil<3,>=2.8.1 in /usr/local/lib/python3.6/dist-packages (from pandas_read_xml) (2.8.1)\n",
            "Requirement already satisfied: requests<3,>=2.23.0 in /usr/local/lib/python3.6/dist-packages (from pandas_read_xml) (2.23.0)\n",
            "Requirement already satisfied: idna<3,>=2.9 in /usr/local/lib/python3.6/dist-packages (from pandas_read_xml) (2.10)\n",
            "Collecting pytz<2021,>=2020.1\n",
            "\u001b[?25l  Downloading https://files.pythonhosted.org/packages/4f/a4/879454d49688e2fad93e59d7d4efda580b783c745fd2ec2a3adf87b0808d/pytz-2020.1-py2.py3-none-any.whl (510kB)\n",
            "\u001b[K     |████████████████████████████████| 512kB 41.8MB/s \n",
            "\u001b[?25hRequirement already satisfied: six<2,>=1.14.0 in /usr/local/lib/python3.6/dist-packages (from pandas_read_xml) (1.15.0)\n",
            "Collecting urllib3<2,>=1.25.9\n",
            "\u001b[?25l  Downloading https://files.pythonhosted.org/packages/9f/f0/a391d1463ebb1b233795cabfc0ef38d3db4442339de68f847026199e69d7/urllib3-1.25.10-py2.py3-none-any.whl (127kB)\n",
            "\u001b[K     |████████████████████████████████| 133kB 44.0MB/s \n",
            "\u001b[?25hCollecting xmltodict<1,>=0.12.0\n",
            "  Downloading https://files.pythonhosted.org/packages/28/fd/30d5c1d3ac29ce229f6bdc40bbc20b28f716e8b363140c26eff19122d8a5/xmltodict-0.12.0-py2.py3-none-any.whl\n",
            "Requirement already satisfied: chardet<4,>=3.0.4 in /usr/local/lib/python3.6/dist-packages (from pandas_read_xml) (3.0.4)\n",
            "\u001b[31mERROR: kaggle 1.5.6 has requirement urllib3<1.25,>=1.21.1, but you'll have urllib3 1.25.10 which is incompatible.\u001b[0m\n",
            "\u001b[31mERROR: datascience 0.10.6 has requirement folium==0.2.1, but you'll have folium 0.8.3 which is incompatible.\u001b[0m\n",
            "Installing collected packages: pyarrow, pytz, urllib3, xmltodict, pandas-read-xml\n",
            "  Found existing installation: pyarrow 0.14.1\n",
            "    Uninstalling pyarrow-0.14.1:\n",
            "      Successfully uninstalled pyarrow-0.14.1\n",
            "  Found existing installation: pytz 2018.9\n",
            "    Uninstalling pytz-2018.9:\n",
            "      Successfully uninstalled pytz-2018.9\n",
            "  Found existing installation: urllib3 1.24.3\n",
            "    Uninstalling urllib3-1.24.3:\n",
            "      Successfully uninstalled urllib3-1.24.3\n",
            "Successfully installed pandas-read-xml-0.0.7 pyarrow-0.17.1 pytz-2020.1 urllib3-1.25.10 xmltodict-0.12.0\n"
          ],
          "name": "stdout"
        },
        {
          "output_type": "display_data",
          "data": {
            "application/vnd.colab-display-data+json": {
              "pip_warning": {
                "packages": [
                  "pytz"
                ]
              }
            }
          },
          "metadata": {
            "tags": []
          }
        }
      ]
    },
    {
      "cell_type": "code",
      "metadata": {
        "id": "TPaiW4X_b-d0",
        "colab_type": "code",
        "colab": {}
      },
      "source": [
        "import pandas_read_xml as pdx\n",
        "import pandas as pd"
      ],
      "execution_count": 1,
      "outputs": []
    },
    {
      "cell_type": "markdown",
      "metadata": {
        "id": "-n0EfmTicBjb",
        "colab_type": "text"
      },
      "source": [
        "Nutidsdata"
      ]
    },
    {
      "cell_type": "code",
      "metadata": {
        "id": "OuCGOBd0b_k_",
        "colab_type": "code",
        "colab": {
          "base_uri": "https://localhost:8080/",
          "height": 167
        },
        "outputId": "98064e6a-aae6-4dda-9d22-fd86e0b5e046"
      },
      "source": [
        "url=\"http://api.sehavniva.no/tideapi.php?lat=59.911491&lon=10.757933&fromtime=2020-09-06T00%3A00&totime=2020-09-30T00%3A00&datatype=all&refcode=cd&place=Oslo&file=&lang=en&interval=10&dst=0&tzone=&tide_request=locationdata\"\n",
        "\n",
        "df = pdx.read_xml(url, ['tide', 'locationdata', 'data'])\n",
        "df"
      ],
      "execution_count": 2,
      "outputs": [
        {
          "output_type": "execute_result",
          "data": {
            "text/html": [
              "<div>\n",
              "<style scoped>\n",
              "    .dataframe tbody tr th:only-of-type {\n",
              "        vertical-align: middle;\n",
              "    }\n",
              "\n",
              "    .dataframe tbody tr th {\n",
              "        vertical-align: top;\n",
              "    }\n",
              "\n",
              "    .dataframe thead th {\n",
              "        text-align: right;\n",
              "    }\n",
              "</style>\n",
              "<table border=\"1\" class=\"dataframe\">\n",
              "  <thead>\n",
              "    <tr style=\"text-align: right;\">\n",
              "      <th></th>\n",
              "      <th>@type</th>\n",
              "      <th>@unit</th>\n",
              "      <th>waterlevel</th>\n",
              "    </tr>\n",
              "  </thead>\n",
              "  <tbody>\n",
              "    <tr>\n",
              "      <th>0</th>\n",
              "      <td>observation</td>\n",
              "      <td>cm</td>\n",
              "      <td>[{'@value': '81.7', '@time': '2020-09-06T00:00...</td>\n",
              "    </tr>\n",
              "    <tr>\n",
              "      <th>1</th>\n",
              "      <td>prediction</td>\n",
              "      <td>cm</td>\n",
              "      <td>[{'@value': '69.8', '@time': '2020-09-06T00:00...</td>\n",
              "    </tr>\n",
              "    <tr>\n",
              "      <th>2</th>\n",
              "      <td>weathereffect</td>\n",
              "      <td>cm</td>\n",
              "      <td>[{'@value': '11.8', '@time': '2020-09-06T00:00...</td>\n",
              "    </tr>\n",
              "    <tr>\n",
              "      <th>3</th>\n",
              "      <td>forecast</td>\n",
              "      <td>cm</td>\n",
              "      <td>[{'@value': '70.9', '@time': '2020-09-07T02:00...</td>\n",
              "    </tr>\n",
              "  </tbody>\n",
              "</table>\n",
              "</div>"
            ],
            "text/plain": [
              "           @type @unit                                         waterlevel\n",
              "0    observation    cm  [{'@value': '81.7', '@time': '2020-09-06T00:00...\n",
              "1     prediction    cm  [{'@value': '69.8', '@time': '2020-09-06T00:00...\n",
              "2  weathereffect    cm  [{'@value': '11.8', '@time': '2020-09-06T00:00...\n",
              "3       forecast    cm  [{'@value': '70.9', '@time': '2020-09-07T02:00..."
            ]
          },
          "metadata": {
            "tags": []
          },
          "execution_count": 2
        }
      ]
    },
    {
      "cell_type": "markdown",
      "metadata": {
        "id": "7op9E1DUcE8k",
        "colab_type": "text"
      },
      "source": [
        "Ældre"
      ]
    },
    {
      "cell_type": "code",
      "metadata": {
        "id": "EGkEnwmvcJHN",
        "colab_type": "code",
        "colab": {
          "base_uri": "https://localhost:8080/",
          "height": 137
        },
        "outputId": "4717ff46-e09b-485c-d137-cc5ba2297908"
      },
      "source": [
        "url=\"http://api.sehavniva.no/tideapi.php?lat=59.911491&lon=10.757933&fromtime=2019-01-01T00%3A00&totime=2019-12-31T00%3A00&datatype=all&refcode=cd&place=Oslo&file=&lang=en&interval=60&dst=0&tzone=&tide_request=locationdata\"\n",
        "\n",
        "df = pdx.read_xml(url, ['tide', 'locationdata', 'data'])\n",
        "df"
      ],
      "execution_count": 3,
      "outputs": [
        {
          "output_type": "execute_result",
          "data": {
            "text/html": [
              "<div>\n",
              "<style scoped>\n",
              "    .dataframe tbody tr th:only-of-type {\n",
              "        vertical-align: middle;\n",
              "    }\n",
              "\n",
              "    .dataframe tbody tr th {\n",
              "        vertical-align: top;\n",
              "    }\n",
              "\n",
              "    .dataframe thead th {\n",
              "        text-align: right;\n",
              "    }\n",
              "</style>\n",
              "<table border=\"1\" class=\"dataframe\">\n",
              "  <thead>\n",
              "    <tr style=\"text-align: right;\">\n",
              "      <th></th>\n",
              "      <th>@type</th>\n",
              "      <th>@unit</th>\n",
              "      <th>waterlevel</th>\n",
              "    </tr>\n",
              "  </thead>\n",
              "  <tbody>\n",
              "    <tr>\n",
              "      <th>0</th>\n",
              "      <td>observation</td>\n",
              "      <td>cm</td>\n",
              "      <td>[{'@value': '108.9', '@time': '2019-01-01T00:0...</td>\n",
              "    </tr>\n",
              "    <tr>\n",
              "      <th>1</th>\n",
              "      <td>prediction</td>\n",
              "      <td>cm</td>\n",
              "      <td>[{'@value': '76.3', '@time': '2019-01-01T00:00...</td>\n",
              "    </tr>\n",
              "    <tr>\n",
              "      <th>2</th>\n",
              "      <td>weathereffect</td>\n",
              "      <td>cm</td>\n",
              "      <td>[{'@value': '32.7', '@time': '2019-01-01T00:00...</td>\n",
              "    </tr>\n",
              "  </tbody>\n",
              "</table>\n",
              "</div>"
            ],
            "text/plain": [
              "           @type @unit                                         waterlevel\n",
              "0    observation    cm  [{'@value': '108.9', '@time': '2019-01-01T00:0...\n",
              "1     prediction    cm  [{'@value': '76.3', '@time': '2019-01-01T00:00...\n",
              "2  weathereffect    cm  [{'@value': '32.7', '@time': '2019-01-01T00:00..."
            ]
          },
          "metadata": {
            "tags": []
          },
          "execution_count": 3
        }
      ]
    },
    {
      "cell_type": "code",
      "metadata": {
        "id": "OgMoMmzPcJ7f",
        "colab_type": "code",
        "colab": {
          "base_uri": "https://localhost:8080/",
          "height": 405
        },
        "outputId": "6f9c57f8-0f2d-4a24-f67d-c59043b243d5"
      },
      "source": [
        "source=pd.DataFrame.from_dict(df.waterlevel[0])\n",
        "source\n",
        "#pd.DataFrame.from_dict(df.waterlevel[1])"
      ],
      "execution_count": 4,
      "outputs": [
        {
          "output_type": "execute_result",
          "data": {
            "text/html": [
              "<div>\n",
              "<style scoped>\n",
              "    .dataframe tbody tr th:only-of-type {\n",
              "        vertical-align: middle;\n",
              "    }\n",
              "\n",
              "    .dataframe tbody tr th {\n",
              "        vertical-align: top;\n",
              "    }\n",
              "\n",
              "    .dataframe thead th {\n",
              "        text-align: right;\n",
              "    }\n",
              "</style>\n",
              "<table border=\"1\" class=\"dataframe\">\n",
              "  <thead>\n",
              "    <tr style=\"text-align: right;\">\n",
              "      <th></th>\n",
              "      <th>@value</th>\n",
              "      <th>@time</th>\n",
              "      <th>@flag</th>\n",
              "    </tr>\n",
              "  </thead>\n",
              "  <tbody>\n",
              "    <tr>\n",
              "      <th>0</th>\n",
              "      <td>108.9</td>\n",
              "      <td>2019-01-01T00:00:00+01:00</td>\n",
              "      <td>obs</td>\n",
              "    </tr>\n",
              "    <tr>\n",
              "      <th>1</th>\n",
              "      <td>127.7</td>\n",
              "      <td>2019-01-01T01:00:00+01:00</td>\n",
              "      <td>obs</td>\n",
              "    </tr>\n",
              "    <tr>\n",
              "      <th>2</th>\n",
              "      <td>138.0</td>\n",
              "      <td>2019-01-01T02:00:00+01:00</td>\n",
              "      <td>obs</td>\n",
              "    </tr>\n",
              "    <tr>\n",
              "      <th>3</th>\n",
              "      <td>137.6</td>\n",
              "      <td>2019-01-01T03:00:00+01:00</td>\n",
              "      <td>obs</td>\n",
              "    </tr>\n",
              "    <tr>\n",
              "      <th>4</th>\n",
              "      <td>126.3</td>\n",
              "      <td>2019-01-01T04:00:00+01:00</td>\n",
              "      <td>obs</td>\n",
              "    </tr>\n",
              "    <tr>\n",
              "      <th>...</th>\n",
              "      <td>...</td>\n",
              "      <td>...</td>\n",
              "      <td>...</td>\n",
              "    </tr>\n",
              "    <tr>\n",
              "      <th>8732</th>\n",
              "      <td>115.1</td>\n",
              "      <td>2019-12-30T20:00:00+01:00</td>\n",
              "      <td>obs</td>\n",
              "    </tr>\n",
              "    <tr>\n",
              "      <th>8733</th>\n",
              "      <td>118.4</td>\n",
              "      <td>2019-12-30T21:00:00+01:00</td>\n",
              "      <td>obs</td>\n",
              "    </tr>\n",
              "    <tr>\n",
              "      <th>8734</th>\n",
              "      <td>114.6</td>\n",
              "      <td>2019-12-30T22:00:00+01:00</td>\n",
              "      <td>obs</td>\n",
              "    </tr>\n",
              "    <tr>\n",
              "      <th>8735</th>\n",
              "      <td>105.4</td>\n",
              "      <td>2019-12-30T23:00:00+01:00</td>\n",
              "      <td>obs</td>\n",
              "    </tr>\n",
              "    <tr>\n",
              "      <th>8736</th>\n",
              "      <td>100.6</td>\n",
              "      <td>2019-12-31T00:00:00+01:00</td>\n",
              "      <td>obs</td>\n",
              "    </tr>\n",
              "  </tbody>\n",
              "</table>\n",
              "<p>8737 rows × 3 columns</p>\n",
              "</div>"
            ],
            "text/plain": [
              "     @value                      @time @flag\n",
              "0     108.9  2019-01-01T00:00:00+01:00   obs\n",
              "1     127.7  2019-01-01T01:00:00+01:00   obs\n",
              "2     138.0  2019-01-01T02:00:00+01:00   obs\n",
              "3     137.6  2019-01-01T03:00:00+01:00   obs\n",
              "4     126.3  2019-01-01T04:00:00+01:00   obs\n",
              "...     ...                        ...   ...\n",
              "8732  115.1  2019-12-30T20:00:00+01:00   obs\n",
              "8733  118.4  2019-12-30T21:00:00+01:00   obs\n",
              "8734  114.6  2019-12-30T22:00:00+01:00   obs\n",
              "8735  105.4  2019-12-30T23:00:00+01:00   obs\n",
              "8736  100.6  2019-12-31T00:00:00+01:00   obs\n",
              "\n",
              "[8737 rows x 3 columns]"
            ]
          },
          "metadata": {
            "tags": []
          },
          "execution_count": 4
        }
      ]
    },
    {
      "cell_type": "code",
      "metadata": {
        "id": "JWgJWAH6cOpS",
        "colab_type": "code",
        "colab": {
          "base_uri": "https://localhost:8080/",
          "height": 405
        },
        "outputId": "a6852945-b3dc-41ce-907a-6718bad097b9"
      },
      "source": [
        "column_names=['Value','Timestamp','Flag']\n",
        "\n",
        "test=source\n",
        "col_dict = {test.columns[0]: column_names[0],test.columns[1]: column_names[1],test.columns[2]: column_names[2]}   ## key→old name, value→new name\n",
        "test.columns = [col_dict.get(x, x) for x in test.columns]\n",
        "test.columns\n",
        "source=test\n",
        "source"
      ],
      "execution_count": 5,
      "outputs": [
        {
          "output_type": "execute_result",
          "data": {
            "text/html": [
              "<div>\n",
              "<style scoped>\n",
              "    .dataframe tbody tr th:only-of-type {\n",
              "        vertical-align: middle;\n",
              "    }\n",
              "\n",
              "    .dataframe tbody tr th {\n",
              "        vertical-align: top;\n",
              "    }\n",
              "\n",
              "    .dataframe thead th {\n",
              "        text-align: right;\n",
              "    }\n",
              "</style>\n",
              "<table border=\"1\" class=\"dataframe\">\n",
              "  <thead>\n",
              "    <tr style=\"text-align: right;\">\n",
              "      <th></th>\n",
              "      <th>Value</th>\n",
              "      <th>Timestamp</th>\n",
              "      <th>Flag</th>\n",
              "    </tr>\n",
              "  </thead>\n",
              "  <tbody>\n",
              "    <tr>\n",
              "      <th>0</th>\n",
              "      <td>108.9</td>\n",
              "      <td>2019-01-01T00:00:00+01:00</td>\n",
              "      <td>obs</td>\n",
              "    </tr>\n",
              "    <tr>\n",
              "      <th>1</th>\n",
              "      <td>127.7</td>\n",
              "      <td>2019-01-01T01:00:00+01:00</td>\n",
              "      <td>obs</td>\n",
              "    </tr>\n",
              "    <tr>\n",
              "      <th>2</th>\n",
              "      <td>138.0</td>\n",
              "      <td>2019-01-01T02:00:00+01:00</td>\n",
              "      <td>obs</td>\n",
              "    </tr>\n",
              "    <tr>\n",
              "      <th>3</th>\n",
              "      <td>137.6</td>\n",
              "      <td>2019-01-01T03:00:00+01:00</td>\n",
              "      <td>obs</td>\n",
              "    </tr>\n",
              "    <tr>\n",
              "      <th>4</th>\n",
              "      <td>126.3</td>\n",
              "      <td>2019-01-01T04:00:00+01:00</td>\n",
              "      <td>obs</td>\n",
              "    </tr>\n",
              "    <tr>\n",
              "      <th>...</th>\n",
              "      <td>...</td>\n",
              "      <td>...</td>\n",
              "      <td>...</td>\n",
              "    </tr>\n",
              "    <tr>\n",
              "      <th>8732</th>\n",
              "      <td>115.1</td>\n",
              "      <td>2019-12-30T20:00:00+01:00</td>\n",
              "      <td>obs</td>\n",
              "    </tr>\n",
              "    <tr>\n",
              "      <th>8733</th>\n",
              "      <td>118.4</td>\n",
              "      <td>2019-12-30T21:00:00+01:00</td>\n",
              "      <td>obs</td>\n",
              "    </tr>\n",
              "    <tr>\n",
              "      <th>8734</th>\n",
              "      <td>114.6</td>\n",
              "      <td>2019-12-30T22:00:00+01:00</td>\n",
              "      <td>obs</td>\n",
              "    </tr>\n",
              "    <tr>\n",
              "      <th>8735</th>\n",
              "      <td>105.4</td>\n",
              "      <td>2019-12-30T23:00:00+01:00</td>\n",
              "      <td>obs</td>\n",
              "    </tr>\n",
              "    <tr>\n",
              "      <th>8736</th>\n",
              "      <td>100.6</td>\n",
              "      <td>2019-12-31T00:00:00+01:00</td>\n",
              "      <td>obs</td>\n",
              "    </tr>\n",
              "  </tbody>\n",
              "</table>\n",
              "<p>8737 rows × 3 columns</p>\n",
              "</div>"
            ],
            "text/plain": [
              "      Value                  Timestamp Flag\n",
              "0     108.9  2019-01-01T00:00:00+01:00  obs\n",
              "1     127.7  2019-01-01T01:00:00+01:00  obs\n",
              "2     138.0  2019-01-01T02:00:00+01:00  obs\n",
              "3     137.6  2019-01-01T03:00:00+01:00  obs\n",
              "4     126.3  2019-01-01T04:00:00+01:00  obs\n",
              "...     ...                        ...  ...\n",
              "8732  115.1  2019-12-30T20:00:00+01:00  obs\n",
              "8733  118.4  2019-12-30T21:00:00+01:00  obs\n",
              "8734  114.6  2019-12-30T22:00:00+01:00  obs\n",
              "8735  105.4  2019-12-30T23:00:00+01:00  obs\n",
              "8736  100.6  2019-12-31T00:00:00+01:00  obs\n",
              "\n",
              "[8737 rows x 3 columns]"
            ]
          },
          "metadata": {
            "tags": []
          },
          "execution_count": 5
        }
      ]
    },
    {
      "cell_type": "code",
      "metadata": {
        "id": "-yJ2mlszcP8Q",
        "colab_type": "code",
        "colab": {}
      },
      "source": [
        "import altair as alt\n",
        "\n",
        "alt.data_transformers.disable_max_rows()\n",
        "alt.Chart(source).mark_line().encode(\n",
        "\n",
        "    alt.X('Timestamp:T', axis=alt.Axis(title='Vandstand Oslo)',titleColor='Blue')),\n",
        "    y='Value:Q'\n",
        ").interactive().properties(width=1000,height=200)\n",
        "#https://www.aftenposten.no/osloby/i/g7Rnr5/trafikkproblemer-og-store-oversvoemmelser-etter-kraftig-uvaer-i-oslo"
      ],
      "execution_count": null,
      "outputs": []
    },
    {
      "cell_type": "code",
      "metadata": {
        "id": "Gw0S-mPFcSxI",
        "colab_type": "code",
        "colab": {}
      },
      "source": [
        ""
      ],
      "execution_count": null,
      "outputs": []
    }
  ]
}