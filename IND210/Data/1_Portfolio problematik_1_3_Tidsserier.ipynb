{
  "nbformat": 4,
  "nbformat_minor": 0,
  "metadata": {
    "colab": {
      "name": "1_Portfolio problematik_1_3_Tidsserier.ipynb",
      "provenance": [],
      "collapsed_sections": []
    },
    "kernelspec": {
      "name": "python3",
      "display_name": "Python 3"
    }
  },
  "cells": [
    {
      "cell_type": "markdown",
      "metadata": {
        "id": "Ew9so8DKwFoK"
      },
      "source": [
        "\n",
        "<img align=\"left\" style=\"padding-right:100px;\" src=\"http://pvexpect.com/Driftsledelse/Dagligvarer/nmbu.png\">\n",
        "\n",
        "  **Digital Driftsledelse - IND210**\n",
        "\n",
        " Jesper Ørntoft Frausig, 2021\n"
      ]
    },
    {
      "cell_type": "markdown",
      "metadata": {
        "id": "6ZTqHyS_wHtL"
      },
      "source": [
        "#Øvelse - Tidsserier"
      ]
    },
    {
      "cell_type": "markdown",
      "metadata": {
        "id": "IpFWvNGHeNOq"
      },
      "source": [
        "\n",
        "**[Introduksjon](#Introduksjon)**\n",
        "- [Trin 1](#Trin_1) - Importer pandas\n",
        "- [Trin 2](#Trin_2) - Hent værdata fra et API \n",
        "- [Trin 3](#Trin_3) -  Tidsformatere tidskolonne\n",
        "- [Trin 4](#Trin_4)  - Fjerne tidssonen \n",
        "- [Trin 5](#Trin_5)  - Fjern unødvendige kolonner\n",
        "- [Trin 6](#Trin_6)  - Omnavngiv kolonner\n",
        "- [Trin 7](#Trin_7)\n",
        "\n",
        "**[Hva har jeg lært](#lærdom)**\n",
        "\n",
        "**[Begreber](#Begreber)**\n",
        "\n",
        "\n",
        "\n",
        "\n",
        "\n",
        "\n",
        "\n",
        "\n",
        "\n",
        "\n",
        "\n",
        "\n",
        "\n",
        "\n",
        "\n",
        "<br></br>\n",
        "<br></br>\n",
        "<br></br>\n",
        "<br></br>\n",
        "<br></br>\n",
        "\n",
        "\n"
      ]
    },
    {
      "cell_type": "markdown",
      "metadata": {
        "id": "QZyO6Mz5j7vb"
      },
      "source": [
        "<a name=\"Introduksjon\"></a>\n",
        "\n",
        "#**Introduksjon**"
      ]
    },
    {
      "cell_type": "markdown",
      "metadata": {
        "id": "vb74oaz32WTM"
      },
      "source": [
        "\n",
        "\n",
        "Vi henter og forbereder data fra et vær-API, kalt THREDDS Data Server og Nibio værstasjoner"
      ]
    },
    {
      "cell_type": "markdown",
      "metadata": {
        "id": "WaF13AOc1LKr"
      },
      "source": [
        "\n",
        "\n",
        "> Hva vil du lære i følgende øvelse:\n",
        "* [ ] Hvordan du importerer pandaer\n",
        "* [ ] Hvordan du henter data fra en API\n",
        "* [ ] Hvordan du formaterer data\n",
        "* [ ] Hvordan du fjerner tidssonen\n",
        "* [ ] Hvordan du fjerner unødvendige kolonner\n",
        "* [ ] Hvordan du endrer kolonner\n",
        "\n"
      ]
    },
    {
      "cell_type": "markdown",
      "metadata": {
        "id": "1ODohShV9cdO"
      },
      "source": [
        "##**Trin 1** - Importer pandas"
      ]
    },
    {
      "cell_type": "markdown",
      "metadata": {
        "id": "94KNPyEKedna"
      },
      "source": [
        "Først importeres pandaer (vennligst sjekk [Hent bibliotekker](#Hent_bibliotekker_med_verktøyer) ), å kunne bruke pandabiblioteket til dataanalyse.\n",
        "\n",
        "\n",
        "```\n",
        "import pandas as pd\n",
        "```\n",
        "\n"
      ]
    },
    {
      "cell_type": "code",
      "metadata": {
        "id": "7lMaInKzeefv"
      },
      "source": [
        "import pandas as pd"
      ],
      "execution_count": null,
      "outputs": []
    },
    {
      "cell_type": "markdown",
      "metadata": {
        "id": "uKUt2Mn2gwlo"
      },
      "source": [
        "##**Trin 2** -  henter værdata fra et API "
      ]
    },
    {
      "cell_type": "markdown",
      "metadata": {
        "id": "H7HTiDGsd9yQ"
      },
      "source": [
        "\n",
        "Vi henter værdata fra et API (Sjekk vennligst  [Les_fra_API](#Les_fra_API) )\n",
        "\n",
        "\n",
        "\n",
        "\n",
        "\n",
        "\n",
        "```\n",
        "temp  = pd.read_csv(url) \n",
        "```\n",
        "\n"
      ]
    },
    {
      "cell_type": "markdown",
      "metadata": {
        "id": "EktgMTtO26ZO"
      },
      "source": [
        "\n",
        "\n",
        "\n",
        "Prøv å lese url og se om du forstår hva den refererer til\n",
        "\n",
        "```\n",
        "url='https://thredds.ucar.edu/thredds/ncss/grib/NCEP/GFS/Global_0p5deg/best?req=station&var=Apparent_temperature_height_above_ground&&latitude=60.70290856516992&longitude=10.867140671892406&time_start=2020-01-01T12:00:00-05:00&time_duration=PT3H&time_end=2021-02-20T12:00:00-05:00&vertCoord=2&accept=CSV' \n",
        "\n",
        "```\n",
        "\n"
      ]
    },
    {
      "cell_type": "code",
      "metadata": {
        "colab": {
          "base_uri": "https://localhost:8080/",
          "height": 435
        },
        "id": "U-lhJX5BUioL",
        "outputId": "f206fa38-eadb-4a21-ab31-256e08213e04"
      },
      "source": [
        "url='https://thredds.ucar.edu/thredds/ncss/grib/NCEP/GFS/Global_0p5deg/best?req=station&var=Apparent_temperature_height_above_ground&&latitude=60.70290856516992&longitude=10.867140671892406&time_start=2020-01-01T12:00:00-05:00&time_duration=PT3H&time_end=2021-02-20T12:00:00-05:00&vertCoord=2&accept=CSV' #Pressure_reduced_to_MSL_msl Albedo_surface_Mixed_intervals_Average\n",
        "temp  = pd.read_csv(url) \n"
      ],
      "execution_count": null,
      "outputs": [
        {
          "output_type": "execute_result",
          "data": {
            "text/html": [
              "<div>\n",
              "<style scoped>\n",
              "    .dataframe tbody tr th:only-of-type {\n",
              "        vertical-align: middle;\n",
              "    }\n",
              "\n",
              "    .dataframe tbody tr th {\n",
              "        vertical-align: top;\n",
              "    }\n",
              "\n",
              "    .dataframe thead th {\n",
              "        text-align: right;\n",
              "    }\n",
              "</style>\n",
              "<table border=\"1\" class=\"dataframe\">\n",
              "  <thead>\n",
              "    <tr style=\"text-align: right;\">\n",
              "      <th></th>\n",
              "      <th>Temperatur (Kelvin)</th>\n",
              "    </tr>\n",
              "    <tr>\n",
              "      <th>time</th>\n",
              "      <th></th>\n",
              "    </tr>\n",
              "  </thead>\n",
              "  <tbody>\n",
              "    <tr>\n",
              "      <th>2021-01-26 00:00:00</th>\n",
              "      <td>257.500092</td>\n",
              "    </tr>\n",
              "    <tr>\n",
              "      <th>2021-01-26 03:00:00</th>\n",
              "      <td>257.831085</td>\n",
              "    </tr>\n",
              "    <tr>\n",
              "      <th>2021-01-26 06:00:00</th>\n",
              "      <td>257.375549</td>\n",
              "    </tr>\n",
              "    <tr>\n",
              "      <th>2021-01-26 09:00:00</th>\n",
              "      <td>257.851257</td>\n",
              "    </tr>\n",
              "    <tr>\n",
              "      <th>2021-01-26 12:00:00</th>\n",
              "      <td>261.448730</td>\n",
              "    </tr>\n",
              "    <tr>\n",
              "      <th>...</th>\n",
              "      <td>...</td>\n",
              "    </tr>\n",
              "    <tr>\n",
              "      <th>2021-02-20 03:00:00</th>\n",
              "      <td>270.100006</td>\n",
              "    </tr>\n",
              "    <tr>\n",
              "      <th>2021-02-20 06:00:00</th>\n",
              "      <td>270.027039</td>\n",
              "    </tr>\n",
              "    <tr>\n",
              "      <th>2021-02-20 09:00:00</th>\n",
              "      <td>270.090454</td>\n",
              "    </tr>\n",
              "    <tr>\n",
              "      <th>2021-02-20 12:00:00</th>\n",
              "      <td>271.014709</td>\n",
              "    </tr>\n",
              "    <tr>\n",
              "      <th>2021-02-20 15:00:00</th>\n",
              "      <td>272.399994</td>\n",
              "    </tr>\n",
              "  </tbody>\n",
              "</table>\n",
              "<p>206 rows × 1 columns</p>\n",
              "</div>"
            ],
            "text/plain": [
              "                     Temperatur (Kelvin)\n",
              "time                                    \n",
              "2021-01-26 00:00:00           257.500092\n",
              "2021-01-26 03:00:00           257.831085\n",
              "2021-01-26 06:00:00           257.375549\n",
              "2021-01-26 09:00:00           257.851257\n",
              "2021-01-26 12:00:00           261.448730\n",
              "...                                  ...\n",
              "2021-02-20 03:00:00           270.100006\n",
              "2021-02-20 06:00:00           270.027039\n",
              "2021-02-20 09:00:00           270.090454\n",
              "2021-02-20 12:00:00           271.014709\n",
              "2021-02-20 15:00:00           272.399994\n",
              "\n",
              "[206 rows x 1 columns]"
            ]
          },
          "metadata": {
            "tags": []
          },
          "execution_count": 32
        }
      ]
    },
    {
      "cell_type": "markdown",
      "metadata": {
        "id": "CgeHv-J79eNi"
      },
      "source": [
        "##**Trin 3** -  tidsformatere tidskolonne"
      ]
    },
    {
      "cell_type": "markdown",
      "metadata": {
        "id": "Rv6e5QImCE5f"
      },
      "source": [
        "\n",
        "\n",
        "Dernest formatere vi kolonnen \"time\" i tidsformattet \"datetime\" (Sjekk vennligst [til kalendertid](#til_kalendertid) ) \n",
        "\n",
        "```\n",
        "pd.to_datetime([], errors='coerce', format='%Y-%m-%d %H:%M:%S')\n",
        "```\n",
        "\n",
        "\n",
        "\n"
      ]
    },
    {
      "cell_type": "code",
      "metadata": {
        "id": "YoS-D2ldCGum"
      },
      "source": [
        "temp.time = pd.to_datetime(temp.time, errors='coerce', format='%Y-%m-%d %H:%M:%S')"
      ],
      "execution_count": null,
      "outputs": []
    },
    {
      "cell_type": "markdown",
      "metadata": {
        "id": "jpv31bmH9f8I"
      },
      "source": [
        "##**Trin 4** -  fjerne tidssonen "
      ]
    },
    {
      "cell_type": "markdown",
      "metadata": {
        "id": "KHkRSgAlCXaI"
      },
      "source": [
        "\n",
        "Vi fjerner tidssonen slik at det er lettere å holde styr på (Sjekk vennligst [specifisere tidssone](#lokaliser_tid) )\n",
        "\n",
        "```\n",
        "pd.to_datetime([]).dt.tz_localize(None)\n",
        "```\n",
        "\n",
        "\n",
        "\n",
        "\n"
      ]
    },
    {
      "cell_type": "code",
      "metadata": {
        "id": "y2dR5gsbCa8h"
      },
      "source": [
        "temp.index=pd.to_datetime(temp['time']).dt.tz_localize(None)"
      ],
      "execution_count": null,
      "outputs": []
    },
    {
      "cell_type": "markdown",
      "metadata": {
        "id": "D91kGcVo9hz8"
      },
      "source": [
        "##**Trin 5** - fjern unødvendige kolonner"
      ]
    },
    {
      "cell_type": "markdown",
      "metadata": {
        "id": "8OPaaexyCcho"
      },
      "source": [
        "\n",
        "\n",
        "Så fjerner vi også kolonner som vi ikke trenger (Sjekk vennligst  [fjern kolonne](#fjern_kolonner) )\n",
        "\n",
        "\n",
        "```\n",
        "temp.drop(columns=[''],inplace=True)\n",
        "```\n",
        "\n",
        "\n"
      ]
    },
    {
      "cell_type": "code",
      "metadata": {
        "id": "2avortNyCfT_"
      },
      "source": [
        "temp.drop(columns=['time','latitude[unit=\"degrees_north\"]','vertCoord[unit=\"m\"]','longitude[unit=\"degrees_east\"]'],inplace=True)"
      ],
      "execution_count": null,
      "outputs": []
    },
    {
      "cell_type": "markdown",
      "metadata": {
        "id": "1sTJy-j-9jlq"
      },
      "source": [
        "##**Trin 6** - omnavngiv kolonner"
      ]
    },
    {
      "cell_type": "markdown",
      "metadata": {
        "id": "Ig_gmkAUCdZg"
      },
      "source": [
        "\n",
        "\n",
        "Til sidst omnavngiver vi kolonnen, så den er nem at refere til (Sjekk vennligst [Omnavngiv](#Omnavngiv) )\n",
        "\n",
        "\n",
        "\n",
        "\n",
        "```\n",
        "temp=temp.rename(columns={temp.columns[0]: \"Temperatur (Kelvin)\"})\n",
        "```"
      ]
    },
    {
      "cell_type": "code",
      "metadata": {
        "id": "8JHdd5j9Cgt_"
      },
      "source": [
        "temp=temp.rename(columns={temp.columns[0]: \"Temperatur (Kelvin)\"})\n",
        "temp"
      ],
      "execution_count": null,
      "outputs": []
    },
    {
      "cell_type": "markdown",
      "metadata": {
        "id": "V6NNQ9TI3dVd"
      },
      "source": [
        "**Vinn**\n",
        "\n",
        "Vi følger samme tilnærming som i trinn 1-6.\n",
        "\n",
        "Nå henter vi data for vinn."
      ]
    },
    {
      "cell_type": "code",
      "metadata": {
        "colab": {
          "base_uri": "https://localhost:8080/",
          "height": 435
        },
        "id": "k156b690U0kH",
        "outputId": "0658a54d-b2f4-478b-e9a0-54974f358ba8"
      },
      "source": [
        "\n",
        "import pandas as pd\n",
        "\n",
        "url='https://thredds.ucar.edu/thredds/ncss/grib/NCEP/GFS/Global_0p5deg/best?req=station&var=Wind_speed_gust_surface&latitude=60.70290856516992&longitude=10.867140671892406&time_start=2020-01-01T12:00:00-05:00&time_duration=PT3H&time_end=2021-02-20T12:00:00-05:00&vertCoord=2&accept=CSV' #Pressure_reduced_to_MSL_msl Albedo_surface_Mixed_intervals_Average\n",
        "wind  = pd.read_csv(url) \n",
        "\n",
        "wind.time = pd.to_datetime(wind.time, errors='coerce', format='%Y-%m-%d %H:%M:%S')\n",
        "wind.index=pd.to_datetime(wind['time']).dt.tz_localize(None)\n",
        "\n",
        "\n",
        "wind.drop(columns=['time','latitude[unit=\"degrees_north\"]','longitude[unit=\"degrees_east\"]'],inplace=True)\n",
        "wind=wind.rename(columns={wind.columns[0]: \"Vinn (m/s)\"})\n",
        "\n",
        "wind"
      ],
      "execution_count": null,
      "outputs": [
        {
          "output_type": "execute_result",
          "data": {
            "text/html": [
              "<div>\n",
              "<style scoped>\n",
              "    .dataframe tbody tr th:only-of-type {\n",
              "        vertical-align: middle;\n",
              "    }\n",
              "\n",
              "    .dataframe tbody tr th {\n",
              "        vertical-align: top;\n",
              "    }\n",
              "\n",
              "    .dataframe thead th {\n",
              "        text-align: right;\n",
              "    }\n",
              "</style>\n",
              "<table border=\"1\" class=\"dataframe\">\n",
              "  <thead>\n",
              "    <tr style=\"text-align: right;\">\n",
              "      <th></th>\n",
              "      <th>Vinn (m/s)</th>\n",
              "    </tr>\n",
              "    <tr>\n",
              "      <th>time</th>\n",
              "      <th></th>\n",
              "    </tr>\n",
              "  </thead>\n",
              "  <tbody>\n",
              "    <tr>\n",
              "      <th>2021-01-26 00:00:00</th>\n",
              "      <td>2.520575</td>\n",
              "    </tr>\n",
              "    <tr>\n",
              "      <th>2021-01-26 03:00:00</th>\n",
              "      <td>2.400703</td>\n",
              "    </tr>\n",
              "    <tr>\n",
              "      <th>2021-01-26 06:00:00</th>\n",
              "      <td>2.203087</td>\n",
              "    </tr>\n",
              "    <tr>\n",
              "      <th>2021-01-26 09:00:00</th>\n",
              "      <td>2.407972</td>\n",
              "    </tr>\n",
              "    <tr>\n",
              "      <th>2021-01-26 12:00:00</th>\n",
              "      <td>1.850945</td>\n",
              "    </tr>\n",
              "    <tr>\n",
              "      <th>...</th>\n",
              "      <td>...</td>\n",
              "    </tr>\n",
              "    <tr>\n",
              "      <th>2021-02-20 03:00:00</th>\n",
              "      <td>13.630651</td>\n",
              "    </tr>\n",
              "    <tr>\n",
              "      <th>2021-02-20 06:00:00</th>\n",
              "      <td>14.165317</td>\n",
              "    </tr>\n",
              "    <tr>\n",
              "      <th>2021-02-20 09:00:00</th>\n",
              "      <td>13.053370</td>\n",
              "    </tr>\n",
              "    <tr>\n",
              "      <th>2021-02-20 12:00:00</th>\n",
              "      <td>10.536890</td>\n",
              "    </tr>\n",
              "    <tr>\n",
              "      <th>2021-02-20 15:00:00</th>\n",
              "      <td>7.954669</td>\n",
              "    </tr>\n",
              "  </tbody>\n",
              "</table>\n",
              "<p>206 rows × 1 columns</p>\n",
              "</div>"
            ],
            "text/plain": [
              "                     Vinn (m/s)\n",
              "time                           \n",
              "2021-01-26 00:00:00    2.520575\n",
              "2021-01-26 03:00:00    2.400703\n",
              "2021-01-26 06:00:00    2.203087\n",
              "2021-01-26 09:00:00    2.407972\n",
              "2021-01-26 12:00:00    1.850945\n",
              "...                         ...\n",
              "2021-02-20 03:00:00   13.630651\n",
              "2021-02-20 06:00:00   14.165317\n",
              "2021-02-20 09:00:00   13.053370\n",
              "2021-02-20 12:00:00   10.536890\n",
              "2021-02-20 15:00:00    7.954669\n",
              "\n",
              "[206 rows x 1 columns]"
            ]
          },
          "metadata": {
            "tags": []
          },
          "execution_count": 31
        }
      ]
    },
    {
      "cell_type": "markdown",
      "metadata": {
        "id": "z1TUAU-k3mAW"
      },
      "source": [
        "**Vann i atmosfæren**\n",
        "\n",
        "\n",
        "Vi følger samme tilnærming som i trinn 1-6.\n",
        "\n",
        "Nå samler vi inn data for vann i atmosfæren."
      ]
    },
    {
      "cell_type": "code",
      "metadata": {
        "colab": {
          "base_uri": "https://localhost:8080/",
          "height": 435
        },
        "id": "EtWcXjxvVDet",
        "outputId": "ed816426-1e21-4fc7-c8c4-419d006be8c4"
      },
      "source": [
        "\n",
        "import pandas as pd\n",
        "\n",
        "url='https://thredds.ucar.edu/thredds/ncss/grib/NCEP/GFS/Global_0p5deg/best?req=station&var=Precipitable_water_entire_atmosphere_single_layer&&latitude=60.70290856516992&longitude=10.867140671892406&time_start=2020-01-01T12:00:00-05:00&time_duration=PT3H&time_end=2021-02-20T12:00:00-05:00&vertCoord=2&accept=CSV' #Pressure_reduced_to_MSL_msl Albedo_surface_Mixed_intervals_Average\n",
        "water  = pd.read_csv(url) \n",
        "\n",
        "\n",
        "water.time = pd.to_datetime(water.time, errors='coerce', format='%Y-%m-%d %H:%M:%S')\n",
        "water.index=pd.to_datetime(water['time']).dt.tz_localize(None)\n",
        "\n",
        "water=water.rename(columns={water.columns[3]: \"Vann i atmosfæren (kg/m-2)\"})\n",
        "water.drop(columns=['time','latitude[unit=\"degrees_north\"]','longitude[unit=\"degrees_east\"]'],inplace=True)\n",
        "\n",
        "water"
      ],
      "execution_count": null,
      "outputs": [
        {
          "output_type": "execute_result",
          "data": {
            "text/html": [
              "<div>\n",
              "<style scoped>\n",
              "    .dataframe tbody tr th:only-of-type {\n",
              "        vertical-align: middle;\n",
              "    }\n",
              "\n",
              "    .dataframe tbody tr th {\n",
              "        vertical-align: top;\n",
              "    }\n",
              "\n",
              "    .dataframe thead th {\n",
              "        text-align: right;\n",
              "    }\n",
              "</style>\n",
              "<table border=\"1\" class=\"dataframe\">\n",
              "  <thead>\n",
              "    <tr style=\"text-align: right;\">\n",
              "      <th></th>\n",
              "      <th>Vann i atmosfæren (kg/m-2)</th>\n",
              "    </tr>\n",
              "    <tr>\n",
              "      <th>time</th>\n",
              "      <th></th>\n",
              "    </tr>\n",
              "  </thead>\n",
              "  <tbody>\n",
              "    <tr>\n",
              "      <th>2021-01-26 00:00:00</th>\n",
              "      <td>3.4</td>\n",
              "    </tr>\n",
              "    <tr>\n",
              "      <th>2021-01-26 03:00:00</th>\n",
              "      <td>3.1</td>\n",
              "    </tr>\n",
              "    <tr>\n",
              "      <th>2021-01-26 06:00:00</th>\n",
              "      <td>2.5</td>\n",
              "    </tr>\n",
              "    <tr>\n",
              "      <th>2021-01-26 09:00:00</th>\n",
              "      <td>2.4</td>\n",
              "    </tr>\n",
              "    <tr>\n",
              "      <th>2021-01-26 12:00:00</th>\n",
              "      <td>2.8</td>\n",
              "    </tr>\n",
              "    <tr>\n",
              "      <th>...</th>\n",
              "      <td>...</td>\n",
              "    </tr>\n",
              "    <tr>\n",
              "      <th>2021-02-20 03:00:00</th>\n",
              "      <td>14.5</td>\n",
              "    </tr>\n",
              "    <tr>\n",
              "      <th>2021-02-20 06:00:00</th>\n",
              "      <td>15.5</td>\n",
              "    </tr>\n",
              "    <tr>\n",
              "      <th>2021-02-20 09:00:00</th>\n",
              "      <td>15.3</td>\n",
              "    </tr>\n",
              "    <tr>\n",
              "      <th>2021-02-20 12:00:00</th>\n",
              "      <td>15.7</td>\n",
              "    </tr>\n",
              "    <tr>\n",
              "      <th>2021-02-20 15:00:00</th>\n",
              "      <td>14.9</td>\n",
              "    </tr>\n",
              "  </tbody>\n",
              "</table>\n",
              "<p>206 rows × 1 columns</p>\n",
              "</div>"
            ],
            "text/plain": [
              "                     Vann i atmosfæren (kg/m-2)\n",
              "time                                           \n",
              "2021-01-26 00:00:00                         3.4\n",
              "2021-01-26 03:00:00                         3.1\n",
              "2021-01-26 06:00:00                         2.5\n",
              "2021-01-26 09:00:00                         2.4\n",
              "2021-01-26 12:00:00                         2.8\n",
              "...                                         ...\n",
              "2021-02-20 03:00:00                        14.5\n",
              "2021-02-20 06:00:00                        15.5\n",
              "2021-02-20 09:00:00                        15.3\n",
              "2021-02-20 12:00:00                        15.7\n",
              "2021-02-20 15:00:00                        14.9\n",
              "\n",
              "[206 rows x 1 columns]"
            ]
          },
          "metadata": {
            "tags": []
          },
          "execution_count": 28
        }
      ]
    },
    {
      "cell_type": "markdown",
      "metadata": {
        "id": "OmUZdtVx3qJm"
      },
      "source": [
        "##**Trin 7**\n",
        "\n",
        "\n",
        "\n",
        "Vi ønsker å slå sammen alle datasett i en stor dataramme (Sjekk vennligst [Sammenføre_data](#Sammenføre_data) ) \n",
        "\n",
        "Vi fletter datasettene med\n",
        "\n",
        "```\n",
        "source=pd.concat([''],axis=1)\n",
        "```\n",
        "\n",
        "Vi sampler data på daglig nivå i stedet for hver tredje time (Sjekk vennligst [Gensampling](#Gensampling) )\n",
        "Dertil tages gjennemsnit av verdien (Sjekk vennligst [gjennemsnit](#gjennemsnit) ), efter gensampling\n",
        "\n",
        "\n",
        "```\n",
        ".resample('D').mean() \n",
        "```\n",
        "\n",
        "\n",
        "\n",
        "\n",
        "\n"
      ]
    },
    {
      "cell_type": "code",
      "metadata": {
        "colab": {
          "base_uri": "https://localhost:8080/",
          "height": 227
        },
        "id": "27-Bk1wLVFlo",
        "outputId": "df7765f4-fc55-46ab-d79c-c41110020a8c"
      },
      "source": [
        "\n",
        "source=pd.concat([wind, temp, water],axis=1).resample('D').mean() #.resample('3H').interpolate(method='linear', limit_direction='both') #\n",
        "source['time']=source.index\n",
        "source.head()"
      ],
      "execution_count": null,
      "outputs": [
        {
          "output_type": "execute_result",
          "data": {
            "text/html": [
              "<div>\n",
              "<style scoped>\n",
              "    .dataframe tbody tr th:only-of-type {\n",
              "        vertical-align: middle;\n",
              "    }\n",
              "\n",
              "    .dataframe tbody tr th {\n",
              "        vertical-align: top;\n",
              "    }\n",
              "\n",
              "    .dataframe thead th {\n",
              "        text-align: right;\n",
              "    }\n",
              "</style>\n",
              "<table border=\"1\" class=\"dataframe\">\n",
              "  <thead>\n",
              "    <tr style=\"text-align: right;\">\n",
              "      <th></th>\n",
              "      <th>Vinn (m/s)</th>\n",
              "      <th>Temperatur (Kelvin)</th>\n",
              "      <th>Vann i atmosfæren (kg/m-2)</th>\n",
              "      <th>time</th>\n",
              "    </tr>\n",
              "    <tr>\n",
              "      <th>time</th>\n",
              "      <th></th>\n",
              "      <th></th>\n",
              "      <th></th>\n",
              "      <th></th>\n",
              "    </tr>\n",
              "  </thead>\n",
              "  <tbody>\n",
              "    <tr>\n",
              "      <th>2021-01-26</th>\n",
              "      <td>2.081133</td>\n",
              "      <td>258.663719</td>\n",
              "      <td>2.862500</td>\n",
              "      <td>2021-01-26</td>\n",
              "    </tr>\n",
              "    <tr>\n",
              "      <th>2021-01-27</th>\n",
              "      <td>2.472910</td>\n",
              "      <td>258.618145</td>\n",
              "      <td>4.034784</td>\n",
              "      <td>2021-01-27</td>\n",
              "    </tr>\n",
              "    <tr>\n",
              "      <th>2021-01-28</th>\n",
              "      <td>1.745940</td>\n",
              "      <td>258.533159</td>\n",
              "      <td>3.501597</td>\n",
              "      <td>2021-01-28</td>\n",
              "    </tr>\n",
              "    <tr>\n",
              "      <th>2021-01-29</th>\n",
              "      <td>0.953865</td>\n",
              "      <td>257.752342</td>\n",
              "      <td>2.914311</td>\n",
              "      <td>2021-01-29</td>\n",
              "    </tr>\n",
              "    <tr>\n",
              "      <th>2021-01-30</th>\n",
              "      <td>2.237133</td>\n",
              "      <td>257.139603</td>\n",
              "      <td>3.558492</td>\n",
              "      <td>2021-01-30</td>\n",
              "    </tr>\n",
              "  </tbody>\n",
              "</table>\n",
              "</div>"
            ],
            "text/plain": [
              "            Vinn (m/s)  ...       time\n",
              "time                    ...           \n",
              "2021-01-26    2.081133  ... 2021-01-26\n",
              "2021-01-27    2.472910  ... 2021-01-27\n",
              "2021-01-28    1.745940  ... 2021-01-28\n",
              "2021-01-29    0.953865  ... 2021-01-29\n",
              "2021-01-30    2.237133  ... 2021-01-30\n",
              "\n",
              "[5 rows x 4 columns]"
            ]
          },
          "metadata": {
            "tags": []
          },
          "execution_count": 33
        }
      ]
    },
    {
      "cell_type": "markdown",
      "metadata": {
        "id": "5CtLC0yz4Ntg"
      },
      "source": [
        "Nå er vi klare til å se den nye datarammen vår.\n",
        "\n",
        "Vi bruker biblioteket altair\n",
        "\n",
        "\n",
        "```\n",
        "import altair as alt\n",
        "```\n",
        "\n",
        "\n",
        "Dette er prinsippet:\n",
        "```\n",
        "alt.Chart(source.dropna()).mark_line().transform_fold(list(source.columns.drop('time'))).encode(\n",
        "    x='time:T',\n",
        "    y='value:Q',\n",
        ")\n",
        "```\n",
        "\n",
        "Vi bruker fasettfunksjonen til å vise 3 vertikale grafer\n",
        "\n",
        "\n",
        "```\n",
        ".facet(\n",
        "    row='key:N',\n",
        ")\n",
        "```\n",
        "\n"
      ]
    },
    {
      "cell_type": "code",
      "metadata": {
        "colab": {
          "base_uri": "https://localhost:8080/",
          "height": 685
        },
        "id": "UpA8jvtRYV1R",
        "outputId": "6fd36536-1325-4abb-9cd1-9a617867bf39"
      },
      "source": [
        "\n",
        "import altair as alt\n",
        "\n",
        "alt.Chart(source.dropna()).mark_line().transform_fold(list(source.columns.drop('time'))).encode(\n",
        "    x='time:T',\n",
        "    y='value:Q',\n",
        "    color='key:N',\n",
        "    tooltip=['value:Q','key:N']\n",
        ").properties(\n",
        "    width=300,\n",
        "    height=180\n",
        ").facet(\n",
        "    row='key:N',\n",
        ").resolve_scale(y='independent').interactive().properties(title=\"Lokation: NIBIO Apelsvoll Senter for Presisjonsjordbruk\") #.save('tidsserier.html')"
      ],
      "execution_count": null,
      "outputs": [
        {
          "output_type": "execute_result",
          "data": {
            "text/plain": [
              "alt.FacetChart(...)"
            ],
            "text/html": [
              "\n",
              "<div id=\"altair-viz-e6ce94b6dbe64cbe81f1bfe70318c43b\"></div>\n",
              "<script type=\"text/javascript\">\n",
              "  (function(spec, embedOpt){\n",
              "    let outputDiv = document.currentScript.previousElementSibling;\n",
              "    if (outputDiv.id !== \"altair-viz-e6ce94b6dbe64cbe81f1bfe70318c43b\") {\n",
              "      outputDiv = document.getElementById(\"altair-viz-e6ce94b6dbe64cbe81f1bfe70318c43b\");\n",
              "    }\n",
              "    const paths = {\n",
              "      \"vega\": \"https://cdn.jsdelivr.net/npm//vega@5?noext\",\n",
              "      \"vega-lib\": \"https://cdn.jsdelivr.net/npm//vega-lib?noext\",\n",
              "      \"vega-lite\": \"https://cdn.jsdelivr.net/npm//vega-lite@4.8.1?noext\",\n",
              "      \"vega-embed\": \"https://cdn.jsdelivr.net/npm//vega-embed@6?noext\",\n",
              "    };\n",
              "\n",
              "    function loadScript(lib) {\n",
              "      return new Promise(function(resolve, reject) {\n",
              "        var s = document.createElement('script');\n",
              "        s.src = paths[lib];\n",
              "        s.async = true;\n",
              "        s.onload = () => resolve(paths[lib]);\n",
              "        s.onerror = () => reject(`Error loading script: ${paths[lib]}`);\n",
              "        document.getElementsByTagName(\"head\")[0].appendChild(s);\n",
              "      });\n",
              "    }\n",
              "\n",
              "    function showError(err) {\n",
              "      outputDiv.innerHTML = `<div class=\"error\" style=\"color:red;\">${err}</div>`;\n",
              "      throw err;\n",
              "    }\n",
              "\n",
              "    function displayChart(vegaEmbed) {\n",
              "      vegaEmbed(outputDiv, spec, embedOpt)\n",
              "        .catch(err => showError(`Javascript Error: ${err.message}<br>This usually means there's a typo in your chart specification. See the javascript console for the full traceback.`));\n",
              "    }\n",
              "\n",
              "    if(typeof define === \"function\" && define.amd) {\n",
              "      requirejs.config({paths});\n",
              "      require([\"vega-embed\"], displayChart, err => showError(`Error loading script: ${err.message}`));\n",
              "    } else if (typeof vegaEmbed === \"function\") {\n",
              "      displayChart(vegaEmbed);\n",
              "    } else {\n",
              "      loadScript(\"vega\")\n",
              "        .then(() => loadScript(\"vega-lite\"))\n",
              "        .then(() => loadScript(\"vega-embed\"))\n",
              "        .catch(showError)\n",
              "        .then(() => displayChart(vegaEmbed));\n",
              "    }\n",
              "  })({\"config\": {\"view\": {\"continuousWidth\": 400, \"continuousHeight\": 300}}, \"data\": {\"name\": \"data-cfa53c0db3e4673ac1e4e15b4dc21e44\"}, \"facet\": {\"row\": {\"type\": \"nominal\", \"field\": \"key\"}}, \"spec\": {\"mark\": \"line\", \"encoding\": {\"color\": {\"type\": \"nominal\", \"field\": \"key\"}, \"tooltip\": [{\"type\": \"quantitative\", \"field\": \"value\"}, {\"type\": \"nominal\", \"field\": \"key\"}], \"x\": {\"type\": \"temporal\", \"field\": \"time\"}, \"y\": {\"type\": \"quantitative\", \"field\": \"value\"}}, \"height\": 180, \"selection\": {\"selector010\": {\"type\": \"interval\", \"bind\": \"scales\", \"encodings\": [\"x\", \"y\"]}}, \"transform\": [{\"fold\": [\"Vinn (m/s)\", \"Temperatur (Kelvin)\", \"Vann i atmosf\\u00e6ren (kg/m-2)\"]}], \"width\": 300}, \"resolve\": {\"scale\": {\"y\": \"independent\"}}, \"title\": \"Lokation: NIBIO Apelsvoll Senter for Presisjonsjordbruk\", \"$schema\": \"https://vega.github.io/schema/vega-lite/v4.8.1.json\", \"datasets\": {\"data-cfa53c0db3e4673ac1e4e15b4dc21e44\": [{\"Vinn (m/s)\": 2.0811325758695602, \"Temperatur (Kelvin)\": 258.6637191772461, \"Vann i atmosf\\u00e6ren (kg/m-2)\": 2.862500011920929, \"time\": \"2021-01-26T00:00:00\"}, {\"Vinn (m/s)\": 2.472909986972809, \"Temperatur (Kelvin)\": 258.6181449890137, \"Vann i atmosf\\u00e6ren (kg/m-2)\": 4.034783959388733, \"time\": \"2021-01-27T00:00:00\"}, {\"Vinn (m/s)\": 1.745940461754799, \"Temperatur (Kelvin)\": 258.53315925598145, \"Vann i atmosf\\u00e6ren (kg/m-2)\": 3.5015968084335327, \"time\": \"2021-01-28T00:00:00\"}, {\"Vinn (m/s)\": 0.9538648501038551, \"Temperatur (Kelvin)\": 257.7523422241211, \"Vann i atmosf\\u00e6ren (kg/m-2)\": 2.9143109023571014, \"time\": \"2021-01-29T00:00:00\"}, {\"Vinn (m/s)\": 2.2371331453323364, \"Temperatur (Kelvin)\": 257.1396026611328, \"Vann i atmosf\\u00e6ren (kg/m-2)\": 3.5584923326969147, \"time\": \"2021-01-30T00:00:00\"}, {\"Vinn (m/s)\": 2.028824955224991, \"Temperatur (Kelvin)\": 258.6612777709961, \"Vann i atmosf\\u00e6ren (kg/m-2)\": 3.274999976158142, \"time\": \"2021-01-31T00:00:00\"}, {\"Vinn (m/s)\": 1.2599026262760162, \"Temperatur (Kelvin)\": 258.0020866394043, \"Vann i atmosf\\u00e6ren (kg/m-2)\": 3.381205916404724, \"time\": \"2021-02-01T00:00:00\"}, {\"Vinn (m/s)\": 2.589179053902626, \"Temperatur (Kelvin)\": 255.4856243133545, \"Vann i atmosf\\u00e6ren (kg/m-2)\": 3.6176043450832367, \"time\": \"2021-02-02T00:00:00\"}, {\"Vinn (m/s)\": 2.5309104919433594, \"Temperatur (Kelvin)\": 255.1528148651123, \"Vann i atmosf\\u00e6ren (kg/m-2)\": 3.2874999940395355, \"time\": \"2021-02-03T00:00:00\"}, {\"Vinn (m/s)\": 4.716012060642242, \"Temperatur (Kelvin)\": 252.1378517150879, \"Vann i atmosf\\u00e6ren (kg/m-2)\": 2.421470195055008, \"time\": \"2021-02-04T00:00:00\"}, {\"Vinn (m/s)\": 5.251996546983719, \"Temperatur (Kelvin)\": 254.39719200134277, \"Vann i atmosf\\u00e6ren (kg/m-2)\": 3.6269474923610687, \"time\": \"2021-02-05T00:00:00\"}, {\"Vinn (m/s)\": 3.1707859337329865, \"Temperatur (Kelvin)\": 254.67394256591797, \"Vann i atmosf\\u00e6ren (kg/m-2)\": 3.0263960361480713, \"time\": \"2021-02-06T00:00:00\"}, {\"Vinn (m/s)\": 3.5771742165088654, \"Temperatur (Kelvin)\": 254.0487232208252, \"Vann i atmosf\\u00e6ren (kg/m-2)\": 2.6925934851169586, \"time\": \"2021-02-07T00:00:00\"}, {\"Vinn (m/s)\": 4.6037969291210175, \"Temperatur (Kelvin)\": 254.7750129699707, \"Vann i atmosf\\u00e6ren (kg/m-2)\": 3.203059107065201, \"time\": \"2021-02-08T00:00:00\"}, {\"Vinn (m/s)\": 3.765377312898636, \"Temperatur (Kelvin)\": 254.6196994781494, \"Vann i atmosf\\u00e6ren (kg/m-2)\": 2.3250000178813934, \"time\": \"2021-02-09T00:00:00\"}, {\"Vinn (m/s)\": 4.484085112810135, \"Temperatur (Kelvin)\": 255.116117477417, \"Vann i atmosf\\u00e6ren (kg/m-2)\": 2.758252501487732, \"time\": \"2021-02-10T00:00:00\"}, {\"Vinn (m/s)\": 4.025008291006088, \"Temperatur (Kelvin)\": 252.72005081176758, \"Vann i atmosf\\u00e6ren (kg/m-2)\": 1.9638203382492065, \"time\": \"2021-02-11T00:00:00\"}, {\"Vinn (m/s)\": 3.021269142627716, \"Temperatur (Kelvin)\": 256.5819435119629, \"Vann i atmosf\\u00e6ren (kg/m-2)\": 2.249944120645523, \"time\": \"2021-02-12T00:00:00\"}, {\"Vinn (m/s)\": 2.4588178396224976, \"Temperatur (Kelvin)\": 256.8990287780762, \"Vann i atmosf\\u00e6ren (kg/m-2)\": 1.9841339364647865, \"time\": \"2021-02-13T00:00:00\"}, {\"Vinn (m/s)\": 1.5433739367872477, \"Temperatur (Kelvin)\": 259.44567108154297, \"Vann i atmosf\\u00e6ren (kg/m-2)\": 1.711488738656044, \"time\": \"2021-02-14T00:00:00\"}, {\"Vinn (m/s)\": 3.6708904802799225, \"Temperatur (Kelvin)\": 260.2472114562988, \"Vann i atmosf\\u00e6ren (kg/m-2)\": 6.658387750387192, \"time\": \"2021-02-15T00:00:00\"}, {\"Vinn (m/s)\": 1.276739478111267, \"Temperatur (Kelvin)\": 262.9345474243164, \"Vann i atmosf\\u00e6ren (kg/m-2)\": 6.764379680156708, \"time\": \"2021-02-16T00:00:00\"}, {\"Vinn (m/s)\": 3.8673983216285706, \"Temperatur (Kelvin)\": 263.66654205322266, \"Vann i atmosf\\u00e6ren (kg/m-2)\": 8.044114768505096, \"time\": \"2021-02-17T00:00:00\"}, {\"Vinn (m/s)\": 4.157398745417595, \"Temperatur (Kelvin)\": 263.1222114562988, \"Vann i atmosf\\u00e6ren (kg/m-2)\": 8.90640902519226, \"time\": \"2021-02-18T00:00:00\"}, {\"Vinn (m/s)\": 1.2258860170841217, \"Temperatur (Kelvin)\": 268.9328384399414, \"Vann i atmosf\\u00e6ren (kg/m-2)\": 8.79414987564087, \"time\": \"2021-02-19T00:00:00\"}, {\"Vinn (m/s)\": 11.779110590616861, \"Temperatur (Kelvin)\": 270.2386983235677, \"Vann i atmosf\\u00e6ren (kg/m-2)\": 14.899999936421713, \"time\": \"2021-02-20T00:00:00\"}]}}, {\"mode\": \"vega-lite\"});\n",
              "</script>"
            ]
          },
          "metadata": {
            "tags": []
          },
          "execution_count": 36
        }
      ]
    },
    {
      "cell_type": "markdown",
      "metadata": {
        "id": "HkYYqI-74mHh"
      },
      "source": [
        "**Trin 6**\n",
        "\n",
        "Hvordan kan vi skape verdie med datasettet? og for hvilken målgruppe?"
      ]
    },
    {
      "cell_type": "markdown",
      "metadata": {
        "id": "G0_S0U7iy93s"
      },
      "source": [
        "<a name=\"lærdom\"></a>\n",
        "#**Hva har jeg lært idag?**"
      ]
    },
    {
      "cell_type": "markdown",
      "metadata": {
        "id": "1Jop3JGMyxFq"
      },
      "source": [
        "\n",
        "\n",
        "> Hva har du lært?\n",
        "* [x] Hvordan du importere pandas\n",
        "* [x] Hvordan du henter data fra en api\n",
        "* [x] Hvordan du tidsformatere data\n",
        "* [x] Hvordan du fjerner tidszonen\n",
        "* [x] Hvordan du fjerner unødvendige kolonner\n",
        "* [x] Hvordan du omnavngiv kolonner\n",
        "\n",
        "\n",
        "Hva vil du lære i morgen?"
      ]
    },
    {
      "cell_type": "markdown",
      "metadata": {
        "id": "Q9b-dfEejxIy"
      },
      "source": [
        "<br></br>\n",
        "<br></br>\n",
        "<br></br>\n",
        "<br></br>\n",
        "<br></br>\n",
        "<br></br>\n",
        "<br></br>"
      ]
    },
    {
      "cell_type": "markdown",
      "metadata": {
        "id": "R4cnloipc5lw"
      },
      "source": [
        "\n",
        "# **Begreber**\n",
        "\n",
        "\n",
        "\n",
        "\n",
        "-- [Les fra API](#Les_fra_API)\n",
        "\n",
        "-- [til kalendertid](#til_kalendertid)\n",
        "\n",
        "-- [til specifisere tidssone](#lokaliser_tid)\n",
        "\n",
        "-- [Sammenfør data](#Sammenfør_data)\n",
        "\n",
        "-- [fjern kolonne](#fjern_kolonne)\n",
        "\n",
        "-- [Gensampling](#Gensampling)\n",
        "-- [Sammenføre_data](#Sammenføre_data)"
      ]
    },
    {
      "cell_type": "markdown",
      "metadata": {
        "id": "Qpyk4hq1GVLx"
      },
      "source": [
        "<a name=\"Hent_bibliotekker_med_verktøyer\"></a>\n",
        "###**Hent bibliotekker av verktøyer** - `Import` \n",
        "- `Import`\n",
        "\n",
        "Python-kode i en modul får tilgang til koden i en annen modul ved å importere den. \n",
        "I Python er en modul en fil i .py-filformat som inneholder Python-kode.\n",
        "\n",
        "Det mest populære bibliotek til data analyse er pandas. \n",
        "Pandas er en data struktur, litt likesom en tabel i Excel med rader og kolonner.\n",
        "\n",
        "Import funksjonen kombinerer to operasjoner; den søker etter den navngitte modulen - `pandas` - , så binder den modulet til et navn, i dette eksempel `pd`.\n",
        "Vanligvis foretrekker vi forekortelser, og importere bibliotekker, i forkortet form: `pandas as pd`. Fremover hetter bibliotekket `pd`\n",
        "\n",
        "```\n",
        "import pandas as pd\n",
        "```\n",
        "\n",
        "Genereltset importer vi funksjoner såledelse\n",
        "```\n",
        "import vårfunksjon\n",
        "```\n",
        "\n",
        "Alternativet til å importere funksjoner er å definere funksjonen direkte: \n",
        "```\n",
        "def vårfunksjon():\n",
        "  return x + 2\n",
        "```\n",
        "\n",
        "\n",
        "Referenser\n",
        "* Python for Data Analysis, Wes McKinney, s. 36"
      ]
    },
    {
      "cell_type": "markdown",
      "metadata": {
        "id": "iFjqb4jQHKvD"
      },
      "source": [
        "**Eksempel** "
      ]
    },
    {
      "cell_type": "markdown",
      "metadata": {
        "id": "7Tru3bcZHonL"
      },
      "source": [
        "Åbning af nettlink med pandas. Filen er i json-format og har innebygde data"
      ]
    },
    {
      "cell_type": "code",
      "metadata": {
        "colab": {
          "base_uri": "https://localhost:8080/",
          "height": 405
        },
        "id": "ArO93GTOHMLJ",
        "outputId": "ae8694c9-1a94-43bb-92da-69d0bfd182e1"
      },
      "source": [
        "import pandas as pd\n",
        "pd.read_json(\"https://platform-rest-prod.ngdata.no/api/FindStore/StoresClosestToMe/1300/?latitude=65.4&longitude=16.8&minnumberofstores=200&maxNumberOfStores=300&maxDistance=2470554\")"
      ],
      "execution_count": null,
      "outputs": [
        {
          "output_type": "execute_result",
          "data": {
            "text/html": [
              "<div>\n",
              "<style scoped>\n",
              "    .dataframe tbody tr th:only-of-type {\n",
              "        vertical-align: middle;\n",
              "    }\n",
              "\n",
              "    .dataframe tbody tr th {\n",
              "        vertical-align: top;\n",
              "    }\n",
              "\n",
              "    .dataframe thead th {\n",
              "        text-align: right;\n",
              "    }\n",
              "</style>\n",
              "<table border=\"1\" class=\"dataframe\">\n",
              "  <thead>\n",
              "    <tr style=\"text-align: right;\">\n",
              "      <th></th>\n",
              "      <th>distance</th>\n",
              "      <th>store</th>\n",
              "    </tr>\n",
              "  </thead>\n",
              "  <tbody>\n",
              "    <tr>\n",
              "      <th>0</th>\n",
              "      <td>1</td>\n",
              "      <td>{'id': 7080000918737, 'chainid': 1300, 'name':...</td>\n",
              "    </tr>\n",
              "    <tr>\n",
              "      <th>1</th>\n",
              "      <td>1</td>\n",
              "      <td>{'id': 7080001110611, 'chainid': 1300, 'name':...</td>\n",
              "    </tr>\n",
              "    <tr>\n",
              "      <th>2</th>\n",
              "      <td>1</td>\n",
              "      <td>{'id': 7080001100063, 'chainid': 1300, 'name':...</td>\n",
              "    </tr>\n",
              "    <tr>\n",
              "      <th>3</th>\n",
              "      <td>1</td>\n",
              "      <td>{'id': 7080000032075, 'chainid': 1300, 'name':...</td>\n",
              "    </tr>\n",
              "    <tr>\n",
              "      <th>4</th>\n",
              "      <td>1</td>\n",
              "      <td>{'id': 7080000001903, 'chainid': 1300, 'name':...</td>\n",
              "    </tr>\n",
              "    <tr>\n",
              "      <th>...</th>\n",
              "      <td>...</td>\n",
              "      <td>...</td>\n",
              "    </tr>\n",
              "    <tr>\n",
              "      <th>174</th>\n",
              "      <td>1</td>\n",
              "      <td>{'id': 7080000003280, 'chainid': 1300, 'name':...</td>\n",
              "    </tr>\n",
              "    <tr>\n",
              "      <th>175</th>\n",
              "      <td>1</td>\n",
              "      <td>{'id': 7080000062881, 'chainid': 1300, 'name':...</td>\n",
              "    </tr>\n",
              "    <tr>\n",
              "      <th>176</th>\n",
              "      <td>1</td>\n",
              "      <td>{'id': 7080000748273, 'chainid': 1300, 'name':...</td>\n",
              "    </tr>\n",
              "    <tr>\n",
              "      <th>177</th>\n",
              "      <td>1</td>\n",
              "      <td>{'id': 7080001007157, 'chainid': 1300, 'name':...</td>\n",
              "    </tr>\n",
              "    <tr>\n",
              "      <th>178</th>\n",
              "      <td>1</td>\n",
              "      <td>{'id': 7080001120832, 'chainid': 1300, 'name':...</td>\n",
              "    </tr>\n",
              "  </tbody>\n",
              "</table>\n",
              "<p>179 rows × 2 columns</p>\n",
              "</div>"
            ],
            "text/plain": [
              "     distance                                              store\n",
              "0           1  {'id': 7080000918737, 'chainid': 1300, 'name':...\n",
              "1           1  {'id': 7080001110611, 'chainid': 1300, 'name':...\n",
              "2           1  {'id': 7080001100063, 'chainid': 1300, 'name':...\n",
              "3           1  {'id': 7080000032075, 'chainid': 1300, 'name':...\n",
              "4           1  {'id': 7080000001903, 'chainid': 1300, 'name':...\n",
              "..        ...                                                ...\n",
              "174         1  {'id': 7080000003280, 'chainid': 1300, 'name':...\n",
              "175         1  {'id': 7080000062881, 'chainid': 1300, 'name':...\n",
              "176         1  {'id': 7080000748273, 'chainid': 1300, 'name':...\n",
              "177         1  {'id': 7080001007157, 'chainid': 1300, 'name':...\n",
              "178         1  {'id': 7080001120832, 'chainid': 1300, 'name':...\n",
              "\n",
              "[179 rows x 2 columns]"
            ]
          },
          "metadata": {
            "tags": []
          },
          "execution_count": 1
        }
      ]
    },
    {
      "cell_type": "markdown",
      "metadata": {
        "id": "9pNsKKkPRDxN"
      },
      "source": [
        "**Spørsmål:**\n",
        ">* Hvad betyder `import`?\n",
        ">* Må vi vete på forhånd hvilke bibliotekker, som vi vil anvende, eller finder python selv ut av det?\n",
        "<br></br>\n",
        "<br></br>\n",
        "<br></br>\n",
        "<br></br>\n",
        "<br></br>\n"
      ]
    },
    {
      "cell_type": "markdown",
      "metadata": {
        "id": "MQh3D_mI-LLf"
      },
      "source": [
        "\n",
        "\n",
        "<a name=\"Pandas\"></a>\n",
        "\n",
        "##**Pandas**  - `pandas`\n",
        "\n",
        "Pandas er et programvarebibliotek skrevet for Python-programmeringsspråket for manipulering og analyse av data. \n",
        "Spesielt tilbyr den datastrukturer og operasjoner for å manipulere numeriske tabeller og tidsserier.\n",
        "\n",
        "\n",
        "| DataFrame-objekt for databehandling med integrert indeksering.                                                                                                                        |\n",
        "|---------------------------------------------------------------------------------------------------------------------------------------------------------------------------------------|\n",
        "| Verktøy for å lese og skrive data mellom datastrukturer i hukommelsen og forskjellige filformater.                                                                                    |\n",
        "| Datajustering og integrert håndtering av manglende data.                                                                                                                              |\n",
        "| Omforming av datasett.                                                                                                                                                                |\n",
        "| Etikettbasert kutting, indeksering og delmengder av store datasett.                                                                                                                   |\n",
        "| Innsetting og sletting av datakolonner.                                                                                                                                               |\n",
        "| Gruppere datasett i bestemmt format                                                                                                                                                   |\n",
        "| Datasett sammenslåing og sammenføyning.                                                                                                                                               |\n",
        "| Hierarkisk indeksering for å arbeide med høydimensjonale data                                                                                                                         |\n",
        "| Tidsseriefunksjonalitet: Generering av datoperiode og frekvenskonvertering, statistikk for bevegelige vinduer, lineære regresjoner i bevegelige vinduer, datoflytting og forsinkelse. |\n",
        "| Datafiltrering.                                                                                                                                                                       |\n",
        "\n",
        "\n",
        "\n",
        "Referenser:\n",
        "\n",
        "\n",
        "s. 97, Python Data Science Handbook\n",
        "\n",
        "s.  137-142, Python for Finance\n",
        "[pandas dokumentation](https://pandas.pydata.org/)"
      ]
    },
    {
      "cell_type": "markdown",
      "metadata": {
        "id": "TQjnrZhERUZL"
      },
      "source": [
        "<br></br>\n",
        ">**Spørsmål:**\n",
        ">* Hvorfor bruker vi Pandas til analyse av data?\n",
        ">* Kan du give eksempler på funksjoner, som både Excel og Python kan løse?\n",
        ">* Kjenner du funksjoner, som kan løses i Python eller, som er nemmere i Python fremfor Excel?\n",
        "<br></br>"
      ]
    },
    {
      "cell_type": "markdown",
      "metadata": {
        "id": "y_6wkNF1vFaC"
      },
      "source": [
        "\n",
        "<a name=\"til_kalendertid\"></a>\n",
        "\n",
        "\n",
        "##**Formatere vi kolonnen \"time\" i tidsformattet \"datetime\".**  \n",
        "\n",
        "- `pd.to_datetime`\n",
        "\n",
        "\n",
        "\n",
        "Pandas to_datetime () -metoden hjelper til med å konvertere streng Dato-tid til Python Date-tidsobjekt.\n",
        "\n",
        "Her er parametere som kan spesifiseres\n",
        "\n",
        "| Angivelse | Beskrivelse             | Enhed              | Kommentarer                                                                                   |\n",
        "|-----------|-------------------------|--------------------|-----------------------------------------------------------------------------------------------|\n",
        "| % m       | To-sifret måned         | [01, 12]           |                                                                                               |\n",
        "| % d       | To-sifret dag           | [01, 31]           |                                                                                               |\n",
        "| % H       | Time (24-timers klokke) | [00, 23]           |                                                                                               |\n",
        "| % I       | Time(12-timers klokke)  | [01, 12]           |                                                                                               |\n",
        "| % M       | To-sifret minutt        | [00, 59]           |                                                                                               |\n",
        "| % S       | Second                  | [00, 61]           | (sekunder 60, 61 utgjør sprangsekunder)                                                       |\n",
        "| % w       | Ukedag som heltall      | [0 (søndag), 6]    |                                                                                               |\n",
        "| % U       | Ukenummer for året      | [00, 53]           | Søndag regnes som den første dagen i uken året er “uke 0”                                     |\n",
        "| % W       | Ukenummer for året      | [00, 53]           | Mandag regnes som den første dagen i uken, og dager før den første mandagen i året er “uke 0” |\n",
        "| % z       | tidssone forskjøvet     | + HHMM eller -HHMM | tom hvis tidssonen er \"naiv\"                                                                  |\n",
        "| % F       | Snarvei                 | % Y-% m-% d        | f.eks. 2020-4-18                                                                              |\n",
        "| % D       | Snarvei                 | % m /% d /% y      | f.eks. 20.04.12                                                                               |\n",
        "\n",
        "\n",
        "referense\n",
        "* s. 44-46 Python for Data analysis "
      ]
    },
    {
      "cell_type": "code",
      "metadata": {
        "colab": {
          "base_uri": "https://localhost:8080/",
          "height": 107
        },
        "id": "N82YMfbRZ3rL",
        "outputId": "ab5b3223-2536-4b5f-8738-1177e6f59ed4"
      },
      "source": [
        "import pandas as pd\n",
        "df = pd.DataFrame({'year': [2015, 2016], 'month': [2, 3],'day': [4, 5]})\n",
        "df"
      ],
      "execution_count": null,
      "outputs": [
        {
          "output_type": "execute_result",
          "data": {
            "text/html": [
              "<div>\n",
              "<style scoped>\n",
              "    .dataframe tbody tr th:only-of-type {\n",
              "        vertical-align: middle;\n",
              "    }\n",
              "\n",
              "    .dataframe tbody tr th {\n",
              "        vertical-align: top;\n",
              "    }\n",
              "\n",
              "    .dataframe thead th {\n",
              "        text-align: right;\n",
              "    }\n",
              "</style>\n",
              "<table border=\"1\" class=\"dataframe\">\n",
              "  <thead>\n",
              "    <tr style=\"text-align: right;\">\n",
              "      <th></th>\n",
              "      <th>year</th>\n",
              "      <th>month</th>\n",
              "      <th>day</th>\n",
              "    </tr>\n",
              "  </thead>\n",
              "  <tbody>\n",
              "    <tr>\n",
              "      <th>0</th>\n",
              "      <td>2015</td>\n",
              "      <td>2</td>\n",
              "      <td>4</td>\n",
              "    </tr>\n",
              "    <tr>\n",
              "      <th>1</th>\n",
              "      <td>2016</td>\n",
              "      <td>3</td>\n",
              "      <td>5</td>\n",
              "    </tr>\n",
              "  </tbody>\n",
              "</table>\n",
              "</div>"
            ],
            "text/plain": [
              "   year  month  day\n",
              "0  2015      2    4\n",
              "1  2016      3    5"
            ]
          },
          "metadata": {
            "tags": []
          },
          "execution_count": 1
        }
      ]
    },
    {
      "cell_type": "code",
      "metadata": {
        "colab": {
          "base_uri": "https://localhost:8080/"
        },
        "id": "M8WW1a4kaAI9",
        "outputId": "95cf85a9-411f-4546-bbb4-c4892e95cd85"
      },
      "source": [
        "pd.to_datetime(df)"
      ],
      "execution_count": null,
      "outputs": [
        {
          "output_type": "execute_result",
          "data": {
            "text/plain": [
              "0   2015-02-04\n",
              "1   2016-03-05\n",
              "dtype: datetime64[ns]"
            ]
          },
          "metadata": {
            "tags": []
          },
          "execution_count": 2
        }
      ]
    },
    {
      "cell_type": "markdown",
      "metadata": {
        "id": "bfOYm4LFtv-h"
      },
      "source": [
        "<br></br>\n",
        ">**Spørsmål:**\n",
        "> * Hvordan er kalenderformatering annerledes enn angitt i tid i sekunder?\n",
        "<br></br>\n",
        "<br></br>\n",
        "<br></br>\n",
        "<br></br>"
      ]
    },
    {
      "cell_type": "markdown",
      "metadata": {
        "id": "z7jX22FmvX_z"
      },
      "source": [
        "<a name=\"lokaliser_tid\"></a>\n",
        "##**Lokalisere tidszone** -  `data.dt.tz_localize(None)`\n",
        "\n",
        "\n",
        "\n",
        "Denne metoden tar en tidssone (tz) naiv Datetime Array / Index-objekt og gjør denne tidssonen oppmerksom. Det flytter ikke tiden til en annen tidssone. Tidssone lokalisering hjelper deg med å bytte fra tidssone bevisst til tidssone uvitende objekter.\n",
        "\n",
        "\n",
        "```\n",
        "temp.index=pd.to_datetime(temp['time']).dt.tz_localize(None)\n",
        "```\n",
        "\n",
        "\n"
      ]
    },
    {
      "cell_type": "markdown",
      "metadata": {
        "id": "8kUeRIi9unDo"
      },
      "source": [
        ">**Spørsmål:**\n",
        "> * Hvordan er kalenderformatering annerledes enn angitt i tid i sekunder?\n",
        "<br></br>\n",
        "<br></br>\n",
        "<br></br>\n",
        "<br></br>"
      ]
    },
    {
      "cell_type": "markdown",
      "metadata": {
        "id": "sMK5rQJbu_oZ"
      },
      "source": [
        "<a name=\"Gensampling\"></a>\n",
        "\n",
        "##**Gensampling** - `.resample('D')`\n",
        "\n",
        "\n",
        "Pandas dataframe.resample () -funksjonen brukes primært til tidsseriedata.\n",
        "En tidsserie er en serie datapunkter indeksert (eller oppført eller tegnet) i tidsrekkefølge. Vanligvis er en tidsserie en sekvens tatt på påfølgende tidspunkter. Det er en praktisk metode for frekvenskonvertering og sampling av tidsserier. Objektet må ha en datetime-lignende indeks (DatetimeIndex, PeriodIndex eller TimedeltaIndex), eller sende datetime-lignende verdier til søkeordet på eller nivå.\n",
        "\n",
        "Resampling genererer en unik samplingsfordeling på grunnlag av de faktiske dataene. Vi kan bruke forskjellige frekvenser for å sample våre tidsseriedata. Dette er en veldig viktig teknikk innen analytics.\n",
        "De mest brukte tidsseriefrekvensene er -\n",
        "W: ukentlig frekvens\n",
        "M: månedssluttfrekvens\n",
        "SM: halvmåneders sluttfrekvens (15. og slutten av måneden)\n",
        "Spørsmål: kvart sluttfrekvens\n",
        "\n",
        "\n"
      ]
    },
    {
      "cell_type": "markdown",
      "metadata": {
        "id": "_0SAh-2eIqju"
      },
      "source": [
        "| Frekvens | Beskrivelse                                            |\n",
        "|----------|--------------------------------------------------------|\n",
        "| W        | ukentlig frekvens                                      |\n",
        "| M        | månedssluttfrekvens                                    |\n",
        "| SM       | halvmåneders sluttfrekvens (15. og slutten av måneden) |\n",
        "| Q        | kvart sluttfrekvens                                    |v"
      ]
    },
    {
      "cell_type": "markdown",
      "metadata": {
        "id": "B_S0TBtR0DOT"
      },
      "source": [
        "s. 198.199"
      ]
    },
    {
      "cell_type": "markdown",
      "metadata": {
        "id": "UNZdCfslvAYZ"
      },
      "source": [
        "**Gjennemsnit** - `.mean()`\n"
      ]
    },
    {
      "cell_type": "markdown",
      "metadata": {
        "id": "Q4vbhEpovBHB"
      },
      "source": [
        "**Interpolering** - `.interpolate(method='linear', limit_direction='both')`\n",
        "\n",
        "\n",
        "Fyll NaN-verdier ved hjelp av en interpolasjonsmetode.\n",
        "\n",
        "\n",
        "Pandas dataframe.interpolate () -funksjonen brukes i utgangspunktet til å fylle NA-verdier i datarammen eller serien. Men dette er en veldig kraftig funksjon for å fylle de manglende verdiene. Den bruker forskjellige interpolasjonsteknikker for å fylle de manglende verdiene i stedet for å hardkode verdien.\n",
        "\n",
        "\n",
        "\n",
        "https://www.geeksforgeeks.org/python-pandas-dataframe-interpolate/\n"
      ]
    },
    {
      "cell_type": "markdown",
      "metadata": {
        "id": "KBldW4awJEvl"
      },
      "source": [
        "| Retning  | Beskrivelse |\n",
        "|----------|-------------|\n",
        "| forward  | Fremover    |\n",
        "| backward | Bakover     |\n",
        "| both     | begge veie  |"
      ]
    },
    {
      "cell_type": "markdown",
      "metadata": {
        "id": "eMXavR1_vB2z"
      },
      "source": [
        "**Index** - `.source.index`\n",
        "\n",
        "\n",
        "informasjon om aksemerking i pandaobjekter tjener mange formål:\n",
        "\n",
        "Identifiserer data (dvs. gir metadata) ved bruk av kjente indikatorer, viktig for analyse, visualisering og interaktiv konsollvisning.\n",
        "\n",
        "Aktiverer automatisk og eksplisitt datajustering.\n",
        "\n",
        "Tillater intuitiv henting og innstilling av delmengder av datasettet."
      ]
    },
    {
      "cell_type": "markdown",
      "metadata": {
        "id": "N-txdt7h9Bl8"
      },
      "source": [
        "\n",
        "<a name=\"fjern_kolonner\"></a>\n",
        "\n",
        "\n",
        "##**Tilføj/fjern data** - `data.drop([])`\n",
        "\n",
        "\n",
        "\n",
        "Slipp spesifiserte etiketter fra rader eller kolonner.\n",
        "\n",
        "Fjern rader eller kolonner ved å spesifisere etikettnavn og tilsvarende akse, eller ved å spesifisere direkte indeks- eller kolonnenavn. Når du bruker en multi-indeks, kan etiketter på forskjellige nivåer fjernes ved å spesifisere nivået.\n",
        "\n",
        "```\n",
        "data.drop(columns=[''],inplace=True)\n",
        "```\n",
        "\n",
        "\n",
        "\n",
        "| Parameter | Betydning | Format                                       | Beskrivelse                                                                                     |\n",
        "|-----------|-----------|----------------------------------------------|-------------------------------------------------------------------------------------------------|\n",
        "| labels    | etiketter | enkelt etikett eller listelignende           | Indeks eller kolonneetiketter som skal slippes.                                                 |\n",
        "| axis      | akse      | akse {0 eller ‘indeks’, 1 eller ‘kolonner’}  | Om du vil slippe etiketter fra indeksen (0 eller ‘indeks’) eller kolonner (1 eller ‘kolonner’). |\n",
        "| column    | kolonne   | kolonner: enkelt etikett eller listelignende | kolonneetiketter som skal slippes.                                                              |\n",
        "| inplace   | inplace   | True / False                                 | Hvis sant, utføres operasjonen umiddelbart                                                      |\n"
      ]
    },
    {
      "cell_type": "markdown",
      "metadata": {
        "id": "5paUOpslNbye"
      },
      "source": [
        "<a name=\"Sammenføre_data\"></a>\n",
        "\n",
        "##**Sammenføre data** - `pd.concat`\n",
        "\n",
        "Kombinering av forskjellige data kilder kan bidrage til nye konklusjoner.\n",
        "\n",
        "Disse metoder kan være\n",
        "* enkel sammenkobling av to forskjellige datasett\n",
        "* kompliserte sammenføyninger av databaser\n",
        "* sammenslåinger som håndterer korrekt overlapp mellom datasettene riktig. \n",
        "Series og DataFrames er forberedt til å håndtere denne typen operasjoner, så dette kan gjøres raskt og korrekt.\n",
        "\n",
        "En vanlig metode er enkel sammenkobling av Series og DataFrames med\n",
        "`pd.concat-funksjon`\n",
        "\n",
        "Pandaobjekter kan sammenkobles langs en bestemt akse med en spesifiseret logiske operasjoenr.\n",
        "Dertil kan også foretages hierarkisk indeksering på sammenkoblingsaksen.\n",
        "\n",
        "Andre metoder er `pd.merge()` og `pd.join()`\n",
        "\n",
        "\n",
        "\n",
        "For eksempel_\n",
        "`database=pd.concat([database,df_time],join=\"outer\", axis=1)  `\n",
        "\n",
        "\n",
        "\n",
        "Referense:\n",
        "* [pd.concat](https://pandas.pydata.org/docs/user_guide/merging.html)\n",
        "\n",
        "\n",
        "\n"
      ]
    },
    {
      "cell_type": "markdown",
      "metadata": {
        "id": "bvzm4QHUTWRZ"
      },
      "source": [
        "I dette eksempel, sammenføres kommuner:"
      ]
    },
    {
      "cell_type": "code",
      "metadata": {
        "colab": {
          "base_uri": "https://localhost:8080/"
        },
        "id": "KNq2TqM0TAeR",
        "outputId": "880ba4be-9de0-4d2d-fdd6-d29867073a20"
      },
      "source": [
        "import pandas as pd\n",
        "ser1 = pd.Series(['Halden', 'Moss', 'Sarpsborg'], index=[1, 2, 3])\n",
        "ser2 = pd.Series(['Frederikstad', 'Hvaler', 'Aremark'], index=[4, 5, 6])\n",
        "pd.concat([ser1, ser2])"
      ],
      "execution_count": null,
      "outputs": [
        {
          "output_type": "execute_result",
          "data": {
            "text/plain": [
              "1          Halden\n",
              "2            Moss\n",
              "3       Sarpsborg\n",
              "4    Frederikstad\n",
              "5          Hvaler\n",
              "6         Aremark\n",
              "dtype: object"
            ]
          },
          "metadata": {
            "tags": []
          },
          "execution_count": 4
        }
      ]
    },
    {
      "cell_type": "markdown",
      "metadata": {
        "id": "Z8s6l3xJzmCC"
      },
      "source": [
        "* s. 141-146, Python Data Science Handbook"
      ]
    },
    {
      "cell_type": "markdown",
      "metadata": {
        "id": "csoY7hPJToqf"
      },
      "source": [
        "<br></br>\n",
        "> **Spørsmål**\n",
        "> * Hvorfor må man sammenkobling av forskjellige datasett spesifiseres for å fungere?\n",
        "<br></br>\n",
        "<br></br>\n",
        "<br></br>\n",
        "<br></br>\n",
        "<br></br>\n",
        "<br></br>\n"
      ]
    },
    {
      "cell_type": "markdown",
      "metadata": {
        "id": "GE2Oo5JKS1AT"
      },
      "source": [
        "\n",
        "\n",
        "\n",
        "\n",
        "\n",
        "<a name=\"Les_fra_API\"></a>\n",
        "\n",
        "\n",
        "\n",
        "##**Les fra API** - \n",
        "```\n",
        "url='https://thredds.ucar.edu/thredds/ncss/grib/NCEP/GFS/Global_0p5deg/best?req=station&var=Apparent_temperature_height_above_ground&&latitude=60.70290856516992&longitude=10.867140671892406&time_start=2020-01-01T12:00:00-05:00&time_duration=PT3H&time_end=2021-02-20T12:00:00-05:00&vertCoord=2&accept=CSV' \n",
        "\n",
        "\n",
        "```\n",
        "\n",
        "\n",
        "Her er en oversikt over parameter, som kan settes, med forklaring på norsk.\n",
        "\n",
        "| Metode                                            | på norsk                                  | Beskrivelse                                                      |\n",
        "|---------------------------------------------------|-------------------------------------------|------------------------------------------------------------------|\n",
        "| Global_0p5deg                                     | Global_0p5 grader                         | Oppløsning er 0.5 grader                                         |\n",
        "| station                                           | stasjon                                   | for temperatur, idensifiseres den tetteste stasjon               |\n",
        "| Apparent_temperature_height_above_ground          | Tilsynelatende_temperatur_høyde_over_jord | Tilsynelatende temperatur, ved spesifisert høydenivå over bakken |\n",
        "| Precipitable_water_entire_atmosphere_single_layer | Nedfellbart_vann_hemmet_atmosfære_        | Nedbørbart vann for hele atmosfærelaget                          |\n",
        "| Wind_speed_gust_surface                           | Vindhastighet_overflate                   | Vindhastighet (vindkast) for bakken eller vannoverflaten         |\n",
        "| latitude                                          | breddegrad                                | lokasjon, som man er interessert                                 |\n",
        "| longitude                                         | lengdegrad                                | lokasjon, som man er interessert                                 |\n",
        "| time_start                                        | time_start                                |  start tid. Bør alltid være i fremtiden for at oppnå en prognose |\n",
        "| time_duration                                     | Varighet                                  |  period for målpunkt. f.eks. hver 3. time                        |\n",
        "| time_end                                          | time_slut                                 |  slut tid                                                        |\n",
        "| vertCoord                                         | vertCoord                                 |  konvention for koordinate                                       |\n",
        "| accept                                            | aksepterer                                |  data format (f.eks CSV)                                         |\n",
        "\n",
        "\n",
        "\n",
        "\n",
        "referenser\n",
        "s. 114-120 - Data Science from Scratch\n",
        "s. 357 - 372\n",
        "\n",
        "Referense til API:\n",
        "* https://rda.ucar.edu/thredds/metadata/aggregations/g/ds083.2/2/TP?metadata=variableMap\n",
        "\n",
        "* https://thredds-jumbo.unidata.ucar.edu/thredds/catalog/grib/NCEP/GFS/Global_0p5deg/GFS_Global_0p5deg_20210301_1200.grib2/catalog.html?dataset=grib/NCEP/GFS/Global_0p5deg/GFS_Global_0p5deg_20210301_1200.grib2\n",
        "\n",
        "\n",
        "\n",
        "\n"
      ]
    },
    {
      "cell_type": "markdown",
      "metadata": {
        "id": "SvPi4hYNgUD4"
      },
      "source": [
        "**Index** - `.source.index`\n",
        "\n",
        "source['time']=source.index\n",
        "\n",
        "\n",
        "\n",
        "\n",
        "Sett DataFrame-indeksen ved hjelp av eksisterende kolonner (av riktig lengde)\n",
        "\n"
      ]
    },
    {
      "cell_type": "markdown",
      "metadata": {
        "id": "fz06NBhQ-Nz-"
      },
      "source": [
        "\n",
        "\n",
        "<a name=\"Omnavngiv\"></a>\n",
        "\n",
        " \n",
        "##**Omnavngiv kolonne** - `.rename()`\n",
        "\n",
        "`rename(inplace=True, columns={column: column)})`\n",
        "\n",
        "De nye kolonnenavn har ikke \".\" i navnet, og er lettere at håndtere\n",
        "\n",
        "\n",
        "\n",
        "\n",
        "> **Spørsmål**\n",
        "> * Kan alle symboler brukes, som kolonnenavne?\n",
        "> * Hvorfor kan bestemte symboler i kolonnenavne være et problem?\n",
        "<br></br>\n",
        "<br></br>\n",
        "<br></br>\n",
        "<br></br>\n",
        "<br></br>\n",
        "<br></br>\n",
        "\n"
      ]
    }
  ]
}
