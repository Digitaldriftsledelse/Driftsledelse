{
  "nbformat": 4,
  "nbformat_minor": 0,
  "metadata": {
    "colab": {
      "name": "1_Portfolio problematik_1_1 Placering og forskydning.ipynb",
      "provenance": []
    },
    "kernelspec": {
      "name": "python3",
      "display_name": "Python 3"
    }
  },
  "cells": [
    {
      "cell_type": "markdown",
      "metadata": {
        "id": "jcw8XrLAyr5-"
      },
      "source": [
        "# 1.Portfolio problematik\r\n"
      ]
    },
    {
      "cell_type": "markdown",
      "metadata": {
        "id": "qoDizlL1jhez"
      },
      "source": [
        "##1.1 Placering og forskydning"
      ]
    },
    {
      "cell_type": "markdown",
      "metadata": {
        "id": "jKkDEI3mSGOj"
      },
      "source": [
        "### 1.1.1 Angiv udvælgelseskriterier"
      ]
    },
    {
      "cell_type": "code",
      "metadata": {
        "id": "Zk00swvnbaTg"
      },
      "source": [
        "import pandas as pd\r\n",
        "data=pd.read_json(\"https://platform-rest-prod.ngdata.no/api/FindStore/StoresClosestToMe/1300/?latitude=65.4&longitude=16.8&minnumberofstores=200&maxNumberOfStores=300&maxDistance=2470554\")"
      ],
      "execution_count": null,
      "outputs": []
    },
    {
      "cell_type": "markdown",
      "metadata": {
        "id": "CMhhMABuSXO4"
      },
      "source": [
        "### 1.1.2 Vælg tabeller / filer af interesse"
      ]
    },
    {
      "cell_type": "code",
      "metadata": {
        "colab": {
          "base_uri": "https://localhost:8080/",
          "height": 320
        },
        "id": "j6rBUreMcf-R",
        "outputId": "b9d58fac-d303-49ad-af74-270f6734bd85"
      },
      "source": [
        "database=[]\r\n",
        "#data = data.assign(**{'latitude': 0.1, 'longitude': 0.1})\r\n",
        "for i, store in enumerate(data.store):\r\n",
        "  store['latitude']=store['location']['latitude']\r\n",
        "  store['longitude']=store['location']['longitude']\r\n",
        "  database.append(store)\r\n",
        "database=pd.DataFrame(database)\r\n",
        "database.head(3)"
      ],
      "execution_count": null,
      "outputs": [
        {
          "output_type": "execute_result",
          "data": {
            "text/html": [
              "<div>\n",
              "<style scoped>\n",
              "    .dataframe tbody tr th:only-of-type {\n",
              "        vertical-align: middle;\n",
              "    }\n",
              "\n",
              "    .dataframe tbody tr th {\n",
              "        vertical-align: top;\n",
              "    }\n",
              "\n",
              "    .dataframe thead th {\n",
              "        text-align: right;\n",
              "    }\n",
              "</style>\n",
              "<table border=\"1\" class=\"dataframe\">\n",
              "  <thead>\n",
              "    <tr style=\"text-align: right;\">\n",
              "      <th></th>\n",
              "      <th>id</th>\n",
              "      <th>chainid</th>\n",
              "      <th>name</th>\n",
              "      <th>link</th>\n",
              "      <th>description</th>\n",
              "      <th>location</th>\n",
              "      <th>zipcode</th>\n",
              "      <th>zipcitycode</th>\n",
              "      <th>municipalitid</th>\n",
              "      <th>countyid</th>\n",
              "      <th>regionname</th>\n",
              "      <th>services</th>\n",
              "      <th>visitaddress</th>\n",
              "      <th>phone</th>\n",
              "      <th>fax</th>\n",
              "      <th>email</th>\n",
              "      <th>openinghours</th>\n",
              "      <th>istrumfactivated</th>\n",
              "      <th>loc</th>\n",
              "      <th>municipality</th>\n",
              "      <th>county</th>\n",
              "      <th>suggestion</th>\n",
              "      <th>latitude</th>\n",
              "      <th>longitude</th>\n",
              "    </tr>\n",
              "  </thead>\n",
              "  <tbody>\n",
              "    <tr>\n",
              "      <th>0</th>\n",
              "      <td>7080000302468</td>\n",
              "      <td>1300</td>\n",
              "      <td>Helgø MENY Herbarium</td>\n",
              "      <td></td>\n",
              "      <td></td>\n",
              "      <td>{'latitude': 58.9698687999, 'longitude': 5.728...</td>\n",
              "      <td>4005</td>\n",
              "      <td>STAVANGER</td>\n",
              "      <td>1103</td>\n",
              "      <td>11</td>\n",
              "      <td>ROGALAND</td>\n",
              "      <td>TRUMFBONUS</td>\n",
              "      <td>Lars Hertervigs gate 6</td>\n",
              "      <td>51 50 50 10</td>\n",
              "      <td>51 50 50 11</td>\n",
              "      <td>butikksjef.straen@helgomeny.no</td>\n",
              "      <td>{'days': [{'date': None, 'label': 'Hverdager',...</td>\n",
              "      <td>True</td>\n",
              "      <td>{'lon': 5.7282775826, 'lat': 58.9698687999}</td>\n",
              "      <td>STAVANGER</td>\n",
              "      <td>ROGALAND</td>\n",
              "      <td>[STAVANGER, ROGALAND, Helgø MENY Herbarium, 40...</td>\n",
              "      <td>58.969869</td>\n",
              "      <td>5.728278</td>\n",
              "    </tr>\n",
              "    <tr>\n",
              "      <th>1</th>\n",
              "      <td>7080001120832</td>\n",
              "      <td>1300</td>\n",
              "      <td>MENY Triaden</td>\n",
              "      <td></td>\n",
              "      <td></td>\n",
              "      <td>{'latitude': 59.9186184063, 'longitude': 10.95...</td>\n",
              "      <td>1461</td>\n",
              "      <td>LØRENSKOG</td>\n",
              "      <td>3029</td>\n",
              "      <td>30</td>\n",
              "      <td>ØST</td>\n",
              "      <td>TRUMFBONUS, TIPPING</td>\n",
              "      <td>Triaden Storsenter Gamleveien 88</td>\n",
              "      <td>67 98 16 00</td>\n",
              "      <td>67981601</td>\n",
              "      <td>butikksjef.triaden@meny.no</td>\n",
              "      <td>{'days': [{'date': None, 'label': 'Hverdager',...</td>\n",
              "      <td>True</td>\n",
              "      <td>{'lon': 10.9535155761, 'lat': 59.9186184063}</td>\n",
              "      <td>LØRENSKOG</td>\n",
              "      <td>VIKEN</td>\n",
              "      <td>[LØRENSKOG, VIKEN, MENY Triaden, 1461, Triaden]</td>\n",
              "      <td>59.918618</td>\n",
              "      <td>10.953516</td>\n",
              "    </tr>\n",
              "    <tr>\n",
              "      <th>2</th>\n",
              "      <td>7080001416409</td>\n",
              "      <td>1300</td>\n",
              "      <td>MENY Gystadmarka</td>\n",
              "      <td></td>\n",
              "      <td></td>\n",
              "      <td>{'latitude': 60.1439085266, 'longitude': 11.18...</td>\n",
              "      <td>2052</td>\n",
              "      <td>JESSHEIM</td>\n",
              "      <td>3033</td>\n",
              "      <td>30</td>\n",
              "      <td>ØST</td>\n",
              "      <td>TRUMFBONUS</td>\n",
              "      <td>Henrik Bulls veg 100</td>\n",
              "      <td>63986698</td>\n",
              "      <td>None</td>\n",
              "      <td>butikksjef.gystadmarka@meny.no</td>\n",
              "      <td>{'days': [{'date': None, 'label': 'Hverdager',...</td>\n",
              "      <td>True</td>\n",
              "      <td>{'lon': 11.1893648825, 'lat': 60.1439085266}</td>\n",
              "      <td>ULLENSAKER</td>\n",
              "      <td>VIKEN</td>\n",
              "      <td>[ULLENSAKER, VIKEN, MENY Gystadmarka, 2052, Gy...</td>\n",
              "      <td>60.143909</td>\n",
              "      <td>11.189365</td>\n",
              "    </tr>\n",
              "  </tbody>\n",
              "</table>\n",
              "</div>"
            ],
            "text/plain": [
              "              id  chainid  ...   latitude  longitude\n",
              "0  7080000302468     1300  ...  58.969869   5.728278\n",
              "1  7080001120832     1300  ...  59.918618  10.953516\n",
              "2  7080001416409     1300  ...  60.143909  11.189365\n",
              "\n",
              "[3 rows x 24 columns]"
            ]
          },
          "metadata": {
            "tags": []
          },
          "execution_count": 2
        }
      ]
    },
    {
      "cell_type": "markdown",
      "metadata": {
        "id": "SAYu5oZ4Se8Z"
      },
      "source": [
        "### 1.1.3 Vælg data i en tabel / fil\r\n"
      ]
    },
    {
      "cell_type": "code",
      "metadata": {
        "id": "7FuGz62Hd18b"
      },
      "source": [
        "import altair as alt\r\n",
        "\r\n",
        "countries = alt.topo_feature('https://dmws.hkvservices.nl/dataportal/data.asmx/read?database=vega&key=europe', 'europe') \r\n",
        "\r\n",
        "norway =alt .  Chart ( countries ) .  mark_geoshape (    fill='lightgray',\r\n",
        "    stroke='white').encode(\r\n",
        ")\r\n",
        "\r\n",
        "butikker = alt.Chart(database).mark_circle(\r\n",
        "color=\"black\"\r\n",
        ").encode(\r\n",
        "    longitude='longitude:Q',\r\n",
        "    latitude='latitude:Q',\r\n",
        "    color=alt.value('black'),\r\n",
        "    tooltip=['name:N','regionname:N','municipality:N','county:N','latitude:Q','longitude:Q'],\r\n",
        ")\r\n",
        "\r\n",
        "\r\n",
        "(norway+butikker).project( #projektere visning background+\r\n",
        "    type= 'mercator', #vælg projektering\r\n",
        "    scale= 1000, #skalere visning\r\n",
        "    center= [12,65],  #centere visning på følgende gps koordinate\r\n",
        ") .  properties (\r\n",
        "     width = 600 ,\r\n",
        "     height = 600\r\n",
        ").properties(title=\"Meny butikker\").save('Meny.html')\r\n"
      ],
      "execution_count": null,
      "outputs": []
    }
  ]
}