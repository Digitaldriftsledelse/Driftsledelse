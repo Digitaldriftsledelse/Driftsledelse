{
  "nbformat": 4,
  "nbformat_minor": 0,
  "metadata": {
    "colab": {
      "name": "Asko varerlagre.ipynb",
      "provenance": []
    },
    "kernelspec": {
      "name": "python3",
      "display_name": "Python 3"
    },
    "language_info": {
      "name": "python"
    }
  },
  "cells": [
    {
      "cell_type": "code",
      "metadata": {
        "id": "0jIZFQrHYdNj"
      },
      "source": [
        "import pandas as pd"
      ],
      "execution_count": 2,
      "outputs": []
    },
    {
      "cell_type": "code",
      "metadata": {
        "id": "Ikihl-zKYffN"
      },
      "source": [
        "data=pd.read_csv(\"http://pvexpect.com/Driftsledelse/Dagligvarer/varerlager.csv\")"
      ],
      "execution_count": 42,
      "outputs": []
    },
    {
      "cell_type": "code",
      "metadata": {
        "colab": {
          "base_uri": "https://localhost:8080/",
          "height": 648
        },
        "id": "8vMQpFnQYqy1",
        "outputId": "f1b8f302-aefa-4e95-80f2-68dc97a6a96e"
      },
      "source": [
        "import altair as alt\n",
        "\n",
        "countries = alt.topo_feature('https://dmws.hkvservices.nl/dataportal/data.asmx/read?database=vega&key=europe', 'europe') \n",
        "\n",
        "norway =alt .  Chart ( countries ) .  mark_geoshape (    fill='lightgray',\n",
        "    stroke='white').encode(\n",
        ")\n",
        "\n",
        "butikker = alt.Chart(data).mark_circle(\n",
        "color=\"black\"\n",
        ").encode(\n",
        "    longitude='Længdegrad:Q',\n",
        "    latitude='Breddegrad:Q',\n",
        "    color=alt.value('black'),\n",
        "    size=alt.Size('m2:Q', scale=alt.Scale(domain=[0,500], range=[1,5])),\n",
        "    tooltip=['Lagre:N','By:N','Omsetning (milliarder):Q','Leveranse andel:Q','Medarbeider:Q','Områter:N','Andre områter:N','m2:Q','Kunder:Q','varelinjer:N','Kommentarer:N'],\n",
        ")\n",
        "\n",
        "\n",
        "(norway+butikker).project( #projektere visning background+\n",
        "    type= 'mercator', #vælg projektering\n",
        "    scale= 1000, #skalere visning\n",
        "    center= [12,65],  #centere visning på følgende gps koordinate\n",
        ") .  properties (\n",
        "     width = 600 ,\n",
        "     height = 600\n",
        ").properties(title=\"Asko varerlagre\") #.save('Meny.html')\n"
      ],
      "execution_count": 43,
      "outputs": [
        {
          "output_type": "execute_result",
          "data": {
            "text/plain": [
              "alt.LayerChart(...)"
            ],
            "text/html": [
              "\n",
              "<div id=\"altair-viz-a1e52a5fc10f4dfc906427590cfeb5ab\"></div>\n",
              "<script type=\"text/javascript\">\n",
              "  (function(spec, embedOpt){\n",
              "    let outputDiv = document.currentScript.previousElementSibling;\n",
              "    if (outputDiv.id !== \"altair-viz-a1e52a5fc10f4dfc906427590cfeb5ab\") {\n",
              "      outputDiv = document.getElementById(\"altair-viz-a1e52a5fc10f4dfc906427590cfeb5ab\");\n",
              "    }\n",
              "    const paths = {\n",
              "      \"vega\": \"https://cdn.jsdelivr.net/npm//vega@5?noext\",\n",
              "      \"vega-lib\": \"https://cdn.jsdelivr.net/npm//vega-lib?noext\",\n",
              "      \"vega-lite\": \"https://cdn.jsdelivr.net/npm//vega-lite@4.8.1?noext\",\n",
              "      \"vega-embed\": \"https://cdn.jsdelivr.net/npm//vega-embed@6?noext\",\n",
              "    };\n",
              "\n",
              "    function loadScript(lib) {\n",
              "      return new Promise(function(resolve, reject) {\n",
              "        var s = document.createElement('script');\n",
              "        s.src = paths[lib];\n",
              "        s.async = true;\n",
              "        s.onload = () => resolve(paths[lib]);\n",
              "        s.onerror = () => reject(`Error loading script: ${paths[lib]}`);\n",
              "        document.getElementsByTagName(\"head\")[0].appendChild(s);\n",
              "      });\n",
              "    }\n",
              "\n",
              "    function showError(err) {\n",
              "      outputDiv.innerHTML = `<div class=\"error\" style=\"color:red;\">${err}</div>`;\n",
              "      throw err;\n",
              "    }\n",
              "\n",
              "    function displayChart(vegaEmbed) {\n",
              "      vegaEmbed(outputDiv, spec, embedOpt)\n",
              "        .catch(err => showError(`Javascript Error: ${err.message}<br>This usually means there's a typo in your chart specification. See the javascript console for the full traceback.`));\n",
              "    }\n",
              "\n",
              "    if(typeof define === \"function\" && define.amd) {\n",
              "      requirejs.config({paths});\n",
              "      require([\"vega-embed\"], displayChart, err => showError(`Error loading script: ${err.message}`));\n",
              "    } else if (typeof vegaEmbed === \"function\") {\n",
              "      displayChart(vegaEmbed);\n",
              "    } else {\n",
              "      loadScript(\"vega\")\n",
              "        .then(() => loadScript(\"vega-lite\"))\n",
              "        .then(() => loadScript(\"vega-embed\"))\n",
              "        .catch(showError)\n",
              "        .then(() => displayChart(vegaEmbed));\n",
              "    }\n",
              "  })({\"config\": {\"view\": {\"continuousWidth\": 400, \"continuousHeight\": 300}}, \"layer\": [{\"data\": {\"url\": \"https://dmws.hkvservices.nl/dataportal/data.asmx/read?database=vega&key=europe\", \"format\": {\"feature\": \"europe\", \"type\": \"topojson\"}}, \"mark\": {\"type\": \"geoshape\", \"fill\": \"lightgray\", \"stroke\": \"white\"}, \"encoding\": {}}, {\"data\": {\"name\": \"data-844b412509e27d49869ff43cebd404e0\"}, \"mark\": {\"type\": \"circle\", \"color\": \"black\"}, \"encoding\": {\"color\": {\"value\": \"black\"}, \"latitude\": {\"field\": \"Breddegrad\", \"type\": \"quantitative\"}, \"longitude\": {\"field\": \"L\\u00e6ngdegrad\", \"type\": \"quantitative\"}, \"size\": {\"type\": \"quantitative\", \"field\": \"m2\", \"scale\": {\"domain\": [0, 500], \"range\": [1, 5]}}, \"tooltip\": [{\"type\": \"nominal\", \"field\": \"Lagre\"}, {\"type\": \"nominal\", \"field\": \"By\"}, {\"type\": \"quantitative\", \"field\": \"Omsetning (milliarder)\"}, {\"type\": \"quantitative\", \"field\": \"Leveranse andel\"}, {\"type\": \"quantitative\", \"field\": \"Medarbeider\"}, {\"type\": \"nominal\", \"field\": \"Omr\\u00e5ter\"}, {\"type\": \"nominal\", \"field\": \"Andre omr\\u00e5ter\"}, {\"type\": \"quantitative\", \"field\": \"m2\"}, {\"type\": \"quantitative\", \"field\": \"Kunder\"}, {\"type\": \"nominal\", \"field\": \"varelinjer\"}, {\"type\": \"nominal\", \"field\": \"Kommentarer\"}]}}], \"height\": 600, \"projection\": {\"center\": [12, 65], \"scale\": 1000, \"type\": \"mercator\"}, \"title\": \"Asko varerlagre\", \"width\": 600, \"$schema\": \"https://vega.github.io/schema/vega-lite/v4.8.1.json\", \"datasets\": {\"data-844b412509e27d49869ff43cebd404e0\": [{\"Lagre\": \"ASKO AGDER AS\", \"Adresse\": \"Vestre Kystvei 191\", \"By\": \"4790 Lillesand\", \"Breddegrad\": 58.238958999999994, \"L\\u00e6ngdegrad\": 8.357583, \"Omsetning (milliarder)\": 4.5, \"Leveranse andel\": 0.05, \"Medarbeider\": 200.0, \"Omr\\u00e5ter\": \"Vest-Agder og Aust-Agder\", \"Andre omr\\u00e5ter\": null, \"m2\": 7000.0, \"Kunder\": null, \"varelinjer\": null, \"Kommentarer\": null}, {\"Lagre\": \"Regionslager Oslo/Akershus\", \"Adresse\": \"Nedre Kalbakkvei 22\", \"By\": \"0950 Oslo\", \"Breddegrad\": 59.945119999999996, \"L\\u00e6ngdegrad\": 10.865319, \"Omsetning (milliarder)\": 9.6, \"Leveranse andel\": 0.1, \"Medarbeider\": 250.0, \"Omr\\u00e5ter\": null, \"Andre omr\\u00e5ter\": null, \"m2\": 26605.0, \"Kunder\": \"200\", \"varelinjer\": null, \"Kommentarer\": null}, {\"Lagre\": \"ASKO DRAMMEN AS\", \"Adresse\": \"Industrig. 1\", \"By\": \"3414 Lierstranda\", \"Breddegrad\": 59.755888, \"L\\u00e6ngdegrad\": 10.258737, \"Omsetning (milliarder)\": 6.0, \"Leveranse andel\": 0.06, \"Medarbeider\": null, \"Omr\\u00e5ter\": \"Buskerud\", \"Andre omr\\u00e5ter\": \"Akershus/Vestfold/Telemark\", \"m2\": 16500.0, \"Kunder\": \"132\", \"varelinjer\": \"18000\", \"Kommentarer\": null}, {\"Lagre\": \"ASKO HEDMARK AS\", \"Adresse\": \"Skansvegen 5\", \"By\": \"2383 Brumunddal\", \"Breddegrad\": 60.89178100000001, \"L\\u00e6ngdegrad\": 10.916872999999999, \"Omsetning (milliarder)\": 6.2, \"Leveranse andel\": 0.06, \"Medarbeider\": null, \"Omr\\u00e5ter\": \"Innlandet, med tidligere Hedmark\", \"Andre omr\\u00e5ter\": \"deler av Oppland fylke\", \"m2\": 43000.0, \"Kunder\": \"1300\", \"varelinjer\": \"30 000\", \"Kommentarer\": null}, {\"Lagre\": \"ASKO MIDT-NORGE AS\", \"Adresse\": \"\\u00d8stre Rosten 104\", \"By\": \"7075 Tiller\", \"Breddegrad\": 63.345231000000005, \"L\\u00e6ngdegrad\": 10.375283, \"Omsetning (milliarder)\": 5.4, \"Leveranse andel\": 0.05, \"Medarbeider\": 220.0, \"Omr\\u00e5ter\": \"Tr\\u00f8ndelagsfylkene, Nordland opp til Hamar\\u00f8y.\", \"Andre omr\\u00e5ter\": \"Leveranser nord for Saltfjellet\", \"m2\": 27000.0, \"Kunder\": null, \"varelinjer\": \"30\\u00a0000\", \"Kommentarer\": null}, {\"Lagre\": \"ASKO MOLDE AS\", \"Adresse\": \"\\u00c5r\\u00f8seterveien 20\", \"By\": \"6422 Molde\", \"Breddegrad\": 62.771148, \"L\\u00e6ngdegrad\": 7.288469999999999, \"Omsetning (milliarder)\": 2.3, \"Leveranse andel\": 0.02, \"Medarbeider\": null, \"Omr\\u00e5ter\": \"Romsdal og Nordm\\u00f8re. Fra Vestnes kommune i s\\u00f8r til Sm\\u00f8la og\\u00a0Aure i Nord\", \"Andre omr\\u00e5ter\": \"Bjorli og Lesjaskog i Oppland fylke\", \"m2\": null, \"Kunder\": null, \"varelinjer\": \"30 000\", \"Kommentarer\": null}, {\"Lagre\": \"ASKO NORD AS\", \"Adresse\": \"Kjoselvmoen 84\", \"By\": \"9021 Tromsdalen\", \"Breddegrad\": 69.567258, \"L\\u00e6ngdegrad\": 19.14399, \"Omsetning (milliarder)\": 3.0, \"Leveranse andel\": 0.03, \"Medarbeider\": 170.0, \"Omr\\u00e5ter\": \"Lofoten og Ballangen i s\\u00f8r, til Honningsv\\u00e5g og Kirkenes i nord og \\u00f8st\", \"Andre omr\\u00e5ter\": null, \"m2\": 30000.0, \"Kunder\": null, \"varelinjer\": null, \"Kommentarer\": null}, {\"Lagre\": \"ASKO OPPLAND AS\", \"Adresse\": \"Markavegen 20\", \"By\": \"2920 Leira\", \"Breddegrad\": 60.971885, \"L\\u00e6ngdegrad\": 9.285233, \"Omsetning (milliarder)\": 1.6, \"Leveranse andel\": 0.02, \"Medarbeider\": 90.0, \"Omr\\u00e5ter\": \"Valdres, Hallingdal, Land, Numedal og Indre Sogn\", \"Andre omr\\u00e5ter\": null, \"m2\": 10500.0, \"Kunder\": \"750\", \"varelinjer\": \"Vestby +Oppeland: 30\\u00a0000\", \"Kommentarer\": null}, {\"Lagre\": \"ASKO OSLOFJORD AS\", \"Adresse\": \"Hanekleiva 76\", \"By\": \"3070 Sande i Vestfold\", \"Breddegrad\": 59.568992, \"L\\u00e6ngdegrad\": 10.194388, \"Omsetning (milliarder)\": 5.4, \"Leveranse andel\": 0.05, \"Medarbeider\": null, \"Omr\\u00e5ter\": \"Buskerud, \\u00d8stfold\", \"Andre omr\\u00e5ter\": \"del av Akershus, nordre del av Vestfold og nord-\\u00f8stre del av Telemark\", \"m2\": 27700.0, \"Kunder\": null, \"varelinjer\": \"OSLOFJORD+Vestby:  24 000\", \"Kommentarer\": \"automatisert\"}, {\"Lagre\": \"ASKO ROGALAND AS\", \"Adresse\": \"Skurvemarka 21\", \"By\": \"4330 \\u00c5lg\\u00e5rd\", \"Breddegrad\": 58.74329399999999, \"L\\u00e6ngdegrad\": 5.929957, \"Omsetning (milliarder)\": 5.7, \"Leveranse andel\": 0.06, \"Medarbeider\": 240.0, \"Omr\\u00e5ter\": \"Rogaland\", \"Andre omr\\u00e5ter\": null, \"m2\": 23661.0, \"Kunder\": null, \"varelinjer\": null, \"Kommentarer\": null}, {\"Lagre\": \"ASKO SENTRALLAGER AS\", \"Adresse\": \"Deliveien 33\", \"By\": \"1540 Vestby\", \"Breddegrad\": 59.58792, \"L\\u00e6ngdegrad\": 10.739936, \"Omsetning (milliarder)\": 12.0, \"Leveranse andel\": 0.12, \"Medarbeider\": 200.0, \"Omr\\u00e5ter\": null, \"Andre omr\\u00e5ter\": null, \"m2\": 28418.0, \"Kunder\": null, \"varelinjer\": null, \"Kommentarer\": \"h\\u00f8y grad av automasjon\"}, {\"Lagre\": \"ASKO TRANSPORT AS\", \"Adresse\": \"Deliveien 33\", \"By\": \"1540 Vestby\", \"Breddegrad\": 59.58863, \"L\\u00e6ngdegrad\": 10.742578, \"Omsetning (milliarder)\": 14.0, \"Leveranse andel\": 0.14, \"Medarbeider\": 200.0, \"Omr\\u00e5ter\": \"fire ASKO-selskap p\\u00e5 \\u00d8stlandet\", \"Andre omr\\u00e5ter\": null, \"m2\": 24000.0, \"Kunder\": null, \"varelinjer\": null, \"Kommentarer\": null}, {\"Lagre\": \"ASKO VEST AS\", \"Adresse\": \"Magnusvegen 10\", \"By\": \"5262 Arnatveit\", \"Breddegrad\": 60.398829000000006, \"L\\u00e6ngdegrad\": 5.468964, \"Omsetning (milliarder)\": 9.015, \"Leveranse andel\": 0.09, \"Medarbeider\": 450.0, \"Omr\\u00e5ter\": \"Kvinnherad og Stord i s\\u00f8r til Nordfjord i nord\", \"Andre omr\\u00e5ter\": \"de fleste i Vestland fylke\", \"m2\": 26164.0, \"Kunder\": null, \"varelinjer\": null, \"Kommentarer\": null}, {\"Lagre\": \"ASKO VESTFOLD-TELEMARK AS\", \"Adresse\": \"Hegdalveien 87\", \"By\": \"3261 Larvik\", \"Breddegrad\": 59.056711, \"L\\u00e6ngdegrad\": 10.074466000000001, \"Omsetning (milliarder)\": 6.0, \"Leveranse andel\": 0.06, \"Medarbeider\": 150.0, \"Omr\\u00e5ter\": \"Vestfold og Telemark\", \"Andre omr\\u00e5ter\": null, \"m2\": 26000.0, \"Kunder\": \"140\", \"varelinjer\": null, \"Kommentarer\": \"samlokalisert med BAMA Dagligvare Larvik\"}, {\"Lagre\": \"ASKO \\u00d8ST AS\", \"Adresse\": \"Delitoppen 4\", \"By\": \"1540 Vestby\", \"Breddegrad\": 59.589318999999996, \"L\\u00e6ngdegrad\": 10.744234, \"Omsetning (milliarder)\": 9.0, \"Leveranse andel\": 0.09, \"Medarbeider\": 400.0, \"Omr\\u00e5ter\": \"\\u00d8stlandsomr\\u00e5det\", \"Andre omr\\u00e5ter\": null, \"m2\": 28000.0, \"Kunder\": \"5 500\", \"varelinjer\": null, \"Kommentarer\": null}]}}, {\"mode\": \"vega-lite\"});\n",
              "</script>"
            ]
          },
          "metadata": {
            "tags": []
          },
          "execution_count": 43
        }
      ]
    },
    {
      "cell_type": "code",
      "metadata": {
        "id": "VMC0_mJ0Yspv"
      },
      "source": [
        ""
      ],
      "execution_count": null,
      "outputs": []
    }
  ]
}