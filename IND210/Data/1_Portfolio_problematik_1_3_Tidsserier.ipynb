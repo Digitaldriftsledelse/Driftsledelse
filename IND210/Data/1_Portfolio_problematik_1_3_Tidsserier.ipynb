{
  "nbformat": 4,
  "nbformat_minor": 0,
  "metadata": {
    "colab": {
      "name": "1_Portfolio problematik_1_3_Tidsserier.ipynb",
      "provenance": []
    },
    "kernelspec": {
      "name": "python3",
      "display_name": "Python 3"
    }
  },
  "cells": [
    {
      "cell_type": "markdown",
      "metadata": {
        "id": "c7Yob8ny64DJ"
      },
      "source": [
        "#1.Portfolio problematik"
      ]
    },
    {
      "cell_type": "markdown",
      "metadata": {
        "id": "SxmJdPg_sDYJ"
      },
      "source": [
        "##1.3 Tidsserier\r\n"
      ]
    },
    {
      "cell_type": "markdown",
      "metadata": {
        "id": "ErHZ-DAzSn6v"
      },
      "source": [
        "### 1.3.1 Angiv udvælgelseskriterier"
      ]
    },
    {
      "cell_type": "code",
      "metadata": {
        "colab": {
          "base_uri": "https://localhost:8080/",
          "height": 435
        },
        "id": "U-lhJX5BUioL",
        "outputId": "13b3da67-588b-48e5-aa77-ee55005635e9"
      },
      "source": [
        "#title Udetemperature \r\n",
        "import pandas as pd\r\n",
        "\r\n",
        "url='https://thredds.ucar.edu/thredds/ncss/grib/NCEP/GFS/Global_0p5deg/best?req=station&var=Apparent_temperature_height_above_ground&&latitude=60.70290856516992&longitude=10.867140671892406&time_start=2020-01-01T12:00:00-05:00&time_duration=PT3H&time_end=2021-02-20T12:00:00-05:00&vertCoord=2&accept=CSV' #Pressure_reduced_to_MSL_msl Albedo_surface_Mixed_intervals_Average\r\n",
        "temp  = pd.read_csv(url) \r\n",
        "\r\n",
        "temp.time = pd.to_datetime(temp.time, errors='coerce', format='%Y-%m-%d %H:%M:%S')\r\n",
        "temp.index=pd.to_datetime(temp['time']).dt.tz_localize(None)\r\n",
        "\r\n",
        "temp.drop(columns=['time','latitude[unit=\"degrees_north\"]','vertCoord[unit=\"m\"]','longitude[unit=\"degrees_east\"]'],inplace=True)\r\n",
        "temp=temp.rename(columns={temp.columns[0]: \"Apparent_temperature_height_above_ground\"})\r\n",
        "\r\n",
        "temp"
      ],
      "execution_count": null,
      "outputs": [
        {
          "output_type": "execute_result",
          "data": {
            "text/html": [
              "<div>\n",
              "<style scoped>\n",
              "    .dataframe tbody tr th:only-of-type {\n",
              "        vertical-align: middle;\n",
              "    }\n",
              "\n",
              "    .dataframe tbody tr th {\n",
              "        vertical-align: top;\n",
              "    }\n",
              "\n",
              "    .dataframe thead th {\n",
              "        text-align: right;\n",
              "    }\n",
              "</style>\n",
              "<table border=\"1\" class=\"dataframe\">\n",
              "  <thead>\n",
              "    <tr style=\"text-align: right;\">\n",
              "      <th></th>\n",
              "      <th>Apparent_temperature_height_above_ground</th>\n",
              "    </tr>\n",
              "    <tr>\n",
              "      <th>time</th>\n",
              "      <th></th>\n",
              "    </tr>\n",
              "  </thead>\n",
              "  <tbody>\n",
              "    <tr>\n",
              "      <th>2021-01-21 00:00:00</th>\n",
              "      <td>270.818024</td>\n",
              "    </tr>\n",
              "    <tr>\n",
              "      <th>2021-01-21 03:00:00</th>\n",
              "      <td>271.821320</td>\n",
              "    </tr>\n",
              "    <tr>\n",
              "      <th>2021-01-21 06:00:00</th>\n",
              "      <td>270.589050</td>\n",
              "    </tr>\n",
              "    <tr>\n",
              "      <th>2021-01-21 09:00:00</th>\n",
              "      <td>270.392548</td>\n",
              "    </tr>\n",
              "    <tr>\n",
              "      <th>2021-01-21 12:00:00</th>\n",
              "      <td>269.969330</td>\n",
              "    </tr>\n",
              "    <tr>\n",
              "      <th>...</th>\n",
              "      <td>...</td>\n",
              "    </tr>\n",
              "    <tr>\n",
              "      <th>2021-02-20 03:00:00</th>\n",
              "      <td>270.100006</td>\n",
              "    </tr>\n",
              "    <tr>\n",
              "      <th>2021-02-20 06:00:00</th>\n",
              "      <td>270.027039</td>\n",
              "    </tr>\n",
              "    <tr>\n",
              "      <th>2021-02-20 09:00:00</th>\n",
              "      <td>270.090454</td>\n",
              "    </tr>\n",
              "    <tr>\n",
              "      <th>2021-02-20 12:00:00</th>\n",
              "      <td>270.652100</td>\n",
              "    </tr>\n",
              "    <tr>\n",
              "      <th>2021-02-20 15:00:00</th>\n",
              "      <td>272.314697</td>\n",
              "    </tr>\n",
              "  </tbody>\n",
              "</table>\n",
              "<p>246 rows × 1 columns</p>\n",
              "</div>"
            ],
            "text/plain": [
              "                     Apparent_temperature_height_above_ground\n",
              "time                                                         \n",
              "2021-01-21 00:00:00                                270.818024\n",
              "2021-01-21 03:00:00                                271.821320\n",
              "2021-01-21 06:00:00                                270.589050\n",
              "2021-01-21 09:00:00                                270.392548\n",
              "2021-01-21 12:00:00                                269.969330\n",
              "...                                                       ...\n",
              "2021-02-20 03:00:00                                270.100006\n",
              "2021-02-20 06:00:00                                270.027039\n",
              "2021-02-20 09:00:00                                270.090454\n",
              "2021-02-20 12:00:00                                270.652100\n",
              "2021-02-20 15:00:00                                272.314697\n",
              "\n",
              "[246 rows x 1 columns]"
            ]
          },
          "metadata": {
            "tags": []
          },
          "execution_count": 368
        }
      ]
    },
    {
      "cell_type": "code",
      "metadata": {
        "colab": {
          "base_uri": "https://localhost:8080/",
          "height": 435
        },
        "id": "k156b690U0kH",
        "outputId": "85950eb6-43d2-4fe5-c3e9-a01b9fe44dd3"
      },
      "source": [
        "#title Udetemperature \r\n",
        "import pandas as pd\r\n",
        "\r\n",
        "url='https://thredds.ucar.edu/thredds/ncss/grib/NCEP/GFS/Global_0p5deg/best?req=station&var=Wind_speed_gust_surface&latitude=60.70290856516992&longitude=10.867140671892406&time_start=2020-01-01T12:00:00-05:00&time_duration=PT3H&time_end=2021-02-20T12:00:00-05:00&vertCoord=2&accept=CSV' #Pressure_reduced_to_MSL_msl Albedo_surface_Mixed_intervals_Average\r\n",
        "wind  = pd.read_csv(url) \r\n",
        "\r\n",
        "wind.time = pd.to_datetime(wind.time, errors='coerce', format='%Y-%m-%d %H:%M:%S')\r\n",
        "wind.index=pd.to_datetime(wind['time']).dt.tz_localize(None)\r\n",
        "\r\n",
        "\r\n",
        "wind.drop(columns=['time','latitude[unit=\"degrees_north\"]','longitude[unit=\"degrees_east\"]'],inplace=True)\r\n",
        "wind=wind.rename(columns={wind.columns[0]: \"Wind_speed_gust_surface\"})\r\n",
        "\r\n",
        "wind"
      ],
      "execution_count": null,
      "outputs": [
        {
          "output_type": "execute_result",
          "data": {
            "text/html": [
              "<div>\n",
              "<style scoped>\n",
              "    .dataframe tbody tr th:only-of-type {\n",
              "        vertical-align: middle;\n",
              "    }\n",
              "\n",
              "    .dataframe tbody tr th {\n",
              "        vertical-align: top;\n",
              "    }\n",
              "\n",
              "    .dataframe thead th {\n",
              "        text-align: right;\n",
              "    }\n",
              "</style>\n",
              "<table border=\"1\" class=\"dataframe\">\n",
              "  <thead>\n",
              "    <tr style=\"text-align: right;\">\n",
              "      <th></th>\n",
              "      <th>Wind_speed_gust_surface</th>\n",
              "    </tr>\n",
              "    <tr>\n",
              "      <th>time</th>\n",
              "      <th></th>\n",
              "    </tr>\n",
              "  </thead>\n",
              "  <tbody>\n",
              "    <tr>\n",
              "      <th>2021-01-21 00:00:00</th>\n",
              "      <td>1.152403</td>\n",
              "    </tr>\n",
              "    <tr>\n",
              "      <th>2021-01-21 03:00:00</th>\n",
              "      <td>1.035579</td>\n",
              "    </tr>\n",
              "    <tr>\n",
              "      <th>2021-01-21 06:00:00</th>\n",
              "      <td>11.229738</td>\n",
              "    </tr>\n",
              "    <tr>\n",
              "      <th>2021-01-21 09:00:00</th>\n",
              "      <td>10.212110</td>\n",
              "    </tr>\n",
              "    <tr>\n",
              "      <th>2021-01-21 12:00:00</th>\n",
              "      <td>12.455297</td>\n",
              "    </tr>\n",
              "    <tr>\n",
              "      <th>...</th>\n",
              "      <td>...</td>\n",
              "    </tr>\n",
              "    <tr>\n",
              "      <th>2021-02-20 03:00:00</th>\n",
              "      <td>13.630651</td>\n",
              "    </tr>\n",
              "    <tr>\n",
              "      <th>2021-02-20 06:00:00</th>\n",
              "      <td>14.165317</td>\n",
              "    </tr>\n",
              "    <tr>\n",
              "      <th>2021-02-20 09:00:00</th>\n",
              "      <td>13.053370</td>\n",
              "    </tr>\n",
              "    <tr>\n",
              "      <th>2021-02-20 12:00:00</th>\n",
              "      <td>13.532191</td>\n",
              "    </tr>\n",
              "    <tr>\n",
              "      <th>2021-02-20 15:00:00</th>\n",
              "      <td>9.833261</td>\n",
              "    </tr>\n",
              "  </tbody>\n",
              "</table>\n",
              "<p>246 rows × 1 columns</p>\n",
              "</div>"
            ],
            "text/plain": [
              "                     Wind_speed_gust_surface\n",
              "time                                        \n",
              "2021-01-21 00:00:00                 1.152403\n",
              "2021-01-21 03:00:00                 1.035579\n",
              "2021-01-21 06:00:00                11.229738\n",
              "2021-01-21 09:00:00                10.212110\n",
              "2021-01-21 12:00:00                12.455297\n",
              "...                                      ...\n",
              "2021-02-20 03:00:00                13.630651\n",
              "2021-02-20 06:00:00                14.165317\n",
              "2021-02-20 09:00:00                13.053370\n",
              "2021-02-20 12:00:00                13.532191\n",
              "2021-02-20 15:00:00                 9.833261\n",
              "\n",
              "[246 rows x 1 columns]"
            ]
          },
          "metadata": {
            "tags": []
          },
          "execution_count": 366
        }
      ]
    },
    {
      "cell_type": "code",
      "metadata": {
        "colab": {
          "base_uri": "https://localhost:8080/",
          "height": 435
        },
        "id": "EtWcXjxvVDet",
        "outputId": "6f983d9d-b89b-4677-f1b0-6450cdc45f08"
      },
      "source": [
        "import pandas as pd\r\n",
        "\r\n",
        "url='https://thredds.ucar.edu/thredds/ncss/grib/NCEP/GFS/Global_0p5deg/best?req=station&var=Precipitable_water_entire_atmosphere_single_layer&&latitude=60.70290856516992&longitude=10.867140671892406&time_start=2020-01-01T12:00:00-05:00&time_duration=PT3H&time_end=2021-02-20T12:00:00-05:00&vertCoord=2&accept=CSV' #Pressure_reduced_to_MSL_msl Albedo_surface_Mixed_intervals_Average\r\n",
        "water  = pd.read_csv(url) \r\n",
        "\r\n",
        "\r\n",
        "water.time = pd.to_datetime(water.time, errors='coerce', format='%Y-%m-%d %H:%M:%S')\r\n",
        "water.index=pd.to_datetime(water['time']).dt.tz_localize(None)\r\n",
        "\r\n",
        "water=water.rename(columns={water.columns[3]: \"Precipitable_water_entire_atmosphere_single_layer\"})\r\n",
        "water.drop(columns=['time','latitude[unit=\"degrees_north\"]','longitude[unit=\"degrees_east\"]'],inplace=True)\r\n",
        "\r\n",
        "water"
      ],
      "execution_count": null,
      "outputs": [
        {
          "output_type": "execute_result",
          "data": {
            "text/html": [
              "<div>\n",
              "<style scoped>\n",
              "    .dataframe tbody tr th:only-of-type {\n",
              "        vertical-align: middle;\n",
              "    }\n",
              "\n",
              "    .dataframe tbody tr th {\n",
              "        vertical-align: top;\n",
              "    }\n",
              "\n",
              "    .dataframe thead th {\n",
              "        text-align: right;\n",
              "    }\n",
              "</style>\n",
              "<table border=\"1\" class=\"dataframe\">\n",
              "  <thead>\n",
              "    <tr style=\"text-align: right;\">\n",
              "      <th></th>\n",
              "      <th>Precipitable_water_entire_atmosphere_single_layer</th>\n",
              "    </tr>\n",
              "    <tr>\n",
              "      <th>time</th>\n",
              "      <th></th>\n",
              "    </tr>\n",
              "  </thead>\n",
              "  <tbody>\n",
              "    <tr>\n",
              "      <th>2021-01-21 00:00:00</th>\n",
              "      <td>13.839948</td>\n",
              "    </tr>\n",
              "    <tr>\n",
              "      <th>2021-01-21 03:00:00</th>\n",
              "      <td>14.300000</td>\n",
              "    </tr>\n",
              "    <tr>\n",
              "      <th>2021-01-21 06:00:00</th>\n",
              "      <td>13.191058</td>\n",
              "    </tr>\n",
              "    <tr>\n",
              "      <th>2021-01-21 09:00:00</th>\n",
              "      <td>12.568316</td>\n",
              "    </tr>\n",
              "    <tr>\n",
              "      <th>2021-01-21 12:00:00</th>\n",
              "      <td>12.133615</td>\n",
              "    </tr>\n",
              "    <tr>\n",
              "      <th>...</th>\n",
              "      <td>...</td>\n",
              "    </tr>\n",
              "    <tr>\n",
              "      <th>2021-02-20 03:00:00</th>\n",
              "      <td>14.500000</td>\n",
              "    </tr>\n",
              "    <tr>\n",
              "      <th>2021-02-20 06:00:00</th>\n",
              "      <td>15.500000</td>\n",
              "    </tr>\n",
              "    <tr>\n",
              "      <th>2021-02-20 09:00:00</th>\n",
              "      <td>15.300000</td>\n",
              "    </tr>\n",
              "    <tr>\n",
              "      <th>2021-02-20 12:00:00</th>\n",
              "      <td>15.738913</td>\n",
              "    </tr>\n",
              "    <tr>\n",
              "      <th>2021-02-20 15:00:00</th>\n",
              "      <td>15.000000</td>\n",
              "    </tr>\n",
              "  </tbody>\n",
              "</table>\n",
              "<p>246 rows × 1 columns</p>\n",
              "</div>"
            ],
            "text/plain": [
              "                     Precipitable_water_entire_atmosphere_single_layer\n",
              "time                                                                  \n",
              "2021-01-21 00:00:00                                          13.839948\n",
              "2021-01-21 03:00:00                                          14.300000\n",
              "2021-01-21 06:00:00                                          13.191058\n",
              "2021-01-21 09:00:00                                          12.568316\n",
              "2021-01-21 12:00:00                                          12.133615\n",
              "...                                                                ...\n",
              "2021-02-20 03:00:00                                          14.500000\n",
              "2021-02-20 06:00:00                                          15.500000\n",
              "2021-02-20 09:00:00                                          15.300000\n",
              "2021-02-20 12:00:00                                          15.738913\n",
              "2021-02-20 15:00:00                                          15.000000\n",
              "\n",
              "[246 rows x 1 columns]"
            ]
          },
          "metadata": {
            "tags": []
          },
          "execution_count": 383
        }
      ]
    },
    {
      "cell_type": "markdown",
      "metadata": {
        "id": "FyNCYJE1YZe3"
      },
      "source": [
        "### 1.3.2 Vælg tabeller / filer af interesse"
      ]
    },
    {
      "cell_type": "code",
      "metadata": {
        "colab": {
          "base_uri": "https://localhost:8080/",
          "height": 227
        },
        "id": "27-Bk1wLVFlo",
        "outputId": "04174124-9ae1-442c-89fa-9caf095caa98"
      },
      "source": [
        "source=pd.concat([wind, temp, water],axis=1).resample('D').mean() #.resample('3H').interpolate(method='linear', limit_direction='both') #\r\n",
        "source['time']=source.index\r\n",
        "source.head()"
      ],
      "execution_count": null,
      "outputs": [
        {
          "output_type": "execute_result",
          "data": {
            "text/html": [
              "<div>\n",
              "<style scoped>\n",
              "    .dataframe tbody tr th:only-of-type {\n",
              "        vertical-align: middle;\n",
              "    }\n",
              "\n",
              "    .dataframe tbody tr th {\n",
              "        vertical-align: top;\n",
              "    }\n",
              "\n",
              "    .dataframe thead th {\n",
              "        text-align: right;\n",
              "    }\n",
              "</style>\n",
              "<table border=\"1\" class=\"dataframe\">\n",
              "  <thead>\n",
              "    <tr style=\"text-align: right;\">\n",
              "      <th></th>\n",
              "      <th>Wind_speed_gust_surface</th>\n",
              "      <th>Apparent_temperature_height_above_ground</th>\n",
              "      <th>Precipitable_water_entire_atmosphere_single_layer</th>\n",
              "      <th>time</th>\n",
              "    </tr>\n",
              "    <tr>\n",
              "      <th>time</th>\n",
              "      <th></th>\n",
              "      <th></th>\n",
              "      <th></th>\n",
              "      <th></th>\n",
              "    </tr>\n",
              "  </thead>\n",
              "  <tbody>\n",
              "    <tr>\n",
              "      <th>2021-01-21</th>\n",
              "      <td>10.109341</td>\n",
              "      <td>269.403122</td>\n",
              "      <td>11.291901</td>\n",
              "      <td>2021-01-21</td>\n",
              "    </tr>\n",
              "    <tr>\n",
              "      <th>2021-01-22</th>\n",
              "      <td>11.904595</td>\n",
              "      <td>268.299580</td>\n",
              "      <td>8.017499</td>\n",
              "      <td>2021-01-22</td>\n",
              "    </tr>\n",
              "    <tr>\n",
              "      <th>2021-01-23</th>\n",
              "      <td>7.353297</td>\n",
              "      <td>268.063911</td>\n",
              "      <td>6.210155</td>\n",
              "      <td>2021-01-23</td>\n",
              "    </tr>\n",
              "    <tr>\n",
              "      <th>2021-01-24</th>\n",
              "      <td>1.188857</td>\n",
              "      <td>265.008099</td>\n",
              "      <td>5.031890</td>\n",
              "      <td>2021-01-24</td>\n",
              "    </tr>\n",
              "    <tr>\n",
              "      <th>2021-01-25</th>\n",
              "      <td>2.495732</td>\n",
              "      <td>259.262180</td>\n",
              "      <td>4.028526</td>\n",
              "      <td>2021-01-25</td>\n",
              "    </tr>\n",
              "  </tbody>\n",
              "</table>\n",
              "</div>"
            ],
            "text/plain": [
              "            Wind_speed_gust_surface  ...       time\n",
              "time                                 ...           \n",
              "2021-01-21                10.109341  ... 2021-01-21\n",
              "2021-01-22                11.904595  ... 2021-01-22\n",
              "2021-01-23                 7.353297  ... 2021-01-23\n",
              "2021-01-24                 1.188857  ... 2021-01-24\n",
              "2021-01-25                 2.495732  ... 2021-01-25\n",
              "\n",
              "[5 rows x 4 columns]"
            ]
          },
          "metadata": {
            "tags": []
          },
          "execution_count": 485
        }
      ]
    },
    {
      "cell_type": "markdown",
      "metadata": {
        "id": "dGAGRlk8YXAd"
      },
      "source": [
        "### 1.3.3 Vælg data i en tabel / fil"
      ]
    },
    {
      "cell_type": "code",
      "metadata": {
        "colab": {
          "base_uri": "https://localhost:8080/",
          "height": 426
        },
        "id": "UpA8jvtRYV1R",
        "outputId": "0aa39de7-0cc7-4c96-d2ea-5ef76c6d0481"
      },
      "source": [
        "import altair as alt\r\n",
        "\r\n",
        "alt.Chart(source.dropna()).mark_line().transform_fold(list(source.columns.drop('time'))).encode(\r\n",
        "    x='time:T',\r\n",
        "    y='value:Q',\r\n",
        "    color='key:N',\r\n",
        "    tooltip=['value:Q','key:N']\r\n",
        ").facet(\r\n",
        "    column='key:N'\r\n",
        ").resolve_scale(y='independent')"
      ],
      "execution_count": null,
      "outputs": [
        {
          "output_type": "execute_result",
          "data": {
            "text/plain": [
              "alt.FacetChart(...)"
            ],
            "text/html": [
              "\n",
              "<div id=\"altair-viz-20d97b1b500144969b9765bcb850a76d\"></div>\n",
              "<script type=\"text/javascript\">\n",
              "  (function(spec, embedOpt){\n",
              "    let outputDiv = document.currentScript.previousElementSibling;\n",
              "    if (outputDiv.id !== \"altair-viz-20d97b1b500144969b9765bcb850a76d\") {\n",
              "      outputDiv = document.getElementById(\"altair-viz-20d97b1b500144969b9765bcb850a76d\");\n",
              "    }\n",
              "    const paths = {\n",
              "      \"vega\": \"https://cdn.jsdelivr.net/npm//vega@5?noext\",\n",
              "      \"vega-lib\": \"https://cdn.jsdelivr.net/npm//vega-lib?noext\",\n",
              "      \"vega-lite\": \"https://cdn.jsdelivr.net/npm//vega-lite@4.8.1?noext\",\n",
              "      \"vega-embed\": \"https://cdn.jsdelivr.net/npm//vega-embed@6?noext\",\n",
              "    };\n",
              "\n",
              "    function loadScript(lib) {\n",
              "      return new Promise(function(resolve, reject) {\n",
              "        var s = document.createElement('script');\n",
              "        s.src = paths[lib];\n",
              "        s.async = true;\n",
              "        s.onload = () => resolve(paths[lib]);\n",
              "        s.onerror = () => reject(`Error loading script: ${paths[lib]}`);\n",
              "        document.getElementsByTagName(\"head\")[0].appendChild(s);\n",
              "      });\n",
              "    }\n",
              "\n",
              "    function showError(err) {\n",
              "      outputDiv.innerHTML = `<div class=\"error\" style=\"color:red;\">${err}</div>`;\n",
              "      throw err;\n",
              "    }\n",
              "\n",
              "    function displayChart(vegaEmbed) {\n",
              "      vegaEmbed(outputDiv, spec, embedOpt)\n",
              "        .catch(err => showError(`Javascript Error: ${err.message}<br>This usually means there's a typo in your chart specification. See the javascript console for the full traceback.`));\n",
              "    }\n",
              "\n",
              "    if(typeof define === \"function\" && define.amd) {\n",
              "      requirejs.config({paths});\n",
              "      require([\"vega-embed\"], displayChart, err => showError(`Error loading script: ${err.message}`));\n",
              "    } else if (typeof vegaEmbed === \"function\") {\n",
              "      displayChart(vegaEmbed);\n",
              "    } else {\n",
              "      loadScript(\"vega\")\n",
              "        .then(() => loadScript(\"vega-lite\"))\n",
              "        .then(() => loadScript(\"vega-embed\"))\n",
              "        .catch(showError)\n",
              "        .then(() => displayChart(vegaEmbed));\n",
              "    }\n",
              "  })({\"config\": {\"view\": {\"continuousWidth\": 400, \"continuousHeight\": 300}}, \"data\": {\"name\": \"data-5e7bd8879895a8acf1057d2b0d906a6d\"}, \"facet\": {\"column\": {\"type\": \"nominal\", \"field\": \"key\"}}, \"spec\": {\"mark\": \"line\", \"encoding\": {\"color\": {\"type\": \"nominal\", \"field\": \"key\"}, \"tooltip\": [{\"type\": \"quantitative\", \"field\": \"value\"}, {\"type\": \"nominal\", \"field\": \"key\"}], \"x\": {\"type\": \"temporal\", \"field\": \"time\"}, \"y\": {\"type\": \"quantitative\", \"field\": \"value\"}}, \"transform\": [{\"fold\": [\"Wind_speed_gust_surface\", \"Apparent_temperature_height_above_ground\", \"Precipitable_water_entire_atmosphere_single_layer\"]}]}, \"resolve\": {\"scale\": {\"y\": \"independent\"}}, \"$schema\": \"https://vega.github.io/schema/vega-lite/v4.8.1.json\", \"datasets\": {\"data-5e7bd8879895a8acf1057d2b0d906a6d\": [{\"Wind_speed_gust_surface\": 10.10934068262577, \"Apparent_temperature_height_above_ground\": 269.4031219482422, \"Precipitable_water_entire_atmosphere_single_layer\": 11.291901171207428, \"time\": \"2021-01-21T00:00:00\"}, {\"Wind_speed_gust_surface\": 11.904594868421555, \"Apparent_temperature_height_above_ground\": 268.2995796203613, \"Precipitable_water_entire_atmosphere_single_layer\": 8.01749873161316, \"time\": \"2021-01-22T00:00:00\"}, {\"Wind_speed_gust_surface\": 7.353297367691994, \"Apparent_temperature_height_above_ground\": 268.0639114379883, \"Precipitable_water_entire_atmosphere_single_layer\": 6.210154682397842, \"time\": \"2021-01-23T00:00:00\"}, {\"Wind_speed_gust_surface\": 1.1888569556176662, \"Apparent_temperature_height_above_ground\": 265.0080986022949, \"Precipitable_water_entire_atmosphere_single_layer\": 5.031890392303467, \"time\": \"2021-01-24T00:00:00\"}, {\"Wind_speed_gust_surface\": 2.495732456445694, \"Apparent_temperature_height_above_ground\": 259.26218032836914, \"Precipitable_water_entire_atmosphere_single_layer\": 4.028526127338409, \"time\": \"2021-01-25T00:00:00\"}, {\"Wind_speed_gust_surface\": 2.0811325758695602, \"Apparent_temperature_height_above_ground\": 258.6637191772461, \"Precipitable_water_entire_atmosphere_single_layer\": 2.862500011920929, \"time\": \"2021-01-26T00:00:00\"}, {\"Wind_speed_gust_surface\": 2.472909986972809, \"Apparent_temperature_height_above_ground\": 258.6181449890137, \"Precipitable_water_entire_atmosphere_single_layer\": 4.034783959388733, \"time\": \"2021-01-27T00:00:00\"}, {\"Wind_speed_gust_surface\": 1.745940461754799, \"Apparent_temperature_height_above_ground\": 258.53315925598145, \"Precipitable_water_entire_atmosphere_single_layer\": 3.5015968084335327, \"time\": \"2021-01-28T00:00:00\"}, {\"Wind_speed_gust_surface\": 0.9538648501038551, \"Apparent_temperature_height_above_ground\": 257.7523422241211, \"Precipitable_water_entire_atmosphere_single_layer\": 2.9143109023571014, \"time\": \"2021-01-29T00:00:00\"}, {\"Wind_speed_gust_surface\": 2.2371331453323364, \"Apparent_temperature_height_above_ground\": 257.1396026611328, \"Precipitable_water_entire_atmosphere_single_layer\": 3.5584923326969147, \"time\": \"2021-01-30T00:00:00\"}, {\"Wind_speed_gust_surface\": 2.028824955224991, \"Apparent_temperature_height_above_ground\": 258.6612777709961, \"Precipitable_water_entire_atmosphere_single_layer\": 3.274999976158142, \"time\": \"2021-01-31T00:00:00\"}, {\"Wind_speed_gust_surface\": 1.2599026262760162, \"Apparent_temperature_height_above_ground\": 258.0020866394043, \"Precipitable_water_entire_atmosphere_single_layer\": 3.381205916404724, \"time\": \"2021-02-01T00:00:00\"}, {\"Wind_speed_gust_surface\": 2.589179053902626, \"Apparent_temperature_height_above_ground\": 255.4856243133545, \"Precipitable_water_entire_atmosphere_single_layer\": 3.6176043450832367, \"time\": \"2021-02-02T00:00:00\"}, {\"Wind_speed_gust_surface\": 2.5309104919433594, \"Apparent_temperature_height_above_ground\": 255.1528148651123, \"Precipitable_water_entire_atmosphere_single_layer\": 3.2874999940395355, \"time\": \"2021-02-03T00:00:00\"}, {\"Wind_speed_gust_surface\": 4.716012060642242, \"Apparent_temperature_height_above_ground\": 252.1378517150879, \"Precipitable_water_entire_atmosphere_single_layer\": 2.421470195055008, \"time\": \"2021-02-04T00:00:00\"}, {\"Wind_speed_gust_surface\": 5.251996546983719, \"Apparent_temperature_height_above_ground\": 254.39719200134277, \"Precipitable_water_entire_atmosphere_single_layer\": 3.6269474923610687, \"time\": \"2021-02-05T00:00:00\"}, {\"Wind_speed_gust_surface\": 3.1707859337329865, \"Apparent_temperature_height_above_ground\": 254.67394256591797, \"Precipitable_water_entire_atmosphere_single_layer\": 3.0263960361480713, \"time\": \"2021-02-06T00:00:00\"}, {\"Wind_speed_gust_surface\": 3.5771742165088654, \"Apparent_temperature_height_above_ground\": 254.0487232208252, \"Precipitable_water_entire_atmosphere_single_layer\": 2.6925934851169586, \"time\": \"2021-02-07T00:00:00\"}, {\"Wind_speed_gust_surface\": 4.6037969291210175, \"Apparent_temperature_height_above_ground\": 254.7750129699707, \"Precipitable_water_entire_atmosphere_single_layer\": 3.203059107065201, \"time\": \"2021-02-08T00:00:00\"}, {\"Wind_speed_gust_surface\": 3.765377312898636, \"Apparent_temperature_height_above_ground\": 254.6196994781494, \"Precipitable_water_entire_atmosphere_single_layer\": 2.3250000178813934, \"time\": \"2021-02-09T00:00:00\"}, {\"Wind_speed_gust_surface\": 4.484085112810135, \"Apparent_temperature_height_above_ground\": 255.116117477417, \"Precipitable_water_entire_atmosphere_single_layer\": 2.758252501487732, \"time\": \"2021-02-10T00:00:00\"}, {\"Wind_speed_gust_surface\": 4.025008291006088, \"Apparent_temperature_height_above_ground\": 252.72005081176758, \"Precipitable_water_entire_atmosphere_single_layer\": 1.9638203382492065, \"time\": \"2021-02-11T00:00:00\"}, {\"Wind_speed_gust_surface\": 3.021269142627716, \"Apparent_temperature_height_above_ground\": 256.5819435119629, \"Precipitable_water_entire_atmosphere_single_layer\": 2.249944120645523, \"time\": \"2021-02-12T00:00:00\"}, {\"Wind_speed_gust_surface\": 2.4588178396224976, \"Apparent_temperature_height_above_ground\": 256.8990287780762, \"Precipitable_water_entire_atmosphere_single_layer\": 1.9841339364647865, \"time\": \"2021-02-13T00:00:00\"}, {\"Wind_speed_gust_surface\": 1.5433739367872477, \"Apparent_temperature_height_above_ground\": 259.44567108154297, \"Precipitable_water_entire_atmosphere_single_layer\": 1.711488738656044, \"time\": \"2021-02-14T00:00:00\"}, {\"Wind_speed_gust_surface\": 3.6708904802799225, \"Apparent_temperature_height_above_ground\": 260.2472114562988, \"Precipitable_water_entire_atmosphere_single_layer\": 6.658387750387192, \"time\": \"2021-02-15T00:00:00\"}, {\"Wind_speed_gust_surface\": 1.276739478111267, \"Apparent_temperature_height_above_ground\": 262.9345474243164, \"Precipitable_water_entire_atmosphere_single_layer\": 6.764379680156708, \"time\": \"2021-02-16T00:00:00\"}, {\"Wind_speed_gust_surface\": 3.8673983216285706, \"Apparent_temperature_height_above_ground\": 263.66654205322266, \"Precipitable_water_entire_atmosphere_single_layer\": 8.044114768505096, \"time\": \"2021-02-17T00:00:00\"}, {\"Wind_speed_gust_surface\": 4.157398745417595, \"Apparent_temperature_height_above_ground\": 263.1222114562988, \"Precipitable_water_entire_atmosphere_single_layer\": 8.90640902519226, \"time\": \"2021-02-18T00:00:00\"}, {\"Wind_speed_gust_surface\": 1.2258860170841217, \"Apparent_temperature_height_above_ground\": 268.9328384399414, \"Precipitable_water_entire_atmosphere_single_layer\": 8.79414987564087, \"time\": \"2021-02-19T00:00:00\"}, {\"Wind_speed_gust_surface\": 12.591426213582357, \"Apparent_temperature_height_above_ground\": 270.16404724121094, \"Precipitable_water_entire_atmosphere_single_layer\": 14.923152128855387, \"time\": \"2021-02-20T00:00:00\"}]}}, {\"mode\": \"vega-lite\"});\n",
              "</script>"
            ]
          },
          "metadata": {
            "tags": []
          },
          "execution_count": 399
        }
      ]
    }
  ]
}