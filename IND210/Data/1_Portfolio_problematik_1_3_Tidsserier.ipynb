{
  "nbformat": 4,
  "nbformat_minor": 0,
  "metadata": {
    "colab": {
      "name": "1_Portfolio problematik_1_3_Tidsserier.ipynb",
      "provenance": [],
      "collapsed_sections": []
    },
    "kernelspec": {
      "name": "python3",
      "display_name": "Python 3"
    }
  },
  "cells": [
    {
      "cell_type": "markdown",
      "metadata": {
        "id": "Ew9so8DKwFoK"
      },
      "source": [
        "\n",
        "<img align=\"left\" style=\"padding-right:100px;\" src=\"http://pvexpect.com/Driftsledelse/Dagligvarer/nmbu.png\">\n",
        "\n",
        "  **Digital Driftsledelse - IND210**\n",
        "\n",
        " Jesper Ørntoft Frausig, 2021\n"
      ]
    },
    {
      "cell_type": "markdown",
      "metadata": {
        "id": "6ZTqHyS_wHtL"
      },
      "source": [
        "#Øvelse - Tidsserier"
      ]
    },
    {
      "cell_type": "markdown",
      "metadata": {
        "id": "IpFWvNGHeNOq"
      },
      "source": [
        "\n",
        "**[Introduksjon](#Introduksjon)**\n",
        "- [Trin 1](#Trin_1) - Importer pandas\n",
        "- [Trin 2](#Trin_2) - Hent værdata fra et API \n",
        "- [Trin 3](#Trin_3) -  Tidsformatere tidskolonne\n",
        "- [Trin 4](#Trin_4)  - Fjerne tidssonen \n",
        "- [Trin 5](#Trin_5)  - Fjern unødvendige kolonner\n",
        "- [Trin 6](#Trin_6)  - Omnavngiv kolonner\n",
        "- [Trin 7](#Trin_7) - fletter datasettene\n",
        "- [Trin 8](#Trin_8) - Vis data i graf\n",
        "\n",
        "\n",
        "**[Hva har jeg lært](#lærdom)**\n",
        "\n",
        "**[Begreber](#Begreber)**\n",
        "\n",
        "\n",
        "\n",
        "\n",
        "\n",
        "\n",
        "\n",
        "\n",
        "\n",
        "\n",
        "\n",
        "\n",
        "\n",
        "\n",
        "\n",
        "<br></br>\n",
        "<br></br>\n",
        "<br></br>\n",
        "<br></br>\n",
        "<br></br>\n",
        "\n",
        "\n"
      ]
    },
    {
      "cell_type": "markdown",
      "metadata": {
        "id": "QZyO6Mz5j7vb"
      },
      "source": [
        "<a name=\"Introduksjon\"></a>\n",
        "\n",
        "#**Introduksjon**"
      ]
    },
    {
      "cell_type": "markdown",
      "metadata": {
        "id": "vb74oaz32WTM"
      },
      "source": [
        "\n",
        "\n",
        "Vi henter og forbereder data fra et vær-API, kalt THREDDS Data Server og Nibio værstasjoner"
      ]
    },
    {
      "cell_type": "markdown",
      "metadata": {
        "id": "WaF13AOc1LKr"
      },
      "source": [
        "\n",
        "\n",
        "> Hva vil du lære i følgende øvelse:\n",
        "* [ ] Hvordan du importerer pandaer\n",
        "* [ ] Hvordan du henter data fra en API\n",
        "* [ ] Hvordan du formaterer data\n",
        "* [ ] Hvordan du fjerner tidssonen\n",
        "* [ ] Hvordan du fjerner unødvendige kolonner\n",
        "* [ ] Hvordan du endrer kolonner\n",
        "\n"
      ]
    },
    {
      "cell_type": "markdown",
      "metadata": {
        "id": "1ODohShV9cdO"
      },
      "source": [
        "<a name=\"Trin_1\"></a>\n",
        "##**Trin 1** - Importer pandas"
      ]
    },
    {
      "cell_type": "markdown",
      "metadata": {
        "id": "94KNPyEKedna"
      },
      "source": [
        "Først importeres pandaer (vennligst sjekk [Hent bibliotekker](#Hent_bibliotekker_med_verktøyer) ), å kunne bruke pandabiblioteket til dataanalyse.\n",
        "\n",
        "\n",
        "```\n",
        "import pandas as pd\n",
        "```\n",
        "\n"
      ]
    },
    {
      "cell_type": "code",
      "metadata": {
        "id": "7lMaInKzeefv"
      },
      "source": [
        "import pandas as pd"
      ],
      "execution_count": 1,
      "outputs": []
    },
    {
      "cell_type": "markdown",
      "metadata": {
        "id": "uKUt2Mn2gwlo"
      },
      "source": [
        "<a name=\"Trin_2\"></a>\n",
        "##**Trin 2** -  henter værdata fra et API "
      ]
    },
    {
      "cell_type": "markdown",
      "metadata": {
        "id": "H7HTiDGsd9yQ"
      },
      "source": [
        "\n",
        "Vi henter værdata fra et API (Sjekk vennligst  [Les_fra_API](#Les_fra_API) )\n",
        "\n",
        "\n",
        "\n",
        "\n",
        "\n",
        "\n",
        "```\n",
        "temp  = pd.read_csv(url) \n",
        "```\n",
        "\n"
      ]
    },
    {
      "cell_type": "markdown",
      "metadata": {
        "id": "EktgMTtO26ZO"
      },
      "source": [
        "\n",
        "\n",
        "\n",
        "Prøv å lese url og se om du forstår hva den refererer til\n",
        "\n",
        "```\n",
        "url='https://thredds.ucar.edu/thredds/ncss/grib/NCEP/GFS/Global_0p5deg/best?req=station&var=Apparent_temperature_height_above_ground&&latitude=60.70290856516992&longitude=10.867140671892406&time_start=2020-01-01T12:00:00-05:00&time_duration=PT3H&time_end=2021-02-20T12:00:00-05:00&vertCoord=2&accept=CSV' \n",
        "\n",
        "```\n",
        "\n"
      ]
    },
    {
      "cell_type": "markdown",
      "metadata": {
        "id": "pQ_XwdgIl1_n"
      },
      "source": [
        "Husk at oppdatere dato, således at vi henter nye data/forutsigelser"
      ]
    },
    {
      "cell_type": "code",
      "metadata": {
        "id": "NiTCIHE3keij"
      },
      "source": [
        "start_dato=\"2022-04-01\"\n",
        "slut_dato=\"2022-04-15\""
      ],
      "execution_count": 10,
      "outputs": []
    },
    {
      "cell_type": "code",
      "metadata": {
        "colab": {
          "base_uri": "https://localhost:8080/",
          "height": 424
        },
        "id": "U-lhJX5BUioL",
        "outputId": "8d61f4f5-b10c-452e-8bb9-26df99bbe4ba"
      },
      "source": [
        "url='https://thredds.ucar.edu/thredds/ncss/grib/NCEP/GFS/Global_0p5deg/best?req=station&var=Apparent_temperature_height_above_ground&&latitude=60.70290856516992&longitude=10.867140671892406&time_start='+start_dato+'T12:00:00-05:00&time_duration=PT3H&time_end='+slut_dato+'T12:00:00-05:00&vertCoord=2&accept=CSV' #Pressure_reduced_to_MSL_msl Albedo_surface_Mixed_intervals_Average\n",
        "temp  = pd.read_csv(url) \n",
        "temp"
      ],
      "execution_count": 11,
      "outputs": [
        {
          "output_type": "execute_result",
          "data": {
            "text/plain": [
              "                     time  latitude[unit=\"degrees_north\"]  \\\n",
              "0    2022-04-01T18:00:00Z                       60.702909   \n",
              "1    2022-04-01T21:00:00Z                       60.702909   \n",
              "2    2022-04-02T00:00:00Z                       60.702909   \n",
              "3    2022-04-02T03:00:00Z                       60.702909   \n",
              "4    2022-04-02T06:00:00Z                       60.702909   \n",
              "..                    ...                             ...   \n",
              "107  2022-04-15T03:00:00Z                       60.702909   \n",
              "108  2022-04-15T06:00:00Z                       60.702909   \n",
              "109  2022-04-15T09:00:00Z                       60.702909   \n",
              "110  2022-04-15T12:00:00Z                       60.702909   \n",
              "111  2022-04-15T15:00:00Z                       60.702909   \n",
              "\n",
              "     longitude[unit=\"degrees_east\"]  vertCoord[unit=\"m\"]  \\\n",
              "0                         10.867141                  2.0   \n",
              "1                         10.867141                  2.0   \n",
              "2                         10.867141                  2.0   \n",
              "3                         10.867141                  2.0   \n",
              "4                         10.867141                  2.0   \n",
              "..                              ...                  ...   \n",
              "107                       10.867141                  2.0   \n",
              "108                       10.867141                  2.0   \n",
              "109                       10.867141                  2.0   \n",
              "110                       10.867141                  2.0   \n",
              "111                       10.867141                  2.0   \n",
              "\n",
              "     Apparent_temperature_height_above_ground[unit=\"K\"]  \n",
              "0                                           271.393585   \n",
              "1                                           267.137604   \n",
              "2                                           264.170807   \n",
              "3                                           262.506836   \n",
              "4                                           264.958496   \n",
              "..                                                 ...   \n",
              "107                                         266.788025   \n",
              "108                                         267.602203   \n",
              "109                                         270.567719   \n",
              "110                                         271.730408   \n",
              "111                                         272.126068   \n",
              "\n",
              "[112 rows x 5 columns]"
            ],
            "text/html": [
              "\n",
              "  <div id=\"df-651d9741-a4fb-41ba-9f24-379b42961d0d\">\n",
              "    <div class=\"colab-df-container\">\n",
              "      <div>\n",
              "<style scoped>\n",
              "    .dataframe tbody tr th:only-of-type {\n",
              "        vertical-align: middle;\n",
              "    }\n",
              "\n",
              "    .dataframe tbody tr th {\n",
              "        vertical-align: top;\n",
              "    }\n",
              "\n",
              "    .dataframe thead th {\n",
              "        text-align: right;\n",
              "    }\n",
              "</style>\n",
              "<table border=\"1\" class=\"dataframe\">\n",
              "  <thead>\n",
              "    <tr style=\"text-align: right;\">\n",
              "      <th></th>\n",
              "      <th>time</th>\n",
              "      <th>latitude[unit=\"degrees_north\"]</th>\n",
              "      <th>longitude[unit=\"degrees_east\"]</th>\n",
              "      <th>vertCoord[unit=\"m\"]</th>\n",
              "      <th>Apparent_temperature_height_above_ground[unit=\"K\"]</th>\n",
              "    </tr>\n",
              "  </thead>\n",
              "  <tbody>\n",
              "    <tr>\n",
              "      <th>0</th>\n",
              "      <td>2022-04-01T18:00:00Z</td>\n",
              "      <td>60.702909</td>\n",
              "      <td>10.867141</td>\n",
              "      <td>2.0</td>\n",
              "      <td>271.393585</td>\n",
              "    </tr>\n",
              "    <tr>\n",
              "      <th>1</th>\n",
              "      <td>2022-04-01T21:00:00Z</td>\n",
              "      <td>60.702909</td>\n",
              "      <td>10.867141</td>\n",
              "      <td>2.0</td>\n",
              "      <td>267.137604</td>\n",
              "    </tr>\n",
              "    <tr>\n",
              "      <th>2</th>\n",
              "      <td>2022-04-02T00:00:00Z</td>\n",
              "      <td>60.702909</td>\n",
              "      <td>10.867141</td>\n",
              "      <td>2.0</td>\n",
              "      <td>264.170807</td>\n",
              "    </tr>\n",
              "    <tr>\n",
              "      <th>3</th>\n",
              "      <td>2022-04-02T03:00:00Z</td>\n",
              "      <td>60.702909</td>\n",
              "      <td>10.867141</td>\n",
              "      <td>2.0</td>\n",
              "      <td>262.506836</td>\n",
              "    </tr>\n",
              "    <tr>\n",
              "      <th>4</th>\n",
              "      <td>2022-04-02T06:00:00Z</td>\n",
              "      <td>60.702909</td>\n",
              "      <td>10.867141</td>\n",
              "      <td>2.0</td>\n",
              "      <td>264.958496</td>\n",
              "    </tr>\n",
              "    <tr>\n",
              "      <th>...</th>\n",
              "      <td>...</td>\n",
              "      <td>...</td>\n",
              "      <td>...</td>\n",
              "      <td>...</td>\n",
              "      <td>...</td>\n",
              "    </tr>\n",
              "    <tr>\n",
              "      <th>107</th>\n",
              "      <td>2022-04-15T03:00:00Z</td>\n",
              "      <td>60.702909</td>\n",
              "      <td>10.867141</td>\n",
              "      <td>2.0</td>\n",
              "      <td>266.788025</td>\n",
              "    </tr>\n",
              "    <tr>\n",
              "      <th>108</th>\n",
              "      <td>2022-04-15T06:00:00Z</td>\n",
              "      <td>60.702909</td>\n",
              "      <td>10.867141</td>\n",
              "      <td>2.0</td>\n",
              "      <td>267.602203</td>\n",
              "    </tr>\n",
              "    <tr>\n",
              "      <th>109</th>\n",
              "      <td>2022-04-15T09:00:00Z</td>\n",
              "      <td>60.702909</td>\n",
              "      <td>10.867141</td>\n",
              "      <td>2.0</td>\n",
              "      <td>270.567719</td>\n",
              "    </tr>\n",
              "    <tr>\n",
              "      <th>110</th>\n",
              "      <td>2022-04-15T12:00:00Z</td>\n",
              "      <td>60.702909</td>\n",
              "      <td>10.867141</td>\n",
              "      <td>2.0</td>\n",
              "      <td>271.730408</td>\n",
              "    </tr>\n",
              "    <tr>\n",
              "      <th>111</th>\n",
              "      <td>2022-04-15T15:00:00Z</td>\n",
              "      <td>60.702909</td>\n",
              "      <td>10.867141</td>\n",
              "      <td>2.0</td>\n",
              "      <td>272.126068</td>\n",
              "    </tr>\n",
              "  </tbody>\n",
              "</table>\n",
              "<p>112 rows × 5 columns</p>\n",
              "</div>\n",
              "      <button class=\"colab-df-convert\" onclick=\"convertToInteractive('df-651d9741-a4fb-41ba-9f24-379b42961d0d')\"\n",
              "              title=\"Convert this dataframe to an interactive table.\"\n",
              "              style=\"display:none;\">\n",
              "        \n",
              "  <svg xmlns=\"http://www.w3.org/2000/svg\" height=\"24px\"viewBox=\"0 0 24 24\"\n",
              "       width=\"24px\">\n",
              "    <path d=\"M0 0h24v24H0V0z\" fill=\"none\"/>\n",
              "    <path d=\"M18.56 5.44l.94 2.06.94-2.06 2.06-.94-2.06-.94-.94-2.06-.94 2.06-2.06.94zm-11 1L8.5 8.5l.94-2.06 2.06-.94-2.06-.94L8.5 2.5l-.94 2.06-2.06.94zm10 10l.94 2.06.94-2.06 2.06-.94-2.06-.94-.94-2.06-.94 2.06-2.06.94z\"/><path d=\"M17.41 7.96l-1.37-1.37c-.4-.4-.92-.59-1.43-.59-.52 0-1.04.2-1.43.59L10.3 9.45l-7.72 7.72c-.78.78-.78 2.05 0 2.83L4 21.41c.39.39.9.59 1.41.59.51 0 1.02-.2 1.41-.59l7.78-7.78 2.81-2.81c.8-.78.8-2.07 0-2.86zM5.41 20L4 18.59l7.72-7.72 1.47 1.35L5.41 20z\"/>\n",
              "  </svg>\n",
              "      </button>\n",
              "      \n",
              "  <style>\n",
              "    .colab-df-container {\n",
              "      display:flex;\n",
              "      flex-wrap:wrap;\n",
              "      gap: 12px;\n",
              "    }\n",
              "\n",
              "    .colab-df-convert {\n",
              "      background-color: #E8F0FE;\n",
              "      border: none;\n",
              "      border-radius: 50%;\n",
              "      cursor: pointer;\n",
              "      display: none;\n",
              "      fill: #1967D2;\n",
              "      height: 32px;\n",
              "      padding: 0 0 0 0;\n",
              "      width: 32px;\n",
              "    }\n",
              "\n",
              "    .colab-df-convert:hover {\n",
              "      background-color: #E2EBFA;\n",
              "      box-shadow: 0px 1px 2px rgba(60, 64, 67, 0.3), 0px 1px 3px 1px rgba(60, 64, 67, 0.15);\n",
              "      fill: #174EA6;\n",
              "    }\n",
              "\n",
              "    [theme=dark] .colab-df-convert {\n",
              "      background-color: #3B4455;\n",
              "      fill: #D2E3FC;\n",
              "    }\n",
              "\n",
              "    [theme=dark] .colab-df-convert:hover {\n",
              "      background-color: #434B5C;\n",
              "      box-shadow: 0px 1px 3px 1px rgba(0, 0, 0, 0.15);\n",
              "      filter: drop-shadow(0px 1px 2px rgba(0, 0, 0, 0.3));\n",
              "      fill: #FFFFFF;\n",
              "    }\n",
              "  </style>\n",
              "\n",
              "      <script>\n",
              "        const buttonEl =\n",
              "          document.querySelector('#df-651d9741-a4fb-41ba-9f24-379b42961d0d button.colab-df-convert');\n",
              "        buttonEl.style.display =\n",
              "          google.colab.kernel.accessAllowed ? 'block' : 'none';\n",
              "\n",
              "        async function convertToInteractive(key) {\n",
              "          const element = document.querySelector('#df-651d9741-a4fb-41ba-9f24-379b42961d0d');\n",
              "          const dataTable =\n",
              "            await google.colab.kernel.invokeFunction('convertToInteractive',\n",
              "                                                     [key], {});\n",
              "          if (!dataTable) return;\n",
              "\n",
              "          const docLinkHtml = 'Like what you see? Visit the ' +\n",
              "            '<a target=\"_blank\" href=https://colab.research.google.com/notebooks/data_table.ipynb>data table notebook</a>'\n",
              "            + ' to learn more about interactive tables.';\n",
              "          element.innerHTML = '';\n",
              "          dataTable['output_type'] = 'display_data';\n",
              "          await google.colab.output.renderOutput(dataTable, element);\n",
              "          const docLink = document.createElement('div');\n",
              "          docLink.innerHTML = docLinkHtml;\n",
              "          element.appendChild(docLink);\n",
              "        }\n",
              "      </script>\n",
              "    </div>\n",
              "  </div>\n",
              "  "
            ]
          },
          "metadata": {},
          "execution_count": 11
        }
      ]
    },
    {
      "cell_type": "markdown",
      "metadata": {
        "id": "CgeHv-J79eNi"
      },
      "source": [
        "<a name=\"Trin_3\"></a>\n",
        "##**Trin 3** -  tidsformatere tidskolonne"
      ]
    },
    {
      "cell_type": "markdown",
      "metadata": {
        "id": "Rv6e5QImCE5f"
      },
      "source": [
        "\n",
        "\n",
        "Dernest formatere vi kolonnen \"time\" i tidsformattet \"datetime\" (Sjekk vennligst [til kalendertid](#til_kalendertid) ) \n",
        "\n",
        "```\n",
        "pd.to_datetime([], errors='coerce', format='%Y-%m-%d %H:%M:%S')\n",
        "```\n",
        "\n",
        "\n",
        "\n"
      ]
    },
    {
      "cell_type": "code",
      "metadata": {
        "id": "YoS-D2ldCGum"
      },
      "source": [
        "temp.time = pd.to_datetime(temp.time, errors='coerce', format='%Y-%m-%d %H:%M:%S')"
      ],
      "execution_count": 12,
      "outputs": []
    },
    {
      "cell_type": "markdown",
      "metadata": {
        "id": "jpv31bmH9f8I"
      },
      "source": [
        "<a name=\"Trin_4\"></a>\n",
        "##**Trin 4** -  fjerne tidssonen "
      ]
    },
    {
      "cell_type": "markdown",
      "metadata": {
        "id": "KHkRSgAlCXaI"
      },
      "source": [
        "\n",
        "Vi fjerner tidssonen slik at det er lettere å holde styr på (Sjekk vennligst [specifisere tidssone](#lokaliser_tid) )\n",
        "\n",
        "```\n",
        "pd.to_datetime([]).dt.tz_localize(None)\n",
        "```\n",
        "\n",
        "\n",
        "\n",
        "\n"
      ]
    },
    {
      "cell_type": "code",
      "metadata": {
        "id": "y2dR5gsbCa8h"
      },
      "source": [
        "temp.index=pd.to_datetime(temp['time']).dt.tz_localize(None)"
      ],
      "execution_count": 13,
      "outputs": []
    },
    {
      "cell_type": "markdown",
      "metadata": {
        "id": "D91kGcVo9hz8"
      },
      "source": [
        "<a name=\"Trin_5\"></a>\n",
        "##**Trin 5** - fjern unødvendige kolonner"
      ]
    },
    {
      "cell_type": "markdown",
      "metadata": {
        "id": "8OPaaexyCcho"
      },
      "source": [
        "\n",
        "\n",
        "Så fjerner vi også kolonner som vi ikke trenger (Sjekk vennligst  [fjern kolonne](#fjern_kolonner) )\n",
        "\n",
        "\n",
        "```\n",
        "temp.drop(columns=[''],inplace=True)\n",
        "```\n",
        "\n",
        "\n"
      ]
    },
    {
      "cell_type": "code",
      "metadata": {
        "id": "2avortNyCfT_"
      },
      "source": [
        "temp.drop(columns=['time','latitude[unit=\"degrees_north\"]','vertCoord[unit=\"m\"]','longitude[unit=\"degrees_east\"]'],inplace=True)"
      ],
      "execution_count": 14,
      "outputs": []
    },
    {
      "cell_type": "markdown",
      "metadata": {
        "id": "1sTJy-j-9jlq"
      },
      "source": [
        "<a name=\"Trin_6\"></a>\n",
        "##**Trin 6** - omnavngiv kolonner"
      ]
    },
    {
      "cell_type": "markdown",
      "metadata": {
        "id": "Ig_gmkAUCdZg"
      },
      "source": [
        "\n",
        "\n",
        "Til sidst omnavngiver vi kolonnen, så den er nem at refere til (Sjekk vennligst [Omnavngiv](#Omnavngiv) )\n",
        "\n",
        "\n",
        "\n",
        "\n",
        "```\n",
        "temp=temp.rename(columns={temp.columns[0]: \"Temperatur (Kelvin)\"})\n",
        "```"
      ]
    },
    {
      "cell_type": "code",
      "metadata": {
        "id": "8JHdd5j9Cgt_",
        "colab": {
          "base_uri": "https://localhost:8080/",
          "height": 455
        },
        "outputId": "1890f984-1bfe-431e-f13f-de070e299524"
      },
      "source": [
        "temp=temp.rename(columns={temp.columns[0]: \"Temperatur (Kelvin)\"})\n",
        "temp"
      ],
      "execution_count": 15,
      "outputs": [
        {
          "output_type": "execute_result",
          "data": {
            "text/plain": [
              "                     Temperatur (Kelvin)\n",
              "time                                    \n",
              "2022-04-01 18:00:00           271.393585\n",
              "2022-04-01 21:00:00           267.137604\n",
              "2022-04-02 00:00:00           264.170807\n",
              "2022-04-02 03:00:00           262.506836\n",
              "2022-04-02 06:00:00           264.958496\n",
              "...                                  ...\n",
              "2022-04-15 03:00:00           266.788025\n",
              "2022-04-15 06:00:00           267.602203\n",
              "2022-04-15 09:00:00           270.567719\n",
              "2022-04-15 12:00:00           271.730408\n",
              "2022-04-15 15:00:00           272.126068\n",
              "\n",
              "[112 rows x 1 columns]"
            ],
            "text/html": [
              "\n",
              "  <div id=\"df-49374867-a0a6-4255-8b97-a6651cfc12a5\">\n",
              "    <div class=\"colab-df-container\">\n",
              "      <div>\n",
              "<style scoped>\n",
              "    .dataframe tbody tr th:only-of-type {\n",
              "        vertical-align: middle;\n",
              "    }\n",
              "\n",
              "    .dataframe tbody tr th {\n",
              "        vertical-align: top;\n",
              "    }\n",
              "\n",
              "    .dataframe thead th {\n",
              "        text-align: right;\n",
              "    }\n",
              "</style>\n",
              "<table border=\"1\" class=\"dataframe\">\n",
              "  <thead>\n",
              "    <tr style=\"text-align: right;\">\n",
              "      <th></th>\n",
              "      <th>Temperatur (Kelvin)</th>\n",
              "    </tr>\n",
              "    <tr>\n",
              "      <th>time</th>\n",
              "      <th></th>\n",
              "    </tr>\n",
              "  </thead>\n",
              "  <tbody>\n",
              "    <tr>\n",
              "      <th>2022-04-01 18:00:00</th>\n",
              "      <td>271.393585</td>\n",
              "    </tr>\n",
              "    <tr>\n",
              "      <th>2022-04-01 21:00:00</th>\n",
              "      <td>267.137604</td>\n",
              "    </tr>\n",
              "    <tr>\n",
              "      <th>2022-04-02 00:00:00</th>\n",
              "      <td>264.170807</td>\n",
              "    </tr>\n",
              "    <tr>\n",
              "      <th>2022-04-02 03:00:00</th>\n",
              "      <td>262.506836</td>\n",
              "    </tr>\n",
              "    <tr>\n",
              "      <th>2022-04-02 06:00:00</th>\n",
              "      <td>264.958496</td>\n",
              "    </tr>\n",
              "    <tr>\n",
              "      <th>...</th>\n",
              "      <td>...</td>\n",
              "    </tr>\n",
              "    <tr>\n",
              "      <th>2022-04-15 03:00:00</th>\n",
              "      <td>266.788025</td>\n",
              "    </tr>\n",
              "    <tr>\n",
              "      <th>2022-04-15 06:00:00</th>\n",
              "      <td>267.602203</td>\n",
              "    </tr>\n",
              "    <tr>\n",
              "      <th>2022-04-15 09:00:00</th>\n",
              "      <td>270.567719</td>\n",
              "    </tr>\n",
              "    <tr>\n",
              "      <th>2022-04-15 12:00:00</th>\n",
              "      <td>271.730408</td>\n",
              "    </tr>\n",
              "    <tr>\n",
              "      <th>2022-04-15 15:00:00</th>\n",
              "      <td>272.126068</td>\n",
              "    </tr>\n",
              "  </tbody>\n",
              "</table>\n",
              "<p>112 rows × 1 columns</p>\n",
              "</div>\n",
              "      <button class=\"colab-df-convert\" onclick=\"convertToInteractive('df-49374867-a0a6-4255-8b97-a6651cfc12a5')\"\n",
              "              title=\"Convert this dataframe to an interactive table.\"\n",
              "              style=\"display:none;\">\n",
              "        \n",
              "  <svg xmlns=\"http://www.w3.org/2000/svg\" height=\"24px\"viewBox=\"0 0 24 24\"\n",
              "       width=\"24px\">\n",
              "    <path d=\"M0 0h24v24H0V0z\" fill=\"none\"/>\n",
              "    <path d=\"M18.56 5.44l.94 2.06.94-2.06 2.06-.94-2.06-.94-.94-2.06-.94 2.06-2.06.94zm-11 1L8.5 8.5l.94-2.06 2.06-.94-2.06-.94L8.5 2.5l-.94 2.06-2.06.94zm10 10l.94 2.06.94-2.06 2.06-.94-2.06-.94-.94-2.06-.94 2.06-2.06.94z\"/><path d=\"M17.41 7.96l-1.37-1.37c-.4-.4-.92-.59-1.43-.59-.52 0-1.04.2-1.43.59L10.3 9.45l-7.72 7.72c-.78.78-.78 2.05 0 2.83L4 21.41c.39.39.9.59 1.41.59.51 0 1.02-.2 1.41-.59l7.78-7.78 2.81-2.81c.8-.78.8-2.07 0-2.86zM5.41 20L4 18.59l7.72-7.72 1.47 1.35L5.41 20z\"/>\n",
              "  </svg>\n",
              "      </button>\n",
              "      \n",
              "  <style>\n",
              "    .colab-df-container {\n",
              "      display:flex;\n",
              "      flex-wrap:wrap;\n",
              "      gap: 12px;\n",
              "    }\n",
              "\n",
              "    .colab-df-convert {\n",
              "      background-color: #E8F0FE;\n",
              "      border: none;\n",
              "      border-radius: 50%;\n",
              "      cursor: pointer;\n",
              "      display: none;\n",
              "      fill: #1967D2;\n",
              "      height: 32px;\n",
              "      padding: 0 0 0 0;\n",
              "      width: 32px;\n",
              "    }\n",
              "\n",
              "    .colab-df-convert:hover {\n",
              "      background-color: #E2EBFA;\n",
              "      box-shadow: 0px 1px 2px rgba(60, 64, 67, 0.3), 0px 1px 3px 1px rgba(60, 64, 67, 0.15);\n",
              "      fill: #174EA6;\n",
              "    }\n",
              "\n",
              "    [theme=dark] .colab-df-convert {\n",
              "      background-color: #3B4455;\n",
              "      fill: #D2E3FC;\n",
              "    }\n",
              "\n",
              "    [theme=dark] .colab-df-convert:hover {\n",
              "      background-color: #434B5C;\n",
              "      box-shadow: 0px 1px 3px 1px rgba(0, 0, 0, 0.15);\n",
              "      filter: drop-shadow(0px 1px 2px rgba(0, 0, 0, 0.3));\n",
              "      fill: #FFFFFF;\n",
              "    }\n",
              "  </style>\n",
              "\n",
              "      <script>\n",
              "        const buttonEl =\n",
              "          document.querySelector('#df-49374867-a0a6-4255-8b97-a6651cfc12a5 button.colab-df-convert');\n",
              "        buttonEl.style.display =\n",
              "          google.colab.kernel.accessAllowed ? 'block' : 'none';\n",
              "\n",
              "        async function convertToInteractive(key) {\n",
              "          const element = document.querySelector('#df-49374867-a0a6-4255-8b97-a6651cfc12a5');\n",
              "          const dataTable =\n",
              "            await google.colab.kernel.invokeFunction('convertToInteractive',\n",
              "                                                     [key], {});\n",
              "          if (!dataTable) return;\n",
              "\n",
              "          const docLinkHtml = 'Like what you see? Visit the ' +\n",
              "            '<a target=\"_blank\" href=https://colab.research.google.com/notebooks/data_table.ipynb>data table notebook</a>'\n",
              "            + ' to learn more about interactive tables.';\n",
              "          element.innerHTML = '';\n",
              "          dataTable['output_type'] = 'display_data';\n",
              "          await google.colab.output.renderOutput(dataTable, element);\n",
              "          const docLink = document.createElement('div');\n",
              "          docLink.innerHTML = docLinkHtml;\n",
              "          element.appendChild(docLink);\n",
              "        }\n",
              "      </script>\n",
              "    </div>\n",
              "  </div>\n",
              "  "
            ]
          },
          "metadata": {},
          "execution_count": 15
        }
      ]
    },
    {
      "cell_type": "markdown",
      "metadata": {
        "id": "V6NNQ9TI3dVd"
      },
      "source": [
        "**Vinn**\n",
        "\n",
        "Vi følger samme tilnærming som i trinn 1-6.\n",
        "\n",
        "Nå henter vi data for vinn."
      ]
    },
    {
      "cell_type": "code",
      "metadata": {
        "colab": {
          "base_uri": "https://localhost:8080/",
          "height": 455
        },
        "id": "k156b690U0kH",
        "outputId": "f2798d15-d643-4df2-d17a-ea57bf5bff0d"
      },
      "source": [
        "\n",
        "import pandas as pd\n",
        "\n",
        "url='https://thredds.ucar.edu/thredds/ncss/grib/NCEP/GFS/Global_0p5deg/best?req=station&var=Wind_speed_gust_surface&latitude=60.70290856516992&longitude=10.867140671892406&time_start='+start_dato+'T12:00:00-05:00&time_duration=PT3H&time_end='+slut_dato+'T12:00:00-05:00&vertCoord=2&accept=CSV' #Pressure_reduced_to_MSL_msl Albedo_surface_Mixed_intervals_Average\n",
        "wind  = pd.read_csv(url) \n",
        "\n",
        "wind.time = pd.to_datetime(wind.time, errors='coerce', format='%Y-%m-%d %H:%M:%S')\n",
        "wind.index=pd.to_datetime(wind['time']).dt.tz_localize(None)\n",
        "\n",
        "\n",
        "wind.drop(columns=['time','latitude[unit=\"degrees_north\"]','longitude[unit=\"degrees_east\"]'],inplace=True)\n",
        "wind=wind.rename(columns={wind.columns[0]: \"Vinn (m/s)\"})\n",
        "\n",
        "wind"
      ],
      "execution_count": 16,
      "outputs": [
        {
          "output_type": "execute_result",
          "data": {
            "text/plain": [
              "                     Vinn (m/s)\n",
              "time                           \n",
              "2022-04-01 18:00:00    0.107139\n",
              "2022-04-01 21:00:00    0.706515\n",
              "2022-04-02 00:00:00    1.038772\n",
              "2022-04-02 03:00:00    1.225924\n",
              "2022-04-02 06:00:00    2.158491\n",
              "...                         ...\n",
              "2022-04-15 03:00:00   11.804747\n",
              "2022-04-15 06:00:00   11.160681\n",
              "2022-04-15 09:00:00    9.935043\n",
              "2022-04-15 12:00:00    9.203687\n",
              "2022-04-15 15:00:00    8.907938\n",
              "\n",
              "[112 rows x 1 columns]"
            ],
            "text/html": [
              "\n",
              "  <div id=\"df-e3f1860b-8dbc-4c08-b943-d57cd2207120\">\n",
              "    <div class=\"colab-df-container\">\n",
              "      <div>\n",
              "<style scoped>\n",
              "    .dataframe tbody tr th:only-of-type {\n",
              "        vertical-align: middle;\n",
              "    }\n",
              "\n",
              "    .dataframe tbody tr th {\n",
              "        vertical-align: top;\n",
              "    }\n",
              "\n",
              "    .dataframe thead th {\n",
              "        text-align: right;\n",
              "    }\n",
              "</style>\n",
              "<table border=\"1\" class=\"dataframe\">\n",
              "  <thead>\n",
              "    <tr style=\"text-align: right;\">\n",
              "      <th></th>\n",
              "      <th>Vinn (m/s)</th>\n",
              "    </tr>\n",
              "    <tr>\n",
              "      <th>time</th>\n",
              "      <th></th>\n",
              "    </tr>\n",
              "  </thead>\n",
              "  <tbody>\n",
              "    <tr>\n",
              "      <th>2022-04-01 18:00:00</th>\n",
              "      <td>0.107139</td>\n",
              "    </tr>\n",
              "    <tr>\n",
              "      <th>2022-04-01 21:00:00</th>\n",
              "      <td>0.706515</td>\n",
              "    </tr>\n",
              "    <tr>\n",
              "      <th>2022-04-02 00:00:00</th>\n",
              "      <td>1.038772</td>\n",
              "    </tr>\n",
              "    <tr>\n",
              "      <th>2022-04-02 03:00:00</th>\n",
              "      <td>1.225924</td>\n",
              "    </tr>\n",
              "    <tr>\n",
              "      <th>2022-04-02 06:00:00</th>\n",
              "      <td>2.158491</td>\n",
              "    </tr>\n",
              "    <tr>\n",
              "      <th>...</th>\n",
              "      <td>...</td>\n",
              "    </tr>\n",
              "    <tr>\n",
              "      <th>2022-04-15 03:00:00</th>\n",
              "      <td>11.804747</td>\n",
              "    </tr>\n",
              "    <tr>\n",
              "      <th>2022-04-15 06:00:00</th>\n",
              "      <td>11.160681</td>\n",
              "    </tr>\n",
              "    <tr>\n",
              "      <th>2022-04-15 09:00:00</th>\n",
              "      <td>9.935043</td>\n",
              "    </tr>\n",
              "    <tr>\n",
              "      <th>2022-04-15 12:00:00</th>\n",
              "      <td>9.203687</td>\n",
              "    </tr>\n",
              "    <tr>\n",
              "      <th>2022-04-15 15:00:00</th>\n",
              "      <td>8.907938</td>\n",
              "    </tr>\n",
              "  </tbody>\n",
              "</table>\n",
              "<p>112 rows × 1 columns</p>\n",
              "</div>\n",
              "      <button class=\"colab-df-convert\" onclick=\"convertToInteractive('df-e3f1860b-8dbc-4c08-b943-d57cd2207120')\"\n",
              "              title=\"Convert this dataframe to an interactive table.\"\n",
              "              style=\"display:none;\">\n",
              "        \n",
              "  <svg xmlns=\"http://www.w3.org/2000/svg\" height=\"24px\"viewBox=\"0 0 24 24\"\n",
              "       width=\"24px\">\n",
              "    <path d=\"M0 0h24v24H0V0z\" fill=\"none\"/>\n",
              "    <path d=\"M18.56 5.44l.94 2.06.94-2.06 2.06-.94-2.06-.94-.94-2.06-.94 2.06-2.06.94zm-11 1L8.5 8.5l.94-2.06 2.06-.94-2.06-.94L8.5 2.5l-.94 2.06-2.06.94zm10 10l.94 2.06.94-2.06 2.06-.94-2.06-.94-.94-2.06-.94 2.06-2.06.94z\"/><path d=\"M17.41 7.96l-1.37-1.37c-.4-.4-.92-.59-1.43-.59-.52 0-1.04.2-1.43.59L10.3 9.45l-7.72 7.72c-.78.78-.78 2.05 0 2.83L4 21.41c.39.39.9.59 1.41.59.51 0 1.02-.2 1.41-.59l7.78-7.78 2.81-2.81c.8-.78.8-2.07 0-2.86zM5.41 20L4 18.59l7.72-7.72 1.47 1.35L5.41 20z\"/>\n",
              "  </svg>\n",
              "      </button>\n",
              "      \n",
              "  <style>\n",
              "    .colab-df-container {\n",
              "      display:flex;\n",
              "      flex-wrap:wrap;\n",
              "      gap: 12px;\n",
              "    }\n",
              "\n",
              "    .colab-df-convert {\n",
              "      background-color: #E8F0FE;\n",
              "      border: none;\n",
              "      border-radius: 50%;\n",
              "      cursor: pointer;\n",
              "      display: none;\n",
              "      fill: #1967D2;\n",
              "      height: 32px;\n",
              "      padding: 0 0 0 0;\n",
              "      width: 32px;\n",
              "    }\n",
              "\n",
              "    .colab-df-convert:hover {\n",
              "      background-color: #E2EBFA;\n",
              "      box-shadow: 0px 1px 2px rgba(60, 64, 67, 0.3), 0px 1px 3px 1px rgba(60, 64, 67, 0.15);\n",
              "      fill: #174EA6;\n",
              "    }\n",
              "\n",
              "    [theme=dark] .colab-df-convert {\n",
              "      background-color: #3B4455;\n",
              "      fill: #D2E3FC;\n",
              "    }\n",
              "\n",
              "    [theme=dark] .colab-df-convert:hover {\n",
              "      background-color: #434B5C;\n",
              "      box-shadow: 0px 1px 3px 1px rgba(0, 0, 0, 0.15);\n",
              "      filter: drop-shadow(0px 1px 2px rgba(0, 0, 0, 0.3));\n",
              "      fill: #FFFFFF;\n",
              "    }\n",
              "  </style>\n",
              "\n",
              "      <script>\n",
              "        const buttonEl =\n",
              "          document.querySelector('#df-e3f1860b-8dbc-4c08-b943-d57cd2207120 button.colab-df-convert');\n",
              "        buttonEl.style.display =\n",
              "          google.colab.kernel.accessAllowed ? 'block' : 'none';\n",
              "\n",
              "        async function convertToInteractive(key) {\n",
              "          const element = document.querySelector('#df-e3f1860b-8dbc-4c08-b943-d57cd2207120');\n",
              "          const dataTable =\n",
              "            await google.colab.kernel.invokeFunction('convertToInteractive',\n",
              "                                                     [key], {});\n",
              "          if (!dataTable) return;\n",
              "\n",
              "          const docLinkHtml = 'Like what you see? Visit the ' +\n",
              "            '<a target=\"_blank\" href=https://colab.research.google.com/notebooks/data_table.ipynb>data table notebook</a>'\n",
              "            + ' to learn more about interactive tables.';\n",
              "          element.innerHTML = '';\n",
              "          dataTable['output_type'] = 'display_data';\n",
              "          await google.colab.output.renderOutput(dataTable, element);\n",
              "          const docLink = document.createElement('div');\n",
              "          docLink.innerHTML = docLinkHtml;\n",
              "          element.appendChild(docLink);\n",
              "        }\n",
              "      </script>\n",
              "    </div>\n",
              "  </div>\n",
              "  "
            ]
          },
          "metadata": {},
          "execution_count": 16
        }
      ]
    },
    {
      "cell_type": "markdown",
      "metadata": {
        "id": "z1TUAU-k3mAW"
      },
      "source": [
        "**Vann i atmosfæren**\n",
        "\n",
        "\n",
        "Vi følger samme tilnærming som i trinn 1-6.\n",
        "\n",
        "Nå samler vi inn data for vann i atmosfæren."
      ]
    },
    {
      "cell_type": "code",
      "metadata": {
        "colab": {
          "base_uri": "https://localhost:8080/",
          "height": 455
        },
        "id": "EtWcXjxvVDet",
        "outputId": "3e456f82-7962-407d-bb77-69032aefa069"
      },
      "source": [
        "\n",
        "import pandas as pd\n",
        "\n",
        "url='https://thredds.ucar.edu/thredds/ncss/grib/NCEP/GFS/Global_0p5deg/best?req=station&var=Precipitable_water_entire_atmosphere_single_layer&&latitude=60.70290856516992&longitude=10.867140671892406&time_start='+start_dato+'T12:00:00-05:00&time_duration=PT3H&time_end='+slut_dato+'T12:00:00-05:00&vertCoord=2&accept=CSV' #Pressure_reduced_to_MSL_msl Albedo_surface_Mixed_intervals_Average\n",
        "water  = pd.read_csv(url) \n",
        "\n",
        "\n",
        "water.time = pd.to_datetime(water.time, errors='coerce', format='%Y-%m-%d %H:%M:%S')\n",
        "water.index=pd.to_datetime(water['time']).dt.tz_localize(None)\n",
        "\n",
        "water=water.rename(columns={water.columns[3]: \"Vann i atmosfæren (kg/m-2)\"})\n",
        "water.drop(columns=['time','latitude[unit=\"degrees_north\"]','longitude[unit=\"degrees_east\"]'],inplace=True)\n",
        "\n",
        "water"
      ],
      "execution_count": 17,
      "outputs": [
        {
          "output_type": "execute_result",
          "data": {
            "text/plain": [
              "                     Vann i atmosfæren (kg/m-2)\n",
              "time                                           \n",
              "2022-04-01 18:00:00                    4.248209\n",
              "2022-04-01 21:00:00                    4.254912\n",
              "2022-04-02 00:00:00                    4.038302\n",
              "2022-04-02 03:00:00                    3.972403\n",
              "2022-04-02 06:00:00                    3.725591\n",
              "...                                         ...\n",
              "2022-04-15 03:00:00                    5.657824\n",
              "2022-04-15 06:00:00                    5.731700\n",
              "2022-04-15 09:00:00                    5.820540\n",
              "2022-04-15 12:00:00                    6.017897\n",
              "2022-04-15 15:00:00                    5.929486\n",
              "\n",
              "[112 rows x 1 columns]"
            ],
            "text/html": [
              "\n",
              "  <div id=\"df-91b6954e-c184-4eb9-b357-dcda2b0b36d2\">\n",
              "    <div class=\"colab-df-container\">\n",
              "      <div>\n",
              "<style scoped>\n",
              "    .dataframe tbody tr th:only-of-type {\n",
              "        vertical-align: middle;\n",
              "    }\n",
              "\n",
              "    .dataframe tbody tr th {\n",
              "        vertical-align: top;\n",
              "    }\n",
              "\n",
              "    .dataframe thead th {\n",
              "        text-align: right;\n",
              "    }\n",
              "</style>\n",
              "<table border=\"1\" class=\"dataframe\">\n",
              "  <thead>\n",
              "    <tr style=\"text-align: right;\">\n",
              "      <th></th>\n",
              "      <th>Vann i atmosfæren (kg/m-2)</th>\n",
              "    </tr>\n",
              "    <tr>\n",
              "      <th>time</th>\n",
              "      <th></th>\n",
              "    </tr>\n",
              "  </thead>\n",
              "  <tbody>\n",
              "    <tr>\n",
              "      <th>2022-04-01 18:00:00</th>\n",
              "      <td>4.248209</td>\n",
              "    </tr>\n",
              "    <tr>\n",
              "      <th>2022-04-01 21:00:00</th>\n",
              "      <td>4.254912</td>\n",
              "    </tr>\n",
              "    <tr>\n",
              "      <th>2022-04-02 00:00:00</th>\n",
              "      <td>4.038302</td>\n",
              "    </tr>\n",
              "    <tr>\n",
              "      <th>2022-04-02 03:00:00</th>\n",
              "      <td>3.972403</td>\n",
              "    </tr>\n",
              "    <tr>\n",
              "      <th>2022-04-02 06:00:00</th>\n",
              "      <td>3.725591</td>\n",
              "    </tr>\n",
              "    <tr>\n",
              "      <th>...</th>\n",
              "      <td>...</td>\n",
              "    </tr>\n",
              "    <tr>\n",
              "      <th>2022-04-15 03:00:00</th>\n",
              "      <td>5.657824</td>\n",
              "    </tr>\n",
              "    <tr>\n",
              "      <th>2022-04-15 06:00:00</th>\n",
              "      <td>5.731700</td>\n",
              "    </tr>\n",
              "    <tr>\n",
              "      <th>2022-04-15 09:00:00</th>\n",
              "      <td>5.820540</td>\n",
              "    </tr>\n",
              "    <tr>\n",
              "      <th>2022-04-15 12:00:00</th>\n",
              "      <td>6.017897</td>\n",
              "    </tr>\n",
              "    <tr>\n",
              "      <th>2022-04-15 15:00:00</th>\n",
              "      <td>5.929486</td>\n",
              "    </tr>\n",
              "  </tbody>\n",
              "</table>\n",
              "<p>112 rows × 1 columns</p>\n",
              "</div>\n",
              "      <button class=\"colab-df-convert\" onclick=\"convertToInteractive('df-91b6954e-c184-4eb9-b357-dcda2b0b36d2')\"\n",
              "              title=\"Convert this dataframe to an interactive table.\"\n",
              "              style=\"display:none;\">\n",
              "        \n",
              "  <svg xmlns=\"http://www.w3.org/2000/svg\" height=\"24px\"viewBox=\"0 0 24 24\"\n",
              "       width=\"24px\">\n",
              "    <path d=\"M0 0h24v24H0V0z\" fill=\"none\"/>\n",
              "    <path d=\"M18.56 5.44l.94 2.06.94-2.06 2.06-.94-2.06-.94-.94-2.06-.94 2.06-2.06.94zm-11 1L8.5 8.5l.94-2.06 2.06-.94-2.06-.94L8.5 2.5l-.94 2.06-2.06.94zm10 10l.94 2.06.94-2.06 2.06-.94-2.06-.94-.94-2.06-.94 2.06-2.06.94z\"/><path d=\"M17.41 7.96l-1.37-1.37c-.4-.4-.92-.59-1.43-.59-.52 0-1.04.2-1.43.59L10.3 9.45l-7.72 7.72c-.78.78-.78 2.05 0 2.83L4 21.41c.39.39.9.59 1.41.59.51 0 1.02-.2 1.41-.59l7.78-7.78 2.81-2.81c.8-.78.8-2.07 0-2.86zM5.41 20L4 18.59l7.72-7.72 1.47 1.35L5.41 20z\"/>\n",
              "  </svg>\n",
              "      </button>\n",
              "      \n",
              "  <style>\n",
              "    .colab-df-container {\n",
              "      display:flex;\n",
              "      flex-wrap:wrap;\n",
              "      gap: 12px;\n",
              "    }\n",
              "\n",
              "    .colab-df-convert {\n",
              "      background-color: #E8F0FE;\n",
              "      border: none;\n",
              "      border-radius: 50%;\n",
              "      cursor: pointer;\n",
              "      display: none;\n",
              "      fill: #1967D2;\n",
              "      height: 32px;\n",
              "      padding: 0 0 0 0;\n",
              "      width: 32px;\n",
              "    }\n",
              "\n",
              "    .colab-df-convert:hover {\n",
              "      background-color: #E2EBFA;\n",
              "      box-shadow: 0px 1px 2px rgba(60, 64, 67, 0.3), 0px 1px 3px 1px rgba(60, 64, 67, 0.15);\n",
              "      fill: #174EA6;\n",
              "    }\n",
              "\n",
              "    [theme=dark] .colab-df-convert {\n",
              "      background-color: #3B4455;\n",
              "      fill: #D2E3FC;\n",
              "    }\n",
              "\n",
              "    [theme=dark] .colab-df-convert:hover {\n",
              "      background-color: #434B5C;\n",
              "      box-shadow: 0px 1px 3px 1px rgba(0, 0, 0, 0.15);\n",
              "      filter: drop-shadow(0px 1px 2px rgba(0, 0, 0, 0.3));\n",
              "      fill: #FFFFFF;\n",
              "    }\n",
              "  </style>\n",
              "\n",
              "      <script>\n",
              "        const buttonEl =\n",
              "          document.querySelector('#df-91b6954e-c184-4eb9-b357-dcda2b0b36d2 button.colab-df-convert');\n",
              "        buttonEl.style.display =\n",
              "          google.colab.kernel.accessAllowed ? 'block' : 'none';\n",
              "\n",
              "        async function convertToInteractive(key) {\n",
              "          const element = document.querySelector('#df-91b6954e-c184-4eb9-b357-dcda2b0b36d2');\n",
              "          const dataTable =\n",
              "            await google.colab.kernel.invokeFunction('convertToInteractive',\n",
              "                                                     [key], {});\n",
              "          if (!dataTable) return;\n",
              "\n",
              "          const docLinkHtml = 'Like what you see? Visit the ' +\n",
              "            '<a target=\"_blank\" href=https://colab.research.google.com/notebooks/data_table.ipynb>data table notebook</a>'\n",
              "            + ' to learn more about interactive tables.';\n",
              "          element.innerHTML = '';\n",
              "          dataTable['output_type'] = 'display_data';\n",
              "          await google.colab.output.renderOutput(dataTable, element);\n",
              "          const docLink = document.createElement('div');\n",
              "          docLink.innerHTML = docLinkHtml;\n",
              "          element.appendChild(docLink);\n",
              "        }\n",
              "      </script>\n",
              "    </div>\n",
              "  </div>\n",
              "  "
            ]
          },
          "metadata": {},
          "execution_count": 17
        }
      ]
    },
    {
      "cell_type": "markdown",
      "metadata": {
        "id": "OmUZdtVx3qJm"
      },
      "source": [
        "<a name=\"Trin_7\"></a>\n",
        "##**Trin 7** - fletter datasettene \n",
        "\n",
        "\n",
        "\n",
        "Vi ønsker å slå sammen alle datasett i en stor dataramme (Sjekk vennligst [Sammenføre_data](#Sammenføre_data) ) \n",
        "\n",
        "Vi fletter datasettene med\n",
        "\n",
        "```\n",
        "source=pd.concat([''],axis=1)\n",
        "```\n",
        "\n",
        "Vi sampler data på daglig nivå i stedet for hver tredje time (Sjekk vennligst [Gensampling](#Gensampling) )\n",
        "Dertil tages gjennemsnit av verdien efter gensampling\n",
        "\n",
        "\n",
        "```\n",
        ".resample('D').mean() \n",
        "```\n",
        "\n",
        "\n",
        "\n",
        "\n",
        "\n",
        "\n",
        "\n"
      ]
    },
    {
      "cell_type": "code",
      "metadata": {
        "colab": {
          "base_uri": "https://localhost:8080/",
          "height": 238
        },
        "id": "27-Bk1wLVFlo",
        "outputId": "98c354e2-0f16-47f1-ac51-93676a1280d7"
      },
      "source": [
        "\n",
        "source=pd.concat([wind, temp, water],axis=1).resample('D').mean() #.resample('3H').interpolate(method='linear', limit_direction='both') #\n",
        "source['time']=source.index\n",
        "source.head()"
      ],
      "execution_count": 18,
      "outputs": [
        {
          "output_type": "execute_result",
          "data": {
            "text/plain": [
              "            Vinn (m/s)  Temperatur (Kelvin)  Vann i atmosfæren (kg/m-2)  \\\n",
              "time                                                                      \n",
              "2022-04-01    0.406827           269.265594                    4.251561   \n",
              "2022-04-02    2.268487           267.867386                    4.626430   \n",
              "2022-04-03    2.331549           270.495987                    5.910707   \n",
              "2022-04-04    5.834104           268.101166                    6.744267   \n",
              "2022-04-05    4.173609           265.158272                    3.359387   \n",
              "\n",
              "                 time  \n",
              "time                   \n",
              "2022-04-01 2022-04-01  \n",
              "2022-04-02 2022-04-02  \n",
              "2022-04-03 2022-04-03  \n",
              "2022-04-04 2022-04-04  \n",
              "2022-04-05 2022-04-05  "
            ],
            "text/html": [
              "\n",
              "  <div id=\"df-17a0bda3-c004-4baf-95f2-386af716930e\">\n",
              "    <div class=\"colab-df-container\">\n",
              "      <div>\n",
              "<style scoped>\n",
              "    .dataframe tbody tr th:only-of-type {\n",
              "        vertical-align: middle;\n",
              "    }\n",
              "\n",
              "    .dataframe tbody tr th {\n",
              "        vertical-align: top;\n",
              "    }\n",
              "\n",
              "    .dataframe thead th {\n",
              "        text-align: right;\n",
              "    }\n",
              "</style>\n",
              "<table border=\"1\" class=\"dataframe\">\n",
              "  <thead>\n",
              "    <tr style=\"text-align: right;\">\n",
              "      <th></th>\n",
              "      <th>Vinn (m/s)</th>\n",
              "      <th>Temperatur (Kelvin)</th>\n",
              "      <th>Vann i atmosfæren (kg/m-2)</th>\n",
              "      <th>time</th>\n",
              "    </tr>\n",
              "    <tr>\n",
              "      <th>time</th>\n",
              "      <th></th>\n",
              "      <th></th>\n",
              "      <th></th>\n",
              "      <th></th>\n",
              "    </tr>\n",
              "  </thead>\n",
              "  <tbody>\n",
              "    <tr>\n",
              "      <th>2022-04-01</th>\n",
              "      <td>0.406827</td>\n",
              "      <td>269.265594</td>\n",
              "      <td>4.251561</td>\n",
              "      <td>2022-04-01</td>\n",
              "    </tr>\n",
              "    <tr>\n",
              "      <th>2022-04-02</th>\n",
              "      <td>2.268487</td>\n",
              "      <td>267.867386</td>\n",
              "      <td>4.626430</td>\n",
              "      <td>2022-04-02</td>\n",
              "    </tr>\n",
              "    <tr>\n",
              "      <th>2022-04-03</th>\n",
              "      <td>2.331549</td>\n",
              "      <td>270.495987</td>\n",
              "      <td>5.910707</td>\n",
              "      <td>2022-04-03</td>\n",
              "    </tr>\n",
              "    <tr>\n",
              "      <th>2022-04-04</th>\n",
              "      <td>5.834104</td>\n",
              "      <td>268.101166</td>\n",
              "      <td>6.744267</td>\n",
              "      <td>2022-04-04</td>\n",
              "    </tr>\n",
              "    <tr>\n",
              "      <th>2022-04-05</th>\n",
              "      <td>4.173609</td>\n",
              "      <td>265.158272</td>\n",
              "      <td>3.359387</td>\n",
              "      <td>2022-04-05</td>\n",
              "    </tr>\n",
              "  </tbody>\n",
              "</table>\n",
              "</div>\n",
              "      <button class=\"colab-df-convert\" onclick=\"convertToInteractive('df-17a0bda3-c004-4baf-95f2-386af716930e')\"\n",
              "              title=\"Convert this dataframe to an interactive table.\"\n",
              "              style=\"display:none;\">\n",
              "        \n",
              "  <svg xmlns=\"http://www.w3.org/2000/svg\" height=\"24px\"viewBox=\"0 0 24 24\"\n",
              "       width=\"24px\">\n",
              "    <path d=\"M0 0h24v24H0V0z\" fill=\"none\"/>\n",
              "    <path d=\"M18.56 5.44l.94 2.06.94-2.06 2.06-.94-2.06-.94-.94-2.06-.94 2.06-2.06.94zm-11 1L8.5 8.5l.94-2.06 2.06-.94-2.06-.94L8.5 2.5l-.94 2.06-2.06.94zm10 10l.94 2.06.94-2.06 2.06-.94-2.06-.94-.94-2.06-.94 2.06-2.06.94z\"/><path d=\"M17.41 7.96l-1.37-1.37c-.4-.4-.92-.59-1.43-.59-.52 0-1.04.2-1.43.59L10.3 9.45l-7.72 7.72c-.78.78-.78 2.05 0 2.83L4 21.41c.39.39.9.59 1.41.59.51 0 1.02-.2 1.41-.59l7.78-7.78 2.81-2.81c.8-.78.8-2.07 0-2.86zM5.41 20L4 18.59l7.72-7.72 1.47 1.35L5.41 20z\"/>\n",
              "  </svg>\n",
              "      </button>\n",
              "      \n",
              "  <style>\n",
              "    .colab-df-container {\n",
              "      display:flex;\n",
              "      flex-wrap:wrap;\n",
              "      gap: 12px;\n",
              "    }\n",
              "\n",
              "    .colab-df-convert {\n",
              "      background-color: #E8F0FE;\n",
              "      border: none;\n",
              "      border-radius: 50%;\n",
              "      cursor: pointer;\n",
              "      display: none;\n",
              "      fill: #1967D2;\n",
              "      height: 32px;\n",
              "      padding: 0 0 0 0;\n",
              "      width: 32px;\n",
              "    }\n",
              "\n",
              "    .colab-df-convert:hover {\n",
              "      background-color: #E2EBFA;\n",
              "      box-shadow: 0px 1px 2px rgba(60, 64, 67, 0.3), 0px 1px 3px 1px rgba(60, 64, 67, 0.15);\n",
              "      fill: #174EA6;\n",
              "    }\n",
              "\n",
              "    [theme=dark] .colab-df-convert {\n",
              "      background-color: #3B4455;\n",
              "      fill: #D2E3FC;\n",
              "    }\n",
              "\n",
              "    [theme=dark] .colab-df-convert:hover {\n",
              "      background-color: #434B5C;\n",
              "      box-shadow: 0px 1px 3px 1px rgba(0, 0, 0, 0.15);\n",
              "      filter: drop-shadow(0px 1px 2px rgba(0, 0, 0, 0.3));\n",
              "      fill: #FFFFFF;\n",
              "    }\n",
              "  </style>\n",
              "\n",
              "      <script>\n",
              "        const buttonEl =\n",
              "          document.querySelector('#df-17a0bda3-c004-4baf-95f2-386af716930e button.colab-df-convert');\n",
              "        buttonEl.style.display =\n",
              "          google.colab.kernel.accessAllowed ? 'block' : 'none';\n",
              "\n",
              "        async function convertToInteractive(key) {\n",
              "          const element = document.querySelector('#df-17a0bda3-c004-4baf-95f2-386af716930e');\n",
              "          const dataTable =\n",
              "            await google.colab.kernel.invokeFunction('convertToInteractive',\n",
              "                                                     [key], {});\n",
              "          if (!dataTable) return;\n",
              "\n",
              "          const docLinkHtml = 'Like what you see? Visit the ' +\n",
              "            '<a target=\"_blank\" href=https://colab.research.google.com/notebooks/data_table.ipynb>data table notebook</a>'\n",
              "            + ' to learn more about interactive tables.';\n",
              "          element.innerHTML = '';\n",
              "          dataTable['output_type'] = 'display_data';\n",
              "          await google.colab.output.renderOutput(dataTable, element);\n",
              "          const docLink = document.createElement('div');\n",
              "          docLink.innerHTML = docLinkHtml;\n",
              "          element.appendChild(docLink);\n",
              "        }\n",
              "      </script>\n",
              "    </div>\n",
              "  </div>\n",
              "  "
            ]
          },
          "metadata": {},
          "execution_count": 18
        }
      ]
    },
    {
      "cell_type": "markdown",
      "metadata": {
        "id": "5CtLC0yz4Ntg"
      },
      "source": [
        "Nå er vi klare til å se den nye datarammen vår.\n",
        "\n",
        "Vi bruker biblioteket altair\n",
        "\n",
        "\n",
        "```\n",
        "import altair as alt\n",
        "```\n",
        "\n",
        "\n",
        "Dette er prinsippet:\n",
        "```\n",
        "alt.Chart(source.dropna()).mark_line().transform_fold(list(source.columns.drop('time'))).encode(\n",
        "    x='time:T',\n",
        "    y='value:Q',\n",
        ")\n",
        "```\n",
        "\n",
        "Vi bruker fasettfunksjonen til å vise 3 vertikale grafer\n",
        "\n",
        "\n",
        "```\n",
        ".facet(\n",
        "    row='key:N',\n",
        ")\n",
        "```\n",
        "\n"
      ]
    },
    {
      "cell_type": "markdown",
      "metadata": {
        "id": "eHhb_PWImHOh"
      },
      "source": [
        "<a name=\"Trin_8\"></a>\n",
        "\n",
        "##Trin 8 - Vis data i graf"
      ]
    },
    {
      "cell_type": "code",
      "metadata": {
        "colab": {
          "base_uri": "https://localhost:8080/",
          "height": 686
        },
        "id": "UpA8jvtRYV1R",
        "outputId": "94c306e8-25e5-45b2-b04c-e13b695a15b4"
      },
      "source": [
        "\n",
        "import altair as alt\n",
        "\n",
        "alt.Chart(source.dropna()).mark_line().transform_fold(list(source.columns.drop('time'))).encode(\n",
        "    x='time:T',\n",
        "    y='value:Q',\n",
        "    color='key:N',\n",
        "    tooltip=['value:Q','key:N']\n",
        ").properties(\n",
        "    width=300,\n",
        "    height=180\n",
        ").facet(\n",
        "    row='key:N',\n",
        ").resolve_scale(y='independent').interactive().properties(title=\"Lokation: NIBIO Apelsvoll Senter for Presisjonsjordbruk\") #.save('tidsserier.html')"
      ],
      "execution_count": 19,
      "outputs": [
        {
          "output_type": "execute_result",
          "data": {
            "text/html": [
              "\n",
              "<div id=\"altair-viz-77917b5e0a434972a4f309427503873a\"></div>\n",
              "<script type=\"text/javascript\">\n",
              "  var VEGA_DEBUG = (typeof VEGA_DEBUG == \"undefined\") ? {} : VEGA_DEBUG;\n",
              "  (function(spec, embedOpt){\n",
              "    let outputDiv = document.currentScript.previousElementSibling;\n",
              "    if (outputDiv.id !== \"altair-viz-77917b5e0a434972a4f309427503873a\") {\n",
              "      outputDiv = document.getElementById(\"altair-viz-77917b5e0a434972a4f309427503873a\");\n",
              "    }\n",
              "    const paths = {\n",
              "      \"vega\": \"https://cdn.jsdelivr.net/npm//vega@5?noext\",\n",
              "      \"vega-lib\": \"https://cdn.jsdelivr.net/npm//vega-lib?noext\",\n",
              "      \"vega-lite\": \"https://cdn.jsdelivr.net/npm//vega-lite@4.17.0?noext\",\n",
              "      \"vega-embed\": \"https://cdn.jsdelivr.net/npm//vega-embed@6?noext\",\n",
              "    };\n",
              "\n",
              "    function maybeLoadScript(lib, version) {\n",
              "      var key = `${lib.replace(\"-\", \"\")}_version`;\n",
              "      return (VEGA_DEBUG[key] == version) ?\n",
              "        Promise.resolve(paths[lib]) :\n",
              "        new Promise(function(resolve, reject) {\n",
              "          var s = document.createElement('script');\n",
              "          document.getElementsByTagName(\"head\")[0].appendChild(s);\n",
              "          s.async = true;\n",
              "          s.onload = () => {\n",
              "            VEGA_DEBUG[key] = version;\n",
              "            return resolve(paths[lib]);\n",
              "          };\n",
              "          s.onerror = () => reject(`Error loading script: ${paths[lib]}`);\n",
              "          s.src = paths[lib];\n",
              "        });\n",
              "    }\n",
              "\n",
              "    function showError(err) {\n",
              "      outputDiv.innerHTML = `<div class=\"error\" style=\"color:red;\">${err}</div>`;\n",
              "      throw err;\n",
              "    }\n",
              "\n",
              "    function displayChart(vegaEmbed) {\n",
              "      vegaEmbed(outputDiv, spec, embedOpt)\n",
              "        .catch(err => showError(`Javascript Error: ${err.message}<br>This usually means there's a typo in your chart specification. See the javascript console for the full traceback.`));\n",
              "    }\n",
              "\n",
              "    if(typeof define === \"function\" && define.amd) {\n",
              "      requirejs.config({paths});\n",
              "      require([\"vega-embed\"], displayChart, err => showError(`Error loading script: ${err.message}`));\n",
              "    } else {\n",
              "      maybeLoadScript(\"vega\", \"5\")\n",
              "        .then(() => maybeLoadScript(\"vega-lite\", \"4.17.0\"))\n",
              "        .then(() => maybeLoadScript(\"vega-embed\", \"6\"))\n",
              "        .catch(showError)\n",
              "        .then(() => displayChart(vegaEmbed));\n",
              "    }\n",
              "  })({\"config\": {\"view\": {\"continuousWidth\": 400, \"continuousHeight\": 300}}, \"data\": {\"name\": \"data-3183da129e98a2c33038f2f2b2da5cd5\"}, \"facet\": {\"row\": {\"field\": \"key\", \"type\": \"nominal\"}}, \"spec\": {\"mark\": \"line\", \"encoding\": {\"color\": {\"field\": \"key\", \"type\": \"nominal\"}, \"tooltip\": [{\"field\": \"value\", \"type\": \"quantitative\"}, {\"field\": \"key\", \"type\": \"nominal\"}], \"x\": {\"field\": \"time\", \"type\": \"temporal\"}, \"y\": {\"field\": \"value\", \"type\": \"quantitative\"}}, \"height\": 180, \"selection\": {\"selector001\": {\"type\": \"interval\", \"bind\": \"scales\", \"encodings\": [\"x\", \"y\"]}}, \"transform\": [{\"fold\": [\"Vinn (m/s)\", \"Temperatur (Kelvin)\", \"Vann i atmosf\\u00e6ren (kg/m-2)\"]}], \"width\": 300}, \"resolve\": {\"scale\": {\"y\": \"independent\"}}, \"title\": \"Lokation: NIBIO Apelsvoll Senter for Presisjonsjordbruk\", \"$schema\": \"https://vega.github.io/schema/vega-lite/v4.17.0.json\", \"datasets\": {\"data-3183da129e98a2c33038f2f2b2da5cd5\": [{\"Vinn (m/s)\": 0.40682706236839294, \"Temperatur (Kelvin)\": 269.2655944824219, \"Vann i atmosf\\u00e6ren (kg/m-2)\": 4.251560688018799, \"time\": \"2022-04-01T00:00:00\"}, {\"Vinn (m/s)\": 2.268487364053726, \"Temperatur (Kelvin)\": 267.8673858642578, \"Vann i atmosf\\u00e6ren (kg/m-2)\": 4.6264296770095825, \"time\": \"2022-04-02T00:00:00\"}, {\"Vinn (m/s)\": 2.331549473106861, \"Temperatur (Kelvin)\": 270.49598693847656, \"Vann i atmosf\\u00e6ren (kg/m-2)\": 5.910706579685211, \"time\": \"2022-04-03T00:00:00\"}, {\"Vinn (m/s)\": 5.834103628993034, \"Temperatur (Kelvin)\": 268.1011657714844, \"Vann i atmosf\\u00e6ren (kg/m-2)\": 6.744266629219055, \"time\": \"2022-04-04T00:00:00\"}, {\"Vinn (m/s)\": 4.173608809709549, \"Temperatur (Kelvin)\": 265.1582717895508, \"Vann i atmosf\\u00e6ren (kg/m-2)\": 3.3593873977661133, \"time\": \"2022-04-05T00:00:00\"}, {\"Vinn (m/s)\": 1.250003382563591, \"Temperatur (Kelvin)\": 268.9650421142578, \"Vann i atmosf\\u00e6ren (kg/m-2)\": 2.9497522115707397, \"time\": \"2022-04-06T00:00:00\"}, {\"Vinn (m/s)\": 7.1303601041436195, \"Temperatur (Kelvin)\": 266.55452728271484, \"Vann i atmosf\\u00e6ren (kg/m-2)\": 6.338748872280121, \"time\": \"2022-04-07T00:00:00\"}, {\"Vinn (m/s)\": 12.776079416275024, \"Temperatur (Kelvin)\": 264.04455947875977, \"Vann i atmosf\\u00e6ren (kg/m-2)\": 5.796823084354401, \"time\": \"2022-04-08T00:00:00\"}, {\"Vinn (m/s)\": 12.631752490997314, \"Temperatur (Kelvin)\": 267.88258361816406, \"Vann i atmosf\\u00e6ren (kg/m-2)\": 5.990114808082581, \"time\": \"2022-04-09T00:00:00\"}, {\"Vinn (m/s)\": 10.873694658279419, \"Temperatur (Kelvin)\": 270.2765350341797, \"Vann i atmosf\\u00e6ren (kg/m-2)\": 6.706179440021515, \"time\": \"2022-04-10T00:00:00\"}, {\"Vinn (m/s)\": 3.629351556301117, \"Temperatur (Kelvin)\": 272.90660095214844, \"Vann i atmosf\\u00e6ren (kg/m-2)\": 7.8501938581466675, \"time\": \"2022-04-11T00:00:00\"}, {\"Vinn (m/s)\": 1.8609166368842125, \"Temperatur (Kelvin)\": 274.1361503601074, \"Vann i atmosf\\u00e6ren (kg/m-2)\": 7.736641585826874, \"time\": \"2022-04-12T00:00:00\"}, {\"Vinn (m/s)\": 3.444619357585907, \"Temperatur (Kelvin)\": 271.825927734375, \"Vann i atmosf\\u00e6ren (kg/m-2)\": 6.25610613822937, \"time\": \"2022-04-13T00:00:00\"}, {\"Vinn (m/s)\": 7.848445355892181, \"Temperatur (Kelvin)\": 270.34449768066406, \"Vann i atmosf\\u00e6ren (kg/m-2)\": 6.629424333572388, \"time\": \"2022-04-14T00:00:00\"}, {\"Vinn (m/s)\": 10.256053606669107, \"Temperatur (Kelvin)\": 269.4212646484375, \"Vann i atmosf\\u00e6ren (kg/m-2)\": 5.896937847137451, \"time\": \"2022-04-15T00:00:00\"}]}}, {\"mode\": \"vega-lite\"});\n",
              "</script>"
            ],
            "text/plain": [
              "alt.FacetChart(...)"
            ]
          },
          "metadata": {},
          "execution_count": 19
        }
      ]
    },
    {
      "cell_type": "markdown",
      "metadata": {
        "id": "HkYYqI-74mHh"
      },
      "source": [
        "**Trin 6**\n",
        "\n",
        "Hvordan kan vi skape verdie med datasettet? og for hvilken målgruppe?"
      ]
    },
    {
      "cell_type": "markdown",
      "metadata": {
        "id": "G0_S0U7iy93s"
      },
      "source": [
        "<a name=\"lærdom\"></a>\n",
        "#**Hva har jeg lært idag?**"
      ]
    },
    {
      "cell_type": "markdown",
      "metadata": {
        "id": "1Jop3JGMyxFq"
      },
      "source": [
        "\n",
        "\n",
        "> Hva har du lært?\n",
        "* [x] Hvordan du importere pandas\n",
        "* [x] Hvordan du henter data fra en api\n",
        "* [x] Hvordan du tidsformatere data\n",
        "* [x] Hvordan du fjerner tidszonen\n",
        "* [x] Hvordan du fjerner unødvendige kolonner\n",
        "* [x] Hvordan du omnavngiv kolonner\n",
        "\n",
        "\n",
        "Hva vil du lære i morgen?"
      ]
    },
    {
      "cell_type": "markdown",
      "metadata": {
        "id": "Q9b-dfEejxIy"
      },
      "source": [
        "<br></br>\n",
        "<br></br>\n",
        "<br></br>\n",
        "<br></br>\n",
        "<br></br>\n",
        "<br></br>\n",
        "<br></br>"
      ]
    },
    {
      "cell_type": "markdown",
      "metadata": {
        "id": "R4cnloipc5lw"
      },
      "source": [
        "\n",
        "# **Begreber**\n",
        "\n",
        "\n",
        "\n",
        "\n",
        "-- [Les fra API](#Les_fra_API)\n",
        "\n",
        "-- [til kalendertid](#til_kalendertid)\n",
        "\n",
        "-- [til specifisere tidssone](#lokaliser_tid)\n",
        "\n",
        "-- [Sammenfør data](#Sammenfør_data)\n",
        "\n",
        "-- [fjern kolonne](#fjern_kolonne)\n",
        "\n",
        "-- [Gensampling](#Gensampling)\n",
        "-- [Sammenføre_data](#Sammenføre_data)"
      ]
    },
    {
      "cell_type": "markdown",
      "metadata": {
        "id": "Qpyk4hq1GVLx"
      },
      "source": [
        "<a name=\"Hent_bibliotekker_med_verktøyer\"></a>\n",
        "###**Hent bibliotekker av verktøyer** - `Import` \n",
        "- `Import`\n",
        "\n",
        "Python-kode i en modul får tilgang til koden i en annen modul ved å importere den. \n",
        "I Python er en modul en fil i .py-filformat som inneholder Python-kode.\n",
        "\n",
        "Det mest populære bibliotek til data analyse er pandas. \n",
        "Pandas er en data struktur, litt likesom en tabel i Excel med rader og kolonner.\n",
        "\n",
        "Import funksjonen kombinerer to operasjoner; den søker etter den navngitte modulen - `pandas` - , så binder den modulet til et navn, i dette eksempel `pd`.\n",
        "Vanligvis foretrekker vi forekortelser, og importere bibliotekker, i forkortet form: `pandas as pd`. Fremover hetter bibliotekket `pd`\n",
        "\n",
        "```\n",
        "import pandas as pd\n",
        "```\n",
        "\n",
        "Genereltset importer vi funksjoner såledelse\n",
        "```\n",
        "import vårfunksjon\n",
        "```\n",
        "\n",
        "Alternativet til å importere funksjoner er å definere funksjonen direkte: \n",
        "```\n",
        "def vårfunksjon():\n",
        "  return x + 2\n",
        "```\n",
        "\n",
        "\n",
        "Referenser\n",
        "* Python for Data Analysis, Wes McKinney, s. 36"
      ]
    },
    {
      "cell_type": "markdown",
      "metadata": {
        "id": "iFjqb4jQHKvD"
      },
      "source": [
        "**Eksempel** "
      ]
    },
    {
      "cell_type": "markdown",
      "metadata": {
        "id": "7Tru3bcZHonL"
      },
      "source": [
        "Åbning af nettlink med pandas. Filen er i json-format og har innebygde data"
      ]
    },
    {
      "cell_type": "code",
      "metadata": {
        "id": "ArO93GTOHMLJ"
      },
      "source": [
        "import pandas as pd\n",
        "pd.read_json(\"https://platform-rest-prod.ngdata.no/api/FindStore/StoresClosestToMe/1300/?latitude=65.4&longitude=16.8&minnumberofstores=200&maxNumberOfStores=300&maxDistance=2470554\")"
      ],
      "execution_count": null,
      "outputs": []
    },
    {
      "cell_type": "markdown",
      "metadata": {
        "id": "9pNsKKkPRDxN"
      },
      "source": [
        "**Spørsmål:**\n",
        ">* Hvad betyder `import`?\n",
        ">* Må vi vete på forhånd hvilke bibliotekker, som vi vil anvende, eller finder python selv ut av det?\n",
        "<br></br>\n",
        "<br></br>\n",
        "<br></br>\n",
        "<br></br>\n",
        "<br></br>\n"
      ]
    },
    {
      "cell_type": "markdown",
      "metadata": {
        "id": "MQh3D_mI-LLf"
      },
      "source": [
        "\n",
        "\n",
        "<a name=\"Pandas\"></a>\n",
        "\n",
        "##**Pandas**  - `pandas`\n",
        "\n",
        "Pandas er et programvarebibliotek skrevet for Python-programmeringsspråket for manipulering og analyse av data. \n",
        "Spesielt tilbyr den datastrukturer og operasjoner for å manipulere numeriske tabeller og tidsserier.\n",
        "\n",
        "\n",
        "| DataFrame-objekt for databehandling med integrert indeksering.                                                                                                                        |\n",
        "|---------------------------------------------------------------------------------------------------------------------------------------------------------------------------------------|\n",
        "| Verktøy for å lese og skrive data mellom datastrukturer i hukommelsen og forskjellige filformater.                                                                                    |\n",
        "| Datajustering og integrert håndtering av manglende data.                                                                                                                              |\n",
        "| Omforming av datasett.                                                                                                                                                                |\n",
        "| Etikettbasert kutting, indeksering og delmengder av store datasett.                                                                                                                   |\n",
        "| Innsetting og sletting av datakolonner.                                                                                                                                               |\n",
        "| Gruppere datasett i bestemmt format                                                                                                                                                   |\n",
        "| Datasett sammenslåing og sammenføyning.                                                                                                                                               |\n",
        "| Hierarkisk indeksering for å arbeide med høydimensjonale data                                                                                                                         |\n",
        "| Tidsseriefunksjonalitet: Generering av datoperiode og frekvenskonvertering, statistikk for bevegelige vinduer, lineære regresjoner i bevegelige vinduer, datoflytting og forsinkelse. |\n",
        "| Datafiltrering.                                                                                                                                                                       |\n",
        "\n",
        "\n",
        "\n",
        "Referenser:\n",
        "\n",
        "\n",
        "s. 97, Python Data Science Handbook\n",
        "\n",
        "s.  137-142, Python for Finance\n",
        "[pandas dokumentation](https://pandas.pydata.org/)"
      ]
    },
    {
      "cell_type": "markdown",
      "metadata": {
        "id": "TQjnrZhERUZL"
      },
      "source": [
        "<br></br>\n",
        ">**Spørsmål:**\n",
        ">* Hvorfor bruker vi Pandas til analyse av data?\n",
        ">* Kan du give eksempler på funksjoner, som både Excel og Python kan løse?\n",
        ">* Kjenner du funksjoner, som kan løses i Python eller, som er nemmere i Python fremfor Excel?\n",
        "<br></br>"
      ]
    },
    {
      "cell_type": "markdown",
      "metadata": {
        "id": "y_6wkNF1vFaC"
      },
      "source": [
        "\n",
        "<a name=\"til_kalendertid\"></a>\n",
        "\n",
        "\n",
        "##**Formatere vi kolonnen \"time\" i tidsformattet \"datetime\".**  \n",
        "\n",
        "- `pd.to_datetime`\n",
        "\n",
        "\n",
        "\n",
        "Pandas to_datetime () -metoden hjelper til med å konvertere streng Dato-tid til Python Date-tidsobjekt.\n",
        "\n",
        "Her er parametere som kan spesifiseres\n",
        "\n",
        "| Angivelse | Beskrivelse             | Enhed              | Kommentarer                                                                                   |\n",
        "|-----------|-------------------------|--------------------|-----------------------------------------------------------------------------------------------|\n",
        "| % m       | To-sifret måned         | [01, 12]           |                                                                                               |\n",
        "| % d       | To-sifret dag           | [01, 31]           |                                                                                               |\n",
        "| % H       | Time (24-timers klokke) | [00, 23]           |                                                                                               |\n",
        "| % I       | Time(12-timers klokke)  | [01, 12]           |                                                                                               |\n",
        "| % M       | To-sifret minutt        | [00, 59]           |                                                                                               |\n",
        "| % S       | Second                  | [00, 61]           | (sekunder 60, 61 utgjør sprangsekunder)                                                       |\n",
        "| % w       | Ukedag som heltall      | [0 (søndag), 6]    |                                                                                               |\n",
        "| % U       | Ukenummer for året      | [00, 53]           | Søndag regnes som den første dagen i uken året er “uke 0”                                     |\n",
        "| % W       | Ukenummer for året      | [00, 53]           | Mandag regnes som den første dagen i uken, og dager før den første mandagen i året er “uke 0” |\n",
        "| % z       | tidssone forskjøvet     | + HHMM eller -HHMM | tom hvis tidssonen er \"naiv\"                                                                  |\n",
        "| % F       | Snarvei                 | % Y-% m-% d        | f.eks. 2020-4-18                                                                              |\n",
        "| % D       | Snarvei                 | % m /% d /% y      | f.eks. 20.04.12                                                                               |\n",
        "\n",
        "\n",
        "referense\n",
        "* s. 44-46 Python for Data analysis "
      ]
    },
    {
      "cell_type": "code",
      "metadata": {
        "id": "N82YMfbRZ3rL"
      },
      "source": [
        "import pandas as pd\n",
        "df = pd.DataFrame({'year': [2015, 2016], 'month': [2, 3],'day': [4, 5]})\n",
        "df"
      ],
      "execution_count": null,
      "outputs": []
    },
    {
      "cell_type": "code",
      "metadata": {
        "id": "M8WW1a4kaAI9"
      },
      "source": [
        "pd.to_datetime(df)"
      ],
      "execution_count": null,
      "outputs": []
    },
    {
      "cell_type": "markdown",
      "metadata": {
        "id": "bfOYm4LFtv-h"
      },
      "source": [
        "<br></br>\n",
        ">**Spørsmål:**\n",
        "> * Hvordan er kalenderformatering annerledes enn angitt i tid i sekunder?\n",
        "<br></br>\n",
        "<br></br>\n",
        "<br></br>\n",
        "<br></br>"
      ]
    },
    {
      "cell_type": "markdown",
      "metadata": {
        "id": "z7jX22FmvX_z"
      },
      "source": [
        "<a name=\"lokaliser_tid\"></a>\n",
        "##**Lokalisere tidszone** -  `data.dt.tz_localize(None)`\n",
        "\n",
        "\n",
        "\n",
        "Denne metoden tar en tidssone (tz) naiv Datetime Array / Index-objekt og gjør denne tidssonen oppmerksom. Det flytter ikke tiden til en annen tidssone. Tidssone lokalisering hjelper deg med å bytte fra tidssone bevisst til tidssone uvitende objekter.\n",
        "\n",
        "\n",
        "```\n",
        "temp.index=pd.to_datetime(temp['time']).dt.tz_localize(None)\n",
        "```\n",
        "\n",
        "\n"
      ]
    },
    {
      "cell_type": "markdown",
      "metadata": {
        "id": "8kUeRIi9unDo"
      },
      "source": [
        ">**Spørsmål:**\n",
        "> * Hvordan er kalenderformatering annerledes enn angitt i tid i sekunder?\n",
        "<br></br>\n",
        "<br></br>\n",
        "<br></br>\n",
        "<br></br>"
      ]
    },
    {
      "cell_type": "markdown",
      "metadata": {
        "id": "sMK5rQJbu_oZ"
      },
      "source": [
        "<a name=\"Gensampling\"></a>\n",
        "\n",
        "##**Gensampling** - `.resample('D')`\n",
        "\n",
        "\n",
        "Pandas dataframe.resample () -funksjonen brukes primært til tidsseriedata.\n",
        "En tidsserie er en serie datapunkter indeksert (eller oppført eller tegnet) i tidsrekkefølge. Vanligvis er en tidsserie en sekvens tatt på påfølgende tidspunkter. Det er en praktisk metode for frekvenskonvertering og sampling av tidsserier. Objektet må ha en datetime-lignende indeks (DatetimeIndex, PeriodIndex eller TimedeltaIndex), eller sende datetime-lignende verdier til søkeordet på eller nivå.\n",
        "\n",
        "Resampling genererer en unik samplingsfordeling på grunnlag av de faktiske dataene. Vi kan bruke forskjellige frekvenser for å sample våre tidsseriedata. Dette er en veldig viktig teknikk innen analytics.\n",
        "De mest brukte tidsseriefrekvensene er -\n",
        "W: ukentlig frekvens\n",
        "M: månedssluttfrekvens\n",
        "SM: halvmåneders sluttfrekvens (15. og slutten av måneden)\n",
        "Spørsmål: kvart sluttfrekvens\n",
        "\n",
        "\n"
      ]
    },
    {
      "cell_type": "markdown",
      "metadata": {
        "id": "_0SAh-2eIqju"
      },
      "source": [
        "| Frekvens | Beskrivelse                                            |\n",
        "|----------|--------------------------------------------------------|\n",
        "| W        | ukentlig frekvens                                      |\n",
        "| M        | månedssluttfrekvens                                    |\n",
        "| SM       | halvmåneders sluttfrekvens (15. og slutten av måneden) |\n",
        "| Q        | kvart sluttfrekvens                                    |v"
      ]
    },
    {
      "cell_type": "markdown",
      "metadata": {
        "id": "Q4vbhEpovBHB"
      },
      "source": [
        "<a name=\"Interpolering\"></a>\n",
        "\n",
        "**Interpolering** - `.interpolate(method='linear', limit_direction='both')`\n",
        "\n",
        "\n",
        "Fyll NaN-verdier ved hjelp av en interpolasjonsmetode.\n",
        "\n",
        "\n",
        "Pandas dataframe.interpolate () -funksjonen brukes i utgangspunktet til å fylle NA-verdier i datarammen eller serien. Men dette er en veldig kraftig funksjon for å fylle de manglende verdiene. Den bruker forskjellige interpolasjonsteknikker for å fylle de manglende verdiene i stedet for å hardkode verdien.\n",
        "\n",
        "\n",
        "\n",
        "https://www.geeksforgeeks.org/python-pandas-dataframe-interpolate/\n"
      ]
    },
    {
      "cell_type": "markdown",
      "metadata": {
        "id": "KBldW4awJEvl"
      },
      "source": [
        "| Retning  | Beskrivelse |\n",
        "|----------|-------------|\n",
        "| forward  | Fremover    |\n",
        "| backward | Bakover     |\n",
        "| both     | begge veie  |"
      ]
    },
    {
      "cell_type": "markdown",
      "metadata": {
        "id": "eMXavR1_vB2z"
      },
      "source": [
        "**Index** - `.source.index`\n",
        "\n",
        "\n",
        "informasjon om aksemerking i pandaobjekter tjener mange formål:\n",
        "\n",
        "Identifiserer data (dvs. gir metadata) ved bruk av kjente indikatorer, viktig for analyse, visualisering og interaktiv konsollvisning.\n",
        "\n",
        "Aktiverer automatisk og eksplisitt datajustering.\n",
        "\n",
        "Tillater intuitiv henting og innstilling av delmengder av datasettet."
      ]
    },
    {
      "cell_type": "markdown",
      "metadata": {
        "id": "N-txdt7h9Bl8"
      },
      "source": [
        "\n",
        "<a name=\"fjern_kolonner\"></a>\n",
        "\n",
        "\n",
        "##**Tilføj/fjern data** - `data.drop([])`\n",
        "\n",
        "\n",
        "\n",
        "Slipp spesifiserte etiketter fra rader eller kolonner.\n",
        "\n",
        "Fjern rader eller kolonner ved å spesifisere etikettnavn og tilsvarende akse, eller ved å spesifisere direkte indeks- eller kolonnenavn. Når du bruker en multi-indeks, kan etiketter på forskjellige nivåer fjernes ved å spesifisere nivået.\n",
        "\n",
        "```\n",
        "data.drop(columns=[''],inplace=True)\n",
        "```\n",
        "\n",
        "\n",
        "\n",
        "| Parameter | Betydning | Format                                       | Beskrivelse                                                                                     |\n",
        "|-----------|-----------|----------------------------------------------|-------------------------------------------------------------------------------------------------|\n",
        "| labels    | etiketter | enkelt etikett eller listelignende           | Indeks eller kolonneetiketter som skal slippes.                                                 |\n",
        "| axis      | akse      | akse {0 eller ‘indeks’, 1 eller ‘kolonner’}  | Om du vil slippe etiketter fra indeksen (0 eller ‘indeks’) eller kolonner (1 eller ‘kolonner’). |\n",
        "| column    | kolonne   | kolonner: enkelt etikett eller listelignende | kolonneetiketter som skal slippes.                                                              |\n",
        "| inplace   | inplace   | True / False                                 | Hvis sant, utføres operasjonen umiddelbart                                                      |\n"
      ]
    },
    {
      "cell_type": "markdown",
      "metadata": {
        "id": "5paUOpslNbye"
      },
      "source": [
        "<a name=\"Sammenføre_data\"></a>\n",
        "\n",
        "##**Sammenføre data** - `pd.concat`\n",
        "\n",
        "Kombinering av forskjellige data kilder kan bidrage til nye konklusjoner.\n",
        "\n",
        "Disse metoder kan være\n",
        "* enkel sammenkobling av to forskjellige datasett\n",
        "* kompliserte sammenføyninger av databaser\n",
        "* sammenslåinger som håndterer korrekt overlapp mellom datasettene riktig. \n",
        "Series og DataFrames er forberedt til å håndtere denne typen operasjoner, så dette kan gjøres raskt og korrekt.\n",
        "\n",
        "En vanlig metode er enkel sammenkobling av Series og DataFrames med\n",
        "`pd.concat-funksjon`\n",
        "\n",
        "Pandaobjekter kan sammenkobles langs en bestemt akse med en spesifiseret logiske operasjoenr.\n",
        "Dertil kan også foretages hierarkisk indeksering på sammenkoblingsaksen.\n",
        "\n",
        "Andre metoder er `pd.merge()` og `pd.join()`\n",
        "\n",
        "\n",
        "\n",
        "For eksempel_\n",
        "`database=pd.concat([database,df_time],join=\"outer\", axis=1)  `\n",
        "\n",
        "\n",
        "\n",
        "Referense:\n",
        "* [pd.concat](https://pandas.pydata.org/docs/user_guide/merging.html)\n",
        "\n",
        "\n",
        "\n"
      ]
    },
    {
      "cell_type": "markdown",
      "metadata": {
        "id": "bvzm4QHUTWRZ"
      },
      "source": [
        "I dette eksempel, sammenføres kommuner:"
      ]
    },
    {
      "cell_type": "code",
      "metadata": {
        "id": "KNq2TqM0TAeR"
      },
      "source": [
        "import pandas as pd\n",
        "ser1 = pd.Series(['Halden', 'Moss', 'Sarpsborg'], index=[1, 2, 3])\n",
        "ser2 = pd.Series(['Frederikstad', 'Hvaler', 'Aremark'], index=[4, 5, 6])\n",
        "pd.concat([ser1, ser2])"
      ],
      "execution_count": null,
      "outputs": []
    },
    {
      "cell_type": "markdown",
      "metadata": {
        "id": "Z8s6l3xJzmCC"
      },
      "source": [
        "* s. 141-146, Python Data Science Handbook"
      ]
    },
    {
      "cell_type": "markdown",
      "metadata": {
        "id": "csoY7hPJToqf"
      },
      "source": [
        "<br></br>\n",
        "> **Spørsmål**\n",
        "> * Hvorfor må man sammenkobling av forskjellige datasett spesifiseres for å fungere?\n",
        "<br></br>\n",
        "<br></br>\n",
        "<br></br>\n",
        "<br></br>\n",
        "<br></br>\n",
        "<br></br>\n"
      ]
    },
    {
      "cell_type": "markdown",
      "metadata": {
        "id": "GE2Oo5JKS1AT"
      },
      "source": [
        "\n",
        "\n",
        "\n",
        "\n",
        "\n",
        "<a name=\"Les_fra_API\"></a>\n",
        "\n",
        "\n",
        "\n",
        "##**Les fra API** - \n",
        "```\n",
        "url='https://thredds.ucar.edu/thredds/ncss/grib/NCEP/GFS/Global_0p5deg/best?req=station&var=Apparent_temperature_height_above_ground&&latitude=60.70290856516992&longitude=10.867140671892406&time_start=2020-01-01T12:00:00-05:00&time_duration=PT3H&time_end=2021-02-20T12:00:00-05:00&vertCoord=2&accept=CSV' \n",
        "\n",
        "\n",
        "```\n",
        "\n",
        "\n",
        "Her er en oversikt over parameter, som kan settes, med forklaring på norsk.\n",
        "\n",
        "| Metode                                            | på norsk                                  | Beskrivelse                                                      |\n",
        "|---------------------------------------------------|-------------------------------------------|------------------------------------------------------------------|\n",
        "| Global_0p5deg                                     | Global_0p5 grader                         | Oppløsning er 0.5 grader                                         |\n",
        "| station                                           | stasjon                                   | for temperatur, idensifiseres den tetteste stasjon               |\n",
        "| Apparent_temperature_height_above_ground          | Tilsynelatende_temperatur_høyde_over_jord | Tilsynelatende temperatur, ved spesifisert høydenivå over bakken |\n",
        "| Precipitable_water_entire_atmosphere_single_layer | Nedfellbart_vann_hemmet_atmosfære_        | Nedbørbart vann for hele atmosfærelaget                          |\n",
        "| Wind_speed_gust_surface                           | Vindhastighet_overflate                   | Vindhastighet (vindkast) for bakken eller vannoverflaten         |\n",
        "| latitude                                          | breddegrad                                | lokasjon, som man er interessert                                 |\n",
        "| longitude                                         | lengdegrad                                | lokasjon, som man er interessert                                 |\n",
        "| time_start                                        | time_start                                |  start tid. Bør alltid være i fremtiden for at oppnå en prognose |\n",
        "| time_duration                                     | Varighet                                  |  period for målpunkt. f.eks. hver 3. time                        |\n",
        "| time_end                                          | time_slut                                 |  slut tid                                                        |\n",
        "| vertCoord                                         | vertCoord                                 |  konvention for koordinate                                       |\n",
        "| accept                                            | aksepterer                                |  data format (f.eks CSV)                                         |\n",
        "\n",
        "\n",
        "\n",
        "\n",
        "referenser\n",
        "s. 114-120 - Data Science from Scratch\n",
        "s. 357 - 372\n",
        "\n",
        "Referense til API:\n",
        "* https://rda.ucar.edu/thredds/metadata/aggregations/g/ds083.2/2/TP?metadata=variableMap\n",
        "\n",
        "* https://thredds-jumbo.unidata.ucar.edu/thredds/catalog/grib/NCEP/GFS/Global_0p5deg/GFS_Global_0p5deg_20210301_1200.grib2/catalog.html?dataset=grib/NCEP/GFS/Global_0p5deg/GFS_Global_0p5deg_20210301_1200.grib2\n",
        "\n",
        "\n",
        "\n",
        "\n"
      ]
    },
    {
      "cell_type": "markdown",
      "metadata": {
        "id": "SvPi4hYNgUD4"
      },
      "source": [
        "##**Index** - `.source.index`\n",
        "\n",
        "source['time']=source.index\n",
        "\n",
        "\n",
        "\n",
        "\n",
        "Sett DataFrame-indeksen ved hjelp av eksisterende kolonner (av riktig lengde)\n",
        "\n"
      ]
    },
    {
      "cell_type": "markdown",
      "metadata": {
        "id": "fz06NBhQ-Nz-"
      },
      "source": [
        "\n",
        "\n",
        "<a name=\"Omnavngiv\"></a>\n",
        "\n",
        " \n",
        "##**Omnavngiv kolonne** - `.rename()`\n",
        "\n",
        "`rename(inplace=True, columns={column: column)})`\n",
        "\n",
        "De nye kolonnenavn har ikke \".\" i navnet, og er lettere at håndtere\n",
        "\n",
        "\n",
        "\n",
        "\n",
        "> **Spørsmål**\n",
        "> * Kan alle symboler brukes, som kolonnenavne?\n",
        "> * Hvorfor kan bestemte symboler i kolonnenavne være et problem?\n",
        "<br></br>\n",
        "<br></br>\n",
        "<br></br>\n",
        "<br></br>\n",
        "<br></br>\n",
        "<br></br>\n",
        "\n"
      ]
    }
  ]
}