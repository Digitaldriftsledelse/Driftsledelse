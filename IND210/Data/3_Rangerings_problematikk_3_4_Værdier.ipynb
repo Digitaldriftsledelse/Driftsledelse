{
  "nbformat": 4,
  "nbformat_minor": 0,
  "metadata": {
    "colab": {
      "name": "3_Rangerings problematikk_3_4_Værdier.ipynb",
      "provenance": [],
      "collapsed_sections": [
        "C2pRX2yKb3qU"
      ],
      "toc_visible": true
    },
    "kernelspec": {
      "name": "python3",
      "display_name": "Python 3"
    }
  },
  "cells": [
    {
      "cell_type": "markdown",
      "metadata": {
        "id": "R_Xjb075Td6V"
      },
      "source": [
        "\n",
        "<img align=\"left\" style=\"padding-right:100px;\" src=\"http://pvexpect.com/Driftsledelse/Dagligvarer/nmbu.png\">\n",
        "\n",
        "  **Digital Driftsledelse - IND210**\n",
        "\n",
        " Jesper Ørntoft Frausig, 2021\n"
      ]
    },
    {
      "cell_type": "markdown",
      "metadata": {
        "id": "SHG0jEU3oc5o"
      },
      "source": [
        "#Øvelse - Værdier"
      ]
    },
    {
      "cell_type": "markdown",
      "metadata": {
        "id": "jVXyrILqpJi9"
      },
      "source": [
        "**[Introduksjon](#Introduksjon)**\n",
        "- [Trin 1](#Trin_1) - Last ned bibliotekene\n",
        "- [Trin 2](#Trin_2) - Udpak bibliotek\n",
        "- [Trin 3](#Trin_3) -  Installere automatisering av datainnsamling\n",
        "- [Trin 4](#Trin_4) - Initialisere Selenium\n",
        "- [Trin 5](#Trin_5) - Anvend matematikk bibliotekk\n",
        "- [Trin 6](#Trin_6) - Genere uker\n",
        "- [Trin 7](#Trin_7) - Genere kalendar\n",
        "- [Trin 8](#Trin_8) - Bruk for løkke\n",
        "- [Trin 9](#Trin_9) - Velg variablene år og uke\n",
        "- [Trin 10](#Trin_10) - identificeres web addresserne\n",
        "- [Trin 11](#Trin_11) - Bruk for løkke\n",
        "- [Trin 12](#Trin_12) -  Del datasettet\n",
        "- [Trin 13](#Trin_13) - Håndtere feil\n",
        "- [Trin 14](#Trin_14) - Bruk hvis logikk\n",
        "- [Trin 15](#Trin_15) - Håndtere ulike rader\n",
        "- [Trin 16](#Trin_16) - Håndtere tid\n",
        "- [Trin 17](#Trin_18) - Vis database over produktpriser over tid\n",
        "\n",
        "\n",
        "\n",
        "**[Hva har jeg lært](#lærdom)**\n",
        "\n",
        "**[Begreber](#Begreber)**\n",
        "\n",
        "\n",
        "<br></br>\n",
        "<br></br>\n",
        "<br></br>\n",
        "<br></br>\n",
        "<br></br>\n",
        "<br></br>\n",
        "<br></br>\n"
      ]
    },
    {
      "cell_type": "markdown",
      "metadata": {
        "id": "8vFxsESm18j5"
      },
      "source": [
        "<a name=\"Introduksjon\"></a>\n",
        "\n",
        "#**Introduksjon**"
      ]
    },
    {
      "cell_type": "markdown",
      "metadata": {
        "id": "E_1TN86X3QEA"
      },
      "source": [
        "Vi henter historisk data for priser fra et nettsted"
      ]
    },
    {
      "cell_type": "markdown",
      "metadata": {
        "id": "JEohvL9817fr"
      },
      "source": [
        "> Hva vil du lære i følgende øvelse:\n",
        "* [ ] Hvordan du laster ned biblioteker\n",
        "* [ ] Hvordan du udpakker biblioteker\n",
        "* [ ] Hvordan du installere og automatisere datainnsamling\n",
        "* [ ] Hvordan du initialisere Selenium\n",
        "* [ ] Hvordan du anvender matematikk bibliotekk, `Numpy`\n",
        "* [ ] Hvordan du generer uker\n",
        "* [ ] Hvordan du generer kalendar\n",
        "* [ ] Hvordan du bruker for løkke\n",
        "* [ ] Hvordan du velg variablene år og uke\n",
        "* [ ] Hvordan du identificerer web addresserne\n",
        "* [ ] Hvordan du deler datasettet\n",
        "* [ ] Hvordan du håndterer feil\n",
        "* [ ] Hvordan du bruker hvis logikk\n",
        "* [ ] Hvordan du håndtere ulike rader\n",
        "* [ ] Hvordan du håndterer tid\n",
        "* [ ] Hvordan du vis databaser over produktpriser over tid\n",
        "\n",
        "\n"
      ]
    },
    {
      "cell_type": "markdown",
      "metadata": {
        "id": "BlMS3r-pehVQ"
      },
      "source": [
        "<a name=\"Trin_1\"></a>\n",
        "##**Trin 1** - Last ned bibliotekene\n"
      ]
    },
    {
      "cell_type": "markdown",
      "metadata": {
        "id": "i133ELtgJqLi"
      },
      "source": [
        "Vi anvender funksjonen hente og udpakke bibliotek (Sjekk vennligst [wget](#wget) )\n"
      ]
    },
    {
      "cell_type": "code",
      "metadata": {
        "id": "u1jGH3Uxyy5m",
        "outputId": "562c32e7-51c0-44fc-f627-79d29fcb0602",
        "colab": {
          "base_uri": "https://localhost:8080/"
        }
      },
      "source": [
        "!wget https://chromedriver.storage.googleapis.com/2.42/chromedriver_linux64.zip"
      ],
      "execution_count": 1,
      "outputs": [
        {
          "output_type": "stream",
          "name": "stdout",
          "text": [
            "--2022-04-05 10:15:10--  https://chromedriver.storage.googleapis.com/2.42/chromedriver_linux64.zip\n",
            "Resolving chromedriver.storage.googleapis.com (chromedriver.storage.googleapis.com)... 74.125.197.128, 2607:f8b0:400e:c03::80\n",
            "Connecting to chromedriver.storage.googleapis.com (chromedriver.storage.googleapis.com)|74.125.197.128|:443... connected.\n",
            "HTTP request sent, awaiting response... 200 OK\n",
            "Length: 4039043 (3.9M) [application/zip]\n",
            "Saving to: ‘chromedriver_linux64.zip’\n",
            "\n",
            "\rchromedriver_linux6   0%[                    ]       0  --.-KB/s               \rchromedriver_linux6 100%[===================>]   3.85M  --.-KB/s    in 0.03s   \n",
            "\n",
            "2022-04-05 10:15:10 (115 MB/s) - ‘chromedriver_linux64.zip’ saved [4039043/4039043]\n",
            "\n"
          ]
        }
      ]
    },
    {
      "cell_type": "markdown",
      "metadata": {
        "id": "Q0lDBdIrciVz"
      },
      "source": [
        "<a name=\"Trin_2\"></a>\n",
        "\n",
        "##**Trin 2**- Udpak bibliotek"
      ]
    },
    {
      "cell_type": "markdown",
      "metadata": {
        "id": "qZsxOdtyqmlo"
      },
      "source": [
        "benyt `unzip` til at (Sjekk vennligst [udpakke bibliotek](#unzip) )"
      ]
    },
    {
      "cell_type": "code",
      "metadata": {
        "id": "_Z98Ls1nkLXC",
        "outputId": "0c9c91ac-4a13-472c-d057-bd50e59d4697",
        "colab": {
          "base_uri": "https://localhost:8080/"
        }
      },
      "source": [
        "!unzip chromedriver_linux64"
      ],
      "execution_count": 2,
      "outputs": [
        {
          "output_type": "stream",
          "name": "stdout",
          "text": [
            "Archive:  chromedriver_linux64.zip\n",
            "  inflating: chromedriver            \n"
          ]
        }
      ]
    },
    {
      "cell_type": "markdown",
      "metadata": {
        "id": "IEl9fduhFhBL"
      },
      "source": [
        "<a name=\"Trin_3\"></a>\n",
        "\n",
        "##**Trin 3** -  Installere automatisering av datainnsamling\n",
        "\n",
        "\n",
        "\n",
        "Derefter installere vi selenium  (vennligst sjekk [selenium](#selenium) ) og importere bibliotekket (vennligst sjekk [Hent bibliotekker](#Hent_bibliotekker_med_verktøyer) ),"
      ]
    },
    {
      "cell_type": "code",
      "metadata": {
        "colab": {
          "base_uri": "https://localhost:8080/"
        },
        "id": "t3BVQMsMy0i7",
        "outputId": "8c33b285-b145-4555-d806-f3a12a8aa2b7"
      },
      "source": [
        "!apt-get update\n",
        "!apt install chromium-chromedriver\n",
        "!cp /usr/lib/chromium-browser/chromedriver /usr/bin\n",
        "!pip install selenium\n",
        "# set options to be headless, ..\n",
        "from selenium import webdriver"
      ],
      "execution_count": 3,
      "outputs": [
        {
          "output_type": "stream",
          "name": "stdout",
          "text": [
            "\r0% [Working]\r            \rGet:1 https://cloud.r-project.org/bin/linux/ubuntu bionic-cran40/ InRelease [3,626 B]\n",
            "Ign:2 https://developer.download.nvidia.com/compute/cuda/repos/ubuntu1804/x86_64  InRelease\n",
            "Ign:3 https://developer.download.nvidia.com/compute/machine-learning/repos/ubuntu1804/x86_64  InRelease\n",
            "Get:4 https://developer.download.nvidia.com/compute/cuda/repos/ubuntu1804/x86_64  Release [696 B]\n",
            "Hit:5 https://developer.download.nvidia.com/compute/machine-learning/repos/ubuntu1804/x86_64  Release\n",
            "Hit:6 http://archive.ubuntu.com/ubuntu bionic InRelease\n",
            "Get:7 http://security.ubuntu.com/ubuntu bionic-security InRelease [88.7 kB]\n",
            "Get:8 https://developer.download.nvidia.com/compute/cuda/repos/ubuntu1804/x86_64  Release.gpg [836 B]\n",
            "Get:9 http://archive.ubuntu.com/ubuntu bionic-updates InRelease [88.7 kB]\n",
            "Get:10 http://ppa.launchpad.net/c2d4u.team/c2d4u4.0+/ubuntu bionic InRelease [15.9 kB]\n",
            "Get:11 http://archive.ubuntu.com/ubuntu bionic-backports InRelease [74.6 kB]\n",
            "Get:12 https://cloud.r-project.org/bin/linux/ubuntu bionic-cran40/ Packages [82.3 kB]\n",
            "Hit:13 http://ppa.launchpad.net/cran/libgit2/ubuntu bionic InRelease\n",
            "Get:14 http://ppa.launchpad.net/deadsnakes/ppa/ubuntu bionic InRelease [15.9 kB]\n",
            "Get:16 http://ppa.launchpad.net/graphics-drivers/ppa/ubuntu bionic InRelease [21.3 kB]\n",
            "Get:17 https://developer.download.nvidia.com/compute/cuda/repos/ubuntu1804/x86_64  Packages [951 kB]\n",
            "Get:18 http://security.ubuntu.com/ubuntu bionic-security/restricted amd64 Packages [884 kB]\n",
            "Get:19 http://security.ubuntu.com/ubuntu bionic-security/main amd64 Packages [2,693 kB]\n",
            "Get:20 http://security.ubuntu.com/ubuntu bionic-security/universe amd64 Packages [1,489 kB]\n",
            "Get:21 http://ppa.launchpad.net/c2d4u.team/c2d4u4.0+/ubuntu bionic/main Sources [1,831 kB]\n",
            "Get:22 http://archive.ubuntu.com/ubuntu bionic-updates/multiverse amd64 Packages [29.8 kB]\n",
            "Get:23 http://archive.ubuntu.com/ubuntu bionic-updates/main amd64 Packages [3,132 kB]\n",
            "Get:24 http://archive.ubuntu.com/ubuntu bionic-updates/universe amd64 Packages [2,267 kB]\n",
            "Get:25 http://archive.ubuntu.com/ubuntu bionic-updates/restricted amd64 Packages [918 kB]\n",
            "Get:26 http://ppa.launchpad.net/c2d4u.team/c2d4u4.0+/ubuntu bionic/main amd64 Packages [938 kB]\n",
            "Get:27 http://archive.ubuntu.com/ubuntu bionic-backports/main amd64 Packages [12.2 kB]\n",
            "Get:28 http://archive.ubuntu.com/ubuntu bionic-backports/universe amd64 Packages [12.9 kB]\n",
            "Get:29 http://ppa.launchpad.net/deadsnakes/ppa/ubuntu bionic/main amd64 Packages [45.3 kB]\n",
            "Get:30 http://ppa.launchpad.net/graphics-drivers/ppa/ubuntu bionic/main amd64 Packages [44.3 kB]\n",
            "Fetched 15.6 MB in 6s (2,432 kB/s)\n",
            "Reading package lists... Done\n",
            "Reading package lists... Done\n",
            "Building dependency tree       \n",
            "Reading state information... Done\n",
            "The following additional packages will be installed:\n",
            "  chromium-browser chromium-browser-l10n chromium-codecs-ffmpeg-extra\n",
            "Suggested packages:\n",
            "  webaccounts-chromium-extension unity-chromium-extension\n",
            "The following NEW packages will be installed:\n",
            "  chromium-browser chromium-browser-l10n chromium-chromedriver\n",
            "  chromium-codecs-ffmpeg-extra\n",
            "0 upgraded, 4 newly installed, 0 to remove and 94 not upgraded.\n",
            "Need to get 88.3 MB of archives.\n",
            "After this operation, 294 MB of additional disk space will be used.\n",
            "Get:1 http://archive.ubuntu.com/ubuntu bionic-updates/universe amd64 chromium-codecs-ffmpeg-extra amd64 99.0.4844.84-0ubuntu0.18.04.1 [1,142 kB]\n",
            "Get:2 http://archive.ubuntu.com/ubuntu bionic-updates/universe amd64 chromium-browser amd64 99.0.4844.84-0ubuntu0.18.04.1 [77.7 MB]\n",
            "Get:3 http://archive.ubuntu.com/ubuntu bionic-updates/universe amd64 chromium-browser-l10n all 99.0.4844.84-0ubuntu0.18.04.1 [4,397 kB]\n",
            "Get:4 http://archive.ubuntu.com/ubuntu bionic-updates/universe amd64 chromium-chromedriver amd64 99.0.4844.84-0ubuntu0.18.04.1 [5,092 kB]\n",
            "Fetched 88.3 MB in 7s (12.4 MB/s)\n",
            "Selecting previously unselected package chromium-codecs-ffmpeg-extra.\n",
            "(Reading database ... 156210 files and directories currently installed.)\n",
            "Preparing to unpack .../chromium-codecs-ffmpeg-extra_99.0.4844.84-0ubuntu0.18.04.1_amd64.deb ...\n",
            "Unpacking chromium-codecs-ffmpeg-extra (99.0.4844.84-0ubuntu0.18.04.1) ...\n",
            "Selecting previously unselected package chromium-browser.\n",
            "Preparing to unpack .../chromium-browser_99.0.4844.84-0ubuntu0.18.04.1_amd64.deb ...\n",
            "Unpacking chromium-browser (99.0.4844.84-0ubuntu0.18.04.1) ...\n",
            "Selecting previously unselected package chromium-browser-l10n.\n",
            "Preparing to unpack .../chromium-browser-l10n_99.0.4844.84-0ubuntu0.18.04.1_all.deb ...\n",
            "Unpacking chromium-browser-l10n (99.0.4844.84-0ubuntu0.18.04.1) ...\n",
            "Selecting previously unselected package chromium-chromedriver.\n",
            "Preparing to unpack .../chromium-chromedriver_99.0.4844.84-0ubuntu0.18.04.1_amd64.deb ...\n",
            "Unpacking chromium-chromedriver (99.0.4844.84-0ubuntu0.18.04.1) ...\n",
            "Setting up chromium-codecs-ffmpeg-extra (99.0.4844.84-0ubuntu0.18.04.1) ...\n",
            "Setting up chromium-browser (99.0.4844.84-0ubuntu0.18.04.1) ...\n",
            "update-alternatives: using /usr/bin/chromium-browser to provide /usr/bin/x-www-browser (x-www-browser) in auto mode\n",
            "update-alternatives: using /usr/bin/chromium-browser to provide /usr/bin/gnome-www-browser (gnome-www-browser) in auto mode\n",
            "Setting up chromium-chromedriver (99.0.4844.84-0ubuntu0.18.04.1) ...\n",
            "Setting up chromium-browser-l10n (99.0.4844.84-0ubuntu0.18.04.1) ...\n",
            "Processing triggers for man-db (2.8.3-2ubuntu0.1) ...\n",
            "Processing triggers for hicolor-icon-theme (0.17-2) ...\n",
            "Processing triggers for mime-support (3.60ubuntu1) ...\n",
            "Processing triggers for libc-bin (2.27-3ubuntu1.3) ...\n",
            "/sbin/ldconfig.real: /usr/local/lib/python3.7/dist-packages/ideep4py/lib/libmkldnn.so.0 is not a symbolic link\n",
            "\n",
            "cp: '/usr/lib/chromium-browser/chromedriver' and '/usr/bin/chromedriver' are the same file\n",
            "Collecting selenium\n",
            "  Downloading selenium-4.1.3-py3-none-any.whl (968 kB)\n",
            "\u001b[K     |████████████████████████████████| 968 kB 8.5 MB/s \n",
            "\u001b[?25hCollecting trio~=0.17\n",
            "  Downloading trio-0.20.0-py3-none-any.whl (359 kB)\n",
            "\u001b[K     |████████████████████████████████| 359 kB 70.5 MB/s \n",
            "\u001b[?25hCollecting urllib3[secure,socks]~=1.26\n",
            "  Downloading urllib3-1.26.9-py2.py3-none-any.whl (138 kB)\n",
            "\u001b[K     |████████████████████████████████| 138 kB 54.8 MB/s \n",
            "\u001b[?25hCollecting trio-websocket~=0.9\n",
            "  Downloading trio_websocket-0.9.2-py3-none-any.whl (16 kB)\n",
            "Collecting outcome\n",
            "  Downloading outcome-1.1.0-py2.py3-none-any.whl (9.7 kB)\n",
            "Requirement already satisfied: idna in /usr/local/lib/python3.7/dist-packages (from trio~=0.17->selenium) (2.10)\n",
            "Requirement already satisfied: sortedcontainers in /usr/local/lib/python3.7/dist-packages (from trio~=0.17->selenium) (2.4.0)\n",
            "Requirement already satisfied: attrs>=19.2.0 in /usr/local/lib/python3.7/dist-packages (from trio~=0.17->selenium) (21.4.0)\n",
            "Collecting async-generator>=1.9\n",
            "  Downloading async_generator-1.10-py3-none-any.whl (18 kB)\n",
            "Collecting sniffio\n",
            "  Downloading sniffio-1.2.0-py3-none-any.whl (10 kB)\n",
            "Collecting wsproto>=0.14\n",
            "  Downloading wsproto-1.1.0-py3-none-any.whl (24 kB)\n",
            "Requirement already satisfied: PySocks!=1.5.7,<2.0,>=1.5.6 in /usr/local/lib/python3.7/dist-packages (from urllib3[secure,socks]~=1.26->selenium) (1.7.1)\n",
            "Collecting pyOpenSSL>=0.14\n",
            "  Downloading pyOpenSSL-22.0.0-py2.py3-none-any.whl (55 kB)\n",
            "\u001b[K     |████████████████████████████████| 55 kB 3.7 MB/s \n",
            "\u001b[?25hRequirement already satisfied: certifi in /usr/local/lib/python3.7/dist-packages (from urllib3[secure,socks]~=1.26->selenium) (2021.10.8)\n",
            "Collecting cryptography>=1.3.4\n",
            "  Downloading cryptography-36.0.2-cp36-abi3-manylinux_2_24_x86_64.whl (3.6 MB)\n",
            "\u001b[K     |████████████████████████████████| 3.6 MB 50.4 MB/s \n",
            "\u001b[?25hRequirement already satisfied: cffi>=1.12 in /usr/local/lib/python3.7/dist-packages (from cryptography>=1.3.4->urllib3[secure,socks]~=1.26->selenium) (1.15.0)\n",
            "Requirement already satisfied: pycparser in /usr/local/lib/python3.7/dist-packages (from cffi>=1.12->cryptography>=1.3.4->urllib3[secure,socks]~=1.26->selenium) (2.21)\n",
            "Collecting h11<1,>=0.9.0\n",
            "  Downloading h11-0.13.0-py3-none-any.whl (58 kB)\n",
            "\u001b[K     |████████████████████████████████| 58 kB 5.6 MB/s \n",
            "\u001b[?25hRequirement already satisfied: typing-extensions in /usr/local/lib/python3.7/dist-packages (from h11<1,>=0.9.0->wsproto>=0.14->trio-websocket~=0.9->selenium) (3.10.0.2)\n",
            "Installing collected packages: sniffio, outcome, h11, cryptography, async-generator, wsproto, urllib3, trio, pyOpenSSL, trio-websocket, selenium\n",
            "  Attempting uninstall: urllib3\n",
            "    Found existing installation: urllib3 1.24.3\n",
            "    Uninstalling urllib3-1.24.3:\n",
            "      Successfully uninstalled urllib3-1.24.3\n",
            "\u001b[31mERROR: pip's dependency resolver does not currently take into account all the packages that are installed. This behaviour is the source of the following dependency conflicts.\n",
            "requests 2.23.0 requires urllib3!=1.25.0,!=1.25.1,<1.26,>=1.21.1, but you have urllib3 1.26.9 which is incompatible.\n",
            "datascience 0.10.6 requires folium==0.2.1, but you have folium 0.8.3 which is incompatible.\u001b[0m\n",
            "Successfully installed async-generator-1.10 cryptography-36.0.2 h11-0.13.0 outcome-1.1.0 pyOpenSSL-22.0.0 selenium-4.1.3 sniffio-1.2.0 trio-0.20.0 trio-websocket-0.9.2 urllib3-1.26.9 wsproto-1.1.0\n"
          ]
        }
      ]
    },
    {
      "cell_type": "markdown",
      "metadata": {
        "id": "d8qwchKRn4lB"
      },
      "source": [
        "<a name=\"Trin_4\"></a>\n",
        "##**Trin 4** - Initialisere Selenium"
      ]
    },
    {
      "cell_type": "markdown",
      "metadata": {
        "id": "YZXs15HC9hXd"
      },
      "source": [
        "\n",
        "Derefter installere vi selenium  (vennligst sjekk [selenium](#selenium) ) og importere bibliotekket (vennligst sjekk [Hent bibliotekker](#Hent_bibliotekker_med_verktøyer) ),"
      ]
    },
    {
      "cell_type": "code",
      "metadata": {
        "id": "hoAdX2x2y26C"
      },
      "source": [
        "from selenium import webdriver\n",
        "options = webdriver.ChromeOptions()\n",
        "options.add_argument('--headless')\n",
        "options.add_argument('--no-sandbox')\n",
        "options.add_argument('--disable-dev-shm-usage')\n",
        "# open it, go to a website, and get results\n",
        "browser = webdriver.Chrome('chromedriver',options=options)\n",
        "browser.get(\"https://enhver.no/priser/\")\n",
        "#print(browser.page_source)  # results"
      ],
      "execution_count": 4,
      "outputs": []
    },
    {
      "cell_type": "markdown",
      "metadata": {
        "id": "ZxIvQrn4crgC"
      },
      "source": [
        "<a name=\"Trin_5\"></a>\n",
        "\n",
        "##**Trin 5** - Anvend matematikk bibliotekk\n",
        "\n",
        "Importere bibliotekket numpy, som har lit matematik funktionalitet (Sjekk vennligst  [matematikk](#matematikk) )\n",
        "\n",
        "```\n",
        "import numpy as np\n",
        "```\n"
      ]
    },
    {
      "cell_type": "code",
      "metadata": {
        "id": "LK2bzlL2ctus"
      },
      "source": [
        "import pandas as pd\n",
        "import numpy as np"
      ],
      "execution_count": 5,
      "outputs": []
    },
    {
      "cell_type": "markdown",
      "metadata": {
        "id": "zzjggqLmklgy"
      },
      "source": [
        "<a name=\"Trin_6\"></a>\n",
        "##**Trin 6** - Genere uker\n",
        "\n",
        "\n",
        "Genere et array, som representere uker (Sjekk vennligst  [tidsforskjell](#tidsforskjell) ) \n",
        "\n",
        "\n",
        "\n",
        "```\n",
        "df=date - pd.to_timedelta(np.arange(65), 'W')\n",
        "```"
      ]
    },
    {
      "cell_type": "markdown",
      "metadata": {
        "id": "xln8LFbcF1f6"
      },
      "source": [
        "<a name=\"Trin_7\"></a>\n",
        "\n",
        "\n",
        "\n",
        "##**Trin 7** - Genere kalendar\n",
        "\n",
        "\n",
        "Genere kalendar data (Sjekk vennligst [kalendar](#kalendar) )\n",
        "```\n",
        "datetimerange=pd.DataFrame(df.isocalendar())\n",
        "```\n",
        "\n",
        "\n"
      ]
    },
    {
      "cell_type": "markdown",
      "metadata": {
        "id": "7W8mA9FSa7RI"
      },
      "source": [
        "<a name=\"Trin_8\"></a>\n",
        "##**Trin 8**- Bruk for løkke\n",
        "\n",
        "\n",
        "Bruk en for løkke til at hente variablerne (Sjekk vennligst  [telle gjennom rader](#telle_gjennom_rader) )\n",
        "\n",
        "```\n",
        "for index in datetimerange.index:\n",
        "```\n"
      ]
    },
    {
      "cell_type": "markdown",
      "metadata": {
        "id": "1lEcCAyCa98H"
      },
      "source": [
        "<a name=\"Trin_9\"></a>\n",
        "##**Trin 9** - Velg variablene år og uke\n",
        "\n",
        "\n",
        "\n",
        "\n",
        "Velg variablene år og uke. Konverter år og uke, som et heltall (Sjekk vennligst  [heltall](#integer) )\n",
        "\n",
        "\n",
        "```\n",
        "  year_i=int(datetimerange[datetimerange.index==index]['year'])\n",
        "  week_i=int(datetimerange[datetimerange.index==index]['week'])\n",
        "```\n"
      ]
    },
    {
      "cell_type": "markdown",
      "metadata": {
        "id": "_qXOdJGppvGK"
      },
      "source": [
        "<a name=\"Trin_10\"></a>\n",
        "##**Trin 10** - identificeres web addresserne \n",
        "\n",
        "\n",
        "\n",
        "\n",
        "Forbered en string med uke og år, så web addresserne kan identificeres\n",
        "\n",
        "```\n",
        "sites.append(str(week_i)+\"/\"+str(year_i))\n",
        "```"
      ]
    },
    {
      "cell_type": "code",
      "metadata": {
        "id": "ZtzOMw_T-KiA",
        "colab": {
          "base_uri": "https://localhost:8080/"
        },
        "outputId": "08a58d23-9f52-4c6e-c1ac-55d58a4a838c"
      },
      "source": [
        "\n",
        "from datetime import date\n",
        "today = date.today()\n",
        "date = pd.to_datetime(today)\n",
        "df=date - pd.to_timedelta(np.arange(65), 'W')\n",
        "datetimerange=pd.DataFrame(df.isocalendar())\n",
        "sites=[]\n",
        "for index in datetimerange.index:\n",
        "  year_i=int(datetimerange[datetimerange.index==index]['year'])\n",
        "  week_i=int(datetimerange[datetimerange.index==index]['week'])\n",
        "  sites.append(str(week_i)+\"/\"+str(year_i))\n",
        "sites"
      ],
      "execution_count": 6,
      "outputs": [
        {
          "output_type": "execute_result",
          "data": {
            "text/plain": [
              "['14/2022',\n",
              " '13/2022',\n",
              " '12/2022',\n",
              " '11/2022',\n",
              " '10/2022',\n",
              " '9/2022',\n",
              " '8/2022',\n",
              " '7/2022',\n",
              " '6/2022',\n",
              " '5/2022',\n",
              " '4/2022',\n",
              " '3/2022',\n",
              " '2/2022',\n",
              " '1/2022',\n",
              " '52/2021',\n",
              " '51/2021',\n",
              " '50/2021',\n",
              " '49/2021',\n",
              " '48/2021',\n",
              " '47/2021',\n",
              " '46/2021',\n",
              " '45/2021',\n",
              " '44/2021',\n",
              " '43/2021',\n",
              " '42/2021',\n",
              " '41/2021',\n",
              " '40/2021',\n",
              " '39/2021',\n",
              " '38/2021',\n",
              " '37/2021',\n",
              " '36/2021',\n",
              " '35/2021',\n",
              " '34/2021',\n",
              " '33/2021',\n",
              " '32/2021',\n",
              " '31/2021',\n",
              " '30/2021',\n",
              " '29/2021',\n",
              " '28/2021',\n",
              " '27/2021',\n",
              " '26/2021',\n",
              " '25/2021',\n",
              " '24/2021',\n",
              " '23/2021',\n",
              " '22/2021',\n",
              " '21/2021',\n",
              " '20/2021',\n",
              " '19/2021',\n",
              " '18/2021',\n",
              " '17/2021',\n",
              " '16/2021',\n",
              " '15/2021',\n",
              " '14/2021',\n",
              " '13/2021',\n",
              " '12/2021',\n",
              " '11/2021',\n",
              " '10/2021',\n",
              " '9/2021',\n",
              " '8/2021',\n",
              " '7/2021',\n",
              " '6/2021',\n",
              " '5/2021',\n",
              " '4/2021',\n",
              " '3/2021',\n",
              " '2/2021']"
            ]
          },
          "metadata": {},
          "execution_count": 6
        }
      ]
    },
    {
      "cell_type": "markdown",
      "metadata": {
        "id": "Uci81H51cGgv"
      },
      "source": [
        "<a name=\"Trin_11\"></a>\n",
        "##**Trin 11** - Bruk for løkke\n",
        "\n",
        "\n",
        "Her benyttes en for løkke (Sjekk vennligst  [tell gjennom rader](#telle_gjennom_rader) )"
      ]
    },
    {
      "cell_type": "markdown",
      "metadata": {
        "id": "TkhlqSK4cHhl"
      },
      "source": [
        "<a name=\"Trin_12\"></a>\n",
        "\n",
        "##**Trin 12** - Del datasettet\n",
        "Datasettet bliver delt ved symbolet `\"/\"` (Sjekk vennligst  [split](#split) )\n",
        "\n"
      ]
    },
    {
      "cell_type": "markdown",
      "metadata": {
        "id": "WzFxkzqlcIkF"
      },
      "source": [
        "<a name=\"Trin_13\"></a>\n",
        "##**Trin 13** - Håndtere feil\n",
        "For at sikre at metoden ikke stopper ved feil, håndtere vi feil meddelser ved af `try:` og `except:` (Sjekk vennligst  [untagelser tid](#undtagelser) )\n"
      ]
    },
    {
      "cell_type": "markdown",
      "metadata": {
        "id": "AAIvMViAcJlG"
      },
      "source": [
        "<a name=\"Trin_14\"></a>\n",
        "##**Trin 14** - Bruk hvis logikk\n",
        "Vi anvender `if` for håndtere spesifise rader på en bestemt måte.\n",
        "(Sjekk vennligst  [hvis](#if) )\n"
      ]
    },
    {
      "cell_type": "markdown",
      "metadata": {
        "id": "H3TT-SBwcKqN"
      },
      "source": [
        "<a name=\"Trin_15\"></a>\n",
        "##**Trin 15** - Håndtere ulike rader\n",
        "Vi anvender `(i+1)%3==0:` for at håndtere rader med ulike innhold (Sjekk vennligst  [restverdi](#restverdi) )"
      ]
    },
    {
      "cell_type": "markdown",
      "metadata": {
        "id": "YipT9A-yXOqR"
      },
      "source": [
        "<a name=\"Trin_16\"></a>\n",
        "\n",
        "\n",
        "\n",
        "\n",
        "\n",
        "\n",
        "##**Trin 16** - Håndtere tid\n",
        "Vi sørger for et at overbelaste serveren  (Sjekk vennligst  [håndtere tid](#håndtere_tid) )\n"
      ]
    },
    {
      "cell_type": "markdown",
      "metadata": {
        "id": "VEA_EEH-g2Gf"
      },
      "source": [
        "Her hentes data for produkter for x antal uker (de 10 første)"
      ]
    },
    {
      "cell_type": "code",
      "metadata": {
        "colab": {
          "base_uri": "https://localhost:8080/"
        },
        "id": "PVoJGseDB2d-",
        "outputId": "475db885-f98b-44af-f002-32bc262536eb"
      },
      "source": [
        "\n",
        "import time\n",
        "pris_database=pd.DataFrame()\n",
        "database=pd.DataFrame()\n",
        "datarow=[]\n",
        "datarows_1=[]\n",
        "datarows_2=[]\n",
        "datarows_3=[]\n",
        "for i, uke in enumerate(sites[0:10]): # #List over originale kommunenavne \n",
        "  print(uke)\n",
        "  #Konvertering til web-format\n",
        "\n",
        "  browser.get(\"https://enhver.no/priser/\"+uke) \n",
        "  try:\n",
        "    data=browser.find_element_by_xpath(\"/html/body/div[1]/div[1]/div/div[2]/div/div/div\").text\n",
        "    for i, value in enumerate(data.split('\\n')):\n",
        "        if (i+1)%3==0:\n",
        "          datarow=list(value.split(\" \"))\n",
        "          datarow={'Kiwi': datarow[0],'Meny': datarow[1],'Obs': datarow[2],'Rema 1000': datarow[3],'Spar': datarow[4],'Extra': datarow[5]}\n",
        "          datarows_1.append(datarow)\n",
        "        if i%3==0:\n",
        "          datarow={'Produkter': value}\n",
        "          datarows_2.append(datarow)\n",
        "        if (i-1)%3==0:\n",
        "          datarow={'enhed': value, \"tid\": uke, \"ugenr\": uke.split(\"/\")[0], \"år\": uke.split(\"/\")[1]}\n",
        "\n",
        "\n",
        "          datarows_3.append(datarow)\n",
        "  except:\n",
        "    print(\"none\")\n",
        "  time.sleep(5)\n",
        "database=pd.concat([pd.DataFrame(datarows_2),pd.DataFrame(datarows_3),pd.DataFrame(datarows_1)], axis=1)"
      ],
      "execution_count": null,
      "outputs": [
        {
          "output_type": "stream",
          "name": "stdout",
          "text": [
            "14/2022\n"
          ]
        },
        {
          "output_type": "stream",
          "name": "stderr",
          "text": [
            "/usr/local/lib/python3.7/dist-packages/ipykernel_launcher.py:15: DeprecationWarning: find_element_by_xpath is deprecated. Please use find_element(by=By.XPATH, value=xpath) instead\n",
            "  from ipykernel import kernelapp as app\n"
          ]
        },
        {
          "output_type": "stream",
          "name": "stdout",
          "text": [
            "none\n",
            "13/2022\n",
            "none\n",
            "12/2022\n"
          ]
        }
      ]
    },
    {
      "cell_type": "markdown",
      "metadata": {
        "id": "ADEnByfedmid"
      },
      "source": [
        "Dato kolonnen formateres til kalendertid"
      ]
    },
    {
      "cell_type": "code",
      "metadata": {
        "id": "Er14-OsUhSOz"
      },
      "source": [
        "database=database.dropna()\n",
        "database['dato']=pd.to_datetime(database.ugenr.astype(str)+\n",
        "                           database.år.astype(str).add('-1') ,format='%V%G-%u')"
      ],
      "execution_count": null,
      "outputs": []
    },
    {
      "cell_type": "markdown",
      "metadata": {
        "id": "Y0ciCeQBIp_a"
      },
      "source": [
        "Se database"
      ]
    },
    {
      "cell_type": "code",
      "metadata": {
        "colab": {
          "base_uri": "https://localhost:8080/",
          "height": 1000
        },
        "id": "E6TwPh4QicHI",
        "outputId": "f3f6739f-b65f-4ef8-b7e1-9e003798b987"
      },
      "source": [
        "database"
      ],
      "execution_count": 9,
      "outputs": [
        {
          "output_type": "execute_result",
          "data": {
            "text/plain": [
              "                                Produkter  \\\n",
              "0                                   Agurk   \n",
              "1                          Aromat Krydder   \n",
              "2                       Kokt skinke Gilde   \n",
              "3                  Favoritt Salami, Gilde   \n",
              "4                       Grillpølser Gilde   \n",
              "5                Kjøttdeig billigste type   \n",
              "6                        Gilde Kjøttkaker   \n",
              "7                            Kyllingfilet   \n",
              "8                           Lettmelk Tine   \n",
              "9                      Egg billigste type   \n",
              "10                        Dr Oetker Pollo   \n",
              "11                                   Laks   \n",
              "12                     Fiskepinner Findus   \n",
              "13                 Fish and Crips, Findus   \n",
              "14                 Picnicskinke Stabburet   \n",
              "15                       Bakepulver Freia   \n",
              "16                  Bretagne kylling saus   \n",
              "17                        Billigste kneip   \n",
              "18                     Billigst hvetebrød   \n",
              "19              Tacosaus Hot, Old El Paso   \n",
              "20           Tacosaus Medium, Santa Maria   \n",
              "21                   Taco spice mix 3X25G   \n",
              "22                                Bananer   \n",
              "23                          Avocado Moden   \n",
              "24                  Gudbrandsdalsost Tine   \n",
              "25                      Kokt skinke Gilde   \n",
              "26                        Fenalår Stranda   \n",
              "27                      Grillpølser Gilde   \n",
              "28               Kjøttdeig billigste type   \n",
              "29                      Pulled Pork Tulip   \n",
              "30           Karbonadedeig billigste type   \n",
              "31                       Karbonader Gilde   \n",
              "32                           Kyllingfilet   \n",
              "33           Torsk m purresaus, gulrøtter   \n",
              "34  Fjordland Pasta med ost og skinkesaus   \n",
              "35                         Lettrømme Tine   \n",
              "36                          Lettmelk Tine   \n",
              "37                     Egg billigste type   \n",
              "38                     Peppes Triple Meat   \n",
              "39              God Gammeld. Fiskegrateng   \n",
              "40            Torskefilet Gourmet, Findus   \n",
              "41               Bergensk Fiskesuppe Toro   \n",
              "42                       Italienske gryte   \n",
              "43                      Bali kyllinggryte   \n",
              "44             Kjøttkakesaus 1 pose, Toro   \n",
              "45                       Peppersaus, Toro   \n",
              "46                        Sopps Spaghetti   \n",
              "47                Sopps snarkokt makaroni   \n",
              "48                  Dolmio Intens hvitløk   \n",
              "49                           Idun Ketchup   \n",
              "50                        Billigste kneip   \n",
              "\n",
              "                                  enhed      tid ugenr    år    Kiwi    Meny  \\\n",
              "0                                 1 stk  14/2022    14  2022   19.80   21.90   \n",
              "1                               90 gram  14/2022    14  2022   22.40   24.90   \n",
              "2                                110 gr  14/2022    14  2022   24.20   26.00   \n",
              "3                              150 gram  14/2022    14  2022   39.90   47.00   \n",
              "4                                600 gr  14/2022    14  2022   39.90   29.90   \n",
              "5                                400 gr  14/2022    14  2022   54.40   54.40   \n",
              "6                              800 gram  14/2022    14  2022   84.40   93.00   \n",
              "7                                  1 kg  14/2022    14  2022  109.29  134.29   \n",
              "8                               1 liter  14/2022    14  2022   18.30   19.90   \n",
              "9                                12 stk  14/2022    14  2022   22.87   26.60   \n",
              "10                             355 gram  14/2022    14  2022   39.90   49.90   \n",
              "11            4 pakning pris per 500 gr  14/2022    14  2022   49.90   49.90   \n",
              "12                             750 gram  14/2022    14  2022   58.40   43.75   \n",
              "13                             480 gram  14/2022    14  2022   57.40   47.11   \n",
              "14                               325 gr  14/2022    14  2022   39.90   42.90   \n",
              "15                             250 gram  14/2022    14  2022   19.90   21.90   \n",
              "16                              27 gram  14/2022    14  2022    9.80   13.90   \n",
              "17                                1 stk  14/2022    14  2022    6.90    6.90   \n",
              "18                                1 stk  14/2022    14  2022    6.90    6.90   \n",
              "19                             230 gram  14/2022    14  2022   15.90   17.50   \n",
              "20                               230 gr  14/2022    14  2022   13.90   14.90   \n",
              "21  17.90 18.50 16.60 15.90 19.90 15.90  14/2022    14  2022   19.90   19.08   \n",
              "22                         1 kg løsvekt  13/2022    13  2022   32.90   32.90   \n",
              "23                                 2 pk  13/2022    13  2022   49.80   59.90   \n",
              "24                               500 gr  13/2022    13  2022   24.20   25.90   \n",
              "25                               110 gr  13/2022    13  2022   64.40   71.50   \n",
              "26                             100 gram  13/2022    13  2022   39.90   42.60   \n",
              "27                               600 gr  13/2022    13  2022   54.40   54.40   \n",
              "28                               400 gr  13/2022    13  2022   79.90   88.00   \n",
              "29                             500 gram  13/2022    13  2022   67.90   49.90   \n",
              "30                               400 gr  13/2022    13  2022   79.90   87.00   \n",
              "31                               720 gr  13/2022    13  2022  109.29  134.29   \n",
              "32                                 1 kg  13/2022    13  2022   57.90   64.90   \n",
              "33                             550vgram  13/2022    13  2022   44.90   49.50   \n",
              "34                               350 gr  13/2022    13  2022   16.60   18.90   \n",
              "35                                 3 dl  13/2022    13  2022   18.30   19.90   \n",
              "36                              1 liter  13/2022    13  2022   22.87   26.60   \n",
              "37                               12 stk  13/2022    13  2022   59.90   68.90   \n",
              "38                             545 gram  13/2022    13  2022   54.90   59.30   \n",
              "39                             540 gram  13/2022    13  2022   81.40   89.00   \n",
              "40                             420 gram  13/2022    13  2022   22.90   24.90   \n",
              "41                                81 gr  13/2022    13  2022   26.40   39.90   \n",
              "42                             176 gram  13/2022    13  2022   28.90   26.90   \n",
              "43                                91 gr  13/2022    13  2022   13.80   15.50   \n",
              "44                              45 gram  13/2022    13  2022   12.90   14.20   \n",
              "45                              30 gram  13/2022    13  2022   14.90   15.90   \n",
              "46                               500 gr  13/2022    13  2022   17.90   19.30   \n",
              "47                                650gr  13/2022    13  2022   26.40   24.90   \n",
              "48                               500 gr  13/2022    13  2022   18.30   19.70   \n",
              "49                               530 gr  13/2022    13  2022    6.90    6.90   \n",
              "50                                1 stk  13/2022    13  2022    6.90    6.90   \n",
              "\n",
              "       Obs Rema 1000    Spar   Extra       dato  \n",
              "0    19.90     19.80   22.90   19.80 2022-04-04  \n",
              "1    23.50     22.40   23.90   22.40 2022-04-04  \n",
              "2    24.60     24.20   27.50   24.20 2022-04-04  \n",
              "3    29.82     39.90   43.90   39.90 2022-04-04  \n",
              "4    41.80     39.90   44.90   39.90 2022-04-04  \n",
              "5    54.40     54.40   54.90   54.40 2022-04-04  \n",
              "6    69.00     84.40   91.90   84.40 2022-04-04  \n",
              "7   109.29    109.29  110.71  109.29 2022-04-04  \n",
              "8    18.30     18.30   19.90   18.30 2022-04-04  \n",
              "9    22.90     22.87   25.90   22.87 2022-04-04  \n",
              "10   24.25     39.90   44.90   42.90 2022-04-04  \n",
              "11   49.90     49.90   49.90   49.90 2022-04-04  \n",
              "12   60.50     58.40   64.90   58.40 2022-04-04  \n",
              "13   63.50     57.40   66.90   57.40 2022-04-04  \n",
              "14   42.30     39.90   19.90   39.90 2022-04-04  \n",
              "15   19.90     19.90   21.50   19.90 2022-04-04  \n",
              "16   13.00      9.80   13.90    9.80 2022-04-04  \n",
              "17    6.90      5.00    6.90    6.90 2022-04-04  \n",
              "18    6.90      6.90    6.90    6.90 2022-04-04  \n",
              "19   17.00     15.90   10.74   15.90 2022-04-04  \n",
              "20    6.18     13.90    9.54    7.90 2022-04-04  \n",
              "21   20.90     20.80   12.90   19.90 2022-04-04  \n",
              "22   24.90     34.80   19.90   34.90 2022-03-28  \n",
              "23   53.20     49.80   59.90   49.80 2022-03-28  \n",
              "24   24.60     24.20   27.50   24.29 2022-03-28  \n",
              "25   65.20     64.40   72.90   64.40 2022-03-28  \n",
              "26   41.80     39.90   37.90   39.90 2022-03-28  \n",
              "27   54.40     54.40   54.90   54.40 2022-03-28  \n",
              "28   84.70     79.90   84.90   79.90 2022-03-28  \n",
              "29   67.10     67.90   64.90   67.10 2022-03-28  \n",
              "30   84.70     79.90   59.90   79.90 2022-03-28  \n",
              "31  109.29    109.29  110.71  109.29 2022-03-28  \n",
              "32   60.00     57.90   63.90   58.90 2022-03-28  \n",
              "33   47.60     44.90   48.90   44.90 2022-03-28  \n",
              "34   16.90     16.60   19.90   16.90 2022-03-28  \n",
              "35   18.30     18.30   19.90   18.30 2022-03-28  \n",
              "36   22.90     22.87   25.90   22.90 2022-03-28  \n",
              "37   64.00     59.90   49.90   59.90 2022-03-28  \n",
              "38   58.20     54.90   35.34   54.90 2022-03-28  \n",
              "39   87.00     81.40   52.74   81.40 2022-03-28  \n",
              "40   13.74     22.90   24.90   22.90 2022-03-28  \n",
              "41   23.10     26.40   39.90   37.80 2022-03-28  \n",
              "42   10.26     28.90   26.90   28.90 2022-03-28  \n",
              "43    7.20     13.80   15.50   13.90 2022-03-28  \n",
              "44    6.60     12.90   13.90   12.90 2022-03-28  \n",
              "45   10.85     14.90   15.90   14.90 2022-03-28  \n",
              "46   13.30     17.90   20.50   17.90 2022-03-28  \n",
              "47   28.60     26.90   24.90   26.90 2022-03-28  \n",
              "48   19.20     18.30   19.90   18.30 2022-03-28  \n",
              "49    6.90      6.90    6.90    6.90 2022-03-28  \n",
              "50    6.90      6.90    6.90    6.90 2022-03-28  "
            ],
            "text/html": [
              "\n",
              "  <div id=\"df-cba9d440-c78d-4d8b-9eac-1d39def9e5c8\">\n",
              "    <div class=\"colab-df-container\">\n",
              "      <div>\n",
              "<style scoped>\n",
              "    .dataframe tbody tr th:only-of-type {\n",
              "        vertical-align: middle;\n",
              "    }\n",
              "\n",
              "    .dataframe tbody tr th {\n",
              "        vertical-align: top;\n",
              "    }\n",
              "\n",
              "    .dataframe thead th {\n",
              "        text-align: right;\n",
              "    }\n",
              "</style>\n",
              "<table border=\"1\" class=\"dataframe\">\n",
              "  <thead>\n",
              "    <tr style=\"text-align: right;\">\n",
              "      <th></th>\n",
              "      <th>Produkter</th>\n",
              "      <th>enhed</th>\n",
              "      <th>tid</th>\n",
              "      <th>ugenr</th>\n",
              "      <th>år</th>\n",
              "      <th>Kiwi</th>\n",
              "      <th>Meny</th>\n",
              "      <th>Obs</th>\n",
              "      <th>Rema 1000</th>\n",
              "      <th>Spar</th>\n",
              "      <th>Extra</th>\n",
              "      <th>dato</th>\n",
              "    </tr>\n",
              "  </thead>\n",
              "  <tbody>\n",
              "    <tr>\n",
              "      <th>0</th>\n",
              "      <td>Agurk</td>\n",
              "      <td>1 stk</td>\n",
              "      <td>14/2022</td>\n",
              "      <td>14</td>\n",
              "      <td>2022</td>\n",
              "      <td>19.80</td>\n",
              "      <td>21.90</td>\n",
              "      <td>19.90</td>\n",
              "      <td>19.80</td>\n",
              "      <td>22.90</td>\n",
              "      <td>19.80</td>\n",
              "      <td>2022-04-04</td>\n",
              "    </tr>\n",
              "    <tr>\n",
              "      <th>1</th>\n",
              "      <td>Aromat Krydder</td>\n",
              "      <td>90 gram</td>\n",
              "      <td>14/2022</td>\n",
              "      <td>14</td>\n",
              "      <td>2022</td>\n",
              "      <td>22.40</td>\n",
              "      <td>24.90</td>\n",
              "      <td>23.50</td>\n",
              "      <td>22.40</td>\n",
              "      <td>23.90</td>\n",
              "      <td>22.40</td>\n",
              "      <td>2022-04-04</td>\n",
              "    </tr>\n",
              "    <tr>\n",
              "      <th>2</th>\n",
              "      <td>Kokt skinke Gilde</td>\n",
              "      <td>110 gr</td>\n",
              "      <td>14/2022</td>\n",
              "      <td>14</td>\n",
              "      <td>2022</td>\n",
              "      <td>24.20</td>\n",
              "      <td>26.00</td>\n",
              "      <td>24.60</td>\n",
              "      <td>24.20</td>\n",
              "      <td>27.50</td>\n",
              "      <td>24.20</td>\n",
              "      <td>2022-04-04</td>\n",
              "    </tr>\n",
              "    <tr>\n",
              "      <th>3</th>\n",
              "      <td>Favoritt Salami, Gilde</td>\n",
              "      <td>150 gram</td>\n",
              "      <td>14/2022</td>\n",
              "      <td>14</td>\n",
              "      <td>2022</td>\n",
              "      <td>39.90</td>\n",
              "      <td>47.00</td>\n",
              "      <td>29.82</td>\n",
              "      <td>39.90</td>\n",
              "      <td>43.90</td>\n",
              "      <td>39.90</td>\n",
              "      <td>2022-04-04</td>\n",
              "    </tr>\n",
              "    <tr>\n",
              "      <th>4</th>\n",
              "      <td>Grillpølser Gilde</td>\n",
              "      <td>600 gr</td>\n",
              "      <td>14/2022</td>\n",
              "      <td>14</td>\n",
              "      <td>2022</td>\n",
              "      <td>39.90</td>\n",
              "      <td>29.90</td>\n",
              "      <td>41.80</td>\n",
              "      <td>39.90</td>\n",
              "      <td>44.90</td>\n",
              "      <td>39.90</td>\n",
              "      <td>2022-04-04</td>\n",
              "    </tr>\n",
              "    <tr>\n",
              "      <th>5</th>\n",
              "      <td>Kjøttdeig billigste type</td>\n",
              "      <td>400 gr</td>\n",
              "      <td>14/2022</td>\n",
              "      <td>14</td>\n",
              "      <td>2022</td>\n",
              "      <td>54.40</td>\n",
              "      <td>54.40</td>\n",
              "      <td>54.40</td>\n",
              "      <td>54.40</td>\n",
              "      <td>54.90</td>\n",
              "      <td>54.40</td>\n",
              "      <td>2022-04-04</td>\n",
              "    </tr>\n",
              "    <tr>\n",
              "      <th>6</th>\n",
              "      <td>Gilde Kjøttkaker</td>\n",
              "      <td>800 gram</td>\n",
              "      <td>14/2022</td>\n",
              "      <td>14</td>\n",
              "      <td>2022</td>\n",
              "      <td>84.40</td>\n",
              "      <td>93.00</td>\n",
              "      <td>69.00</td>\n",
              "      <td>84.40</td>\n",
              "      <td>91.90</td>\n",
              "      <td>84.40</td>\n",
              "      <td>2022-04-04</td>\n",
              "    </tr>\n",
              "    <tr>\n",
              "      <th>7</th>\n",
              "      <td>Kyllingfilet</td>\n",
              "      <td>1 kg</td>\n",
              "      <td>14/2022</td>\n",
              "      <td>14</td>\n",
              "      <td>2022</td>\n",
              "      <td>109.29</td>\n",
              "      <td>134.29</td>\n",
              "      <td>109.29</td>\n",
              "      <td>109.29</td>\n",
              "      <td>110.71</td>\n",
              "      <td>109.29</td>\n",
              "      <td>2022-04-04</td>\n",
              "    </tr>\n",
              "    <tr>\n",
              "      <th>8</th>\n",
              "      <td>Lettmelk Tine</td>\n",
              "      <td>1 liter</td>\n",
              "      <td>14/2022</td>\n",
              "      <td>14</td>\n",
              "      <td>2022</td>\n",
              "      <td>18.30</td>\n",
              "      <td>19.90</td>\n",
              "      <td>18.30</td>\n",
              "      <td>18.30</td>\n",
              "      <td>19.90</td>\n",
              "      <td>18.30</td>\n",
              "      <td>2022-04-04</td>\n",
              "    </tr>\n",
              "    <tr>\n",
              "      <th>9</th>\n",
              "      <td>Egg billigste type</td>\n",
              "      <td>12 stk</td>\n",
              "      <td>14/2022</td>\n",
              "      <td>14</td>\n",
              "      <td>2022</td>\n",
              "      <td>22.87</td>\n",
              "      <td>26.60</td>\n",
              "      <td>22.90</td>\n",
              "      <td>22.87</td>\n",
              "      <td>25.90</td>\n",
              "      <td>22.87</td>\n",
              "      <td>2022-04-04</td>\n",
              "    </tr>\n",
              "    <tr>\n",
              "      <th>10</th>\n",
              "      <td>Dr Oetker Pollo</td>\n",
              "      <td>355 gram</td>\n",
              "      <td>14/2022</td>\n",
              "      <td>14</td>\n",
              "      <td>2022</td>\n",
              "      <td>39.90</td>\n",
              "      <td>49.90</td>\n",
              "      <td>24.25</td>\n",
              "      <td>39.90</td>\n",
              "      <td>44.90</td>\n",
              "      <td>42.90</td>\n",
              "      <td>2022-04-04</td>\n",
              "    </tr>\n",
              "    <tr>\n",
              "      <th>11</th>\n",
              "      <td>Laks</td>\n",
              "      <td>4 pakning pris per 500 gr</td>\n",
              "      <td>14/2022</td>\n",
              "      <td>14</td>\n",
              "      <td>2022</td>\n",
              "      <td>49.90</td>\n",
              "      <td>49.90</td>\n",
              "      <td>49.90</td>\n",
              "      <td>49.90</td>\n",
              "      <td>49.90</td>\n",
              "      <td>49.90</td>\n",
              "      <td>2022-04-04</td>\n",
              "    </tr>\n",
              "    <tr>\n",
              "      <th>12</th>\n",
              "      <td>Fiskepinner Findus</td>\n",
              "      <td>750 gram</td>\n",
              "      <td>14/2022</td>\n",
              "      <td>14</td>\n",
              "      <td>2022</td>\n",
              "      <td>58.40</td>\n",
              "      <td>43.75</td>\n",
              "      <td>60.50</td>\n",
              "      <td>58.40</td>\n",
              "      <td>64.90</td>\n",
              "      <td>58.40</td>\n",
              "      <td>2022-04-04</td>\n",
              "    </tr>\n",
              "    <tr>\n",
              "      <th>13</th>\n",
              "      <td>Fish and Crips, Findus</td>\n",
              "      <td>480 gram</td>\n",
              "      <td>14/2022</td>\n",
              "      <td>14</td>\n",
              "      <td>2022</td>\n",
              "      <td>57.40</td>\n",
              "      <td>47.11</td>\n",
              "      <td>63.50</td>\n",
              "      <td>57.40</td>\n",
              "      <td>66.90</td>\n",
              "      <td>57.40</td>\n",
              "      <td>2022-04-04</td>\n",
              "    </tr>\n",
              "    <tr>\n",
              "      <th>14</th>\n",
              "      <td>Picnicskinke Stabburet</td>\n",
              "      <td>325 gr</td>\n",
              "      <td>14/2022</td>\n",
              "      <td>14</td>\n",
              "      <td>2022</td>\n",
              "      <td>39.90</td>\n",
              "      <td>42.90</td>\n",
              "      <td>42.30</td>\n",
              "      <td>39.90</td>\n",
              "      <td>19.90</td>\n",
              "      <td>39.90</td>\n",
              "      <td>2022-04-04</td>\n",
              "    </tr>\n",
              "    <tr>\n",
              "      <th>15</th>\n",
              "      <td>Bakepulver Freia</td>\n",
              "      <td>250 gram</td>\n",
              "      <td>14/2022</td>\n",
              "      <td>14</td>\n",
              "      <td>2022</td>\n",
              "      <td>19.90</td>\n",
              "      <td>21.90</td>\n",
              "      <td>19.90</td>\n",
              "      <td>19.90</td>\n",
              "      <td>21.50</td>\n",
              "      <td>19.90</td>\n",
              "      <td>2022-04-04</td>\n",
              "    </tr>\n",
              "    <tr>\n",
              "      <th>16</th>\n",
              "      <td>Bretagne kylling saus</td>\n",
              "      <td>27 gram</td>\n",
              "      <td>14/2022</td>\n",
              "      <td>14</td>\n",
              "      <td>2022</td>\n",
              "      <td>9.80</td>\n",
              "      <td>13.90</td>\n",
              "      <td>13.00</td>\n",
              "      <td>9.80</td>\n",
              "      <td>13.90</td>\n",
              "      <td>9.80</td>\n",
              "      <td>2022-04-04</td>\n",
              "    </tr>\n",
              "    <tr>\n",
              "      <th>17</th>\n",
              "      <td>Billigste kneip</td>\n",
              "      <td>1 stk</td>\n",
              "      <td>14/2022</td>\n",
              "      <td>14</td>\n",
              "      <td>2022</td>\n",
              "      <td>6.90</td>\n",
              "      <td>6.90</td>\n",
              "      <td>6.90</td>\n",
              "      <td>5.00</td>\n",
              "      <td>6.90</td>\n",
              "      <td>6.90</td>\n",
              "      <td>2022-04-04</td>\n",
              "    </tr>\n",
              "    <tr>\n",
              "      <th>18</th>\n",
              "      <td>Billigst hvetebrød</td>\n",
              "      <td>1 stk</td>\n",
              "      <td>14/2022</td>\n",
              "      <td>14</td>\n",
              "      <td>2022</td>\n",
              "      <td>6.90</td>\n",
              "      <td>6.90</td>\n",
              "      <td>6.90</td>\n",
              "      <td>6.90</td>\n",
              "      <td>6.90</td>\n",
              "      <td>6.90</td>\n",
              "      <td>2022-04-04</td>\n",
              "    </tr>\n",
              "    <tr>\n",
              "      <th>19</th>\n",
              "      <td>Tacosaus Hot, Old El Paso</td>\n",
              "      <td>230 gram</td>\n",
              "      <td>14/2022</td>\n",
              "      <td>14</td>\n",
              "      <td>2022</td>\n",
              "      <td>15.90</td>\n",
              "      <td>17.50</td>\n",
              "      <td>17.00</td>\n",
              "      <td>15.90</td>\n",
              "      <td>10.74</td>\n",
              "      <td>15.90</td>\n",
              "      <td>2022-04-04</td>\n",
              "    </tr>\n",
              "    <tr>\n",
              "      <th>20</th>\n",
              "      <td>Tacosaus Medium, Santa Maria</td>\n",
              "      <td>230 gr</td>\n",
              "      <td>14/2022</td>\n",
              "      <td>14</td>\n",
              "      <td>2022</td>\n",
              "      <td>13.90</td>\n",
              "      <td>14.90</td>\n",
              "      <td>6.18</td>\n",
              "      <td>13.90</td>\n",
              "      <td>9.54</td>\n",
              "      <td>7.90</td>\n",
              "      <td>2022-04-04</td>\n",
              "    </tr>\n",
              "    <tr>\n",
              "      <th>21</th>\n",
              "      <td>Taco spice mix 3X25G</td>\n",
              "      <td>17.90 18.50 16.60 15.90 19.90 15.90</td>\n",
              "      <td>14/2022</td>\n",
              "      <td>14</td>\n",
              "      <td>2022</td>\n",
              "      <td>19.90</td>\n",
              "      <td>19.08</td>\n",
              "      <td>20.90</td>\n",
              "      <td>20.80</td>\n",
              "      <td>12.90</td>\n",
              "      <td>19.90</td>\n",
              "      <td>2022-04-04</td>\n",
              "    </tr>\n",
              "    <tr>\n",
              "      <th>22</th>\n",
              "      <td>Bananer</td>\n",
              "      <td>1 kg løsvekt</td>\n",
              "      <td>13/2022</td>\n",
              "      <td>13</td>\n",
              "      <td>2022</td>\n",
              "      <td>32.90</td>\n",
              "      <td>32.90</td>\n",
              "      <td>24.90</td>\n",
              "      <td>34.80</td>\n",
              "      <td>19.90</td>\n",
              "      <td>34.90</td>\n",
              "      <td>2022-03-28</td>\n",
              "    </tr>\n",
              "    <tr>\n",
              "      <th>23</th>\n",
              "      <td>Avocado Moden</td>\n",
              "      <td>2 pk</td>\n",
              "      <td>13/2022</td>\n",
              "      <td>13</td>\n",
              "      <td>2022</td>\n",
              "      <td>49.80</td>\n",
              "      <td>59.90</td>\n",
              "      <td>53.20</td>\n",
              "      <td>49.80</td>\n",
              "      <td>59.90</td>\n",
              "      <td>49.80</td>\n",
              "      <td>2022-03-28</td>\n",
              "    </tr>\n",
              "    <tr>\n",
              "      <th>24</th>\n",
              "      <td>Gudbrandsdalsost Tine</td>\n",
              "      <td>500 gr</td>\n",
              "      <td>13/2022</td>\n",
              "      <td>13</td>\n",
              "      <td>2022</td>\n",
              "      <td>24.20</td>\n",
              "      <td>25.90</td>\n",
              "      <td>24.60</td>\n",
              "      <td>24.20</td>\n",
              "      <td>27.50</td>\n",
              "      <td>24.29</td>\n",
              "      <td>2022-03-28</td>\n",
              "    </tr>\n",
              "    <tr>\n",
              "      <th>25</th>\n",
              "      <td>Kokt skinke Gilde</td>\n",
              "      <td>110 gr</td>\n",
              "      <td>13/2022</td>\n",
              "      <td>13</td>\n",
              "      <td>2022</td>\n",
              "      <td>64.40</td>\n",
              "      <td>71.50</td>\n",
              "      <td>65.20</td>\n",
              "      <td>64.40</td>\n",
              "      <td>72.90</td>\n",
              "      <td>64.40</td>\n",
              "      <td>2022-03-28</td>\n",
              "    </tr>\n",
              "    <tr>\n",
              "      <th>26</th>\n",
              "      <td>Fenalår Stranda</td>\n",
              "      <td>100 gram</td>\n",
              "      <td>13/2022</td>\n",
              "      <td>13</td>\n",
              "      <td>2022</td>\n",
              "      <td>39.90</td>\n",
              "      <td>42.60</td>\n",
              "      <td>41.80</td>\n",
              "      <td>39.90</td>\n",
              "      <td>37.90</td>\n",
              "      <td>39.90</td>\n",
              "      <td>2022-03-28</td>\n",
              "    </tr>\n",
              "    <tr>\n",
              "      <th>27</th>\n",
              "      <td>Grillpølser Gilde</td>\n",
              "      <td>600 gr</td>\n",
              "      <td>13/2022</td>\n",
              "      <td>13</td>\n",
              "      <td>2022</td>\n",
              "      <td>54.40</td>\n",
              "      <td>54.40</td>\n",
              "      <td>54.40</td>\n",
              "      <td>54.40</td>\n",
              "      <td>54.90</td>\n",
              "      <td>54.40</td>\n",
              "      <td>2022-03-28</td>\n",
              "    </tr>\n",
              "    <tr>\n",
              "      <th>28</th>\n",
              "      <td>Kjøttdeig billigste type</td>\n",
              "      <td>400 gr</td>\n",
              "      <td>13/2022</td>\n",
              "      <td>13</td>\n",
              "      <td>2022</td>\n",
              "      <td>79.90</td>\n",
              "      <td>88.00</td>\n",
              "      <td>84.70</td>\n",
              "      <td>79.90</td>\n",
              "      <td>84.90</td>\n",
              "      <td>79.90</td>\n",
              "      <td>2022-03-28</td>\n",
              "    </tr>\n",
              "    <tr>\n",
              "      <th>29</th>\n",
              "      <td>Pulled Pork Tulip</td>\n",
              "      <td>500 gram</td>\n",
              "      <td>13/2022</td>\n",
              "      <td>13</td>\n",
              "      <td>2022</td>\n",
              "      <td>67.90</td>\n",
              "      <td>49.90</td>\n",
              "      <td>67.10</td>\n",
              "      <td>67.90</td>\n",
              "      <td>64.90</td>\n",
              "      <td>67.10</td>\n",
              "      <td>2022-03-28</td>\n",
              "    </tr>\n",
              "    <tr>\n",
              "      <th>30</th>\n",
              "      <td>Karbonadedeig billigste type</td>\n",
              "      <td>400 gr</td>\n",
              "      <td>13/2022</td>\n",
              "      <td>13</td>\n",
              "      <td>2022</td>\n",
              "      <td>79.90</td>\n",
              "      <td>87.00</td>\n",
              "      <td>84.70</td>\n",
              "      <td>79.90</td>\n",
              "      <td>59.90</td>\n",
              "      <td>79.90</td>\n",
              "      <td>2022-03-28</td>\n",
              "    </tr>\n",
              "    <tr>\n",
              "      <th>31</th>\n",
              "      <td>Karbonader Gilde</td>\n",
              "      <td>720 gr</td>\n",
              "      <td>13/2022</td>\n",
              "      <td>13</td>\n",
              "      <td>2022</td>\n",
              "      <td>109.29</td>\n",
              "      <td>134.29</td>\n",
              "      <td>109.29</td>\n",
              "      <td>109.29</td>\n",
              "      <td>110.71</td>\n",
              "      <td>109.29</td>\n",
              "      <td>2022-03-28</td>\n",
              "    </tr>\n",
              "    <tr>\n",
              "      <th>32</th>\n",
              "      <td>Kyllingfilet</td>\n",
              "      <td>1 kg</td>\n",
              "      <td>13/2022</td>\n",
              "      <td>13</td>\n",
              "      <td>2022</td>\n",
              "      <td>57.90</td>\n",
              "      <td>64.90</td>\n",
              "      <td>60.00</td>\n",
              "      <td>57.90</td>\n",
              "      <td>63.90</td>\n",
              "      <td>58.90</td>\n",
              "      <td>2022-03-28</td>\n",
              "    </tr>\n",
              "    <tr>\n",
              "      <th>33</th>\n",
              "      <td>Torsk m purresaus, gulrøtter</td>\n",
              "      <td>550vgram</td>\n",
              "      <td>13/2022</td>\n",
              "      <td>13</td>\n",
              "      <td>2022</td>\n",
              "      <td>44.90</td>\n",
              "      <td>49.50</td>\n",
              "      <td>47.60</td>\n",
              "      <td>44.90</td>\n",
              "      <td>48.90</td>\n",
              "      <td>44.90</td>\n",
              "      <td>2022-03-28</td>\n",
              "    </tr>\n",
              "    <tr>\n",
              "      <th>34</th>\n",
              "      <td>Fjordland Pasta med ost og skinkesaus</td>\n",
              "      <td>350 gr</td>\n",
              "      <td>13/2022</td>\n",
              "      <td>13</td>\n",
              "      <td>2022</td>\n",
              "      <td>16.60</td>\n",
              "      <td>18.90</td>\n",
              "      <td>16.90</td>\n",
              "      <td>16.60</td>\n",
              "      <td>19.90</td>\n",
              "      <td>16.90</td>\n",
              "      <td>2022-03-28</td>\n",
              "    </tr>\n",
              "    <tr>\n",
              "      <th>35</th>\n",
              "      <td>Lettrømme Tine</td>\n",
              "      <td>3 dl</td>\n",
              "      <td>13/2022</td>\n",
              "      <td>13</td>\n",
              "      <td>2022</td>\n",
              "      <td>18.30</td>\n",
              "      <td>19.90</td>\n",
              "      <td>18.30</td>\n",
              "      <td>18.30</td>\n",
              "      <td>19.90</td>\n",
              "      <td>18.30</td>\n",
              "      <td>2022-03-28</td>\n",
              "    </tr>\n",
              "    <tr>\n",
              "      <th>36</th>\n",
              "      <td>Lettmelk Tine</td>\n",
              "      <td>1 liter</td>\n",
              "      <td>13/2022</td>\n",
              "      <td>13</td>\n",
              "      <td>2022</td>\n",
              "      <td>22.87</td>\n",
              "      <td>26.60</td>\n",
              "      <td>22.90</td>\n",
              "      <td>22.87</td>\n",
              "      <td>25.90</td>\n",
              "      <td>22.90</td>\n",
              "      <td>2022-03-28</td>\n",
              "    </tr>\n",
              "    <tr>\n",
              "      <th>37</th>\n",
              "      <td>Egg billigste type</td>\n",
              "      <td>12 stk</td>\n",
              "      <td>13/2022</td>\n",
              "      <td>13</td>\n",
              "      <td>2022</td>\n",
              "      <td>59.90</td>\n",
              "      <td>68.90</td>\n",
              "      <td>64.00</td>\n",
              "      <td>59.90</td>\n",
              "      <td>49.90</td>\n",
              "      <td>59.90</td>\n",
              "      <td>2022-03-28</td>\n",
              "    </tr>\n",
              "    <tr>\n",
              "      <th>38</th>\n",
              "      <td>Peppes Triple Meat</td>\n",
              "      <td>545 gram</td>\n",
              "      <td>13/2022</td>\n",
              "      <td>13</td>\n",
              "      <td>2022</td>\n",
              "      <td>54.90</td>\n",
              "      <td>59.30</td>\n",
              "      <td>58.20</td>\n",
              "      <td>54.90</td>\n",
              "      <td>35.34</td>\n",
              "      <td>54.90</td>\n",
              "      <td>2022-03-28</td>\n",
              "    </tr>\n",
              "    <tr>\n",
              "      <th>39</th>\n",
              "      <td>God Gammeld. Fiskegrateng</td>\n",
              "      <td>540 gram</td>\n",
              "      <td>13/2022</td>\n",
              "      <td>13</td>\n",
              "      <td>2022</td>\n",
              "      <td>81.40</td>\n",
              "      <td>89.00</td>\n",
              "      <td>87.00</td>\n",
              "      <td>81.40</td>\n",
              "      <td>52.74</td>\n",
              "      <td>81.40</td>\n",
              "      <td>2022-03-28</td>\n",
              "    </tr>\n",
              "    <tr>\n",
              "      <th>40</th>\n",
              "      <td>Torskefilet Gourmet, Findus</td>\n",
              "      <td>420 gram</td>\n",
              "      <td>13/2022</td>\n",
              "      <td>13</td>\n",
              "      <td>2022</td>\n",
              "      <td>22.90</td>\n",
              "      <td>24.90</td>\n",
              "      <td>13.74</td>\n",
              "      <td>22.90</td>\n",
              "      <td>24.90</td>\n",
              "      <td>22.90</td>\n",
              "      <td>2022-03-28</td>\n",
              "    </tr>\n",
              "    <tr>\n",
              "      <th>41</th>\n",
              "      <td>Bergensk Fiskesuppe Toro</td>\n",
              "      <td>81 gr</td>\n",
              "      <td>13/2022</td>\n",
              "      <td>13</td>\n",
              "      <td>2022</td>\n",
              "      <td>26.40</td>\n",
              "      <td>39.90</td>\n",
              "      <td>23.10</td>\n",
              "      <td>26.40</td>\n",
              "      <td>39.90</td>\n",
              "      <td>37.80</td>\n",
              "      <td>2022-03-28</td>\n",
              "    </tr>\n",
              "    <tr>\n",
              "      <th>42</th>\n",
              "      <td>Italienske gryte</td>\n",
              "      <td>176 gram</td>\n",
              "      <td>13/2022</td>\n",
              "      <td>13</td>\n",
              "      <td>2022</td>\n",
              "      <td>28.90</td>\n",
              "      <td>26.90</td>\n",
              "      <td>10.26</td>\n",
              "      <td>28.90</td>\n",
              "      <td>26.90</td>\n",
              "      <td>28.90</td>\n",
              "      <td>2022-03-28</td>\n",
              "    </tr>\n",
              "    <tr>\n",
              "      <th>43</th>\n",
              "      <td>Bali kyllinggryte</td>\n",
              "      <td>91 gr</td>\n",
              "      <td>13/2022</td>\n",
              "      <td>13</td>\n",
              "      <td>2022</td>\n",
              "      <td>13.80</td>\n",
              "      <td>15.50</td>\n",
              "      <td>7.20</td>\n",
              "      <td>13.80</td>\n",
              "      <td>15.50</td>\n",
              "      <td>13.90</td>\n",
              "      <td>2022-03-28</td>\n",
              "    </tr>\n",
              "    <tr>\n",
              "      <th>44</th>\n",
              "      <td>Kjøttkakesaus 1 pose, Toro</td>\n",
              "      <td>45 gram</td>\n",
              "      <td>13/2022</td>\n",
              "      <td>13</td>\n",
              "      <td>2022</td>\n",
              "      <td>12.90</td>\n",
              "      <td>14.20</td>\n",
              "      <td>6.60</td>\n",
              "      <td>12.90</td>\n",
              "      <td>13.90</td>\n",
              "      <td>12.90</td>\n",
              "      <td>2022-03-28</td>\n",
              "    </tr>\n",
              "    <tr>\n",
              "      <th>45</th>\n",
              "      <td>Peppersaus, Toro</td>\n",
              "      <td>30 gram</td>\n",
              "      <td>13/2022</td>\n",
              "      <td>13</td>\n",
              "      <td>2022</td>\n",
              "      <td>14.90</td>\n",
              "      <td>15.90</td>\n",
              "      <td>10.85</td>\n",
              "      <td>14.90</td>\n",
              "      <td>15.90</td>\n",
              "      <td>14.90</td>\n",
              "      <td>2022-03-28</td>\n",
              "    </tr>\n",
              "    <tr>\n",
              "      <th>46</th>\n",
              "      <td>Sopps Spaghetti</td>\n",
              "      <td>500 gr</td>\n",
              "      <td>13/2022</td>\n",
              "      <td>13</td>\n",
              "      <td>2022</td>\n",
              "      <td>17.90</td>\n",
              "      <td>19.30</td>\n",
              "      <td>13.30</td>\n",
              "      <td>17.90</td>\n",
              "      <td>20.50</td>\n",
              "      <td>17.90</td>\n",
              "      <td>2022-03-28</td>\n",
              "    </tr>\n",
              "    <tr>\n",
              "      <th>47</th>\n",
              "      <td>Sopps snarkokt makaroni</td>\n",
              "      <td>650gr</td>\n",
              "      <td>13/2022</td>\n",
              "      <td>13</td>\n",
              "      <td>2022</td>\n",
              "      <td>26.40</td>\n",
              "      <td>24.90</td>\n",
              "      <td>28.60</td>\n",
              "      <td>26.90</td>\n",
              "      <td>24.90</td>\n",
              "      <td>26.90</td>\n",
              "      <td>2022-03-28</td>\n",
              "    </tr>\n",
              "    <tr>\n",
              "      <th>48</th>\n",
              "      <td>Dolmio Intens hvitløk</td>\n",
              "      <td>500 gr</td>\n",
              "      <td>13/2022</td>\n",
              "      <td>13</td>\n",
              "      <td>2022</td>\n",
              "      <td>18.30</td>\n",
              "      <td>19.70</td>\n",
              "      <td>19.20</td>\n",
              "      <td>18.30</td>\n",
              "      <td>19.90</td>\n",
              "      <td>18.30</td>\n",
              "      <td>2022-03-28</td>\n",
              "    </tr>\n",
              "    <tr>\n",
              "      <th>49</th>\n",
              "      <td>Idun Ketchup</td>\n",
              "      <td>530 gr</td>\n",
              "      <td>13/2022</td>\n",
              "      <td>13</td>\n",
              "      <td>2022</td>\n",
              "      <td>6.90</td>\n",
              "      <td>6.90</td>\n",
              "      <td>6.90</td>\n",
              "      <td>6.90</td>\n",
              "      <td>6.90</td>\n",
              "      <td>6.90</td>\n",
              "      <td>2022-03-28</td>\n",
              "    </tr>\n",
              "    <tr>\n",
              "      <th>50</th>\n",
              "      <td>Billigste kneip</td>\n",
              "      <td>1 stk</td>\n",
              "      <td>13/2022</td>\n",
              "      <td>13</td>\n",
              "      <td>2022</td>\n",
              "      <td>6.90</td>\n",
              "      <td>6.90</td>\n",
              "      <td>6.90</td>\n",
              "      <td>6.90</td>\n",
              "      <td>6.90</td>\n",
              "      <td>6.90</td>\n",
              "      <td>2022-03-28</td>\n",
              "    </tr>\n",
              "  </tbody>\n",
              "</table>\n",
              "</div>\n",
              "      <button class=\"colab-df-convert\" onclick=\"convertToInteractive('df-cba9d440-c78d-4d8b-9eac-1d39def9e5c8')\"\n",
              "              title=\"Convert this dataframe to an interactive table.\"\n",
              "              style=\"display:none;\">\n",
              "        \n",
              "  <svg xmlns=\"http://www.w3.org/2000/svg\" height=\"24px\"viewBox=\"0 0 24 24\"\n",
              "       width=\"24px\">\n",
              "    <path d=\"M0 0h24v24H0V0z\" fill=\"none\"/>\n",
              "    <path d=\"M18.56 5.44l.94 2.06.94-2.06 2.06-.94-2.06-.94-.94-2.06-.94 2.06-2.06.94zm-11 1L8.5 8.5l.94-2.06 2.06-.94-2.06-.94L8.5 2.5l-.94 2.06-2.06.94zm10 10l.94 2.06.94-2.06 2.06-.94-2.06-.94-.94-2.06-.94 2.06-2.06.94z\"/><path d=\"M17.41 7.96l-1.37-1.37c-.4-.4-.92-.59-1.43-.59-.52 0-1.04.2-1.43.59L10.3 9.45l-7.72 7.72c-.78.78-.78 2.05 0 2.83L4 21.41c.39.39.9.59 1.41.59.51 0 1.02-.2 1.41-.59l7.78-7.78 2.81-2.81c.8-.78.8-2.07 0-2.86zM5.41 20L4 18.59l7.72-7.72 1.47 1.35L5.41 20z\"/>\n",
              "  </svg>\n",
              "      </button>\n",
              "      \n",
              "  <style>\n",
              "    .colab-df-container {\n",
              "      display:flex;\n",
              "      flex-wrap:wrap;\n",
              "      gap: 12px;\n",
              "    }\n",
              "\n",
              "    .colab-df-convert {\n",
              "      background-color: #E8F0FE;\n",
              "      border: none;\n",
              "      border-radius: 50%;\n",
              "      cursor: pointer;\n",
              "      display: none;\n",
              "      fill: #1967D2;\n",
              "      height: 32px;\n",
              "      padding: 0 0 0 0;\n",
              "      width: 32px;\n",
              "    }\n",
              "\n",
              "    .colab-df-convert:hover {\n",
              "      background-color: #E2EBFA;\n",
              "      box-shadow: 0px 1px 2px rgba(60, 64, 67, 0.3), 0px 1px 3px 1px rgba(60, 64, 67, 0.15);\n",
              "      fill: #174EA6;\n",
              "    }\n",
              "\n",
              "    [theme=dark] .colab-df-convert {\n",
              "      background-color: #3B4455;\n",
              "      fill: #D2E3FC;\n",
              "    }\n",
              "\n",
              "    [theme=dark] .colab-df-convert:hover {\n",
              "      background-color: #434B5C;\n",
              "      box-shadow: 0px 1px 3px 1px rgba(0, 0, 0, 0.15);\n",
              "      filter: drop-shadow(0px 1px 2px rgba(0, 0, 0, 0.3));\n",
              "      fill: #FFFFFF;\n",
              "    }\n",
              "  </style>\n",
              "\n",
              "      <script>\n",
              "        const buttonEl =\n",
              "          document.querySelector('#df-cba9d440-c78d-4d8b-9eac-1d39def9e5c8 button.colab-df-convert');\n",
              "        buttonEl.style.display =\n",
              "          google.colab.kernel.accessAllowed ? 'block' : 'none';\n",
              "\n",
              "        async function convertToInteractive(key) {\n",
              "          const element = document.querySelector('#df-cba9d440-c78d-4d8b-9eac-1d39def9e5c8');\n",
              "          const dataTable =\n",
              "            await google.colab.kernel.invokeFunction('convertToInteractive',\n",
              "                                                     [key], {});\n",
              "          if (!dataTable) return;\n",
              "\n",
              "          const docLinkHtml = 'Like what you see? Visit the ' +\n",
              "            '<a target=\"_blank\" href=https://colab.research.google.com/notebooks/data_table.ipynb>data table notebook</a>'\n",
              "            + ' to learn more about interactive tables.';\n",
              "          element.innerHTML = '';\n",
              "          dataTable['output_type'] = 'display_data';\n",
              "          await google.colab.output.renderOutput(dataTable, element);\n",
              "          const docLink = document.createElement('div');\n",
              "          docLink.innerHTML = docLinkHtml;\n",
              "          element.appendChild(docLink);\n",
              "        }\n",
              "      </script>\n",
              "    </div>\n",
              "  </div>\n",
              "  "
            ]
          },
          "metadata": {},
          "execution_count": 9
        }
      ]
    },
    {
      "cell_type": "markdown",
      "metadata": {
        "id": "ZgrKMhfvIstu"
      },
      "source": [
        "##Trin 17 - Vis database over produktpriser over tid\n",
        "\n",
        "Med prinsippet:\n",
        "```\n",
        "alt.Chart(database).transform_fold(list(['Kiwi','Meny','Obs','Rema 1000','Spar','Extra'])).mark_line().encode(\n",
        "    x='dato:O',\n",
        "    y='value:Q',\n",
        "    color='Produkter:N',\n",
        ")\n",
        "```\n",
        "\n"
      ]
    },
    {
      "cell_type": "markdown",
      "metadata": {
        "id": "QJ0AfKPEg3e9"
      },
      "source": [
        "vis database av produkter"
      ]
    },
    {
      "cell_type": "code",
      "metadata": {
        "id": "Psoz7hrJc3RW"
      },
      "source": [
        "import altair as alt\n",
        "alt.Chart(database).transform_fold(list(['Kiwi','Meny','Obs','Rema 1000','Spar','Extra'])).mark_line().encode(\n",
        "    x='dato:O',\n",
        "    y='value:Q',\n",
        "    color='Produkter:N',\n",
        "\n",
        ").properties(width=600)"
      ],
      "execution_count": null,
      "outputs": []
    },
    {
      "cell_type": "markdown",
      "metadata": {
        "id": "2Vu7sQ6uwYdB"
      },
      "source": [
        "Hvordan kan vi skape verdi med datasettet? og for hvilken målgruppe?"
      ]
    },
    {
      "cell_type": "markdown",
      "metadata": {
        "id": "CAu2Y3DawZr2"
      },
      "source": [
        "<a name=\"lærdom\"></a>\n",
        "#**Hva har jeg lært idag?**"
      ]
    },
    {
      "cell_type": "markdown",
      "metadata": {
        "id": "I65JWnS-wbYa"
      },
      "source": [
        "> Hva har du lært?\n",
        "* [x] Hvordan du laster ned biblioteker\n",
        "* [x] Hvordan du udpakker biblioteker\n",
        "* [x] Hvordan du installere og automatisere datainnsamling\n",
        "* [x] Hvordan du initialisere Selenium\n",
        "* [x] Hvordan du anvender matematikk bibliotekk, `Numpy`\n",
        "* [x] Hvordan du generer uker\n",
        "* [x] Hvordan du generer kalendar\n",
        "* [x] Hvordan du bruker for løkke\n",
        "* [x] Hvordan du velg variablene år og uke\n",
        "* [x] Hvordan du identificerer web addresserne\n",
        "* [x] Hvordan du deler datasettet\n",
        "* [x] Hvordan du håndterer feil\n",
        "* [x] Hvordan du bruker hvis logikk\n",
        "* [x] Hvordan du håndtere ulike rader\n",
        "* [x] Hvordan du håndterer tid\n",
        "* [x] Hvordan du vis databaser over produktpriser over tid\n",
        "\n",
        "Hva vil du lære i morgen?"
      ]
    },
    {
      "cell_type": "markdown",
      "metadata": {
        "id": "hogbaDFhJ5dY"
      },
      "source": [
        "\n",
        "\n",
        "<br></br>\n",
        "<br></br>\n",
        "<br></br>\n",
        "<br></br>\n",
        "<br></br>\n",
        "<br></br>\n",
        "<br></br>"
      ]
    },
    {
      "cell_type": "markdown",
      "metadata": {
        "id": "pKfr4U9Dn6T6"
      },
      "source": [
        "# **Begreber**\n",
        "\n",
        "\n"
      ]
    },
    {
      "cell_type": "markdown",
      "metadata": {
        "id": "rKKt3_oMlE-j"
      },
      "source": [
        "\n",
        "-- [matematikk](#matematikk)\n",
        "\n",
        "-- [kalendar](#kalendar)\n",
        "\n",
        "-- [tidsforskjell](#tidsforskjell)\n"
      ]
    },
    {
      "cell_type": "markdown",
      "metadata": {
        "id": "DMrY3uXNdIeW"
      },
      "source": [
        "\n",
        "<a name=\"wget\"></a>\n",
        "\n",
        "###**Hent ekstern data**\n",
        "\n",
        "\n",
        "\n",
        "GNU Wget er et bibliotek for å hente filer ved hjelp av de mest brukte Internett-protokollene:\n",
        "\n",
        "\n",
        "| Forkortelse | Navn                               | Beskrivelse                                                                     |\n",
        "|-------------|------------------------------------|---------------------------------------------------------------------------------|\n",
        "| HTTP        | Hypertext Transfer Protocol        | En protokol er en standard for utveksling av kommunikation i browseren          |\n",
        "| HTTPS       | Hypertext Transfer Protocol Secure | HTTPS er en sikrere utgave av HTTP                                              |\n",
        "| FTP         | File Transfer Protocol             | klient-server-protokoll som brukes til å overføre filer mellom to datamaskiner. |\n",
        "| FTPS        | File Transfer Protocol Secure      | FTPS er en sikrere utgave av FTP                                                |\n",
        "\n",
        "Online kilde:\n",
        "* https://www.gnu.org/software/wget/\n",
        "* [wget bibliotek](https://pypi.org/project/wget/)\n",
        "\n",
        "\n"
      ]
    },
    {
      "cell_type": "markdown",
      "metadata": {
        "id": "OtyltPahV9wH"
      },
      "source": [
        "> **Spørsmål**\n",
        "* Hvad er forskjellen på `HTTP` og `FTP`?\n",
        "<br></br>\n",
        "<br></br>\n",
        "<br></br>\n",
        "<br></br>\n",
        "<br></br>\n",
        "\n",
        "\n",
        "\n",
        "\n"
      ]
    },
    {
      "cell_type": "markdown",
      "metadata": {
        "id": "aZu0Vyg_2azv"
      },
      "source": [
        "<a name=\"unzip\"></a>\n",
        "\n",
        "\n",
        "###**Udpak fil** -  `unzip`\n",
        "\n",
        "Unzip-modullet i python er et bibliotek for lesing av zip-filer. \n",
        "\n",
        "Zip er en vanlig type filkomprimering. ZIP er arkivfilformatet som støtter tapsfri datakomprimering. En tapsfri komprimering betyder å komprimeringsalgoritmen muligjøre at originaldataene blir fullstendig rekonstruert fra komprimerte data. En ZIP-fil inneholder en eller flere komprimerte filer, og tilladergjøre store filer mindre og sammenholde relaterte filer \n",
        "Zip filder benyttes for å redusere størrelsen på data som overføres over Internett.\n",
        "\n",
        "\n"
      ]
    },
    {
      "cell_type": "markdown",
      "metadata": {
        "id": "45FP7VZ2WHnG"
      },
      "source": [
        "> **Spørsmål**\n",
        "* Hvad er forskjellen på `HTTP` og `FTP`?\n",
        "<br></br>\n",
        "<br></br>\n",
        "<br></br>\n",
        "<br></br>\n",
        "<br></br>\n",
        "\n",
        "\n",
        "\n",
        "\n"
      ]
    },
    {
      "cell_type": "markdown",
      "metadata": {
        "id": "C99WZWMNAI0I"
      },
      "source": [
        "<a name=\"dokumentation\"></a>\n",
        "\n",
        "\n",
        "###**Ignor kode eller tilføj dokumentation** - `#`\n",
        "\n",
        "Hashtag bruges til  tilføje dokumnet eller ignore kode eller \n",
        "\n",
        "```\n",
        "# Symbolet hashtag anvendes til å dokumentere kode\n",
        "```\n",
        "\n",
        "Kommentarer til koden bør holdes fokuserte og kort. Her er viktige regler som foreslått av Jeff Atwood:\n",
        "\n",
        "* Kommentarer som ikke relevant for den beskrivende kode, er frustrerende å lese, især når oppdateringer blir gjort. Beskriv kun den relevante koden. \n",
        "\n",
        "* Undgå å bruk kompleks formatering, som for eksempel tabeller eller symboler. Kompleks formatering kan blive vanskelig å opprettholde over tid og distraherer. \n",
        "\n",
        "* Ikke ta med overflødig informasjon. Anta at leseren av koden har en grunnleggende forståelse av programmeringsprinsipper og språksyntaks.\n",
        "\n",
        "* Den enkleste måten å forstå kode på er å lese den. Skriv koden din ved hjelp av klare og lettfattelige begreper, vil leseren kan raskt konseptualisere formålet med koden. \n",
        "\n",
        "\n"
      ]
    },
    {
      "cell_type": "markdown",
      "metadata": {
        "id": "SQIaWRnkAgeG"
      },
      "source": [
        "\n",
        "\n",
        "<a name=\"matematikk\"></a>\n",
        "\n",
        "\n",
        "###**Foretag advancere matematikk** - `numpy`\n",
        "*import numpy as np*\n",
        "\n",
        "\n",
        "\n",
        "NumPy er et Python-bibliotek som brukes til å arbeide med matriser.\n",
        "Den har også funksjoner for å arbeide med lineær algebra, fourier transform og matriser.\n",
        "I Python har vi lister som kan arbejde med matriser, men lister er sakte å behandle.\n",
        "NumPy kanv være opptil 50 ganger raskere enn tradisjonelle Python-lister.\n",
        "\n",
        "\n",
        "s. 85-107 Python For data analysis\n",
        "\n",
        "\n",
        "| numpy funksjon                                    | Beskrivelse                                                                                          |\n",
        "|---------------------------------------------------|------------------------------------------------------------------------------------------------------|\n",
        "| abs                                               | Beregn den absolutte verdien elementmessig for heltall, flytende eller komplekse verdier             |\n",
        "| sqrt                                              | Beregn kvadratroten til hvert element (tilsvarer arr ** 0,5)                                         |\n",
        "| kvadrat                                           | Beregn kvadratroten til hvert element (tilsvarer arr ** 0,5                                          |\n",
        "| exp                                               | Beregn eksponenten eks for hvert element                                                             |\n",
        "| logg, logg10, log2, log1p                         | Naturlig logaritme (base e), loggbase 10, loggbase 2 og logg (1 + x)                                 |\n",
        "| sign                                              | Beregn tegnet for hvert element: 1 (positiv), 0 (null) eller –1 (negativ)                            |\n",
        "| ceil                                              | Beregn taket til hvert element (dvs. det minste heltallet større enn eller lik det Nummer)           |\n",
        "| floor                                             | Beregn gulvet til hvert element (dvs. det største heltallet mindre enn eller lik hvert element)      |\n",
        "| rint                                              | Rund element til nærmeste heltall, og bevar dtypen                                                   |\n",
        "| modf                                              | Returner brøkdeler og integrerte deler av matrisen som en egen matrise                               |\n",
        "| isnan                                             | Return boolsk matrise som indikerer om hver verdi er NaN (ikke et tall)                              |\n",
        "| isfinite, isinf                                   | Return boolsk matrise som indikerer om hvert element er endelig (ikke-inf, ikke-NaN) eller uendelig, |\n",
        "| cos, cosh, sin, sinh, tan, tanh                   | Vanlige og hyperbolske trigonometriske funksjoner                                                    |\n",
        "| arccos, arccosh, arcsin, arcsinh, arctan, arctanh | Inverse trigonometriske funksjoner                                                                   |\n",
        "|                                                   |                                                                                                      |\n",
        "| logical_not                                       | Beregn sannhetsverdien ikke x elementvis (tilsvarer ~ arr).                                          |"
      ]
    },
    {
      "cell_type": "markdown",
      "metadata": {
        "id": "1rPEAI3oCCsf"
      },
      "source": [
        "\n",
        "<a name=\"tidsforskjell\"></a>\n",
        "###**Beregn tidsforskel** -`pd.to_timedelta(data, 'W')`\n",
        "\n",
        "\n",
        "Timedeltas er absolutte forskjeller i tider, uttrykt i forskjellenheter. f.eks. \n",
        "* Dager\n",
        "* timer\n",
        "* minutter\n",
        "* sekunder \n",
        "\n",
        "Denne metoden konverterer et argument fra et anerkjent timedelta-format / verdi til en type av formatet `Timedelta`\n",
        "\n",
        "\n",
        "Genere et array, som representere uker\n",
        "\n",
        "\n",
        "| Tidsangivelse                                             |\n",
        "|-----------------------------------------------------------|\n",
        "| \"W\", \"D\", \"T\", \"S\", \"L\", \"U\", eller \"N\"                   |\n",
        "| \"days\" eller \"day\"                                        |\n",
        "| \"hours\", \"hour\", \"hr\", eller \"h\"                          |\n",
        "| \"minutes\", \"minute\", \"min\", eller \"m\"                     |\n",
        "| \"seconds\", \"second\", eller \"sec\"                          |\n",
        "| \"milliseconds\", \"millisecond\",\"millis\", eller \"milli\"     |\n",
        "| \"microseconds\",\"microsecond’, ‘micros’, eller \"micro\"     |\n",
        "| \"nanoseconds\", \"nanosecond\", \"nanos\", \"nano\", eller \"ns\". |\n",
        "|                                                           |\n",
        "\n",
        "\n",
        "https://pandas.pydata.org/pandas-docs/stable/reference/api/pandas.to_timedelta.html"
      ]
    },
    {
      "cell_type": "markdown",
      "metadata": {
        "id": "aopJP05SDrVw"
      },
      "source": [
        "<a name=\"kalendar\"></a>\n",
        "###**Anvend kalendar** -`df.isocalendar()`\n",
        "\n",
        "Genere kalendar data\n",
        "```\n",
        "datetimerange=pd.DataFrame(df.isocalendar())\n",
        "```\n",
        "\n",
        "\n",
        "| Verdier         |\n",
        "|-----------------|\n",
        "| ISO år          |\n",
        "| ISO - ykenummer |\n",
        "| ISO - ukedag    |\n",
        "\n",
        "\n",
        "\n",
        "\n"
      ]
    },
    {
      "cell_type": "markdown",
      "metadata": {
        "id": "FC-i5FB8dzws"
      },
      "source": [
        "\n",
        "\n",
        "> **Spørsmål**\n",
        "* Hvorfor må vi bruke spesielle funksjoner til å håndtere kalender uker?\n",
        "<br></br>\n",
        "<br></br>\n",
        "<br></br>\n",
        "<br></br>\n",
        "<br></br>\n",
        "<br></br>\n"
      ]
    },
    {
      "cell_type": "markdown",
      "metadata": {
        "id": "GrXFfkPmZ1BP"
      },
      "source": [
        "\n",
        "<a name=\"integer\"></a>\n",
        "###**Integer** - `int()`\n",
        "\n",
        "\n",
        "Det er fire numeriske typer i Python:\n",
        "\n",
        "| Kommando | Betydning | Beskrivelse                                              |\n",
        "|----------|-----------|----------------------------------------------------------|\n",
        "| int      | integer   | positive eller negative heltall uten desimaltegn. Signeret helttal i området [-2147483648 til 2147483647]  |\n",
        "| int      | integer   | lange heltall, de kan også vises i oktal og heksadesimal |\n",
        "| float    | float     | kontinuel reelle verdier. representerer reelle tall og er skrevet med et desimaltegn som deler heltall og brøkdeler. Flyter kan også være i vitenskapelig notasjon                                |\n",
        "| complex  | complex   | komplekse tall                                           |\n",
        "\n",
        "\n",
        "\n",
        "\n",
        "Variabler av numeriske typer opprettes når du angiver en verdi til variablen.\n",
        "\n",
        "\n",
        "\n",
        "s. 35 Python Data Science Handbook\n",
        "\n",
        "s. 80-81, Python for Finance\n",
        "\n",
        "\n",
        "s. 38-39 Python for Data Analysis - Numeric"
      ]
    },
    {
      "cell_type": "markdown",
      "metadata": {
        "id": "TRpBqi-JeDIc"
      },
      "source": [
        "\n",
        "> **Spørsmål**\n",
        "* I matematikk kurs, hva kalder vi normalt en `integer` på norsk?\n",
        "<br></br>\n",
        "<br></br>\n",
        "<br></br>\n",
        "<br></br>\n",
        "<br></br>\n",
        "<br></br>\n"
      ]
    },
    {
      "cell_type": "markdown",
      "metadata": {
        "id": "zGX5F6E6Ia1O"
      },
      "source": [
        "<a name=\"håndtere_tid\"></a>\n",
        "###**Håndtere tid** - `import time`\n",
        "\n",
        "For å håndtere tidsrelaterte oppgaver, benytter Python et modul som heter tid eller `time`. Vi  må først importere modulen, for å bruke funksjoner som er definert i modulen.\n",
        "\n",
        "```\n",
        "import time\n",
        "```\n",
        "\n",
        "\n",
        "Funksjonen `time()` returnerer antall sekunder som har gått siden initialisering av `time`.  Dette gjøre ved å bruke et flytende nummer - `float` - som representerer antall sekunder siden initialisering av `time`.\n",
        "\n",
        "\n",
        "\n"
      ]
    },
    {
      "cell_type": "markdown",
      "metadata": {
        "id": "CQA5tb8fUCGY"
      },
      "source": [
        "Importer tid"
      ]
    },
    {
      "cell_type": "code",
      "metadata": {
        "id": "17MtA5XgUBQQ"
      },
      "source": [
        "import time"
      ],
      "execution_count": null,
      "outputs": []
    },
    {
      "cell_type": "markdown",
      "metadata": {
        "id": "maFas7PAekZQ"
      },
      "source": [
        "Tid i sekunder"
      ]
    },
    {
      "cell_type": "code",
      "metadata": {
        "id": "OkARrdSeeiTQ"
      },
      "source": [
        "print( time.time())"
      ],
      "execution_count": null,
      "outputs": []
    },
    {
      "cell_type": "markdown",
      "metadata": {
        "id": "eNh6827semAK"
      },
      "source": [
        "Tid i kalendertid"
      ]
    },
    {
      "cell_type": "code",
      "metadata": {
        "id": "HbnLklHleSVI"
      },
      "source": [
        "print( time.asctime( time.localtime(time.time()) ) )"
      ],
      "execution_count": null,
      "outputs": []
    },
    {
      "cell_type": "markdown",
      "metadata": {
        "id": "IeAEEo-5UD0H"
      },
      "source": [
        "Time har også en funksjon til at avventning, som heter søvn eller `sleep`. F.eks. kan funksjonen brukes til å undgå at overbelaste en serveren, mens vi venter på data\n",
        "\n",
        "Sleep () -funksjonen stopper kjøringen av den gjeldende tråden i et gitt antall sekunder.\n"
      ]
    },
    {
      "cell_type": "code",
      "metadata": {
        "id": "gnMeFyehUF7w"
      },
      "source": [
        "print(\"start tid\")\n",
        "time.sleep(5)\n",
        "print(\"stop tid\")"
      ],
      "execution_count": null,
      "outputs": []
    },
    {
      "cell_type": "markdown",
      "metadata": {
        "id": "UHiDHelEaEDv"
      },
      "source": [
        "> **Spørsmål**\n",
        "* Når python eksevere kode hurtigere enn en server kan levere data, hvilke utfordringer oppstår derved?\n",
        "<br></br>\n",
        "<br></br>\n",
        "<br></br>\n",
        "<br></br>\n",
        "<br></br>\n",
        "\n",
        "\n",
        "\n",
        "\n"
      ]
    },
    {
      "cell_type": "markdown",
      "metadata": {
        "id": "CZgtR4X79yCu"
      },
      "source": [
        "<a name=\"Oppret_liste\"></a>\n",
        "\n",
        "###**Oppret liste** - `List()`\n",
        "\n",
        "Lister brukes til å lagre flere elementer i en variabel.\n",
        "Hvis vi vil google søkeord for grønnsaker, kan vi lage en liste.\n",
        "* Listen starter med `[`\n",
        "* Listen skiller verdier med `,`\n",
        "* Listen avsluttes med `]`\n",
        "\n",
        "\n",
        "Listeelementer er ordnet, kan endres og muliggjør dupliserte verdier. Dupliserte verdier er verdier, som er de samme og representeres mer enn en gang.\n",
        "\n",
        "F.eks. her er en kronologisk tabel med top 1 sange:\n",
        "\n",
        "| Band            | Sang                   | Top 1 på hitliste |\n",
        "|-----------------|------------------------|-------------------|\n",
        "| Aha             | Take on me             | 25 September 2000 |\n",
        "| U2              | Beautiful day          | 16 October 2000   |\n",
        "| Backstreet Boys | Shape of my heart      | 30 October 2000   |\n",
        "| Aha             | Same old brand new you | 20 November 2000  |\n",
        "\n",
        "I listen med bands er `['Aha', 'U2', 'Backstreet Boys', 'Aha']`, er `Aha` duplisert.\n",
        "\n",
        "\n",
        "Listeelementer er indeksert, det første elementet er indeksert [0], det andre elementet er indeksert [1], og så videre.\n",
        "\n",
        "Referanser:\n",
        "* Python for Finance, Wes McKinney, side 88-89 \n",
        "\n",
        "Online kilder\n",
        "*  [w3schools - Lists](https://www.w3schools.com/python/python_lists.asp)\n",
        "\n"
      ]
    },
    {
      "cell_type": "markdown",
      "metadata": {
        "id": "8ssjBpI7OCOn"
      },
      "source": [
        "For å holde styr på flere ord, kan vi også lave en list over grønnsaker, frukt og bær.\n",
        "\n",
        "```\n",
        "grønnsaker_og_frukt_list=['Agurk','Paprika','Brokkoli','Blomkål','Hodekål','Kålrot','Kinakål','Rosenkål','Isbergsalat','Purre','Sjampinjong','Banan','Drue','Melon','Kiwi','Ananas','Pære','Appelsin','Jordbær','Blåbær','Bringebær','Fersken']\n",
        "```\n",
        "\n",
        "Denne liste kan representere produkter i produkt sortimentet vår:\n",
        "\n",
        "![image.png](data:image/png;base64,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)\n",
        "\n",
        "\n",
        "Længden av listen kan ses ved\n",
        "```\n",
        "len(grønnsaker_og_frukt_list)\n",
        "> 22\n",
        "```\n",
        "I dette eksempel er længden på listen 22."
      ]
    },
    {
      "cell_type": "markdown",
      "metadata": {
        "id": "4R2KmiQqduVh"
      },
      "source": [
        "Eksempel"
      ]
    },
    {
      "cell_type": "markdown",
      "metadata": {
        "id": "XSoVGsAbFvWc"
      },
      "source": [
        "Opprettelse av liste"
      ]
    },
    {
      "cell_type": "code",
      "metadata": {
        "id": "8aZjkihjOGD_"
      },
      "source": [
        "grønnsaker_og_frukt_list=['Agurk','Paprika','Brokkoli','Blomkål','Hodekål','Kålrot','Kinakål','Rosenkål','Isbergsalat','Purre','Sjampinjong','Banan','Drue','Melon','Kiwi','Ananas','Pære','Appelsin','Jordbær','Blåbær','Bringebær','Fersken']\n",
        "print(grønnsaker_og_frukt_list)\n"
      ],
      "execution_count": null,
      "outputs": []
    },
    {
      "cell_type": "markdown",
      "metadata": {
        "id": "qN-bJeecFxuP"
      },
      "source": [
        "Lengde på liste"
      ]
    },
    {
      "cell_type": "code",
      "metadata": {
        "id": "OQffGkjjYHTB"
      },
      "source": [
        "print(len(grønnsaker_og_frukt_list))"
      ],
      "execution_count": null,
      "outputs": []
    },
    {
      "cell_type": "markdown",
      "metadata": {
        "id": "dCxhyNMhFzZY"
      },
      "source": [
        "Først element i liste"
      ]
    },
    {
      "cell_type": "code",
      "metadata": {
        "id": "EGR_zNzIiyH6"
      },
      "source": [
        "grønnsaker_og_frukt_list[0]"
      ],
      "execution_count": null,
      "outputs": []
    },
    {
      "cell_type": "markdown",
      "metadata": {
        "id": "KSe360f4iGo6"
      },
      "source": [
        "> **Spørsmål**\n",
        "> \n",
        "> * Kan du komme i tanke om 3 eksempler på hvad en liste kan anvendes til?\n",
        "> * Hvad er indekset på den første verdi i en liste?\n",
        "<br></br>\n",
        "<br></br>\n",
        "<br></br>\n",
        "<br></br>\n",
        "<br></br>\n",
        "<br></br>"
      ]
    },
    {
      "cell_type": "markdown",
      "metadata": {
        "id": "A3TRuZcHefXt"
      },
      "source": [
        "<a name=\"enumerere\"></a>\n",
        "###**Enumerere igjennom rekker**  - `enumerate`\n",
        "\n",
        "\n",
        "\n",
        "I Python kan du gjenta over listen mens du får indeksen og verdien umiddelbart.\n",
        "\n",
        "Funksjonen ser ud på følgende på\n",
        "* `For indeks, verdi in enumerate([list])`\n",
        "\n",
        "Metoden teller og giver indekset for antal løkker. Dertil returner enumerate også verdien av objektet.\n",
        "I dette eksempel, en liste.\n",
        "\n",
        "\n",
        "Referense:\n",
        "*  Python for Data analysis, Wes McKinney, s. 59- 60 \n",
        "\n",
        "Online kilder:\n",
        "* [Enumerate](https://pythonbasics.org/enumerate/)\n"
      ]
    },
    {
      "cell_type": "code",
      "metadata": {
        "id": "gUdCl8YFfC1j"
      },
      "source": [
        "grønnsaker_og_frukt_list=['Agurk','Paprika','Brokkoli','Blomkål','Hodekål','Kålrot','Kinakål','Rosenkål','Isbergsalat','Purre','Sjampinjong','Banan','Drue','Melon','Kiwi','Ananas','Pære','Appelsin','Jordbær','Blåbær','Bringebær','Fersken']\n",
        "for indeks, produkt in enumerate(grønnsaker_og_frukt_list):\n",
        "  print(indeks)\n",
        "  print(produkt)"
      ],
      "execution_count": null,
      "outputs": []
    },
    {
      "cell_type": "markdown",
      "metadata": {
        "id": "FIPedsP6kXWX"
      },
      "source": [
        "<br></br>\n",
        "> **Spørsmål**\n",
        "> * Hvad er forskjellen på en vanlig for løkke og en enumerate løkke?\n",
        "<br></br>\n",
        "<br></br>\n",
        "<br></br>\n",
        "<br></br>\n",
        "<br></br>\n",
        "<br></br>\n"
      ]
    },
    {
      "cell_type": "markdown",
      "metadata": {
        "id": "UrD5jEkMbfLQ"
      },
      "source": [
        "<a name=\"if\"></a>\n",
        "###**hvis** `if`\n",
        "\n",
        "`x==0:`\n",
        "\n",
        "Python støtter de vanlige logiske forholdene fra matematikk:\n",
        "\n",
        "\n",
        "| Udsagn | Beskrivelse          |\n",
        "|--------|----------------------|\n",
        "| a==b   | lik                  |\n",
        "| a!=b   | Ikke lik             |\n",
        "| a<b    | Mindre enn           |\n",
        "| a<=b   | Mindre enn eller lik |\n",
        "| a>b    | Større enn           |\n",
        "| a>=b   | Større enn eller lik |\n",
        "\n",
        "\n"
      ]
    },
    {
      "cell_type": "markdown",
      "metadata": {
        "id": "UqcCc7JMc0pC"
      },
      "source": [
        "> **Spørsmål**\n",
        "> \n",
        "> * Hva er forskjellen mellom `a<=b` og `a<b`? \n",
        "<br></br>\n",
        "<br></br>\n",
        "<br></br>\n",
        "<br></br>\n",
        "<br></br>\n",
        "<br></br>"
      ]
    },
    {
      "cell_type": "markdown",
      "metadata": {
        "id": "1QUr-1GH2OLf"
      },
      "source": [
        "<a name=\"split\"></a>\n",
        "###**Split tekst ved symbol**  - `.split(\" \")`\n",
        "\n",
        "\n",
        "\n",
        "Del en streng i en liste der hvert ord er et listeelement:\n",
        "\n",
        "\n",
        "split () -metoden tar maksimalt to parametere:\n",
        "\n",
        "separator (valgfritt) - Det er en skillelinje. Strengen deles ved den angitte skilletegn.\n",
        "Hvis skilletegnet ikke er spesifisert, er en hvilken som helst mellomrom (mellomrom, ny linje osv.) En skilletegn.\n",
        "maxsplit (valgfritt) - maxsplit definerer maksimalt antall splitter.\n",
        "Standardverdien for maxsplit er -1, noe som betyr ingen begrensning på antall splitter.\n",
        "\n",
        "\n",
        "\n",
        "\n",
        "\n",
        "\n",
        "\n",
        "\n",
        "\n"
      ]
    },
    {
      "cell_type": "markdown",
      "metadata": {
        "id": "ImlY4R13bcPL"
      },
      "source": [
        "**1.15 Tilføj data til list**  - `database.append`\n",
        "\n",
        "\n",
        "database.append(store)\n"
      ]
    },
    {
      "cell_type": "markdown",
      "metadata": {
        "id": "iuB4Cx8Kazo6"
      },
      "source": [
        "<a name=\"undtagelser\"></a>\n",
        "\n",
        "###**Håndtere fejl/undtagelser** `try:` og `except:` \n",
        "\n",
        "\n",
        "Prøveblokken lar deg teste en blokk med kode for feil.\n",
        "\n",
        "Med unntak av blokken kan du håndtere feilen.\n",
        "\n",
        "Den endelige blokken lar deg utføre kode, uavhengig av resultatet av prøve- og unntakblokkene.\n",
        "\n",
        "Når det oppstår en feil, eller et unntak som vi kaller det, vil Python normalt stoppe og generere en feilmelding.\n",
        "\n",
        "Disse unntakene kan håndteres ved hjelp av prøveerklæringen:\n"
      ]
    },
    {
      "cell_type": "markdown",
      "metadata": {
        "id": "o8nBgR4n9L4z"
      },
      "source": [
        "<a name=\"selenium\"></a>\n",
        "\n",
        "\n",
        "###**Selenium** - `Selenium`\n",
        "\n",
        "Selenium er et automatisert testrammeverk som brukes til å validere webapplikasjoner på tvers av forskjellige nettlesere og plattformer.\n",
        "Selenium krever en driver for å grensesnitt med den valgte nettleseren.\n",
        "Selenium.webdriver-modulen inneholder alle WebDriver-implementeringene. For tiden understøttes WebDriver-implementeringer: Firefox, Chrome og IE \n",
        "\n",
        "\n",
        "\n",
        "\n"
      ]
    },
    {
      "cell_type": "markdown",
      "metadata": {
        "id": "Qpyk4hq1GVLx"
      },
      "source": [
        "<a name=\"Hent_bibliotekker_med_verktøyer\"></a>\n",
        "###**Hent bibliotekker av verktøyer** - `Import` \n",
        "- `Import`\n",
        "\n",
        "Python-kode i en modul får tilgang til koden i en annen modul ved å importere den. \n",
        "I Python er en modul en fil i .py-filformat som inneholder Python-kode.\n",
        "\n",
        "Det mest populære bibliotek til data analyse er pandas. \n",
        "Pandas er en data struktur, litt likesom en tabel i Excel med rader og kolonner.\n",
        "\n",
        "Import funksjonen kombinerer to operasjoner; den søker etter den navngitte modulen - `pandas` - , så binder den modulet til et navn, i dette eksempel `pd`.\n",
        "Vanligvis foretrekker vi forekortelser, og importere bibliotekker, i forkortet form: `pandas as pd`. Fremover hetter bibliotekket `pd`\n",
        "\n",
        "```\n",
        "import pandas as pd\n",
        "```\n",
        "\n",
        "Genereltset importer vi funksjoner såledelse\n",
        "```\n",
        "import vårfunksjon\n",
        "```\n",
        "\n",
        "Alternativet til å importere funksjoner er å definere funksjonen direkte: \n",
        "```\n",
        "def vårfunksjon():\n",
        "  return x + 2\n",
        "```\n",
        "\n",
        "\n",
        "Referenser\n",
        "* Python for Data Analysis, Wes McKinney, s. 36"
      ]
    },
    {
      "cell_type": "markdown",
      "metadata": {
        "id": "iFjqb4jQHKvD"
      },
      "source": [
        "**Eksempel** "
      ]
    },
    {
      "cell_type": "markdown",
      "metadata": {
        "id": "7Tru3bcZHonL"
      },
      "source": [
        "Åbning af nettlink med pandas. Filen er i json-format og har innebygde data"
      ]
    },
    {
      "cell_type": "code",
      "metadata": {
        "id": "ArO93GTOHMLJ"
      },
      "source": [
        "import pandas as pd\n",
        "pd.read_json(\"https://platform-rest-prod.ngdata.no/api/FindStore/StoresClosestToMe/1300/?latitude=65.4&longitude=16.8&minnumberofstores=200&maxNumberOfStores=300&maxDistance=2470554\")"
      ],
      "execution_count": null,
      "outputs": []
    },
    {
      "cell_type": "markdown",
      "metadata": {
        "id": "9pNsKKkPRDxN"
      },
      "source": [
        "**Spørsmål:**\n",
        ">* Hvad betyder `import`?\n",
        ">* Må vi vete på forhånd hvilke bibliotekker, som vi vil anvende, eller finder python selv ut av det?\n",
        "<br></br>\n",
        "<br></br>\n",
        "<br></br>\n",
        "<br></br>\n",
        "<br></br>\n"
      ]
    },
    {
      "cell_type": "markdown",
      "metadata": {
        "id": "6p6i_bwP2oZr"
      },
      "source": [
        "<a name=\"telle_gjennom_rader\"></a>\n",
        "\n",
        "###**Telle gjennom rader** - `For i in range(x,y):`\n",
        "\n",
        "En løkke brukes for handlinger som skal gjentas flere ganger. Man kan velge et gitt antall ganger eller at det skal gjentas inntil et mål (noe) er nådd\n",
        "\n",
        "\n",
        "Referenser:\n",
        "\n",
        "* s. 90-91 Python for Finance\n",
        "* s. 47-48 Python for Data analysis\n",
        "* s. 48-49 Python for Data analysis\n",
        "\n",
        "\n"
      ]
    },
    {
      "cell_type": "markdown",
      "metadata": {
        "id": "UmUQiAnueo_x"
      },
      "source": [
        "En for loop brukes til å gjenta over en sekvens (det vil si en liste, en tuple, en ordbok, et sett eller en streng).\n",
        "\n",
        "Dette er mindre som for nøkkelordet i andre programmeringsspråk, og fungerer mer som en iteratormetode som finnes i andre objektorienterte programmeringsspråk.\n",
        "\n",
        "Med for loop kan vi utføre et sett med utsagn, en gang for hvert element i en liste, tuple, sett osv."
      ]
    },
    {
      "cell_type": "code",
      "metadata": {
        "id": "6Mft97jRegWq"
      },
      "source": [
        "series=list(range(1,10))\n",
        "series\n",
        "for i in range(0,len(series)):\n",
        "  print(i)"
      ],
      "execution_count": null,
      "outputs": []
    },
    {
      "cell_type": "markdown",
      "metadata": {
        "id": "BHiZ5xiUj8aC"
      },
      "source": [
        "\n",
        "\n",
        "> **Spørsmål**\n",
        "> * Kan du tenke på processer fra hverdagen, hvor du anvende en løkke tilnærming til å løse et problem?\n",
        "> * Hvorfor vil vi gjerne bearbeide et element av gangen fremfor hele series?\n"
      ]
    },
    {
      "cell_type": "markdown",
      "metadata": {
        "id": "C2pRX2yKb3qU"
      },
      "source": [
        "#Midlertidig"
      ]
    },
    {
      "cell_type": "markdown",
      "metadata": {
        "id": "VfG4VZPbbANj"
      },
      "source": [
        "**konverter web objekt til tekst** `browser.find_element_by_xpath(\"\").text`"
      ]
    },
    {
      "cell_type": "markdown",
      "metadata": {
        "id": "iEl_ytNTbdV4"
      },
      "source": [
        "for i in series:\n",
        "  print(i)\n",
        "\n",
        "**1.9 Velg bestemmt variable** - `data[data.index==index]`\n",
        "\n",
        "\n"
      ]
    },
    {
      "cell_type": "markdown",
      "metadata": {
        "id": "gWdVv2ATbgKQ"
      },
      "source": [
        "**tilføj verdi til indeks** `i+1`\n"
      ]
    },
    {
      "cell_type": "markdown",
      "metadata": {
        "id": "IdtkSRuKbhe_"
      },
      "source": [
        "<a name=\"restverdi\"></a>\n",
        "\n",
        "**beregn rest verdi ved division** `Y%X`\n",
        "\n",
        "`\n",
        "(i+1)%3==0:\n",
        "`"
      ]
    }
  ]
}