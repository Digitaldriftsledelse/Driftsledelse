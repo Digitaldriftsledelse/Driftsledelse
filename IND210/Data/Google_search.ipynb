{
  "nbformat": 4,
  "nbformat_minor": 0,
  "metadata": {
    "colab": {
      "name": "Google_search.ipynb",
      "provenance": []
    },
    "kernelspec": {
      "name": "python3",
      "display_name": "Python 3"
    },
    "language_info": {
      "name": "python"
    }
  },
  "cells": [
    {
      "cell_type": "code",
      "metadata": {
        "colab": {
          "base_uri": "https://localhost:8080/"
        },
        "id": "FQQdWJEZw6wA",
        "outputId": "3f3e71c0-9843-4107-aabb-fa1fdaf0c02b"
      },
      "source": [
        "!pip install googlesearch-python\n",
        "from googlesearch import search"
      ],
      "execution_count": 1,
      "outputs": [
        {
          "output_type": "stream",
          "text": [
            "Collecting googlesearch-python\n",
            "  Downloading https://files.pythonhosted.org/packages/e0/7d/c119eca9f9d3fc2f2919986bff4770fc313a06e6e295576379e7bbbf4b0f/googlesearch_python-2020.0.2-py3-none-any.whl\n",
            "Collecting beautifulsoup4==4.9.1\n",
            "\u001b[?25l  Downloading https://files.pythonhosted.org/packages/66/25/ff030e2437265616a1e9b25ccc864e0371a0bc3adb7c5a404fd661c6f4f6/beautifulsoup4-4.9.1-py3-none-any.whl (115kB)\n",
            "\r\u001b[K     |██▉                             | 10kB 16.5MB/s eta 0:00:01\r\u001b[K     |█████▊                          | 20kB 9.2MB/s eta 0:00:01\r\u001b[K     |████████▌                       | 30kB 11.8MB/s eta 0:00:01\r\u001b[K     |███████████▍                    | 40kB 11.4MB/s eta 0:00:01\r\u001b[K     |██████████████▎                 | 51kB 7.6MB/s eta 0:00:01\r\u001b[K     |█████████████████               | 61kB 7.9MB/s eta 0:00:01\r\u001b[K     |████████████████████            | 71kB 8.2MB/s eta 0:00:01\r\u001b[K     |██████████████████████▉         | 81kB 8.6MB/s eta 0:00:01\r\u001b[K     |█████████████████████████▋      | 92kB 9.3MB/s eta 0:00:01\r\u001b[K     |████████████████████████████▌   | 102kB 8.6MB/s eta 0:00:01\r\u001b[K     |███████████████████████████████▎| 112kB 8.6MB/s eta 0:00:01\r\u001b[K     |████████████████████████████████| 122kB 8.6MB/s \n",
            "\u001b[?25hRequirement already satisfied: bs4==0.0.1 in /usr/local/lib/python3.7/dist-packages (from googlesearch-python) (0.0.1)\n",
            "Requirement already satisfied: chardet==3.0.4 in /usr/local/lib/python3.7/dist-packages (from googlesearch-python) (3.0.4)\n",
            "Collecting requests==2.24.0\n",
            "\u001b[?25l  Downloading https://files.pythonhosted.org/packages/45/1e/0c169c6a5381e241ba7404532c16a21d86ab872c9bed8bdcd4c423954103/requests-2.24.0-py2.py3-none-any.whl (61kB)\n",
            "\u001b[K     |████████████████████████████████| 71kB 8.2MB/s \n",
            "\u001b[?25hCollecting soupsieve==2.0.1\n",
            "  Downloading https://files.pythonhosted.org/packages/6f/8f/457f4a5390eeae1cc3aeab89deb7724c965be841ffca6cfca9197482e470/soupsieve-2.0.1-py3-none-any.whl\n",
            "Collecting urllib3==1.25.9\n",
            "\u001b[?25l  Downloading https://files.pythonhosted.org/packages/e1/e5/df302e8017440f111c11cc41a6b432838672f5a70aa29227bf58149dc72f/urllib3-1.25.9-py2.py3-none-any.whl (126kB)\n",
            "\u001b[K     |████████████████████████████████| 133kB 13.3MB/s \n",
            "\u001b[?25hCollecting certifi==2020.6.20\n",
            "\u001b[?25l  Downloading https://files.pythonhosted.org/packages/5e/c4/6c4fe722df5343c33226f0b4e0bb042e4dc13483228b4718baf286f86d87/certifi-2020.6.20-py2.py3-none-any.whl (156kB)\n",
            "\u001b[K     |████████████████████████████████| 163kB 13.7MB/s \n",
            "\u001b[?25hRequirement already satisfied: idna==2.10 in /usr/local/lib/python3.7/dist-packages (from googlesearch-python) (2.10)\n",
            "\u001b[31mERROR: google-colab 1.0.0 has requirement requests~=2.23.0, but you'll have requests 2.24.0 which is incompatible.\u001b[0m\n",
            "\u001b[31mERROR: datascience 0.10.6 has requirement folium==0.2.1, but you'll have folium 0.8.3 which is incompatible.\u001b[0m\n",
            "Installing collected packages: soupsieve, beautifulsoup4, certifi, urllib3, requests, googlesearch-python\n",
            "  Found existing installation: beautifulsoup4 4.6.3\n",
            "    Uninstalling beautifulsoup4-4.6.3:\n",
            "      Successfully uninstalled beautifulsoup4-4.6.3\n",
            "  Found existing installation: certifi 2020.12.5\n",
            "    Uninstalling certifi-2020.12.5:\n",
            "      Successfully uninstalled certifi-2020.12.5\n",
            "  Found existing installation: urllib3 1.24.3\n",
            "    Uninstalling urllib3-1.24.3:\n",
            "      Successfully uninstalled urllib3-1.24.3\n",
            "  Found existing installation: requests 2.23.0\n",
            "    Uninstalling requests-2.23.0:\n",
            "      Successfully uninstalled requests-2.23.0\n",
            "Successfully installed beautifulsoup4-4.9.1 certifi-2020.6.20 googlesearch-python-2020.0.2 requests-2.24.0 soupsieve-2.0.1 urllib3-1.25.9\n"
          ],
          "name": "stdout"
        }
      ]
    },
    {
      "cell_type": "code",
      "metadata": {
        "id": "-eEXnmOMx_-4"
      },
      "source": [
        "emner=[\"Dagligvarersektor\",\"Meny\",\"Kiwi\",\"Obs\",\"Coop\",\"Rema 1000\"]"
      ],
      "execution_count": 2,
      "outputs": []
    },
    {
      "cell_type": "code",
      "metadata": {
        "id": "KJy13ccux4sJ"
      },
      "source": [
        "nøgleorder=[\"Forretning\",\"Logistikk\",\"Atferd\",\"Produkt nyhet\",\"Prosess nyhet\",\"Kompleksitet\",\"Konfigurer\",\"Immateriellrettighet\",\"Atferd\",\"Nytt marked\",\"Ny teknologi\",\"Politiske regler\",\"Status quo\",\"Holdning\",\"Logistikk\",\"Konkurranse\",\"Plattform\",\"Timing\",\"Skriv om reglene\",\"Kontekst\",\"hjemlevering\",\"kvartalsrapport\",\"handelen\",\"rapporten\"]"
      ],
      "execution_count": 3,
      "outputs": []
    },
    {
      "cell_type": "code",
      "metadata": {
        "id": "XgDAhxAsx-Yx"
      },
      "source": [
        "\n",
        "search_sentences=[]\n",
        "for nøgleord in nøgleorder:\n",
        "  for emne in emner:\n",
        "    #print(\"'\"+emne+\"' '\"+nøgleord+\"'\")\n",
        "    sentence=\"'\"+emne+\"' '\"+nøgleord+\"'\"\n",
        "    search_sentences.append(sentence)"
      ],
      "execution_count": 4,
      "outputs": []
    },
    {
      "cell_type": "code",
      "metadata": {
        "colab": {
          "base_uri": "https://localhost:8080/"
        },
        "id": "NzudYgeEyqVa",
        "outputId": "62daca16-012e-4137-94f3-86387a8b37e6"
      },
      "source": [
        "search_sentences"
      ],
      "execution_count": 5,
      "outputs": [
        {
          "output_type": "execute_result",
          "data": {
            "text/plain": [
              "[\"'Dagligvarersektor' 'Forretning'\",\n",
              " \"'Meny' 'Forretning'\",\n",
              " \"'Kiwi' 'Forretning'\",\n",
              " \"'Obs' 'Forretning'\",\n",
              " \"'Coop' 'Forretning'\",\n",
              " \"'Rema 1000' 'Forretning'\",\n",
              " \"'Dagligvarersektor' 'Logistikk'\",\n",
              " \"'Meny' 'Logistikk'\",\n",
              " \"'Kiwi' 'Logistikk'\",\n",
              " \"'Obs' 'Logistikk'\",\n",
              " \"'Coop' 'Logistikk'\",\n",
              " \"'Rema 1000' 'Logistikk'\",\n",
              " \"'Dagligvarersektor' 'Atferd'\",\n",
              " \"'Meny' 'Atferd'\",\n",
              " \"'Kiwi' 'Atferd'\",\n",
              " \"'Obs' 'Atferd'\",\n",
              " \"'Coop' 'Atferd'\",\n",
              " \"'Rema 1000' 'Atferd'\",\n",
              " \"'Dagligvarersektor' 'Produkt nyhet'\",\n",
              " \"'Meny' 'Produkt nyhet'\",\n",
              " \"'Kiwi' 'Produkt nyhet'\",\n",
              " \"'Obs' 'Produkt nyhet'\",\n",
              " \"'Coop' 'Produkt nyhet'\",\n",
              " \"'Rema 1000' 'Produkt nyhet'\",\n",
              " \"'Dagligvarersektor' 'Prosess nyhet'\",\n",
              " \"'Meny' 'Prosess nyhet'\",\n",
              " \"'Kiwi' 'Prosess nyhet'\",\n",
              " \"'Obs' 'Prosess nyhet'\",\n",
              " \"'Coop' 'Prosess nyhet'\",\n",
              " \"'Rema 1000' 'Prosess nyhet'\",\n",
              " \"'Dagligvarersektor' 'Kompleksitet'\",\n",
              " \"'Meny' 'Kompleksitet'\",\n",
              " \"'Kiwi' 'Kompleksitet'\",\n",
              " \"'Obs' 'Kompleksitet'\",\n",
              " \"'Coop' 'Kompleksitet'\",\n",
              " \"'Rema 1000' 'Kompleksitet'\",\n",
              " \"'Dagligvarersektor' 'Konfigurer'\",\n",
              " \"'Meny' 'Konfigurer'\",\n",
              " \"'Kiwi' 'Konfigurer'\",\n",
              " \"'Obs' 'Konfigurer'\",\n",
              " \"'Coop' 'Konfigurer'\",\n",
              " \"'Rema 1000' 'Konfigurer'\",\n",
              " \"'Dagligvarersektor' 'Immateriellrettighet'\",\n",
              " \"'Meny' 'Immateriellrettighet'\",\n",
              " \"'Kiwi' 'Immateriellrettighet'\",\n",
              " \"'Obs' 'Immateriellrettighet'\",\n",
              " \"'Coop' 'Immateriellrettighet'\",\n",
              " \"'Rema 1000' 'Immateriellrettighet'\",\n",
              " \"'Dagligvarersektor' 'Atferd'\",\n",
              " \"'Meny' 'Atferd'\",\n",
              " \"'Kiwi' 'Atferd'\",\n",
              " \"'Obs' 'Atferd'\",\n",
              " \"'Coop' 'Atferd'\",\n",
              " \"'Rema 1000' 'Atferd'\",\n",
              " \"'Dagligvarersektor' 'Nytt marked'\",\n",
              " \"'Meny' 'Nytt marked'\",\n",
              " \"'Kiwi' 'Nytt marked'\",\n",
              " \"'Obs' 'Nytt marked'\",\n",
              " \"'Coop' 'Nytt marked'\",\n",
              " \"'Rema 1000' 'Nytt marked'\",\n",
              " \"'Dagligvarersektor' 'Ny teknologi'\",\n",
              " \"'Meny' 'Ny teknologi'\",\n",
              " \"'Kiwi' 'Ny teknologi'\",\n",
              " \"'Obs' 'Ny teknologi'\",\n",
              " \"'Coop' 'Ny teknologi'\",\n",
              " \"'Rema 1000' 'Ny teknologi'\",\n",
              " \"'Dagligvarersektor' 'Politiske regler'\",\n",
              " \"'Meny' 'Politiske regler'\",\n",
              " \"'Kiwi' 'Politiske regler'\",\n",
              " \"'Obs' 'Politiske regler'\",\n",
              " \"'Coop' 'Politiske regler'\",\n",
              " \"'Rema 1000' 'Politiske regler'\",\n",
              " \"'Dagligvarersektor' 'Status quo'\",\n",
              " \"'Meny' 'Status quo'\",\n",
              " \"'Kiwi' 'Status quo'\",\n",
              " \"'Obs' 'Status quo'\",\n",
              " \"'Coop' 'Status quo'\",\n",
              " \"'Rema 1000' 'Status quo'\",\n",
              " \"'Dagligvarersektor' 'Holdning'\",\n",
              " \"'Meny' 'Holdning'\",\n",
              " \"'Kiwi' 'Holdning'\",\n",
              " \"'Obs' 'Holdning'\",\n",
              " \"'Coop' 'Holdning'\",\n",
              " \"'Rema 1000' 'Holdning'\",\n",
              " \"'Dagligvarersektor' 'Logistikk'\",\n",
              " \"'Meny' 'Logistikk'\",\n",
              " \"'Kiwi' 'Logistikk'\",\n",
              " \"'Obs' 'Logistikk'\",\n",
              " \"'Coop' 'Logistikk'\",\n",
              " \"'Rema 1000' 'Logistikk'\",\n",
              " \"'Dagligvarersektor' 'Konkurranse'\",\n",
              " \"'Meny' 'Konkurranse'\",\n",
              " \"'Kiwi' 'Konkurranse'\",\n",
              " \"'Obs' 'Konkurranse'\",\n",
              " \"'Coop' 'Konkurranse'\",\n",
              " \"'Rema 1000' 'Konkurranse'\",\n",
              " \"'Dagligvarersektor' 'Plattform'\",\n",
              " \"'Meny' 'Plattform'\",\n",
              " \"'Kiwi' 'Plattform'\",\n",
              " \"'Obs' 'Plattform'\",\n",
              " \"'Coop' 'Plattform'\",\n",
              " \"'Rema 1000' 'Plattform'\",\n",
              " \"'Dagligvarersektor' 'Timing'\",\n",
              " \"'Meny' 'Timing'\",\n",
              " \"'Kiwi' 'Timing'\",\n",
              " \"'Obs' 'Timing'\",\n",
              " \"'Coop' 'Timing'\",\n",
              " \"'Rema 1000' 'Timing'\",\n",
              " \"'Dagligvarersektor' 'Skriv om reglene'\",\n",
              " \"'Meny' 'Skriv om reglene'\",\n",
              " \"'Kiwi' 'Skriv om reglene'\",\n",
              " \"'Obs' 'Skriv om reglene'\",\n",
              " \"'Coop' 'Skriv om reglene'\",\n",
              " \"'Rema 1000' 'Skriv om reglene'\",\n",
              " \"'Dagligvarersektor' 'Kontekst'\",\n",
              " \"'Meny' 'Kontekst'\",\n",
              " \"'Kiwi' 'Kontekst'\",\n",
              " \"'Obs' 'Kontekst'\",\n",
              " \"'Coop' 'Kontekst'\",\n",
              " \"'Rema 1000' 'Kontekst'\",\n",
              " \"'Dagligvarersektor' 'hjemlevering'\",\n",
              " \"'Meny' 'hjemlevering'\",\n",
              " \"'Kiwi' 'hjemlevering'\",\n",
              " \"'Obs' 'hjemlevering'\",\n",
              " \"'Coop' 'hjemlevering'\",\n",
              " \"'Rema 1000' 'hjemlevering'\",\n",
              " \"'Dagligvarersektor' 'kvartalsrapport'\",\n",
              " \"'Meny' 'kvartalsrapport'\",\n",
              " \"'Kiwi' 'kvartalsrapport'\",\n",
              " \"'Obs' 'kvartalsrapport'\",\n",
              " \"'Coop' 'kvartalsrapport'\",\n",
              " \"'Rema 1000' 'kvartalsrapport'\",\n",
              " \"'Dagligvarersektor' 'handelen'\",\n",
              " \"'Meny' 'handelen'\",\n",
              " \"'Kiwi' 'handelen'\",\n",
              " \"'Obs' 'handelen'\",\n",
              " \"'Coop' 'handelen'\",\n",
              " \"'Rema 1000' 'handelen'\",\n",
              " \"'Dagligvarersektor' 'rapporten'\",\n",
              " \"'Meny' 'rapporten'\",\n",
              " \"'Kiwi' 'rapporten'\",\n",
              " \"'Obs' 'rapporten'\",\n",
              " \"'Coop' 'rapporten'\",\n",
              " \"'Rema 1000' 'rapporten'\"]"
            ]
          },
          "metadata": {
            "tags": []
          },
          "execution_count": 5
        }
      ]
    },
    {
      "cell_type": "code",
      "metadata": {
        "colab": {
          "base_uri": "https://localhost:8080/"
        },
        "id": "6B3hkP_AywpZ",
        "outputId": "3eab56bf-99a9-4daf-8c4e-504a127926ff"
      },
      "source": [
        "import time\n",
        "import pandas as pd\n",
        "search_words=pd.DataFrame()\n",
        "search_words['search_sentences']=search_sentences\n",
        "\n",
        "search_words=search_words.assign(**{'frekvens': 0,'links':\"\"})\n",
        "\n",
        "\n",
        "for i, search_word in enumerate(search_words.search_sentences[0:10]):\n",
        "  print(i)\n",
        "  #time.sleep(61)\n",
        "  results=search(search_word, lang=\"NO\", num_results=100)\n",
        "  print(results)\n",
        "  search_words['frekvens'][i]=len(results)\n",
        "  search_words['links'][i]=results\n",
        "  #search_words['search_sentences'][i]=len(search_word)\n",
        "  \n",
        "\n",
        "  #if (i % 10) == 0:\n",
        "   # print(search_words)\n",
        "    #time.sleep(60)\n",
        "  #print(i)"
      ],
      "execution_count": 6,
      "outputs": [
        {
          "output_type": "stream",
          "text": [
            "0\n",
            "['https://www.klejtrup-by.dk/handelsstandsforening.html']\n",
            "1\n"
          ],
          "name": "stdout"
        },
        {
          "output_type": "stream",
          "text": [
            "/usr/local/lib/python3.7/dist-packages/ipykernel_launcher.py:14: SettingWithCopyWarning: \n",
            "A value is trying to be set on a copy of a slice from a DataFrame\n",
            "\n",
            "See the caveats in the documentation: https://pandas.pydata.org/pandas-docs/stable/user_guide/indexing.html#returning-a-view-versus-a-copy\n",
            "  \n",
            "/usr/local/lib/python3.7/dist-packages/ipykernel_launcher.py:15: SettingWithCopyWarning: \n",
            "A value is trying to be set on a copy of a slice from a DataFrame\n",
            "\n",
            "See the caveats in the documentation: https://pandas.pydata.org/pandas-docs/stable/user_guide/indexing.html#returning-a-view-versus-a-copy\n",
            "  from ipykernel import kernelapp as app\n"
          ],
          "name": "stderr"
        },
        {
          "output_type": "stream",
          "text": [
            "['https://meny.no/Finn-butikk/', 'https://meny.no/', 'https://meny.dk/find-butik', 'https://meny.dk/', 'https://no.wikipedia.org/wiki/Dagligvareforretning', 'https://www.gulesider.no/dagligvare+forretning/bedrifter', 'https://www.gulesider.no/matforretning/bedrifter', 'https://www.tiendeo.dk/butikker/meny-r', 'https://fodevarewatch.dk/Detail/article10189136.ece', 'https://www.varden.no/nyheter/her-stenger-meny-dorene/', 'https://www.fvn.no/nyheter/lokalt/i/kaj826/Meny-flytter-ut-av-Sorlandssenteret', 'https://www.karlsborgspiseforretning.no/meny', 'https://nb-no.facebook.com/menycarlberner/posts/jeg-er-forn%C3%B8yd-med-vareutvalget-til-meny-cb-og-med-de-hjelpsomme-ansatte-men-til/1059283374102598/', 'http://knuterikskarning.priv.no/barum/Skui%20og%20Tanum/Meny%20Slependen.html', 'https://www.granohotels.pl/no/forretning', 'http://www.brodreneberggren.no/', 'http://utdanning.no/bedrift/915883060', 'https://dm-murmester.no/dokken-moen-murmesterforretning-har-blitt-en-del-av-handverksgruppen/', 'https://co2pro.dk/project/meny/', 'https://www.aftenbladet.no/okonomi/i/3RXOL/eurospar-blir-meny', 'https://www.prf.no/', 'http://docs.pioneer.eu/Manuals/AVIC_F310BT_MAN_F310BT_NO_manual/?Page=67', 'https://www.kartverket.no/eiendom/lokal-matrikkelmyndighet/oppmalingsforretninger-og-koronavirus2', 'https://manual3.jvckenwood.com/c3a/lyt2536-015no/JEAWSYdjuffdky.php', 'https://lokalhistoriewiki.no/wiki/Meny_H%C3%B8vik', 'https://www.tryg.no/bedrift/bransjer/index.html', 'https://www.proff.no/selskap/meny-as/oslo/annen-forretningsmessig-tjenesteyting/IG5PXIF10LQ-2/', 'https://www.retailnews.dk/article/view/693742/menybutik_vil_tilbyde_kunderne_malkselv_koer', 'https://www.smp.no/ntb/innenriks/2020/11/22/Nyb%C3%B8-har-tillit-til-smittevernet-i-norske-matbutikker-23038941.ece', 'http://tidaholmindustries.com/wp-content/medias/no/gemini-kvinnelige-dating-jomfruen-menn-9176111b-no', 'https://www.food-supply.dk/article/view/694069/menybutik_vil_tilbyde_kunderne_malkselv_koer', 'https://www.jobpatruljen.dk/lonsatser/butik/', 'https://www.nettavisen.no/nyheter/snart-pol-pa-roa/s/12-95-3422851349', 'https://meglerhuset-rele.no/naering/radhusvegen-47/', 'http://www.faerdernf.no/index.php?mod=estore&do=prodview&catid=16&prodid=159', 'https://www.tripadvisorsupport.com/hc/no/articles/204357553-Hva-er-menykoblingen-og-hvordan-kan-jeg-administrere-den-', 'https://cubus.com/no/', 'https://karrierestart.no/ledig-stilling/255139', 'https://skjema.larvik.kommune.no/sd/skjema/LK0172/', 'https://fiskogdeli.no/', 'https://www.safirgullsmed.no/', 'https://kaffeforretningen.no/meny/', 'https://www.instagram.com/blomsterhjornetmeny/', 'https://www.skienror.no/', 'https://www.180.no/bransje/meny-as/12.htm', 'https://csr.dk/meny-vil-uddanne-sit-personale-i-klimaet', 'https://www.postnord.no/nyheter/meny-myren', 'https://www.agderposten.no/nyheter/skal-krympe-og-skifte-navn-det-er-ikke-her-de-kjoper-bleier/', 'http://www.tb.no/meny/', 'https://www.budstikka.no/nyheter/meny-far-ikke-bygge-boliger/473519!/', 'https://www.meinich.no/portfolio-category/forretning/', 'https://www.bokklubben.no/oversatt-skjoennlitteratur/herr-nakanos-forretning-for-avlagte-gjenstander-hiromi-kawakami/produkt.do?produktId=16440817', 'https://voresjammerbugt.dk/rikards-rejse-som-koebmand-i-saltum/', 'http://www.rb.no/meny/', 'https://www.sjomagasinet.no/', 'https://www.h-avis.no/haugesund/nyheter/nyheter/toffere-matkamp/s/2-2.921-1.5990697', 'https://www.braendesror.no/', 'https://www.novicell.no/vaare-kunder/benns/', 'https://www.zyn.com/dk/da/find-butik/', 'https://www.byggematerialer.dk/meny-gyldenrisvej-8-viborg/projekt.html', 'https://www.visittelemark.no/kragero/shopping/brodrene-brubakken-as-p512893', 'https://www.telenor.no/telenorbutikken/', 'https://www.vestfoldrf.no/', 'https://www.oblad.no/nyheter/meny-over-kneika/s/2-2.2610-1.3695893', 'https://www.dagrofa.dk/om-dagrofa/', 'https://info.coop.dk/butikker/', 'https://www.trondheim.kommune.no/jakobslivegen-7-og-tunvegen-5-og-5a-r20190009/', 'https://www.e-c.dk/project/meny-gourmet/', 'https://commitment.no/', 'https://gilles.no/moller/', 'https://dk.trustpilot.com/review/meny.dk?b=MjAxOS0wNC0yNFQwNzo1OToxNi4wMDBa', 'https://www.jammerbugt.dk/vaerdijob/om-vaerdijob/moed-netvaerkets-virksomheder/meny-i-saltum/', 'https://aarhus.lokalavisen.dk/aarhus_nord/2020-01-25/Bytte-bytte-k%C3%B8bmand-i-Meny-Ulrik-forlader-Randers-og-f%C3%A5r-butik-i-Aarhus-forstad-7067271.html', 'https://www.detailfolk.dk/detailnyheder/meny-butik_krer_videre_under_andet_kdekoncept.html', 'https://elevplads.dk/annonce/761497/salgsassistentelev-til-kolonialafdelingen-soges-til-meny-naerum', 'https://nye.obos.no/bedrift/naringseiendom/prosjekter/bogerud-torg', 'https://www.an.no/marlene-31-gjor-forretning-av-sin-store-lidenskap/s/5-4-1294331', 'https://www.vdonline.dk/Skaelskoer/Meny-saetter-fokus-paa-de-gode-foedevarer-og-vin/artikel/4463', 'https://www.moss-avis.no/okonomi/sjekk-forvandlingen/s/2-2.2643-1.4361432', 'https://www.test.matrikkel.no/matrikkel/releasenotes-3.17.0.htm', 'https://www.ordtak.no/index.php?emne=Forretning', 'https://joker.no/', 'https://www.tala.no/jobber/hagen-grusforretning-as-logo/', 'http://webhotel3.gisline.no/GisLinePlanarkiv/3029/006/diverse/Saksbehandling_vedtak.pdf', 'https://no.linkedin.com/in/liv-aasb%C3%B8-968773151', 'https://www.kommunal-rapport.no/article/88254!/', 'https://ugeavisen.dk/viborgnyt/artikel/stor-dagligvareforretning-lukker-i-bjerringbro-2019-12-6', 'https://baerumseptik.no/litt-historie/', 'https://www.careerjet.no/meny-jobb/tonsberg-271642.html', 'https://fredericiaavisen.dk/meny-soeger-medarbejdere-til-den-nye-forretning/', 'https://www.fredrikstad.kommune.no/tjenester/politikk-og-demokrati/planer/alleplaner/arealdel/sporsmal-og-svar-om-kommuneplanens-arealdel/1.1-motstrid/', 'https://www.sv.uio.no/psi/om/aktuelt/i-media/2011/media/nesten-som-frisoeren.pdf', \"https://books.google.com/books?id=O5OADwAAQBAJ&pg=PT947&lpg=PT947&dq='Meny'+'Forretning'&source=bl&ots=-B8Uh2LFsY&sig=ACfU3U1CjPB5lzJ5nZHtW4puAMlzdfBrgA&hl=no&sa=X&ved=2ahUKEwiKp5Skvf7vAhV4CjQIHRKZAZAQ6AEwXHoECH4QAw\", \"https://books.google.com/books?id=5j6FDwAAQBAJ&pg=PT10&lpg=PT10&dq='Meny'+'Forretning'&source=bl&ots=dTIKZsgR36&sig=ACfU3U2oZoRSEy-aztAmteI04v9C5-dHBw&hl=no&sa=X&ved=2ahUKEwiKp5Skvf7vAhV4CjQIHRKZAZAQ6AEwXXoFCIABEAM\", \"https://books.google.com/books?id=S_E2AQAAMAAJ&pg=PA117&lpg=PA117&dq='Meny'+'Forretning'&source=bl&ots=x9Z-UPOwuv&sig=ACfU3U2pXqXIREOMlUiuiuDGWiAIbDXrlg&hl=no&sa=X&ved=2ahUKEwiKp5Skvf7vAhV4CjQIHRKZAZAQ6AEwXnoECH0QAw\", 'https://spaniaavisen.no/roys-forretning-gir-store-ringvirkninger/', 'https://www.rnn.dk/2016/08/meny-bygger-om/', 'https://sn.dk/Holbaek/Meny-koebmand-flytter-ind-til-centrum/artikel/518305', 'https://www.prisjakt.no/store.php?f=25101']\n",
            "2\n",
            "['https://kiwi.no/Finn-butikk/', 'https://kiwi.no/tema/nyhetsarkiv/matbutikkene/kiwi-skollenborg-vant-arkitekturpris/', 'https://www.facebook.com/innlandetNM/posts/2143188475801974/', 'https://m.facebook.com/innlandetNM/posts/2143188475801974', 'https://e24.no/naeringsliv/i/jd0WJn/kiwi-legger-ned-alle-butikkene-i-danmark', 'https://www.varden.no/nyheter/her-kommer-det-leiligheter-og-en-kiwi-forretning/', 'https://www.aftenposten.no/norge/i/6jlQL/kiwi-butikk-ranet-gjerningsmann-paa-frifot', 'https://www.stangeavisa.no/2015/nyheter/kiwi-legger-ned-i-heggedalsvegen/', 'https://no.wikipedia.org/wiki/Kiwi_(dagligvarekjede)', 'https://www.budstikka.no/article/13019!/', 'https://www.blv.no/nyheter/mot-losning-for-kiwi-etablering/', 'https://www.blv.no/nyheter/onsker-ny-kiwi-pa-sortland/', 'https://www.ta.no/nyheter/butikkapning/kiwi/apnet-telemarks-storste/s/5-50-202868', 'https://www.oa.no/viser-ny-kiwi-i-hunndalen-ingen-hemmelighet-at-vi-onsker-oss-en-moderne-forretning/s/5-35-1168661', 'https://www.moss-avis.no/nyheter/okonomi/nyheter/ny-kiwi-butikk-og-18-nye-leiligheter-pa-halmstad/s/2-2.2643-1.4163572', 'https://www.vg.no/nyheter/innenriks/i/BJl02g/ranet-kiwi-butikk-med-gevaer', 'https://www.gausdal.kommune.no/cpclass/run/cpesa62/file.php/def/19002294d19002319o83bacc/forslag-til-planprogram.pdf', 'https://no.tripadvisor.com/Attraction_Review-g944389-d2324158-Reviews-Okarito_Kiwi_Tours-Okarito_West_Coast_Region_South_Island.html', 'https://www.budstikka.no/article/28547!/', 'https://www.dagbladet.no/nyheter/terrorsiktet-20-vurderte-lastebilangrep---han-mener-at-alle-kristne-bor-do/70676998', 'http://veidekkelogistikkbygg.no/prosjekter/article18963.ece', 'https://nye.obos.no/bedrift/naringseiendom/vare-eiendommer/haugenstua-torg', 'https://www.nettavisen.no/okonomi/pristest-sa-mye-dyrere-er-spylervaske-pa-bensinstasjonen/s/12-95-3424093952', 'https://www.skarpsno.org/nyheter/tag/KiwiF%C3%A5vang', 'https://www.trippeleiendom.no/eiendommer/kontor-og-handelseiendom-under-utvikling/', 'https://resett.no/2020/03/16/kiwi-ansatte-far-ikke-engangshansker-mange-gruer-seg-til-a-ga-pa-jobb/', 'https://www.1881.no/frukt-og-groent-forretning/frukt-og-groent-forretning-oslo/frukt-og-groent-forretning-galgeberg/nye-kiwi-mat-tariq-rafiq_100009559S0/', 'https://frolendingen.no/trafikk-og-motor/fyllekjorte-til-kiwi-hadde-1-75-i-promille/19.1859', 'https://www.gulesider.no/dagligvare+forretning/bedrifter', 'https://retailmagasinet.no/a/618889', 'https://www.180.no/firmavis/31986553069061.htm', 'https://bjerkepanorama.no/sider/om-bjerke-panorama', 'http://knuterikskarning.priv.no/barum/Hovik%20Hovik%20verk%20blommenholm/Kiwi%20Hovik.html', 'https://groruddalen.no/obos-skapte-julestemning/19.23620', 'https://www.smaalenene.no/kiwi/dagligvarer/butikker/utvider-butikken-ansetter-fem-nye-og-bygger-ut-for-10-millioner-kroner/s/5-38-359992', 'https://www.dagsavisen.no/demokraten/nyheter/2016/03/05/na-har-byens-ferskeste-kiwi-butikk-apnet/', 'https://www.meinich.no/portfolio_page/kiwi-konkurranse/', 'https://lokalhistoriewiki.no/wiki/Kiwi_Eiksmarka', 'https://www.estatenyheter.no/a/234843', 'https://innlandetfylke.no/regionalt-planforum/_f/p31/iaa53a284-7ca3-4e99-8e7e-54f6374a3a28/ostre-toten-kommune-planforum-23mars2020-vedlegg-1-notat-fra-sweco-helhetlig-presentasjon-av-prosjektet-med-redegjorelse-for-utfordringer.pdf', 'http://www.bygg.no/pay/index.php/article/67669', 'https://www.ostlendingen.no/ringsaker-blad/ringsaker-blad/ma-tenke-nytt-om-kiwi-bygg/s/2-2.2757-1.8334568', 'https://ne.no/vis/bogerud-torg-ledig-butikklokale-sentral-beliggenhet/', 'https://www.oyene.no/nyheter/snart-apning-av-nytt-senter-pa-hjemseng/s/1-504524-1649602', 'https://www.ha-halden.no/nyheter/haper-pa-klarsignal/s/1-2906373-6171546', 'https://www.itromso.no/pluss/eksklusiv/2019/04/11/Her-kan-Fastlands-Troms%C3%B8-f%C3%B8rste-Kiwi-butikk-komme-18839169.ece', 'https://docplayer.me/20066707-Omega-moiffew-brannteknisk-strategi-for-husnes-storhandel-ombygging-av-deler-av-bygget-til-kiwi-forretning-torghuset-as.html', 'https://www.glomdalen.no/nyheter/ny-matbutikk-i-julegave/s/1-57-5878317', 'https://sorum.custompublish.com/getfile.php/2788869.1502.rqwxtfuurr/Kiwi+L%C3%B8renfallet+saksfremlegg.pdf', 'https://dagligvarehandelen.no/2012/fra-spar-til-kiwi', 'http://www.gjengangeren.no/kiwi/', 'https://play.google.com/store/apps/details?id=nz.co.kiwibank.quickpay&hl=da&gl=US', 'http://www.arkitektgruppen.drammen.no/naering', 'https://www.oslobyleksikon.no/side/John_Colletts_plass', 'https://digitaltmuseum.no/021018773824/brygga-mat-holdt-til-i-lokalene-som-i-2020-er-kiwi-butikken-ble-kjent-for', 'https://www.sa.no/hysteri-og-hamstring/o/5-46-846409', 'https://www.f-b.no/nyheter/kan-bli-lensmannskontor/s/2-2.952-1.1802649', 'https://www.abcnyheter.no/penger/naeringsliv/2019/02/25/195552080/a-apne-for-matimport-vil-kunne-gi-okt-dagligvarekonkurranse', 'http://webhotel3.gisline.no/GisLinePlanarkiv/3048/0661/Dokumenter/Planbeskrivelse.pdf', 'https://www.sva.no/2014/nyheter/planlegger-ny-butikk/', 'https://www.tv2.no/a/5160215/', 'https://www.bygdeposten.no/forretning', 'https://www.lofotposten.no/lokale-nyheter/dagligvarekrig-pa-leknes/s/1-71-1819650', 'https://randaberg24.no/2020/04/30/dette-er-det-uklarheter-med-rundt-kiwi-utbygging/planinitiativ-rev-tt150420/', 'https://www.el-24.no/referanseprosjekter/', 'https://www.byggfakta.no/starter-bygging-av-ny-bydel-88419/nyhet.html', 'https://www.pressreader.com/norway/varden/20200618/281762746506709', 'https://www.dr.dk/nyheder/penge/saa-er-der-lukket-og-slukket-i-de-fleste-kiwi-butikker', 'https://sn.dk/Slagelse/Ny-haandvaerkerbutik-aabner-i-tidligere-Kiwi-forretning/artikel/795409', 'https://www.elverum.kommune.no/mindre-endring-av-reguleringsplan-for-prestmyrbakken-f2-og-f-i4-offentlig-ettersyn', 'https://www.auraavis.no/nyheter/kiwi-kommer-til-varen/s/1-37-7023867', 'https://malling.no/en/services/markets/find-property-for-sale/eiendom/?adId=139111637&ismalling=1', 'https://www.telen.no/nyheter/vil-rive-bensinstasjon/s/2-2.3402-1.4699698', 'https://www.godsetmedia.no/nyheter_cms/2009/oktober/besoekte-kiwi-vitbank/3638', 'https://www.rb.no/naringsliv/kjopesenteret-vokser/s/1-95-7697980', 'https://www.tb.no/nyheter/her-tar-politiet-de-tyske-klemmetyvene/s/2-2.516-1.6612963', 'https://www.rablad.no/eldre-omsorg-og-rjukan-sykehus/o/5-90-96293', 'http://www.grenlandskart.no/regplan/814/Planbeskrivelse/284-planforslag-Planbeskrivelse%20Reguleringsplan%20for%20del%20av%20Grasmyr.pdf', 'https://www.framtidinord.no/nyheter/2015/12/18/Ingen-konkrete-Kiwi-planer-p%C3%A5-Lyngseidet-11940477.ece', 'https://www.folkebladet.no/nyheter/article296964.ece', 'https://www.oblad.no/vestby/sentrum-i-son/s/2-2.2610-1.3895230', 'https://www.sor-fron.kommune.no/tjenester/kultur-naring-og-fritid/naring/utleie-av-naringslokaler/', 'https://www.ringblad.no/naringsliv/snart-byggestart-for-ny-butikk/s/1-97-6636672', 'https://www.kv.no/nyheter/nyheter/ny-kiwibutikk-pa-holtsletta/s/2-2.3405-1.7636455', 'https://aktuellsikkerhet.no/a/116368', 'https://www.careerjet.no/kiwi-jobb/sandefjord-112054.html', 'https://www.h-avis.no/haugesund/karmoy/nyheter/forsokte-a-kjore-ned-politimann/s/2-2.921-1.8262389', 'http://topcamp.no/nb/bogstad', 'https://ndla.no/nb/subject:22/topic:1:106334/resource:1:106347', 'https://byleksikon.drmk.no/onshuus-emil-jr-2/', 'https://www.vol.no/nyheter/sortland/2017/01/26/Gir-Steiro-gr%C3%B8nt-lys-for-ny-Kiwi-butikk-14117448.ece', 'https://www.hadeland.no/lokale-nyheter/flytter-med-seg-saksa-til-kiwi/s/1-59-7425493', 'https://no.linkedin.com/in/bj%C3%B8rn-rusten-036b2269', 'https://www.laagendalsposten.no/nyheter/kongsberg/nyheter/kiwi-pa-vei-til-moane/s/2-2.1601-1.5460845', 'https://www.altaposten.no/lokalt/nyheter/article23473.ece', 'https://www.eikerbladet.no/tag/forretning', 'https://www.vvsforum.no/2015/utbyggingsselskapet-ulven-as-starter-bygging-av-ny-bydel/', 'https://www.ifinnmark.no/nyheter/storstilt-senterapning-i-vadso/s/1-49-3067383', \"https://books.google.com/books?id=W6GfDwAAQBAJ&pg=PT137&lpg=PT137&dq='Kiwi'+'Forretning'&source=bl&ots=i7O-Cv6tZK&sig=ACfU3U3_HFjpSQGm5dN8Qa3NNYTFwwAqHg&hl=no&sa=X&ved=2ahUKEwiR3NKkvf7vAhWkJzQIHQ5_AFsQ6AEwYnoECHcQAw\"]\n",
            "3\n",
            "['https://da.wikipedia.org/wiki/OBS!', 'https://coop.no/', 'https://coop.no/om-coop/virksomheten/datterselskaper/norsk-butikkdrift-as/forretningside-og-verdier/', 'https://www.soprasteria.no/dette-kan-vi/details/coop-obs-analytics-forretningsverdi-gjennom-avansert-dataanalyse', 'https://www.1881.no/radio-og-tv-forretning/radio-og-tv-forretning-agder/radio-og-tv-forretning-kristiansand-s/coop-obs-kristiansand-avd-elektrisk_103937206S0/', 'https://www.regnskapstall.no/konkurrenter-av-coop-obs-haugesund-avd-hjemartikler-103936898S0', 'https://consto.no/prosjekter/coop-obs-bygg-jessheim/', 'https://da-dk.facebook.com/Obs/shop/all_products/?ref_code=page_shop_card&ref_surface=mini_shop_storefront', 'https://no.linkedin.com/in/pommaccartney', 'https://www.180.no/firmavis/43781553294561.htm', 'https://konkurransetilsynet.no/wp-content/uploads/2018/08/a1998-12.pdf', 'http://web40.sarpsborg.com/Data/Planarkiv/0105/13015/Dokumenter/13015%20Planbeskrivelse.pdf', 'https://www.musclehouse.dk/', 'https://play.google.com/store/apps/details?id=com.oakridgebs.dim&hl=da&gl=US', 'https://stilleben.dk/', 'https://docs.microsoft.com/nb-no/power-platform/admin/data-loss-prevention-sdk', 'https://www.obs.no/bygg-og-hage/verktoy-og-tilbehor/tilbehor-til-verktoy/2175357?v=Obs-7290000230825', 'http://www.direktesalgsforbundet.no/forbruker/gdpr/', 'https://prisguiden.no/produkt/herr-nakanos-forretning-for-avlagte-gjenstander-489127', 'https://www.nettavisen.no/artikkel/arets-teiteste-tyveri/s/12-95-2456228', 'https://billetto.dk/no/e/meetup-ioi-march-20th-obs-this-event-is-over-billetter-186500', 'https://www.mittlillestrom.no/butikker', 'https://www.regjeringen.no/no/dokument/dep/kmd/andre-dokumenter/brev/utvalgte_brev/2018/klage-pa-vedtak-om-samtykke-til-handelsetablering-for-coop-obs-bygg-i-haugesund-kommune/id2617090/', 'https://nytibo.dk/collection/hammerwinther', 'http://www.easyrentspain.net/da/apartment-for-sale-in-centro-ciudad-fuengirola/41369/s2', 'https://www.moss-avis.no/nyheter/17-mai/forbruker/coop-kaller-tilbake-17-mai-leker/s/5-67-259039', 'https://www.amta.no/nyheter/17-mai/forbruker/coop-kaller-tilbake-17-mai-leker/s/5-3-127252', 'https://www.adressa.no/pluss/nyheter/2018/03/06/Ap-positiv-til-Obs-Byggs-flytteplaner-16217097.ece', 'https://www.budstikka.no/article/335519!/', 'https://podtail.com/da/podcast/vi-er-coop/', 'http://vps1.beha.no/Finn-forhandler/(offset)/200', 'https://www.instagram.com/horselection.dk/', 'https://www.ostlendingen.no/elverum/konkurransen-spisser-seg-til/s/2-2.2757-1.4610522', 'https://billig-billy.dk/aalborg-centrum-butik', 'https://www.dagbladet.no/nyheter/plastdokke-kan-lose-mysteriet/65478564', 'https://www.produktfakta.no/coop-obs-bygg-kongsberg/prosjekt.html', 'http://pacificatory.amomy.site/2020/obs-rudshgda-gullsmed.php', 'https://www.dnt.no/', 'https://www.avisa-st.no/nyheter/2020/11/05/Har-signert-avtale-med-bilutstyrsforretning-22938391.ece', 'http://politiskesaker2010.arendal.kommune.no/k2000/k2pub.nsf/2f31cc0b151994c5c1256a45003f7add/c1256b3b00338cf0c1256d900020a4d3/$FILE/03034256.pdf', 'https://www.fvn.no/norgeogverden/i/bWe9d/et-symbol-for-soerlandsparken', 'https://digitaltmuseum.no/021018281169/obs', 'https://www.real.no/wp-content/uploads/2015/01/realnytt_2013-08.pdf', 'https://www.avisa-hordaland.no/nyhende/coop-obs-bygg-vil-etablera-eit-3000-kvadratmeter-stort-anlegg-pa-tvildemoen/', 'https://aurskogelforretning.no/produkt/ladyshaver-remington-wdf5030-oppladbar/', 'https://www.mtnp.no/tomt-1a/', 'https://no.tripadvisor.com/Restaurant_Review-g190504-d2333928-Reviews-Coop_Obs_Cafe-Alesund_More_og_Romsdal_Western_Norway.html', 'https://www.volcanodiscovery.com/popocatepetl/news/109552/Popocatepetl-Volcano-Volcanic-Ash-Advisory-VA-OBS-IN-SAT-to-20000-ft-6100-m.html', 'https://www.erhvervsraadet.dk/groen-forretning/downloads', 'https://www.trondheim.kommune.no/globalassets/10-bilder-og-filer/10-byutvikling/byplankontoret/1b_off-ettersyn/2018/tungaveien-26-r20170019/saksframlegg.pdf', 'https://www.norkart.no/kurs/webinar_oppmaling_felt/', 'https://www.paysafecard.com/no-no/kjop/forhandler/', 'https://www.pd.no/lokale-nyheter/utvikler-100-mal-til-naring/s/1-89-7443940', 'https://oes.dk/media/37617/servicebeskrivelse-for-skb-obs-marts-2020.pdf', 'https://www.visitfaroeislands.com/see-do/shopping/?lang=da', 'https://www.gholth.no/avdelinger/', 'https://downloads.dell.com/manuals/all-products/esuprt_laptop/esuprt_chromebook/chromebook-11-3120_setup%20guide_fi-fi.pdf', 'https://carlsbergdanmark.dk/ny-kunde/', 'https://ryggestorsenter.no/butikker/', 'https://www.gulesider.no/dagligvare+forretning+drammen/bedrifter', 'https://www.dartshop.dk/shop/cms-kontakt.html', 'https://byretail.dk/butikker/', 'https://www.aftenbladet.no/utenriks/i/70wO04/virusfrykt-er-blitt-god-forretning-for-svindlere', 'https://louiseroe.dk/pages/concept-store-coffee-shop', 'http://www.pangstart.oslo.kommune.no/getfile.php/bydel%20stovner%20(BSR)/Intranett%20(BSR)/Bilder/11.09.14%20RFF(1).pdf', 'https://www.taniaellis.com/event/konference-socialt-ansvar-er-god-forretning/', 'https://www.sport1.no/butikker/sport-1-geilo/', 'https://www.finansleksikon.no/Regnskap/F/Faghandel.html', 'https://byggebolig.no/elektro-belysning/utelys-som-lyser-nedenfra-og-opp-pa-veggen/10', 'https://www.uppsalafritid.se/', 'https://www.finn.no/173781614', 'http://hrvelo.dk/', 'https://www.danacordbutik.dk/', 'https://www.temashop.dk/afhentning', 'https://www.cylex.no/kristiansand/coop+obs+stormarked+avd+400+-+coop+obs+s%C3%B8rlandssenteret-11851835.html', 'https://www.saxis.dk/saelges/virksomhed/butik-til-afstaaelse/33079', 'https://www.lisg.dk/webshoppen', 'https://www.uio.no/studier/emner/jus/jus/JUR1000/v06/JUR1000-1-4/Supra%20PC.html', 'https://annonsera.chef.se/dk/products/nyhetsbrev-44/panorama-nyhetsbrev', 'https://denkreativeforretning.dk/foredrag', 'https://www.lister24.no/nyheter/i/44qOo/Slik-blir-handelsparken', 'https://finanswatch.no/nyheter/karriere/article12405663.ece', 'https://www.lordeiendom.no/ostre-rosten-66-as/', 'https://www.retailnews.dk/article/view/126783/kvickly_lukker_i_horsens', 'https://www.haugel.no/artikkel/forste-inntrykket-med-riktig-belysning/', 'https://old.motor.no/artikler/2019/mars/bruktbilselger-fradomt-retten-til-a-drive-forretning/', 'http://www.marinella.no/le-panorama-beskrivelse', 'https://www.okologiskbutik.dk/', 'https://jysk.no/', 'https://hteforum.dk/medlemmer/months/city2-nu-bliver-vi-landfast-med-taastrup.html', \"https://books.google.com/books?id=qidHAAAAYAAJ&pg=PA634&lpg=PA634&dq='Obs'+'Forretning'&source=bl&ots=qHQ68QG3iZ&sig=ACfU3U2eYqu9_5CEjlLBKKfBK3YoKfOMxw&hl=no&sa=X&ved=2ahUKEwjJ0Yelvf7vAhUVJDQIHcSaBBQQ6AEwWnoECG4QAw\", 'https://www.levanger.kommune.no/PageFiles/1457/091104_puk_sakliste.pdf', 'https://coop150.samvirke.dk/150-aars-jubilaeum', 'https://boutiqueglad.dk/', 'https://www.telenor.no/telenorbutikken/', \"https://books.google.com/books?id=ccBUAAAAcAAJ&pg=PA601&lpg=PA601&dq='Obs'+'Forretning'&source=bl&ots=tGtZZgZQCe&sig=ACfU3U2CUlud5aO5AUCjxTmTQqPPmf0L3g&hl=no&sa=X&ved=2ahUKEwjJ0Yelvf7vAhUVJDQIHcSaBBQQ6AEwX3oECG0QAw\", 'https://bornibyen.dk/koebenhavn/articles/bedste-forretning', 'https://stof2000.dk/butikker', 'https://www.nrk.no/innlandet/stjal-klaer-_-i-fengsel-i-60-dager-1.8257511', 'https://billetto.no/e/levekarskonferansen-2018-billetter-310568']\n",
            "4\n",
            "['https://coop.no/butikker', 'https://coop.no/', 'https://info.coop.dk/butikker/', 'https://info.coop.dk/butikker/find-butik/', 'https://no.wikipedia.org/wiki/Coop_Norge', 'https://no.wikipedia.org/wiki/Dagligvareforretning', 'https://lokalhistoriewiki.no/wiki/Coop_Prix_Jar', 'https://e24.no/naeringsliv/i/50v641/her-stenger-coop-kundene-kan-nesten-bare-handle-paa-rema-og-kiwi', 'https://www.gulesider.no/dagligvare+forretning/bedrifter', 'https://www.1881.no/radio-og-tv-forretning/radio-og-tv-forretning-viken/radio-og-tv-forretning-vinterbro/coop-oest-sa-avd-elektrisk-coop-obs-vinterbro_103937321S0/', 'https://www.1881.no/radio-og-tv-forretning/radio-og-tv-forretning-hordaland/?page=4', 'https://greenbelt.coop/', 'https://www.moss-avis.no/dag-67-har-ventet-pa-avklaring-siden-2014-store-planer-for-leiligheter-og-forretninger-i-karlshus/s/5-67-1262569', 'https://www.dalane-tidende.no/forretning', 'https://www.coop.se/butiker-erbjudanden/coop/coop-osby/', 'https://innsikt.visitmr.com/stranda/coop-marked-hellesylt', 'http://knuterikskarning.priv.no/barum/Hovik%20Hovik%20verk%20blommenholm/Coop%20Marked%20Lokeberg.html', 'https://www.facebook.com/ordforererikunaas/posts/i-morgen-tidlig-%C3%A5pner-coop-extra-sin-nye-forretning-p%C3%A5-m%C3%B8rstadsenteret-i-mysen-s/455479154521586/', 'https://podtail.com/da/podcast/vi-er-coop/', 'https://www.produktfakta.no/coop-obs-fokserod-nordre-fokserod-10-sandefjord/prosjekt.html', 'https://www.centric.eu/no/nyheter-presse/coop-implementerer-centrics-omnichannel-retail-suite/', 'https://www.odingruppen.no/stokmarknes?lightbox=dataItem-k1hvr8gi', 'https://www.drangedalsposten.no/nyheter/slik-blir-nye-coop-extra/', 'https://consto.no/prosjekter/coop-obs-bygg-jessheim/', 'https://karrierestart.no/ledig-stilling/1160037?viewName=JobAdPrint', 'https://www.agderposten.no/nyheter/lavpris-oker-mest-her-satser-kjedene-pa-flere-nye-butikker-i-aust-agder/', 'https://no.linkedin.com/in/pommaccartney', 'https://www.teknologiporten.no/en/ad/1271/', 'https://www.tronderbladet.no/nyheter/2020/09/27/Fortsetter-med-flytteplanene-for-Coop-Prix-Soknedal-22722295.ece', 'http://vollark.no/wp-content/uploads/2018/11/4_Forel%C3%B8pig-planbeskrivelse-2018.03.16.pdf', 'https://www.soprasteria.no/dette-kan-vi/details/coop-obs-analytics-forretningsverdi-gjennom-avansert-dataanalyse', 'http://www.ranheimsavisa.no/index.php/2390-coop-gjenbruksbonus-pa-handlenett', 'https://research.cbs.dk/en/publications/nationen-coop', 'https://play.google.com/store/apps/details?id=uk.co.coop.app&hl=da&gl=US', 'https://journals.sagepub.com/doi/abs/10.1177/1469540518773803', 'https://www.180.no/firmavis/44957654069081.htm', 'https://via.ritzau.dk/pressemeddelelse/coop-bygger-ny-baeredygtig-butik-i-glostrup?publisherId=90407&releaseId=13611556', 'https://www.folksom.no/2021/01/12/horten-handelspark-far-ny-eier', 'https://www.nordplan.no/referanser/forretningsbygg-naustdal/', 'https://www.nord24.no/den-raeste-bygge-forretningen-som-finnes-i-coop/s/5-32-52239', 'https://www.proff.no/selskap/coop-mega-sa/oslo/butikkhandel/IG7P8BL10MC/', 'https://www.valdres.no/handel-og-tjenester/handel/coop-prix-fjellvang-p5373973', 'https://peab.no/bygg/kontor-og-forretning/', 'https://www.vaksdalposten.no/meiningar/folketallsvekst-handelslekkasje-og-forretninger-i-vaksdal-kommune/', 'https://nab.no/nyheter/mister-narbutikken-etter-nesten-100-ar/19.12122', 'http://sangnespolsa.no/utsalgssteder/', 'http://www.nt24.no/h%C3%B8ylandet/', 'https://www.amta.no/follo/okonomi-og-naringsliv/mat-og-naringsmidler/ingen-butikker-i-follo-blir-solgt/s/5-3-26622', 'https://fi.pinterest.com/pin/742531057296148095/', 'https://www.baerum.kommune.no/innsyn/postliste/wfdocument.ashx?journalpostid=2020294742&dokid=5264341&versjon=1&variant=A&', 'https://www.allkunne.no/framside/fylkesleksikon-sogn-og-fjordane/artiklar-sortert-pa-kommune/forde/coop-sogn-og-fjordane/1899/79961/', 'https://www.altaposten.no/nyheter/2020/04/21/Politiet-stormet-inn-i-butikken-for-%C3%A5-stanse-kvinne-med-kniv-21643665.ece', 'https://www.oblad.no/okonomi-og-naringsliv/vinterbro/hebekk/ingen-butikker-i-follo-blir-solgt/s/5-68-34854', 'https://www.indre.no/lokale-nyheter/snart-er-coop-bygget-historie/s/1-65-4711100', 'https://willekedestell.nl/75658drone-coop-tilbud.html', 'https://ifinavet.no/job/865', 'https://bydelsnytt.no/2020/01/21/planlegger-ny-dagligvarebutikk-i-harald-torps-veg/', 'https://www.paysafecard.com/no-no/kjop/forhandler/', 'https://www.nrk.no/trondelag/dagens-coop-fusjon-kan-fore-med-seg-flere-1.12347478', 'https://hjertnes.com/visning/coop-extra-pa-pindsle-har-apnet/', 'https://www.ta.no/nyheter/nytt-raid-mot-coop-butikk/s/1-111-765078', 'https://www.retten.no/presenterte-skisser-for-ny-dagligvareforretning-pa-steimosletta/s/5-44-27825', 'https://dagligvarehandelen.no/2010/forbannet-p%C3%A5-coop', 'https://www.mgk.no/file/1745/download?token=ZZdq5Mcm', 'https://www.gjengangeren.no/nyheter/pa-jakt-etter-coop-lokaler/s/2-2.426-1.689149', 'https://www.avisa-st.no/nyheter/2019/07/16/Innsigelser-mot-kommunens-sentrumsplan-%E2%80%93-Dette-vil-v%C3%A6re-d%C3%A5rlig-butikk-for-samvirkelaget-19503893.ece', 'https://www.jobindex.dk/jobannonce/391885/kommerciel-business-analyst-til-coopdk-shopping', 'https://roros.kommune.no/wp-content/uploads/2021/02/Planbeskrivelse-Coop-Havsj%C3%B8veien.pdf', 'https://www.folkebladet.dk/2021/02/coop-365-bliver-ny-butik-i-hvissinge/', 'https://www.regjeringen.no/no/aktuelt/ja-til-etablering-av-coop-obs-bygg-pa-raglamyr/id2617086/', 'https://www.oslobyleksikon.no/side/COOP_Norge_SA', 'http://webhotel3.gisline.no/GisLinePlanarkiv/5025/20200001/Dokumenter/Samlet%20saksutredning_%20coop%20ekstra.pdf', 'https://prosjekt.hem.no/orkangerporten', 'https://www.budstikka.no/article/13019!/', 'http://innsyn.gildeskal.kommune.no/eInnsyn/RegistryEntry/ShowDocumentFromDmb?registryEntryId=58047&documentId=100502', 'https://kupp.no/', 'https://dhblad.dk/coop-vil-aabne-ny-forretning-i-islev-15/05-2013', 'https://csr.dk/coop-klar-med-ambiti%C3%B8s-klimaplan', 'https://www.jobpatruljen.dk/lonsatser/coop-danmark/', 'https://ugeavisen.dk/kbhliv/artikel/gr%C3%B8n-facade-coop-pr%C3%A6senterer-ny-forretning', 'https://www.hadeland.no/coop-bygget/gran-handelspark/coop-etablerer-byggevare-i-gran/s/5-21-100292', 'https://www.sor-varanger.kommune.no/varsel-om-oppstart-detaljregulering-for-coop-sandnes.6068475-413764.html', 'https://www.h-a.no/2018/nyhet/coop-vil-ha-leiligheter-i-seks-etasjer/', 'https://coopbank.dk/services/services-i-coops-butikker/', 'https://www.op.no/nyheter/les-loggen-fra-kommunestyret/s/1-85-7587907', 'https://www.pressreader.com/norway/agderposten/20190131/281844349866214', 'https://www.eigersund.kommune.no/reguleringsendring-hellvik-sentrum.6224343-148494.html', 'https://www.venneslatidende.no/nyheter/ser-for-seg-ny-storbutikk-nord-i-sentrum/', 'https://industrimuseet.dk/shop/brugsen-en-anderledes-forretning-1866-2016/', 'https://www.aftenposten.no/oslo/i/pPjWE/kan-faa-600-nye-boliger', 'https://www.trysil.com/no/Gjore/Shopping/', 'https://coopnordland.no/a/coop-nordland/nyheter/sto-i-koe-foer-nybutikken-aapnet?ac_parent=1', 'https://www.steinkjerleksikonet.no/index.php?artikkel=1573', 'https://www.nowiki.org/wiki/Kolonialbutikk', 'https://www.itromso.no/nyheter/article10722412.ece', \"https://books.google.com/books?id=250aAAAAYAAJ&pg=PA378&lpg=PA378&dq='Coop'+'Forretning'&source=bl&ots=K1rXSTgnXV&sig=ACfU3U2WiLNlJdf_bkRY0MUDbymlJK43Mw&hl=no&sa=X&ved=2ahUKEwjruMWlvf7vAhWCMH0KHVAcAO8Q6AEwX3oECHYQAw\", \"https://books.google.com/books?id=NXO5DwAAQBAJ&pg=PT126&lpg=PT126&dq='Coop'+'Forretning'&source=bl&ots=OKQFA5_4Vz&sig=ACfU3U02UrgXiF1E8kTiNgFpPW_3-8SfpA&hl=no&sa=X&ved=2ahUKEwjruMWlvf7vAhWCMH0KHVAcAO8Q6AEwYHoECHMQAw\", \"https://books.google.com/books?id=NHKhDwAAQBAJ&pg=PT299&lpg=PT299&dq='Coop'+'Forretning'&source=bl&ots=OTqNQYJ_C2&sig=ACfU3U2jVWN6ud7sNtGbBlvyP4FS3_9ReQ&hl=no&sa=X&ved=2ahUKEwjruMWlvf7vAhWCMH0KHVAcAO8Q6AEwYXoECHQQAw\", \"https://books.google.com/books?id=aHxnDwAAQBAJ&pg=PT151&lpg=PT151&dq='Coop'+'Forretning'&source=bl&ots=CtN11M8zg2&sig=ACfU3U2xL1wHuhw5DkqLTjI5hvLdWBIw4A&hl=no&sa=X&ved=2ahUKEwjruMWlvf7vAhWCMH0KHVAcAO8Q6AEwYnoECHUQAw\", 'https://www.ifinnmark.no/ost-finnmark/coop-fra-prix-til-extra/s/1-49-6964905']\n",
            "5\n",
            "['https://www.rema.no/nyheter/rema-1000-apner-butikk-nummer-1000-slik-startet-eventyret/', 'https://www.rema.no/historikk/', 'https://www.rema.no/om-rema-1000/', 'https://www.rema.no/butikker/', 'https://no.wikipedia.org/wiki/Rema_1000', 'https://e24.no/naeringsliv/i/pA6aG1/rema-1000-aapner-butikk-nummer-1000', 'https://www.reitangruppen.no/historie/', 'https://cappa.no/vil-du-drive-din-egen-rema-1000-butikk/', 'https://www.remaetablering.no/fremtidens-butikk/', 'https://no.linkedin.com/company/rema-1000', 'https://www.ha-halden.no/stenger-rema-1000-butikk-i-fredrikstad-etter-koronasmitte/s/5-20-931024', 'https://www.glomdalen.no/lokal-rema-1000-butikk-kan-vinne-gjev-matgledepris/s/5-19-856635', 'https://dagligvarehandelen.no/kjedenytt/2020/rema-1000-apnet-butikk-nummer-1000', 'https://www.moss-avis.no/tag/rema-1000', 'https://www.arealbygg.no/rema-1000-butikk/', 'https://www.totensblad.no/2021/nyheter/her-planlegges-rema-butikk-nummer-to-i-samme-gate/', 'https://kommunikasjon.ntb.no/pressemelding/rema-1000-byasen-er-arets-butikk-2019?publisherId=7512272&releaseId=17890932', 'https://kommunikasjon.ntb.no/pressemelding/rema-1000-bygnes-er-arets-butikk?publisherId=7512272&releaseId=17869395', 'https://www.op.no/sosken-og-kjopmenn-i-hver-sin-butikk/x/5-36-686099', 'https://www.f-b.no/her-apner-det-ny-rema-1000-butikk-i-oktober/s/5-59-1919433', 'https://www.sydvesten.no/nyheter/2020/11/12/aapnet-ny-rema-1000-butikk-i-knudsenkvartalet/', 'https://annonsorinnhold.nettavisen.no/ahmad-satser-alt-pa-rema/3423698020.html', 'https://www.ranablad.no/rema-1000-har-oppgradert-for-10-millioner-men-ma-stenge-i-flere-dager-for-a-fullfore-oppdraget/s/5-42-815846', 'https://www.varden.no/naeringsliv/det-skulle-bare-vaere-ekstrajobb-na-har-26-aringen-egen-rema-1000-butikk/', 'https://commons.wikimedia.org/wiki/File:Rema_1000-butikk,_inngangsparti.jpg', 'https://www.sa.no/vis/annonsorinnhold/na-skal-gerd-%2831%29-snart-apne-drene-til-nye-rema1000-pa-torp--jeg-er-kjempenervs-og-har-fullstendig-overtenning/3424036110.html', 'http://www.ringblad.no/rema-1000/', 'https://www.folkebladet.no/nyheter/2021/02/21/Han-driftet-verdens-st%C3%B8rste-Rema-1000-butikk.-N%C3%A5-eier-han-et-lakseparadis-og-dr%C3%B8mmer-om-%C2%ABViking-Disney%C2%BB-i-Nord-Troms-23534269.ece', 'https://tool.cct-marketing.com/cms/293/page/view/Kvalitetskylling-i-din-REMA-1000-butikk', 'http://www.lofotposten.no/rema-1000/', 'http://www.noblad.no/rema-1000/', 'https://www.gd.no/fire-butikkansatte-ved-rema-1000-butikk-pa-lillehammer-har-fatt-pavist-koronasmitte/s/5-18-1274501', 'http://www.sandnesposten.no/rema-1000/', 'https://nab.no/nyheter/her-kommer-ny-butikk/19.23312', 'https://b-m.facebook.com/rema1000etne/', 'https://www.eub.no/2015/nyheter/sier-ja-til-ny-rema-1000-butikk-pa-dal/', 'https://www.abcnyheter.no/nyheter/verden/2020/07/29/195693600/rema-1000-butikk-lovet-a-rydde-opp-etter-sjokkfunn-det-skjedde-ikke', 'https://www.tiendeo.no/tilbud-kundeavis/rema-1000', 'https://rema1000.dk/om-rema-1000/organisationen/historie/', 'https://www.arkitektur.no/rema-1000-kroppanmarka?tid=158202', 'http://www.ta.no/rema-1000/', 'http://www.nordlys.no/rema-1000/', 'http://www.jbl.no/rema-1000/', 'https://www.finn.no/job/fulltime/ad.html?finnkode=211434264', 'https://www.aftenposten.no/brandstudio/i/gPqpWJ/rema-1000-feirer-30-ar-i-bergen-jeg-holder-gjerne-pa-i-30-ar-til', 'https://www.kimbino.no/rema-1000/', 'http://borealisark.no/sites/default/files/field/attachment/evjenveien_120_rema_1000_-_butikk.pdf', 'https://www.tv2.no/a/10828373/', 'https://www.produktfakta.no/rema-1000-haukerod/prosjekt.html', 'https://www.budstikka.no/article/580605!/', 'https://no.trustpilot.com/review/www.rema1000.net', 'https://www.convenience.no/a/562802', 'http://www.hadeland.no/rema-1000/', 'https://www.aftenbladet.no/brandstudio/i/7lvgy4/da-trygve-og-jo-sondre-skulle-apne-nye-butikker-fikk-de-1130-jobbsokn', 'https://www.mynewsdesk.com/no/enova-sf/images/energieffektiv-rema-1000-butikk-240765', 'https://lokalhistoriewiki.no/wiki/Rema_1000_Nesbru', 'https://www.rbnett.no/nyheter/2020/09/11/Vil-kapre-kundestr%C3%B8mmen-p%C3%A5-Storsenteret-22651825.ece', 'https://www.fremover.no/rema-1000/butikk/orkla/flere-hundre-personer-ma-ga-etter-store-rema-endringer/s/5-17-465924', 'https://www.tb.no/kiwi-og-meny-eierne-ville-bygge-rema-1000-butikk-her-na-har-fylkesmannen-sagt-sitt/s/5-76-1415092', 'https://www.altaposten.no/nyheter/2019/07/10/Rema-1000-flytter-butikken-og-starter-opp-i-nye-lokaler-i-2020.-19467032.ece', 'https://www.vif-fotball.no/samarbeidspartnere/nyheter/vi-gratulerer-rema-1000-med-apning-av-ny-butikk', 'https://munin.uit.no/bitstream/handle/10037/13932/thesis.pdf?sequence=2&isAllowed=y', 'https://snl.no/Rema_1000_AS', 'https://www.gjengangeren.no/horten/dagligvarer/rema-1000/thomas-23-overtar-rema-1000-butikk-satser-pa-sondagsapent/s/5-60-272700', 'https://www.ensjo.org/rema-1000-apner-butikk-pa-valle-hovin-10-oktober-i-nabolaget-til-ensjo/', 'https://www.ifinnmark.no/tom-andre-apner-ny-rema-1000-butikk-det-blir-en-fantastisk-fest-for-a-si-det-mildt/s/5-81-1170412', 'https://frifagbevegelse.no/nyheter/rema-1000butikk-far-holde-apent-dognet-rundt--meningslos-og-hoy-belastning-pa-de-ansatte-mener-handel-og-kontor-6.158.580597.e710e82720', 'https://digitaltmuseum.no/011012567732/rema-1000-butikk-ved-rundkjoring-jessheim', 'https://www.austagderblad.no/rema-1000', 'https://www.careerjet.no/rema-1000-butikk-jobb.html', 'https://www.morenytt.no/nyheiter/2020/04/29/%E2%80%93-Ny-Rema-1000-p%C3%A5-%C3%98vre-Rotset-vil-ikkje-g%C3%A5-ut-over-sentrum-21706557.ece', 'https://www.nhh.no/nhh-bulletin/artikkelarkiv/2017/mars/rema-1000-gjorde-to-feil/', 'https://karrierestart.no/ledig-stilling/15920', 'https://www.smaalenene.no/na-kan-ogsa-denne-grenda-fa-sin-egen-rema-1000-butikk/s/5-38-714575', 'http://www.smaalenene.no/rema-1000/', 'https://ndla.no/nb/subject:12/topic:1:88173/topic:1:183807/resource:1:158033', 'https://www.bt.no/nyheter/okonomi/i/wEG56P/rema-1000-butikk-i-fana-skal-holde-aapent-doegnet-rundt', 'https://www.nrk.no/nyheter/rema-1000-butikk-pa-stord-ranet-1.14405404', 'https://www.hf.no/naeringsliv/vart-best-i-vest/', 'https://www.dn.no/handel/danske-rema/reitan-handel/danske-rema-1000-selger-unna-eiendom-for-over-fire-milliarder/2-1-942856', 'https://no.indeed.com/Rema-1000-Butikk-Og-jobb', 'https://web.trondelagfylke.no/olav-duun-videregaende-skole/nyhetsarkiv/elever-overtar-rema-1000/', 'https://www.nationen.no/naering/rema-1000-trekker-tilbake-vegetarburgere/', 'http://www.okernloren.no/2019/01/30/apner-rema-1000-i-sinsenveien/', 'https://www.vg.no/tag/2eff25dd-8b93-44c2-a57f-0d0db786a877/rema-1000', 'https://danskebank.no/privat/ansatteavtaler/vip-partner/rema1000kjopmann', 'https://karmoynytt.no/rema-1000-paa-bygnes-kaaret-til-aarets-butikk/25.08-11:09', 'https://presse.enova.no/images/energieffektiv-rema-1000-butikk-240765', 'https://www.dagbladet.no/mat/reitan-og-rimi-hagen-ville-lage-harem/70767262', 'https://www.aasavis.no/christer-29-fra-as-driver-regionens-beste-rema-1000-butikk-jeg-grein-meg-til-en-kassajobb-i-rema-pa-as-da-jeg-var-13/s/5-2-466138', 'https://www.nord24.no/legger-ned-rema-1000-butikk/s/5-32-38917?fb_comment_id=1032178820133839_1032183643466690', 'https://trd.by/livsstil/2018/01/26/Da-Ida-var-19-%C3%A5r-hadde-hun-syv-deltidsjobber.-N%C3%A5-driver-hun-egen-butikk-15964270.ece', 'https://kampanje.com/reklame/2021/01/rema-1000-inviterer-til-fruktfest---oser-av-positivitet-og-glede/', 'https://www.radiototen.no/innslag/attraktiv-innkjorsel-gir-ny-butikk/10033/', 'http://www.engrospartner.no/samarbeid/rema-distribusjon', 'https://www.fosna-folket.no/n_ringsliv/2020/08/10/Omsetningen-falt-da-Rema-butikk-nummer-to-%C3%A5pnet-i-sentrum-22451419.ece', 'https://www.solabladet.no/slik-gar-det-med-de-nye-rema-butikkene-ett-ar-senere/s/5-106-231430', 'https://faq.socialboards.com/ae/category/240/7-SP%C3%98RSM%C3%85L-OG-SVAR-OM-%C3%86/topic/628/Kan-%C3%86-brukes-i-alle-REMA-1000-sine-butikker', 'https://retailmagasinet.no/a/487251', 'https://finansavisen.no/nyheter/krim/2021/04/06/7652105/rema-kjopmann-domt-for-korrupsjon-og-heleri']\n",
            "6\n",
            "['https://osloeconomics.no/category/industri-logistikk-og-handel/', 'https://osloeconomics.no/publication/etableringshindringer-i-dagligvaresektoren/', 'https://openaccess.nhh.no/nhh-xmlui/bitstream/handle/11250/167473/Barbakken%20Ellen%202006.pdf?sequence=1&isAllowed=y', 'https://kjottbransjen.no/distribusjon-nokkelen-til-sunn-konkurranse-i-dagligvaresektoren/', 'https://no.ehandel.com/artikler/ny-rapport-norgesgruppen-oppnar-bedre-innkjopspriser/478892', 'http://www.tungt.no/logistikk/eksternlogistikk/transportokonomi-logistikkompetanse-gir-20-kostnadskutt-2006805', 'https://www.selmer.no/no/kompetanse/transport-og-logistikk/', 'https://www.regjeringen.no/contentassets/4c26f095eaaa4f9c9d001762f78bcc72/virke-dagligvare.pdf?uid=Virke_Dagligvare.pdf', 'https://www.regjeringen.no/contentassets/4c26f095eaaa4f9c9d001762f78bcc72/virke-dagligvare---vedlegg.pdf?uid=Virke_Dagligvare_-_vedlegg.pdf', 'https://quizlet.com/405516667/case-logistikk-flash-cards/', 'https://docplayer.me/195782079-Kartlegging-av-innkjopsbetingelser-i-norsk-dagligvaresektor.html', 'https://www.apollo.io/people/Dag/Vanberg/54ebcb117468694311e29026', 'https://www.sintef.no/siste-nytt/2007/mat-som-snakker/', 'https://www.arounddeal.com/profile/hanne-a-utkvitne/f5abbcjlxc/', 'https://www.bondelaget.no/getfile.php/13977708-1604398044/MMA/Dokumenter/H%C3%B8ringsuttalelse%20Meld.St.27%20%282019-2020%29%20Norges%20Bondelag%20.pdf', 'https://nofima.no/nyhet/2011/03/nye-fiskeretter-til-dagligvaresektoren/', 'https://no.linkedin.com/company/coop-norge', 'https://www.dlf.no/innsikt/page/14/?s', 'https://www.facebook.com/Oslofjord-Logistikk-102201785256647/posts', 'https://www.mtlogistikk.no/a/145872', 'https://karrierestart.no/ledig-stilling/1317460?viewName=JobAdPrint', 'https://www.jobreg.no/job.php/logistikk-koordinator-soekes-til-orkla-3001631.html?lang=finnish', 'https://www.gs1.no/partners/profitbase-as?page=1', 'http://twa-marketing.blogspot.com/2018/03/dagligvarebransjen-har-vrt-mest-opptatt.html', 'https://jobs.academicwork.no/annonse/supply-chain-coordinator-skes-til-orkla/15051243', 'https://www.menon.no/wp-content/uploads/2019-103-%C3%85rsaker-til-ulike-innkj%C3%B8pspriser.pdf', 'https://grabjobs.co/norway/job/full-time/logistics-supply-chain/vil-du-spille-en-nkkelrolle-i-teknologireisen-til-coop-1221532', 'https://www.playroom.no/dlf-page', 'https://www.dagensperspektiv.no/synspunkt/tor-wallin-andreassen/blir-rema-det-nye-ica', 'https://www.finn.no/job/fulltime/ad.html?finnkode=193967387', 'https://www.tungt-logistikk.no/article/view/734446/toro_a_ile_langsomt_gir_raskere_resultat_enn_kjappe_kjop_av_nye_programlosninger', 'https://nnn.no/wp-content/uploads/2013/11/DagligvarehandelOgMat2013.pdf', 'https://core.ac.uk/download/pdf/285992949.pdf', 'https://press.nordicopenaccess.no/index.php/noasp/catalog/view/93/432/3412-1', 'https://sintef.brage.unit.no/sintef-xmlui/bitstream/handle/11250/2563286/A25627_LogiMat.pdf?sequence=2&isAllowed=y', 'https://openarchive.usn.no/usn-xmlui/bitstream/handle/11250/2617551/Master2019Anderson.pdf?sequence=1&isAllowed=y', 'https://www.strategy-house.no/blogg/mat-pa-nett-dodsdans-eller-barnesykdommer', 'https://www.fagbokforlaget.no/Konkurransestrategi/I9788276749199', 'https://www.hf.no/fritt-ord/de-tre-store-i-norge/', 'http://e.inven.no/a/plink/rowa/0_2_356818.html', 'https://www.adecco.no/ledige-stillinger/it/?display=10&pageNum=11', 'https://teknologiporten.no/nb/ad/885/', 'https://www.vegvesen.no/_attachment/2664120/binary/1323093?fast_title=Effektive+knutepunkter+-+godstransport+hovedrapport.pdf', 'https://www.nationen.no/kronikk/mat-makt-og-manglende-handlekraft/', 'https://www.matvett.no/uploads/documents/ForMat-rapport-2015-versjon-endelig-21-1-2016.pdf', 'https://www.digi.no/artikler/gilde-sparer-millioner-pa-stort-rfid-prosjekt/290792', 'https://balticsea.no/wp-content/uploads/2021/02/2021-02-15-Kvartalsrapport-BSP-Q4-2020-komprimert_1.pdf', 'https://kalkulatorpower.com/job-details/demand-planner-orkla-home-personal-care-kalkulator-power-norway-9898112', 'https://no.jooble.org/jobb-sommerjobb-2016.-produksjon%2Flager', 'https://www.lo.no/contentassets/72b95395925f47f2ab44c70b906e8e00/horing---forslag-om-god-handelsskikk-i-dagligvarekjeden384051.pdf', 'https://www.rema.no/nyheter/rema-1000-inngar-avtale-med-kolonial/', 'https://salgslaget.no/wp-content/uploads/2019/06/veien_til_markedet.pdf', 'https://www.fhf.no/prosjekter/prosjektbasen/900705/', 'https://beccle.no/files/2012/08/Masteroppgave_LHDpdf.pdf', 'https://www.idunn.no/modeller/1_modeller', 'https://www.still.no/trucker/nye-trucker/kjoeretoey/category/lavtloeftende-palletrucker/vehicle/exu-sf.html', 'https://evalueringsportalen.no/evaluering/betalingsvilje-for-kvalitet-i-godstransport/Betalingsvilje%20for%20kvalitet%20i%20godstransporten.pdf/@@inline', 'https://www.careerjet.no/koordinator-jobb/kvitsoy-111930.html', 'https://www.forbrukerradet.no/wp-content/uploads/2015/10/Utredning-Matmakt-til-forbrukerne.pdf', 'https://play.google.com/store/apps/details?id=com.checkout.app.esm&hl=no&gl=US', 'https://frifagbevegelse.no/article-6.158.11928.1b578b5e4e', 'https://s3-eu-west-1.amazonaws.com/tine-arsrapport/TINE_Styrets_beretning_2018.pdf?mtime=20190212144133', 'https://ravnestad.net/tag/dagligvarebransjen/', 'https://www.washbe.cl/pgxhtogrzm-9-5831-what_is_escort_girl_lek_kontakt/', 'https://akkonkstrat.portfolio.no/data/f638a3d8-31e4-411f-9fd8-44b271fb316f', 'https://www.gronnkonkurransekraft.no/files/2016/10/Veikart-for-gr%C3%B8nn-handel-2050.pdf', 'https://www.aftenposten.no/meninger/kronikk/i/e82n9/mat-makt-og-avmakt', 'https://e24.no/naeringsliv/i/oRgdqV/konkurransesjef-vil-ha-inn-utenlandske-matkjeder', 'http://beccle.w.uib.no/files/2012/08/Masteroppgave_LHDpdf.pdf', 'https://ntnuopen.ntnu.no/ntnu-xmlui/bitstream/handle/11250/2577218/19570_FULLTEXT.pdf?sequence=1&isAllowed=y', 'http://norskgjenvinning.blob.core.windows.net/norskgjenvinning-norge-media/1021/avfallshaandtering-2013-lav.pdf', 'https://www.yumpu.com/no/document/view/17662333/gs1-fokus-nr-4', 'http://www.samfunnsokonomisk-analyse.no/s/R70-2017-Demografiske-endringer-og-sysselsetting-i-varehandel.pdf', 'https://www.vg.no/nyheter/innenriks/i/mkKwv/kaster-brannfakkel-vil-fjerne-importvernet-meyer-vil-gi-deg-nye-butikk-kjeder', 'https://norgesgruppen.no/globalassets/finansiell-informasjon/rapporter/eldre/arsrapport-2004.pdf', 'https://www.food-supply.dk/article/view/73405/mere_sundhed_i_dagligvaresektoren', 'https://www.vvsforum.no/brandstory/redusert-vedlikeholdsbehov-pa-sildakongens-nye-produksjonsanlegg/', 'https://www.vvsforum.no/2018/valgte-plastror-kontra-rustfrie-ror-nytt-produksjonsanlegg/', 'https://www.hkinfo.no/content/download/21167/328606/version/1/file/HK+rapport+2021+Agenda+hvem+betaler+mest+for+pandemi.pdf', 'https://www.tine.no/om-tine/TINE_aarsrapport_2020_utskrift.pdf', 'https://www.sv.uio.no/mutr/publikasjoner/rapporter/rapp1999_old/Rapport39.html', 'https://estudie.no/leverandorer/', 'https://www.miljodirektoratet.no/globalassets/publikasjoner/m1625/m1625.pdf', 'https://www.landbrukarena.no/wp-content/uploads/2018/01/Bente-Gro-Sletteb%C3%B8-Makt-i-matkjeden-foredrag-okt2018.pdf', 'https://no.indeed.com/Bama-Storkj%C3%B8kken-As,-Avd-jobb-i-Hedmark', 'https://issuu.com/bjorgu/docs/12-01transp.inside-trykk', 'https://www.toi.no/getfile.php?mmfileid=4972', 'https://www.revolusjon.no/klassekamp/ml-internasjonalt/112-resolusjoner/2271-kampen-mot-krisa-og-pandemien-er-et-klassesporsmal/', 'https://f4lno.files.wordpress.com/2012/08/20100105_sra_internettversjon-komplett.pdf', 'https://etiskhandel.no/kom-i-gang/organisasjon/', 'https://www.landbruksdirektoratet.no/nb/filarkiv/rapporter/Gr%C3%B8ntsektoren%20mot%202035.pdf', 'https://www.hennig-olsen.no/wp-content/uploads/2018/08/HOI-2018-Produktkatalog-L3-LR.pdf', 'https://www.slideshare.net/ErgoGroup/elektronisk-infrastruktur-for-sporing-av-mat-astrid-karlsen', 'https://konkurransetilsynet.no/wp-content/uploads/2018/08/v2003-46_felleskjopet_norgesmollene.pdf', 'http://www.snf.no/files/filer/publications/rapport/04/r03_04/r03_04.pdf', 'https://kjokkenskriveren.no/skolemat-ja-men-hvordan/', 'http://doc.mediaplanet.com/all_projects/1312.pdf', 'https://yamm.com.eg/pgxhtogrzm-1-31402-norges_fineste_pupper_norway_sex_video/', 'https://www.postennorge.no/presse/publikasjoner/_/attachment/inline/911d97a5-20f8-41ae-941a-7cdfb5d71d44:8c00cf6cc48c49cd82a3de5fcd4b84a7e94ad468/Postavisen%2013-08.pdf', 'http://kmgroup.custompublish.com/getfile.php/129410.472/Rapport_IK_konsortium01-02.pdf']\n",
            "7\n",
            "['https://meny.no/Nyhetsarkiv/nok-matvarer/', 'https://karrierestart.no/ledig-stilling/965869', 'https://karrierestart.no/ledig-stilling/981583', 'https://www.nholt.no/', 'https://no.linkedin.com/in/manjitmahay', 'https://www.vtfk.no/skoler/kompetansebyggeren/meny/opplaringstilbud/transport---logistikkarbeider/', 'https://www.mtlogistikk.no/emne/transport%20og%20logistikk', 'https://home.kpmg/no/nb/home/bransjer/transport-og-logistikk.html', 'https://www.ntnu.no/studier/fthinglog', 'https://no.kuehne-nagel.com/-/kunnskap/digital-transformasjon-logistikk', 'http://no.alcontrol.com/nn/logistikk-norway-1', 'https://www.miljodirektoratet.no/tjenester/klimatiltak/klimatiltak-for-ikke-kvotepliktige-utslipp-mot-2030/transport/forbedret-logistikk-for-varebiltransport/', 'http://utdanning.no/utdanning/himolde.no/bachelor_i_baerekraftig_logistikk_og_sirkulaer_okonomi', 'https://www.nav.no/no/lokalt/ost-viken/kurs/arbeidsmarkedstiltak-i-ost-viken/toll-og-logistikk--innforing-til-speditoryrket', 'https://www.folkeuniversitetet.no/Artikler/Fagskole-emner/Studieretning-logistikk', 'https://www.businessmastering.no/referanse/lars-erichsen-forsvarets-logistikk-organisasjon/', 'https://www.jobbsafari.no/jobbsoeking/kontor/logistikk?q=meny+po', 'https://www.mt.com/no/en/home/microsites/food-and-beverage/overview/logistics.html', 'https://www.ipraxis.no/fag-laererplaner-skjema-logistikk/logistikkoperator', 'https://www.palmako.com/nb/logistikklosninger', 'https://www.nki.no/studievelger/logistikkfagskolen-arbeidsleder-logistikk', 'https://www.okonomibistand.com/industries/ob-entreprenor-contractor/', 'https://zoopit.no/', 'https://www.locus.no/om-oss/', 'https://www.unicon.no/kontakt/ansatte/logistikk/', 'https://www.universitetsforlaget.no/logistikk-kort-og-godt-2', 'http://transportfag-sfj.no/', 'https://www.okonomibistand.no/produkter/okonomi-og-logistikksystemer/', 'https://wj.no/employee_office/logistikk/', 'https://xn--settsjbein-5cb.no/utdanning/bachelor-marin-logistikk-okonomi/', 'https://oslologistikkparkdrobak.no/', 'https://www.linklog.no/', 'https://www.snsk.no/logistikk', 'https://www.fagbokforlaget.no/Videregaaende/Teknologi-og-industrifag/Transport-og-logistikk', 'https://www.kristiania.no/for-studenter/programbeskrivelser-emnebeskrivelser-og-pensum/bachelor/2017-2020/bachelor-i-innkjopsledelse-bil/logistikk-og-forsyning-lof3100/', 'https://hoyre.no/opinion/apne-for-at-private-kan-avlaste-politiet-med-logistikk-og-andre-praktiske-oppgaver/', 'https://www.mnu-as.no/2020/10/26/mnu-inviterer-til-logistikksamling-09-11-2020/', 'https://bvhif.no/portal/public/showContentCategory.do?id=17290&tournament=true', 'https://no.indeed.com/Logistikk-jobb-i-Sarpsborg-kommune', 'http://transportvest.no/logistikk', 'https://no.devoteam.com/vare-konsulenter/william-nickolay-rodsrud/', 'http://io.no/transport-og-logistikk/meny', 'https://sykehusbygg.no/kunnskapsdeling/logistikk', 'https://maritimkarriere.no/utdanninger/bachelor-skipsfart-og-logistikk/', 'https://tryggvei.no/vinner-av-beste-stand-pa-transport-logistikk-messen/', 'https://salgslaget.no/verdikjeden/', 'https://www.bring.no/', 'https://spaniaavisen.no/amazon-bygger-logistikk-senter-pa-costa-blanca/', 'https://www.bokklubben.no/lf-2020-fagfornyelsen/transport-logistikk-og-loefteoperasjoner-gunnar-ottesen/produkt.do?produktId=25164882', 'https://www.finn.no/job/fulltime/ad.html?finnkode=213841728', 'https://skiltogreklame.no/blog/timeline/logistikk/', 'https://kursmeg.no/produktkategori/kurs/innkjop-og-logistikk/', 'https://journalen.oslomet.no/content/matlevering-er-ikke-god-butikk', 'https://www.vinjerekne.no/bransjer/', 'https://test.rettsdata.no/vgs/Fagskolen/LOEM/Innfoering-i-logistikk', 'https://lilleronning.no/kundeservice/logistikk', 'https://uit.no/go/target/539483', 'https://www.optimera.no/tjenester/logistikk/logistikk/', 'https://forsvaret.no/utdanning/utdanninger/llogistikkfaget', 'https://espira.no/tag/logistikk/', 'https://handelskammer.blog/tag/transport-og-logistikk/?lang=no', 'https://www.nett.no/index.php/Nettno/Stillingsportalen/Logistikk-og-lageransvarlig', 'https://no.ehandel.com/artikler/na-er-meny-sjefen-klar-for-a-trykke-hardere-pa-nettgassen/404708', 'https://intra.flisekompaniet.no/data/nexstep/logistikk/', 'https://bergen-chamber.pameldingssystem.no/tol-dagen', 'https://www.180.no/bransje/logistikk-sandefjord/1.htm', 'https://www.transport.no/dokumenter/20162/2018/horing---infrastruktur-for-alternative-drivstoff-i-transport---nhot_nholt_nhol_nhos/', 'https://kolonial.no/om/teknologi/', 'https://energi24.no/featured/transocean-refses-darlig-styring-beredskap-logistikk', 'https://www.obregnskap.no/bransjer/', 'https://www.hvl.no/studier/studieprogram/2018h/log/studieplan/', 'https://nn-no.facebook.com/111778282196573/posts/n%C3%A5-kan-du-sende-pakker-med-postnord-her-p%C3%A5-meny-klikk-deg-inn-p%C3%A5-wwwpostnordno-f/1270718249635898/', 'https://www.visma.no/erp/logistikksystem/', 'https://rst.no/nb/', 'https://ndla.no/nn/node/70132?fag=2603&meny=1103', 'https://moogruppen.no/forbedring-av-meny-og-sokefunksjoner-i-nettbutikker/', 'https://bklogistikk.no/', 'http://olkt.no/27052015092832_388m365367', 'https://logistikk-sentralen.no/', 'https://etterstad.vgs.no/fagtilbud/teknikk-og-industriell-produksjon/vg2-transport-og-logistikk/', 'https://www.postennorge.no/jobb/bli-en-av-oss/fra-musikk-til-logistikk-copy', 'https://commitment.no/case/oppdatering-av-datalinjer/', 'https://www.hf.no/nyhende/kvam-herad-avslar-klagen-fra-hardanger-aks-as/', 'https://www.bi.no/forskning/business-review/articles/2020/04/logistikk-kan-redde-liv/', 'https://www.ivaldres.no/transport-valdres/', 'https://kongsvingerregionen.no/stillingsannonse/sommervikarer-til-lager-og-logistikk/', 'https://www.norskindustri.no/kurs-og-arrangementer/kurs-fagopplaring/logistikkfaget/', 'https://www.hordaland.no/nn-NO/skole/asanevgs/studietilbod/teknikk-og-industriell-produksjon/', 'https://www.betongelement.no/kurs-og-arrangementer/kurskalender/2021/hms-i-logistikk-og-pa-byggeplass/', 'https://www.obsima.no/produkter/drift-og-vedlikehold/ils', 'https://cdon.no/boker/gunnar-ottesen/transport-og-logistikk-godstransport-persontrans-39627354', 'https://community.visma.com/t5/Brukertips-i-Visma-net-ERP/Produktnummer-handtering-i-Visma-net-Logistikk/tac-p/192064/highlight/true', 'https://www.euromedica.no/logistikk-og-lagertjenester/', 'https://www.manpower.no/kund/nor/fagomrader1/lager-og-logistikk/', 'https://logistikkutvikling.no/category/logitstikk-og-ledelse/', 'https://www.vehcogroup.com/nb/losninger', 'https://bssl.no/calendar/item/1559264/nnm-2021-mote-logistikkvaktandparkering-(kafe)', 'https://bssl.no/calendar/item/1559263/nnm-2021-mote-logistikkvaktandparkering-(kafe)', 'https://www.transportlogistikk.no/']\n",
            "8\n",
            "['http://www.kiwilogistics.co.nz/', 'https://kiwi.no/Informasjon/karriereside/karierrestigen/', 'http://veidekkelogistikkbygg.no/prosjekter/article18963.ece', 'https://www.mtlogistikk.no/a/137104', 'https://www.finn.no/job/fulltime/search.html?q=kiwi', 'https://no.linkedin.com/company/kiwi-transport-incorporated', 'https://www.kiwibot.com/', 'https://www.jobbsafari.no/jobbsoeking/kontor/logistikk?q=kiwi+telemark', 'https://www.jobbsafari.no/jobbsoeking/kontor/logistikk?q=kiwi+trondheim', 'https://www.180.no/firmavis/555543650170.htm', 'https://www.180.no/firmavis/3605543650170.htm', 'https://arbeidsplassen.nav.no/stillinger/stilling/ab82a867-6edf-4069-9660-fb3e3f844953', 'http://vest.sotin.no/kiwi-rogaland-avd-algard', 'https://www.norgesgruppen.no/presse/nyhetsarkiv/aktuelt/kiwi-butikk-nr-500-apner-i-dag/', 'https://www.klokkarstuanp.no/', 'https://ne.no/property_type/tomt/', 'https://no.indeed.com/Direktoratet-For-Samfunnssikkerhet-Og-Beredskap+-Dsb-Kiwi-Foyn,-T%C3%B8nsberg-jobb', 'https://no.jooble.org/jobb-Logistikk-medarbeider/Gran', 'https://www.trippeleiendom.no/prosjekter/', 'https://www.facebook.com/Jani86', 'https://www.descartes.com/home', 'https://www.wenaas.com/nb-no/vart-konsept/uniform-kundetilpasset-design/transport-og-logistikk', 'https://olarportconsult.no/prosjekter/kiwi/', 'https://www.distribusjonspartner.no/netthandel/', 'https://shop-www.mbhxxx.com/epson-singlepack-magenta-202xl-kiwi/cat-p/c/p9741720', 'https://60grader.no/ledige-lokaler/108075285', 'http://www.dt.no/kiwi/', 'https://www.totaleiendom.no/property/nybygg-for-handel-og-kontor-sentralt-i-breivika/', 'https://2019.igem.org/wiki/images/3/3c/T--Washington--Norwegian_DNA_Fruit_Extraction.pdf', 'https://www.mt.com/no/no/home/library/case-studies/other/amazing.html', 'https://www.mynewsdesk.com/no/sbinsight/pressreleases/fokus-paa-helse-og-matsvinn-gjoer-kiwi-til-norges-mest-baerekraftige-varemerke-2981990', 'https://bdn-norge.no/', 'https://innlandetfylke.no/regionalt-planforum/_f/p31/iaa53a284-7ca3-4e99-8e7e-54f6374a3a28/ostre-toten-kommune-planforum-23mars2020-vedlegg-1-notat-fra-sweco-helhetlig-presentasjon-av-prosjektet-med-redegjorelse-for-utfordringer.pdf', 'https://www.studocu.com/no/document/handelshoyskolen-bi/logistikk-og-markedsforingskanaler/sammendrag/norgesgruppen-tankekart-til-caseoppgave-i-logistikk/5647700/view', 'https://europa.eu/europass/sv/find-jobs?page=7283', 'https://lederjobb.no/2018/administrasjon-kontor-personal/regionsjef-region-agder/', 'https://www.nettavisen.no/okonomi/kiwi-skal-knekke-lidl/s/12-95-166480', 'https://no.wikipedia.org/wiki/Verdikjede', 'https://no.ehandel.com/emne/Kiwi', 'https://glode.no/fra-tiltak-til-fast-jobb/', 'https://www.etnevindafjord.no/medlemsbedrifter/transport-logistikk', 'https://www.gulesider.no/gavepapir+oslo+grorud/bedrifter', 'https://ndla.no/nb/subject:fd43e0c7-9dd6-427d-9edb-2e4234d8db9d/topic:acc1d825-004f-4c92-b3ff-bd8ba49a7c77/topic:f6e9674f-4cfa-4e7a-b226-ccfdb2de54c1/resource:c075ad12-b0d0-4fb1-a7bc-553ac5ff61fb', 'https://dagligvarehandelen.no/2008/klar-kiwi-kamp', 'https://karrierestart.no/ledig-stilling/1339750?viewName=JobAdPrint', 'https://www.posten.no/enklere-hverdag/posten-karet-til-norges-mest-baerekraftige-logistikkselskap', 'http://www.maxb.no/17mai/wiki/images/a/ae/Mat_og_drikke_17_mai_2017_ver3.pdf', 'https://www.dynamologistikk.no/informasjon/quibusdam-et-nesciunt-ut', 'https://asko.no/kontakt-oss/vare-asko-selskap/asko-rogaland-as/', 'https://www.lofot-tidende.no/nyheter/byggmakker-og-kiwi-i-samme-bygg/s/1-1035233-6507981', 'https://www.ta.no/skien/nyheter/rema-1000/kald-krig-mellom-matbutikkene/s/5-50-52832', 'https://www.byggmakker.no/arbeidsklar-og-sikkerhet/sko/skokrem-kiwi-noyral/', 'https://www.varden.no/nyheter/kiwi-i-kragero-selger-mest/', 'https://yesterdaysapples.com/paketlieferung-kommt-ber-nacht-lieferdienst-will-mit-neuem-angebot-berzeugen-094381', 'https://www.dn.no/tine/kiwi/norgesgruppen/lars-galtung/utelukker-ikke-nedbemanning-etter-kiwis-melkekutt/2-1-157363', 'https://mpaper.no/eiendommer/handel/kongeveien-49/', 'https://www.dagensperspektiv.no/synspunkt/tor-wallin-andreassen/blir-rema-det-nye-ica', 'https://retailmagasinet.no/a/469438', 'https://e24.no/naeringsliv/i/Qmo0oQ/matgigant-strammer-grepet-om-frukt-og-groent-en-veldig-daarlig-ide', 'https://www.abcnyheter.no/penger/forbruker/2020/04/17/195671234/coop-snur-etter-invitasjon-fra-kiwi-hvis-de-vil-ha-priskrig-sa-skal-de-jammen-meg-fa-det', 'https://www.rbnett.no/nyheter/naeringsliv/2021/02/11/Denne-gjengen-skal-doble-omsetningen-til-100-millioner-innen-fem-%C3%A5r-%E2%80%93-naboen-frykter-ikke-konkurransen-23478612.ece', 'https://www.morenytt.no/nyheiter/2017/03/26/Usemje-om-avk%C3%B8yring-til-Kiwi-14498677.ece', 'https://www.bygg.no/article/1304098?image=dp-image89395-1304105', 'https://www.vestviken24.no/dagligvarer/vv24naringsliv/okonomi-og-naringsliv/grossistgiganten-selger-varer-for-4-8-milliarder-til-136-butikker/s/5-83-58879', 'https://oslo-universitetssykehus.no/avdelinger/medisinsk-klinikk/generell-indremedisinsk-avdeling/medisinsk-ekspedisjon', 'https://ito.no/kundereferanser/asko-effektiviserer-pallhandteringen', 'https://nab.no/nyheter/monica-er-sjef-for-den-beste-av-86-butikker-i-oslo/19.15319', 'https://malling.no/en/services/markets/find-premises-to-rent/eiendom/?adId=150300973&ismalling=1&id=1790135671', 'https://milforum.net/node/7740', 'https://www.lab5.es/no/92dfeda196968', 'https://twitter.com/loginnkjop/status/314702379259932672', 'https://www.dagbladet.no/mat/kiwi-fosser-forbi-men-rema-har-ett-trumfkort-pa-lur---ol-er-nesten-like-viktig-som-flagg/69354432', 'https://www.aftenposten.no/okonomi/i/72REv/kiwi-fortsetter-fremgangen-men-tine-sliter', 'https://www.tungt.no/article/view/762456/ulovlig_kabotasje_tsjekkeren_skulle_til_kiwi', 'https://shop.vekstra.no/epson-singlepack-magenta-202-kiwi/cat-p/c/p9741685', 'https://webshop.dataspesialisten.no/epson-singlepack-black-202xl-kiwi/cat-p/c/p9741686', 'https://webshop.dataspesialisten.no/epson-multipack-5-farbig-202xl-kiwi/cat-p/c0/p9741708', 'https://fagpressenytt.no/artikkel/helgr%C3%B8nt-hos-kiwi-i-sande', 'https://unikum.no/Fenders/57104-Fender-Flares-Extensions-Compatible-for-20142019-Honda-Pioneer/', 'https://www.purehelp.no/m/role/viewManCv/19740741/egilgioertz', 'https://www.cvnorway.no/no/jobs/kam-netthandel-e-handel-og-logistikk-bring-warehousing-norge-jobb-428cf819-a069-4379-9696-ea2a768c0493/', 'https://www.postnord.no/', 'https://www.witron.de/en/', 'https://emphosproject.eu/83783-kiwi-kjeller-lahyno.php', 'https://gullhojonlineshop.dk/kiwi_bank_i_butikk.html', 'https://dudascontrolhorario.es/NO/34e1aaa626599', 'https://lydmagasinet.com/2021/04/10/bioaktive-wound-care-sektor-2021-ettersporsel-markedstrender-regionale-utsikter-topp-produsenter-jobbvekst-og-prognoser-til-2026-precision-reports-2-2-2-2-2-2-2-2-2-2-2-2-2-2-2-2-2-2-2-2-2-2-2-2-110-2/', 'https://leeks.oslomil.cl/no-NO/a1f233a345665', 'https://www.hkinfo.no/content/download/17829/265830/version/2/file/R2-2018+L%C3%B8nnsomhet+i+varehandelen.pdf', 'https://www.laksevagsenter.no/kontakt-butikker/kiwi', 'https://bardes.engagement-challenge.de/no/410555a629946', 'https://www.waze.com/live-map/directions/bohus-logistikk-as-fjellbovegen-7-frogner?to=place.w.7275096.72554354.13913789', 'https://coolteam.no/nyheter/kiwi-oppsal/', 'https://www.dsv.com/en', 'https://www.grottingolje.no/nyheter/']\n",
            "9\n",
            "['https://www.obs-logistics.com/', 'http://obs.com.kh/', 'http://obsgloballogistics.com/', 'https://no.linkedin.com/company/obs-global-logistics', 'https://karrierestart.no/ledig-stilling/338164', 'https://www.allacronyms.com/OBS/logistics', 'https://coop.no/om-coop/ledige-stillinger/', 'https://coop.no/om-coop/virksomheten/coop-norge-sa/ledelsen/', 'https://www.lineagelogistics.com/', 'https://www.jobbsafari.no/jobbsoeking/kontor/logistikk?q=coop+obs', 'https://www.tu.no/artikler/europas-mest-moderne-logistikksenter/224643', 'https://programmeinfo.bi.no/nb/kurs/VHL-3551/2018-var', 'https://programmeinfo.bi.no/nb/kurs/MAD-1214/2018-var', 'https://grabjobs.co/norway/job/full-time/logistics-supply-chain/varehussjef-2180006', 'http://veidekkelogistikkbygg.no/prosjekter/article89273.ece', 'https://www.facebook.com/333372293345591/posts/nyttig-informasjon-for-de-som-lurer-p%C3%A5-n%C3%A5r-de-har-lov-til-%C3%A5-%C3%B8velsekj%C3%B8re-med-last/1063413737008106/', 'https://testserveren.com/eie/properties/proffshop-showrom-lager-kontor-ved-obs-alnabru-god-parkeringsdekning/', 'https://www.google.com/maps/contrib/115182106582064200976/reviews', 'https://no.wikipedia.org/wiki/Coop_Norge', 'https://jobzone.no/en/vacancies/63295?Source=1', 'https://www.manpower.no/nor/jobb-hos-coop/', 'https://www.eiendomsspar.no/property_category/lager-logistikk/', 'https://no.jooble.org/jobb-logistikk%2Flager/Gardermoen', 'https://www.finn.no/job/parttime/ad.html?finnkode=214032451', 'https://www.arounddeal.com/profile/hanne-a-utkvitne/f5abbcjlxc/', 'https://obsas.no/', 'https://kunnskapsbyen.no/tag/logistikk/', 'https://www.180.no/firmavis/3725543650170.htm', 'https://www.himolde.no/bibliotek/databaser/', 'https://no.indeed.com/Logistikk-jobb-i-Stavanger', 'https://www.nib.int/who_we_are/news_and_media/news_press_releases/3556/nib_finansierer_coops_logistikksentre', 'https://asko.no/jobb/', 'https://prisguiden.no/produkt/logistikk-og-ledelse-av-forsyningskjeder-395905', 'https://no.ehandel.com/emne/obs', 'https://www.nholt.no/artikler/2021/vi-du-inviteres-til-logistikklunsjen/', 'https://finansavisen.no/nyheter/naeringseiendom/2020/09/23/7570090/gigantsalg-pa-gardermoen-coop-lager-selges-for-over-3-mrd.', 'https://www.kasseservice.no/support/kundeordre', 'https://apportsystems.com/no/category/lagerlogistik-no/', 'https://www.porterbuddy.com/', 'https://twitter.com/ORonningen/status/1366422089847218178', 'https://www.mt.com/no/no/home/supportive_content/matchar_apps/MatChar_UC73.html', 'https://www.best-masters.com/ranking-master-supply-chain-and-logistics/master-of-science-in-business-major-logistics-bi-norwegian-business-school.html', 'https://hiksu.no/havteknologi/', 'https://www.sintef.no/globalassets/sintef-ocean/arrangement/slam/012-gjodselproduksjon-av-slam-ved-bioretur-host-as.pdf', 'http://www.bygg.no/article/1447091?image=dp-image149733-1447100', 'https://annonsorinnhold.nettavisen.no/obs-ruger-pa-mange-gode-black-friday-tilbud/3423874190.html', 'https://www.alsglobal.no/kundeservice/transportalternativ', 'https://support.mystore.no/no-no/knowledge/varetelling', 'https://www.aka.no/nyheter/gar-sa-det-suser-%E2%80%93-utvider-arealene', 'https://www.godsbil.no/minstelonn/', 'https://lederjobb.no/tag/coop/', 'https://mpaper.no/artikler/full-fres-for-naeringsdrivende-paa-orkidehoegda-rett-utenfor-drammen/', 'http://web.worth-avenue.com/logistikk_og_ledelse_av_forsyningskjeder.pdf', 'https://coopnordland.no/a/coop-nordland/nyheter/obs-bygg-kaaret-til-aarets-butikk-av-prisjakt?ac_parent=1', 'https://norbygg.no/obs-bygg/', 'https://www.gulesider.no/coop+jessheim/bedrifter', 'https://www.komplett.no/product/942382', 'https://www.uio.no/studier/emner/medisin/helseadm/HINF1102/h08/undervisningsmateriale/presentasjoner/Presentasjon3.pdf', 'https://www.svk.no/kirkenes-som-knutepunkt-for-maritim-logistikk-rapport-fra-mulighetstudie.5871425-17830.html?showtipform=2', 'https://community.visma.com/t5/Brukertips-i-Visma-Business-og/tkb-p/NO_SW_Visma_Business_og_VBB_brukertips/label-name/Logistikk', 'https://www.logitas.no/2013/09/10/pamelding-logistikk-for-fremtiden-seminaret/', 'https://www.tungt.no/article/view/761246/rumenske_dieseltyver_tatt', 'http://www.transportopplaering.no/coop-sorvest-as-bryne', 'https://new.siemens.com/no/no/siemens-i-norge/nyheter/transport-logistikk/elektrisk-fiskelykke.html', 'http://old.hurrareykjavik.is/logistikk_og_ledelse_av_forsyningskjeder.pdf', 'https://www.at.no/a/382712', 'https://medium.com/simpleness/intervju-med-porterbuddy-vi-vil-definere-den-nye-standarden-for-urban-logistikk-ed98a1cfc8fa', 'https://korio.no/fra-dirigenten/julekonserten-repertoar-og-logistikk/', 'http://www.langfjellaseminaret.no/no/logistikk_2013/', 'https://www.randstad.no/', 'https://www.postnord.no/', 'https://www.adcom.no/', 'https://unikum.no/Exhaust-Pipes-&-Tips/133338-For-9497-Ford-73-73L-Powerstroke-Diesel/', 'https://www.abygg.no/project/logistikksenter-for-coop/', 'https://www.altaposten.no/tema/Bygg_og_anlegg/', 'https://luxycrib.no/coop_obs_bygg_f%C3%B8rde.html', 'http://www.cofoce.gob.mx/logistikk_og_ledelse_av_forsyningskjeder.pdf', 'https://leeks.oslomil.cl/no-NO/a1f233a345665', 'http://vssl.elvengems4682.site/maxbo-alna.html', 'http://qomt.q13160vq3095.site/megaflis-bergen.html', 'https://www.metal-supply.dk/product/view/286763/container_med_tag', 'http://www.mulberrybushnursery.sedberghprep.org/logistikk_og_ledelse_av_forsyningskjeder.pdf', 'https://www.elkjop.no/cms/Kundeservice-kontakt-oss/kontakt-oss/', 'https://snl.no/logistikk', 'https://www.wuerth.no/', 'https://www.solarnorge.no/konsepter-tjenester/logistikk/logistikklosninger/prosjektlogistikk/', 'https://www.rema.no/', 'https://www.dbschenker.com/se-sv', 'http://www.gressvikbf.no/']\n"
          ],
          "name": "stdout"
        }
      ]
    },
    {
      "cell_type": "code",
      "metadata": {
        "colab": {
          "base_uri": "https://localhost:8080/",
          "height": 402
        },
        "id": "N_OuvONQy9xy",
        "outputId": "c4e93754-eac5-4a75-ac30-a6a28c3c5489"
      },
      "source": [
        "search_words"
      ],
      "execution_count": 7,
      "outputs": [
        {
          "output_type": "execute_result",
          "data": {
            "text/html": [
              "<div>\n",
              "<style scoped>\n",
              "    .dataframe tbody tr th:only-of-type {\n",
              "        vertical-align: middle;\n",
              "    }\n",
              "\n",
              "    .dataframe tbody tr th {\n",
              "        vertical-align: top;\n",
              "    }\n",
              "\n",
              "    .dataframe thead th {\n",
              "        text-align: right;\n",
              "    }\n",
              "</style>\n",
              "<table border=\"1\" class=\"dataframe\">\n",
              "  <thead>\n",
              "    <tr style=\"text-align: right;\">\n",
              "      <th></th>\n",
              "      <th>search_sentences</th>\n",
              "      <th>frekvens</th>\n",
              "      <th>links</th>\n",
              "    </tr>\n",
              "  </thead>\n",
              "  <tbody>\n",
              "    <tr>\n",
              "      <th>0</th>\n",
              "      <td>'Dagligvarersektor' 'Forretning'</td>\n",
              "      <td>1</td>\n",
              "      <td>[https://www.klejtrup-by.dk/handelsstandsforen...</td>\n",
              "    </tr>\n",
              "    <tr>\n",
              "      <th>1</th>\n",
              "      <td>'Meny' 'Forretning'</td>\n",
              "      <td>99</td>\n",
              "      <td>[https://meny.no/Finn-butikk/, https://meny.no...</td>\n",
              "    </tr>\n",
              "    <tr>\n",
              "      <th>2</th>\n",
              "      <td>'Kiwi' 'Forretning'</td>\n",
              "      <td>99</td>\n",
              "      <td>[https://kiwi.no/Finn-butikk/, https://kiwi.no...</td>\n",
              "    </tr>\n",
              "    <tr>\n",
              "      <th>3</th>\n",
              "      <td>'Obs' 'Forretning'</td>\n",
              "      <td>100</td>\n",
              "      <td>[https://da.wikipedia.org/wiki/OBS!, https://c...</td>\n",
              "    </tr>\n",
              "    <tr>\n",
              "      <th>4</th>\n",
              "      <td>'Coop' 'Forretning'</td>\n",
              "      <td>100</td>\n",
              "      <td>[https://coop.no/butikker, https://coop.no/, h...</td>\n",
              "    </tr>\n",
              "    <tr>\n",
              "      <th>...</th>\n",
              "      <td>...</td>\n",
              "      <td>...</td>\n",
              "      <td>...</td>\n",
              "    </tr>\n",
              "    <tr>\n",
              "      <th>139</th>\n",
              "      <td>'Meny' 'rapporten'</td>\n",
              "      <td>0</td>\n",
              "      <td></td>\n",
              "    </tr>\n",
              "    <tr>\n",
              "      <th>140</th>\n",
              "      <td>'Kiwi' 'rapporten'</td>\n",
              "      <td>0</td>\n",
              "      <td></td>\n",
              "    </tr>\n",
              "    <tr>\n",
              "      <th>141</th>\n",
              "      <td>'Obs' 'rapporten'</td>\n",
              "      <td>0</td>\n",
              "      <td></td>\n",
              "    </tr>\n",
              "    <tr>\n",
              "      <th>142</th>\n",
              "      <td>'Coop' 'rapporten'</td>\n",
              "      <td>0</td>\n",
              "      <td></td>\n",
              "    </tr>\n",
              "    <tr>\n",
              "      <th>143</th>\n",
              "      <td>'Rema 1000' 'rapporten'</td>\n",
              "      <td>0</td>\n",
              "      <td></td>\n",
              "    </tr>\n",
              "  </tbody>\n",
              "</table>\n",
              "<p>144 rows × 3 columns</p>\n",
              "</div>"
            ],
            "text/plain": [
              "                     search_sentences  ...                                              links\n",
              "0    'Dagligvarersektor' 'Forretning'  ...  [https://www.klejtrup-by.dk/handelsstandsforen...\n",
              "1                 'Meny' 'Forretning'  ...  [https://meny.no/Finn-butikk/, https://meny.no...\n",
              "2                 'Kiwi' 'Forretning'  ...  [https://kiwi.no/Finn-butikk/, https://kiwi.no...\n",
              "3                  'Obs' 'Forretning'  ...  [https://da.wikipedia.org/wiki/OBS!, https://c...\n",
              "4                 'Coop' 'Forretning'  ...  [https://coop.no/butikker, https://coop.no/, h...\n",
              "..                                ...  ...                                                ...\n",
              "139                'Meny' 'rapporten'  ...                                                   \n",
              "140                'Kiwi' 'rapporten'  ...                                                   \n",
              "141                 'Obs' 'rapporten'  ...                                                   \n",
              "142                'Coop' 'rapporten'  ...                                                   \n",
              "143           'Rema 1000' 'rapporten'  ...                                                   \n",
              "\n",
              "[144 rows x 3 columns]"
            ]
          },
          "metadata": {
            "tags": []
          },
          "execution_count": 7
        }
      ]
    },
    {
      "cell_type": "code",
      "metadata": {
        "id": "5sDya1KO3d5h"
      },
      "source": [
        ""
      ],
      "execution_count": 7,
      "outputs": []
    }
  ]
}