{
  "nbformat": 4,
  "nbformat_minor": 0,
  "metadata": {
    "colab": {
      "name": "Asko varerlagre.ipynb",
      "provenance": []
    },
    "kernelspec": {
      "name": "python3",
      "display_name": "Python 3"
    },
    "language_info": {
      "name": "python"
    }
  },
  "cells": [
    {
      "cell_type": "code",
      "metadata": {
        "id": "0jIZFQrHYdNj"
      },
      "source": [
        "import pandas as pd"
      ],
      "execution_count": 2,
      "outputs": []
    },
    {
      "cell_type": "code",
      "metadata": {
        "id": "Ikihl-zKYffN"
      },
      "source": [
        "data=pd.read_csv(\"http://pvexpect.com/Driftsledelse/Dagligvarer/varerlager.csv\")"
      ],
      "execution_count": 42,
      "outputs": []
    },
    {
      "cell_type": "code",
      "metadata": {
        "colab": {
          "base_uri": "https://localhost:8080/",
          "height": 648
        },
        "id": "8vMQpFnQYqy1",
        "outputId": "f1b8f302-aefa-4e95-80f2-68dc97a6a96e"
      },
      "source": [
        "import altair as alt\n",
        "\n",
        "countries = alt.topo_feature('https://dmws.hkvservices.nl/dataportal/data.asmx/read?database=vega&key=europe', 'europe') \n",
        "\n",
        "norway =alt .  Chart ( countries ) .  mark_geoshape (    fill='lightgray',\n",
        "    stroke='white').encode(\n",
        ")\n",
        "\n",
        "butikker = alt.Chart(data).mark_circle(\n",
        "color=\"black\"\n",
        ").encode(\n",
        "    longitude='Længdegrad:Q',\n",
        "    latitude='Breddegrad:Q',\n",
        "    color=alt.value('black'),\n",
        "    size=alt.Size('m2:Q', scale=alt.Scale(domain=[0,500], range=[1,5])),\n",
        "    tooltip=['Lagre:N','By:N','Omsetning (milliarder):Q','Leveranse andel:Q','Medarbeider:Q','Områter:N','Andre områter:N','m2:Q','Kunder:Q','varelinjer:N','Kommentarer:N'],\n",
        ")\n",
        "\n",
        "\n",
        "(norway+butikker).project( #projektere visning background+\n",
        "    type= 'mercator', #vælg projektering\n",
        "    scale= 1000, #skalere visning\n",
        "    center= [12,65],  #centere visning på følgende gps koordinate\n",
        ") .  properties (\n",
        "     width = 600 ,\n",
        "     height = 600\n",
        ").properties(title=\"Asko varerlagre\") #.save('Meny.html')\n"
      ],
      "execution_count": 43,
      "outputs": [
        {
          "output_type": "execute_result",
          "data": {
            "text/plain": [
              "alt.LayerChart(...)"
            ],
            "text/html": [
              "\n",
              "<div id=\"altair-viz-a1e52a5fc10f4dfc906427590cfeb5ab\"></div>\n",
              "<script type=\"text/javascript\">\n",
              "  (function(spec, embedOpt){\n",
              "    let outputDiv = document.currentScript.previousElementSibling;\n",
              "    if (outputDiv.id !== \"altair-viz-a1e52a5fc10f4dfc906427590cfeb5ab\") {\n",
              "      outputDiv = document.getElementById(\"altair-viz-a1e52a5fc10f4dfc906427590cfeb5ab\");\n",
              "    }\n",
              "    const paths = {\n",
              "      \"vega\": \"https://cdn.jsdelivr.net/npm//vega@5?noext\",\n",
              "      \"vega-lib\": \"https://cdn.jsdelivr.net/npm//vega-lib?noext\",\n",
              "      \"vega-lite\": \"https://cdn.jsdelivr.net/npm//vega-lite@4.8.1?noext\",\n",
              "      \"vega-embed\": \"https://cdn.jsdelivr.net/npm//vega-embed@6?noext\",\n",
              "    };\n",
              "\n",
              "    function loadScript(lib) {\n",
              "      return new Promise(function(resolve, reject) {\n",
              "        var s = document.createElement('script');\n",
              "        s.src = paths[lib];\n",
              "        s.async = true;\n",
              "        s.onload = () => resolve(paths[lib]);\n",
              "        s.onerror = () => reject(`Error loading script: ${paths[lib]}`);\n",
              "        document.getElementsByTagName(\"head\")[0].appendChild(s);\n",
              "      });\n",
              "    }\n",
              "\n",
              "    function showError(err) {\n",
              "      outputDiv.innerHTML = `<div class=\"error\" style=\"color:red;\">${err}</div>`;\n",
              "      throw err;\n",
              "    }\n",
              "\n",
              "    function displayChart(vegaEmbed) {\n",
              "      vegaEmbed(outputDiv, spec, embedOpt)\n",
              "        .catch(err => showError(`Javascript Error: ${err.message}<br>This usually means there's a typo in your chart specification. See the javascript console for the full traceback.`));\n",
              "    }\n",
              "\n",
              "    if(typeof define === \"function\" && define.amd) {\n",
              "      requirejs.config({paths});\n",
              "      require([\"vega-embed\"], displayChart, err => showError(`Error loading script: ${err.message}`));\n",
              "    } else if (typeof vegaEmbed === \"function\") {\n",
              "      displayChart(vegaEmbed);\n",
              "    } else {\n",
              "      loadScript(\"vega\")\n",
              "        .then(() => loadScript(\"vega-lite\"))\n",
              "        .then(() => loadScript(\"vega-embed\"))\n",
              "        .catch(showError)\n",
              "        .then(() => displayChart(vegaEmbed));\n",
              "    }\n",
              "  })({\"config\": {\"view\": {\"continuousWidth\": 400, \"continuousHeight\": 300}}, \"layer\": [{\"data\": {\"url\": \"https://dmws.hkvservices.nl/dataportal/data.asmx/read?database=vega&key=europe\", \"format\": {\"feature\": \"europe\", \"type\": \"topojson\"}}, \"mark\": {\"type\": \"geoshape\", \"fill\": \"lightgray\", \"stroke\": \"white\"}, \"encoding\": {}}, {\"data\": {\"name\": \"data-844b412509e27d49869ff43cebd404e0\"}, \"mark\": {\"type\": \"circle\", \"color\": \"black\"}, \"encoding\": {\"color\": {\"value\": \"black\"}, \"latitude\": {\"field\": \"Breddegrad\", \"type\": \"quantitative\"}, \"longitude\": {\"field\": \"L\\u00e6ngdegrad\", \"type\": \"quantitative\"}, \"size\": {\"type\": \"quantitative\", \"field\": \"m2\", \"scale\": {\"domain\": [0, 500], \"range\": [1, 5]}}, \"tooltip\": [{\"type\": \"nominal\", \"field\": \"Lagre\"}, {\"type\": \"nominal\", \"field\": \"By\"}, {\"type\": \"quantitative\", \"field\": \"Omsetning (milliarder)\"}, {\"type\": \"quantitative\", \"field\": \"Leveranse andel\"}, {\"type\": \"quantitative\", \"field\": \"Medarbeider\"}, {\"type\": \"nominal\", \"field\": \"Omr\\u00e5ter\"}, {\"type\": \"nominal\", \"field\": \"Andre omr\\u00e5ter\"}, {\"type\": \"quantitative\", \"field\": \"m2\"}, {\"type\": \"quantitative\", \"field\": \"Kunder\"}, {\"type\": \"nominal\", \"field\": \"varelinjer\"}, {\"type\": \"nominal\", \"field\": \"Kommentarer\"}]}}], \"height\": 600, \"projection\": {\"center\": [12, 65], \"scale\": 1000, \"type\": \"mercator\"}, \"title\": \"Asko varerlagre\", \"width\": 600, \"$schema\": \"https://vega.github.io/schema/vega-lite/v4.8.1.json\", \"datasets\": {\"data-844b412509e27d49869ff43cebd404e0\": [{\"Lagre\": \"ASKO AGDER AS\", \"Adresse\": \"Vestre Kystvei 191\", \"By\": \"4790 Lillesand\", \"Breddegrad\": 58.238958999999994, \"L\\u00e6ngdegrad\": 8.357583, \"Omsetning (milliarder)\": 4.5, \"Leveranse andel\": 0.05, \"Medarbeider\": 200.0, \"Omr\\u00e5ter\": \"Vest-Agder og Aust-Agder\", \"Andre omr\\u00e5ter\": null, \"m2\": 7000.0, \"Kunder\": null, \"varelinjer\": null, \"Kommentarer\": null}, {\"Lagre\": \"Regionslager Oslo/Akershus\", \"Adresse\": \"Nedre Kalbakkvei 22\", \"By\": \"0950 Oslo\", \"Breddegrad\": 59.945119999999996, \"L\\u00e6ngdegrad\": 10.865319, \"Omsetning (milliarder)\": 9.6, \"Leveranse andel\": 0.1, \"Medarbeider\": 250.0, \"Omr\\u00e5ter\": null, \"Andre omr\\u00e5ter\": null, \"m2\": 26605.0, \"Kunder\": \"200\", \"varelinjer\": null, \"Kommentarer\": null}, {\"Lagre\": \"ASKO DRAMMEN AS\", \"Adresse\": \"Industrig. 1\", \"By\": \"3414 Lierstranda\", \"Breddegrad\": 59.755888, \"L\\u00e6ngdegrad\": 10.258737, \"Omsetning (milliarder)\": 6.0, \"Leveranse andel\": 0.06, \"Medarbeider\": null, \"Omr\\u00e5ter\": \"Buskerud\", \"Andre omr\\u00e5ter\": \"Akershus/Vestfold/Telemark\", \"m2\": 16500.0, \"Kunder\": \"132\", \"varelinjer\": \"18000\", \"Kommentarer\": null}, {\"Lagre\": \"ASKO HEDMARK AS\", \"Adresse\": \"Skansvegen 5\", \"By\": \"2383 Brumunddal\", \"Breddegrad\": 60.89178100000001, \"L\\u00e6ngdegrad\": 10.916872999999999, \"Omsetning (milliarder)\": 6.2, \"Leveranse andel\": 0.06, \"Medarbeider\": null, \"Omr\\u00e5ter\": \"Innlandet, med tidligere Hedmark\", \"Andre omr\\u00e5ter\": \"deler av Oppland fylke\", \"m2\": 43000.0, \"Kunder\": \"1300\", \"varelinjer\": \"30 000\", \"Kommentarer\": null}, {\"Lagre\": \"ASKO MIDT-NORGE AS\", \"Adresse\": \"\\u00d8stre Rosten 104\", \"By\": \"7075 Tiller\", \"Breddegrad\": 63.345231000000005, \"L\\u00e6ngdegrad\": 10.375283, \"Omsetning (milliarder)\": 5.4, \"Leveranse andel\": 0.05, \"Medarbeider\": 220.0, \"Omr\\u00e5ter\": \"Tr\\u00f8ndelagsfylkene, Nordland opp til Hamar\\u00f8y.\", \"Andre omr\\u00e5ter\": \"Leveranser nord for Saltfjellet\", \"m2\": 27000.0, \"Kunder\": null, \"varelinjer\": \"30\\u00a0000\", \"Kommentarer\": null}, {\"Lagre\": \"ASKO MOLDE AS\", \"Adresse\": \"\\u00c5r\\u00f8seterveien 20\", \"By\": \"6422 Molde\", \"Breddegrad\": 62.771148, \"L\\u00e6ngdegrad\": 7.288469999999999, \"Omsetning (milliarder)\": 2.3, \"Leveranse andel\": 0.02, \"Medarbeider\": null, \"Omr\\u00e5ter\": \"Romsdal og Nordm\\u00f8re. Fra Vestnes kommune i s\\u00f8r til Sm\\u00f8la og\\u00a0Aure i Nord\", \"Andre omr\\u00e5ter\": \"Bjorli og Lesjaskog i Oppland fylke\", \"m2\": null, \"Kunder\": null, \"varelinjer\": \"30 000\", \"Kommentarer\": null}, {\"Lagre\": \"ASKO NORD AS\", \"Adresse\": \"Kjoselvmoen 84\", \"By\": \"9021 Tromsdalen\", \"Breddegrad\": 69.567258, \"L\\u00e6ngdegrad\": 19.14399, \"Omsetning (milliarder)\": 3.0, \"Leveranse andel\": 0.03, \"Medarbeider\": 170.0, \"Omr\\u00e5ter\": \"Lofoten og Ballangen i s\\u00f8r, til Honningsv\\u00e5g og Kirkenes i nord og \\u00f8st\", \"Andre omr\\u00e5ter\": null, \"m2\": 30000.0, \"Kunder\": null, \"varelinjer\": null, \"Kommentarer\": null}, {\"Lagre\": \"ASKO OPPLAND AS\", \"Adresse\": \"Markavegen 20\", \"By\": \"2920 Leira\", \"Breddegrad\": 60.971885, \"L\\u00e6ngdegrad\": 9.285233, \"Omsetning (milliarder)\": 1.6, \"Leveranse andel\": 0.02, \"Medarbeider\": 90.0, \"Omr\\u00e5ter\": \"Valdres, Hallingdal, Land, Numedal og Indre Sogn\", \"Andre omr\\u00e5ter\": null, \"m2\": 10500.0, \"Kunder\": \"750\", \"varelinjer\": \"Vestby +Oppeland: 30\\u00a0000\", \"Kommentarer\": null}, {\"Lagre\": \"ASKO OSLOFJORD AS\", \"Adresse\": \"Hanekleiva 76\", \"By\": \"3070 Sande i Vestfold\", \"Breddegrad\": 59.568992, \"L\\u00e6ngdegrad\": 10.194388, \"Omsetning (milliarder)\": 5.4, \"Leveranse andel\": 0.05, \"Medarbeider\": null, \"Omr\\u00e5ter\": \"Buskerud, \\u00d8stfold\", \"Andre omr\\u00e5ter\": \"del av Akershus, nordre del av Vestfold og nord-\\u00f8stre del av Telemark\", \"m2\": 27700.0, \"Kunder\": null, \"varelinjer\": \"OSLOFJORD+Vestby:  24 000\", \"Kommentarer\": \"automatisert\"}, {\"Lagre\": \"ASKO ROGALAND AS\", \"Adresse\": \"Skurvemarka 21\", \"By\": \"4330 \\u00c5lg\\u00e5rd\", \"Breddegrad\": 58.74329399999999, \"L\\u00e6ngdegrad\": 5.929957, \"Omsetning (milliarder)\": 5.7, \"Leveranse andel\": 0.06, \"Medarbeider\": 240.0, \"Omr\\u00e5ter\": \"Rogaland\", \"Andre omr\\u00e5ter\": null, \"m2\": 23661.0, \"Kunder\": null, \"varelinjer\": null, \"Kommentarer\": null}, {\"Lagre\": \"ASKO SENTRALLAGER AS\", \"Adresse\": \"Deliveien 33\", \"By\": \"1540 Vestby\", \"Breddegrad\": 59.58792, \"L\\u00e6ngdegrad\": 10.739936, \"Omsetning (milliarder)\": 12.0, \"Leveranse andel\": 0.12, \"Medarbeider\": 200.0, \"Omr\\u00e5ter\": null, \"Andre omr\\u00e5ter\": null, \"m2\": 28418.0, \"Kunder\": null, \"varelinjer\": null, \"Kommentarer\": \"h\\u00f8y grad av automasjon\"}, {\"Lagre\": \"ASKO TRANSPORT AS\", \"Adresse\": \"Deliveien 33\", \"By\": \"1540 Vestby\", \"Breddegrad\": 59.58863, \"L\\u00e6ngdegrad\": 10.742578, \"Omsetning (milliarder)\": 14.0, \"Leveranse andel\": 0.14, \"Medarbeider\": 200.0, \"Omr\\u00e5ter\": \"fire ASKO-selskap p\\u00e5 \\u00d8stlandet\", \"Andre omr\\u00e5ter\": null, \"m2\": 24000.0, \"Kunder\": null, \"varelinjer\": null, \"Kommentarer\": null}, {\"Lagre\": \"ASKO VEST AS\", \"Adresse\": \"Magnusvegen 10\", \"By\": \"5262 Arnatveit\", \"Breddegrad\": 60.398829000000006, \"L\\u00e6ngdegrad\": 5.468964, \"Omsetning (milliarder)\": 9.015, \"Leveranse andel\": 0.09, \"Medarbeider\": 450.0, \"Omr\\u00e5ter\": \"Kvinnherad og Stord i s\\u00f8r til Nordfjord i nord\", \"Andre omr\\u00e5ter\": \"de fleste i Vestland fylke\", \"m2\": 26164.0, \"Kunder\": null, \"varelinjer\": null, \"Kommentarer\": null}, {\"Lagre\": \"ASKO VESTFOLD-TELEMARK AS\", \"Adresse\": \"Hegdalveien 87\", \"By\": \"3261 Larvik\", \"Breddegrad\": 59.056711, \"L\\u00e6ngdegrad\": 10.074466000000001, \"Omsetning (milliarder)\": 6.0, \"Leveranse andel\": 0.06, \"Medarbeider\": 150.0, \"Omr\\u00e5ter\": \"Vestfold og Telemark\", \"Andre omr\\u00e5ter\": null, \"m2\": 26000.0, \"Kunder\": \"140\", \"varelinjer\": null, \"Kommentarer\": \"samlokalisert med BAMA Dagligvare Larvik\"}, {\"Lagre\": \"ASKO \\u00d8ST AS\", \"Adresse\": \"Delitoppen 4\", \"By\": \"1540 Vestby\", \"Breddegrad\": 59.589318999999996, \"L\\u00e6ngdegrad\": 10.744234, \"Omsetning (milliarder)\": 9.0, \"Leveranse andel\": 0.09, \"Medarbeider\": 400.0, \"Omr\\u00e5ter\": \"\\u00d8stlandsomr\\u00e5det\", \"Andre omr\\u00e5ter\": null, \"m2\": 28000.0, \"Kunder\": \"5 500\", \"varelinjer\": null, \"Kommentarer\": null}]}}, {\"mode\": \"vega-lite\"});\n",
              "</script>"
            ]
          },
          "metadata": {
            "tags": []
          },
          "execution_count": 43
        }
      ]
    },
    {
      "cell_type": "markdown",
      "metadata": {
        "id": "4DC5m0sDd_bl"
      },
      "source": [
        "Hent Excel ark"
      ]
    },
    {
      "cell_type": "code",
      "metadata": {
        "id": "VMC0_mJ0Yspv"
      },
      "source": [
        "pd.read_excel(\"http://www.pvexpect.com/Driftsledelse/Dagligvarer/Varerlager.xlsx\").to_excel(\"Excel.xlsx\")"
      ],
      "execution_count": 45,
      "outputs": []
    },
    {
      "cell_type": "markdown",
      "metadata": {
        "id": "Pg-jqP1kdXRs"
      },
      "source": [
        "\n",
        "![image.png](data:image/png;base64,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)![image.png](data:image/png;base64,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)"
      ]
    }
  ]
}