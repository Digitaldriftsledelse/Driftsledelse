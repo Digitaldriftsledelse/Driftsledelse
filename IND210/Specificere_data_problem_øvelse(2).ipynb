{
  "nbformat": 4,
  "nbformat_minor": 0,
  "metadata": {
    "colab": {
      "name": "Specificere_data_problem_øvelse.ipynb",
      "provenance": []
    },
    "kernelspec": {
      "name": "python3",
      "display_name": "Python 3"
    }
  },
  "cells": [
    {
      "cell_type": "markdown",
      "metadata": {
        "id": "Hf9t0S3EMq2d"
      },
      "source": [
        "Filen med data for butikker er i formattet json. \r\n",
        "\r\n",
        "Dataen kan hentes igennem en pandas dataframe. \r\n",
        "\r\n",
        "Pandas bibliotekket importes.\r\n",
        "\r\n",
        "```\r\n",
        "import pandas as pd\r\n",
        "```\r\n",
        "\r\n",
        "\r\n",
        "Dataen hentes ved af:\r\n",
        "\r\n",
        "```\r\n",
        "data=pd.read_json(url)\r\n",
        "```\r\n",
        "\r\n",
        "\r\n"
      ]
    },
    {
      "cell_type": "code",
      "metadata": {
        "id": "Kmhy8obcL-k3"
      },
      "source": [
        "import pandas as pd\r\n",
        "data=pd.read_json(\"https://platform-rest-prod.ngdata.no/api/FindStore/StoresClosestToMe/1300/?latitude=65.4&longitude=16.8&minnumberofstores=200&maxNumberOfStores=300&maxDistance=2470554\")"
      ],
      "execution_count": 44,
      "outputs": []
    },
    {
      "cell_type": "markdown",
      "metadata": {
        "id": "ZZQE8j4vOSfG"
      },
      "source": [
        "Dataen er nestet i parameteren \"store\" med navn\r\n",
        "\r\n",
        "\r\n",
        "```\r\n",
        "data.store\r\n",
        "```\r\n",
        "\r\n"
      ]
    },
    {
      "cell_type": "markdown",
      "metadata": {
        "id": "cLjHd2eKiFKY"
      },
      "source": [
        "Vis data"
      ]
    },
    {
      "cell_type": "code",
      "metadata": {
        "colab": {
          "base_uri": "https://localhost:8080/",
          "height": 424
        },
        "id": "CXzvWnj9OQMS",
        "outputId": "d1717f06-08a4-444d-cbcb-ad437e98b209"
      },
      "source": [
        "data"
      ],
      "execution_count": 45,
      "outputs": [
        {
          "output_type": "execute_result",
          "data": {
            "text/html": [
              "<div>\n",
              "<style scoped>\n",
              "    .dataframe tbody tr th:only-of-type {\n",
              "        vertical-align: middle;\n",
              "    }\n",
              "\n",
              "    .dataframe tbody tr th {\n",
              "        vertical-align: top;\n",
              "    }\n",
              "\n",
              "    .dataframe thead th {\n",
              "        text-align: right;\n",
              "    }\n",
              "</style>\n",
              "<table border=\"1\" class=\"dataframe\">\n",
              "  <thead>\n",
              "    <tr style=\"text-align: right;\">\n",
              "      <th></th>\n",
              "      <th>distance</th>\n",
              "      <th>store</th>\n",
              "    </tr>\n",
              "  </thead>\n",
              "  <tbody>\n",
              "    <tr>\n",
              "      <th>0</th>\n",
              "      <td>1</td>\n",
              "      <td>{'id': 7080001209629, 'chainid': 1300, 'name':...</td>\n",
              "    </tr>\n",
              "    <tr>\n",
              "      <th>1</th>\n",
              "      <td>1</td>\n",
              "      <td>{'id': 7080001022945, 'chainid': 1300, 'name':...</td>\n",
              "    </tr>\n",
              "    <tr>\n",
              "      <th>2</th>\n",
              "      <td>1</td>\n",
              "      <td>{'id': 7080000003242, 'chainid': 1300, 'name':...</td>\n",
              "    </tr>\n",
              "    <tr>\n",
              "      <th>3</th>\n",
              "      <td>1</td>\n",
              "      <td>{'id': 7080000954704, 'chainid': 1300, 'name':...</td>\n",
              "    </tr>\n",
              "    <tr>\n",
              "      <th>4</th>\n",
              "      <td>1</td>\n",
              "      <td>{'id': 7080000954674, 'chainid': 1300, 'name':...</td>\n",
              "    </tr>\n",
              "    <tr>\n",
              "      <th>...</th>\n",
              "      <td>...</td>\n",
              "      <td>...</td>\n",
              "    </tr>\n",
              "    <tr>\n",
              "      <th>174</th>\n",
              "      <td>1</td>\n",
              "      <td>{'id': 7080000062881, 'chainid': 1300, 'name':...</td>\n",
              "    </tr>\n",
              "    <tr>\n",
              "      <th>175</th>\n",
              "      <td>1</td>\n",
              "      <td>{'id': 7080000748273, 'chainid': 1300, 'name':...</td>\n",
              "    </tr>\n",
              "    <tr>\n",
              "      <th>176</th>\n",
              "      <td>1</td>\n",
              "      <td>{'id': 7080001007157, 'chainid': 1300, 'name':...</td>\n",
              "    </tr>\n",
              "    <tr>\n",
              "      <th>177</th>\n",
              "      <td>1</td>\n",
              "      <td>{'id': 7080001409920, 'chainid': 1300, 'name':...</td>\n",
              "    </tr>\n",
              "    <tr>\n",
              "      <th>178</th>\n",
              "      <td>1</td>\n",
              "      <td>{'id': 7080001120832, 'chainid': 1300, 'name':...</td>\n",
              "    </tr>\n",
              "  </tbody>\n",
              "</table>\n",
              "<p>179 rows × 2 columns</p>\n",
              "</div>"
            ],
            "text/plain": [
              "     distance                                              store\n",
              "0           1  {'id': 7080001209629, 'chainid': 1300, 'name':...\n",
              "1           1  {'id': 7080001022945, 'chainid': 1300, 'name':...\n",
              "2           1  {'id': 7080000003242, 'chainid': 1300, 'name':...\n",
              "3           1  {'id': 7080000954704, 'chainid': 1300, 'name':...\n",
              "4           1  {'id': 7080000954674, 'chainid': 1300, 'name':...\n",
              "..        ...                                                ...\n",
              "174         1  {'id': 7080000062881, 'chainid': 1300, 'name':...\n",
              "175         1  {'id': 7080000748273, 'chainid': 1300, 'name':...\n",
              "176         1  {'id': 7080001007157, 'chainid': 1300, 'name':...\n",
              "177         1  {'id': 7080001409920, 'chainid': 1300, 'name':...\n",
              "178         1  {'id': 7080001120832, 'chainid': 1300, 'name':...\n",
              "\n",
              "[179 rows x 2 columns]"
            ]
          },
          "metadata": {
            "tags": []
          },
          "execution_count": 45
        }
      ]
    },
    {
      "cell_type": "markdown",
      "metadata": {
        "id": "WHI5W9RiNS6w"
      },
      "source": [
        "Ved at iterere igennem datasettet, kan dataen lagres som en pandas dataframe."
      ]
    },
    {
      "cell_type": "code",
      "metadata": {
        "colab": {
          "base_uri": "https://localhost:8080/",
          "height": 320
        },
        "id": "eXDunjwjMPJS",
        "outputId": "d21826f3-cb97-4f2d-cb0e-8c95416a8c86"
      },
      "source": [
        "database=[]\r\n",
        "\r\n",
        "for i, store in enumerate(data.store):\r\n",
        "\r\n",
        "  database.append(store)\r\n",
        "database=pd.DataFrame(database)\r\n",
        "database.head(3)"
      ],
      "execution_count": 46,
      "outputs": [
        {
          "output_type": "execute_result",
          "data": {
            "text/html": [
              "<div>\n",
              "<style scoped>\n",
              "    .dataframe tbody tr th:only-of-type {\n",
              "        vertical-align: middle;\n",
              "    }\n",
              "\n",
              "    .dataframe tbody tr th {\n",
              "        vertical-align: top;\n",
              "    }\n",
              "\n",
              "    .dataframe thead th {\n",
              "        text-align: right;\n",
              "    }\n",
              "</style>\n",
              "<table border=\"1\" class=\"dataframe\">\n",
              "  <thead>\n",
              "    <tr style=\"text-align: right;\">\n",
              "      <th></th>\n",
              "      <th>id</th>\n",
              "      <th>chainid</th>\n",
              "      <th>name</th>\n",
              "      <th>link</th>\n",
              "      <th>description</th>\n",
              "      <th>location</th>\n",
              "      <th>zipcode</th>\n",
              "      <th>zipcitycode</th>\n",
              "      <th>municipalitid</th>\n",
              "      <th>countyid</th>\n",
              "      <th>regionname</th>\n",
              "      <th>services</th>\n",
              "      <th>visitaddress</th>\n",
              "      <th>phone</th>\n",
              "      <th>fax</th>\n",
              "      <th>email</th>\n",
              "      <th>openinghours</th>\n",
              "      <th>istrumfactivated</th>\n",
              "      <th>loc</th>\n",
              "      <th>municipality</th>\n",
              "      <th>county</th>\n",
              "      <th>suggestion</th>\n",
              "    </tr>\n",
              "  </thead>\n",
              "  <tbody>\n",
              "    <tr>\n",
              "      <th>0</th>\n",
              "      <td>7080001209629</td>\n",
              "      <td>1300</td>\n",
              "      <td>MENY Tiller</td>\n",
              "      <td></td>\n",
              "      <td></td>\n",
              "      <td>{'latitude': 63.358183892, 'longitude': 10.374...</td>\n",
              "      <td>7075</td>\n",
              "      <td>TILLER</td>\n",
              "      <td>5001</td>\n",
              "      <td>50</td>\n",
              "      <td>MIDT</td>\n",
              "      <td>TRUMFBONUS</td>\n",
              "      <td>Ivar Lykkes vei 3</td>\n",
              "      <td>72896700</td>\n",
              "      <td>72896701</td>\n",
              "      <td>butikksjef.tiller@meny.no</td>\n",
              "      <td>{'days': [{'date': None, 'label': 'Hverdager',...</td>\n",
              "      <td>True</td>\n",
              "      <td>{'lon': 10.3748897358, 'lat': 63.358183892}</td>\n",
              "      <td>TRONDHEIM</td>\n",
              "      <td>TRØNDELAG</td>\n",
              "      <td>[TRONDHEIM, TRØNDELAG, MENY Tiller, 7075, Tiller]</td>\n",
              "    </tr>\n",
              "    <tr>\n",
              "      <th>1</th>\n",
              "      <td>7080001022945</td>\n",
              "      <td>1300</td>\n",
              "      <td>MENY Kolsås</td>\n",
              "      <td></td>\n",
              "      <td></td>\n",
              "      <td>{'latitude': 59.9165795374, 'longitude': 10.50...</td>\n",
              "      <td>1352</td>\n",
              "      <td>KOLSÅS</td>\n",
              "      <td>3024</td>\n",
              "      <td>30</td>\n",
              "      <td>ØST</td>\n",
              "      <td>PIB, TRUMFBONUS</td>\n",
              "      <td>Rødskiferv 1</td>\n",
              "      <td>67 15 10 20</td>\n",
              "      <td>67 13 18 51</td>\n",
              "      <td>butikksjef.kolsas@meny.no</td>\n",
              "      <td>{'days': [{'date': None, 'label': 'Hverdager',...</td>\n",
              "      <td>True</td>\n",
              "      <td>{'lon': 10.5007631712, 'lat': 59.9165795374}</td>\n",
              "      <td>BÆRUM</td>\n",
              "      <td>VIKEN</td>\n",
              "      <td>[BÆRUM, VIKEN, MENY Kolsås, 1352, Kolsås]</td>\n",
              "    </tr>\n",
              "    <tr>\n",
              "      <th>2</th>\n",
              "      <td>7080000003242</td>\n",
              "      <td>1300</td>\n",
              "      <td>MENY Grorud</td>\n",
              "      <td></td>\n",
              "      <td></td>\n",
              "      <td>{'latitude': 59.9599103744, 'longitude': 10.88...</td>\n",
              "      <td>0963</td>\n",
              "      <td>OSLO</td>\n",
              "      <td>301</td>\n",
              "      <td>3</td>\n",
              "      <td>ØST</td>\n",
              "      <td>TRUMFBONUS</td>\n",
              "      <td>Bergensvn. 2-4</td>\n",
              "      <td>22918520</td>\n",
              "      <td>22167178</td>\n",
              "      <td>butikksjef.grorud@meny.no</td>\n",
              "      <td>{'days': [{'date': None, 'label': 'Hverdager',...</td>\n",
              "      <td>True</td>\n",
              "      <td>{'lon': 10.8812707846, 'lat': 59.9599103744}</td>\n",
              "      <td>OSLO</td>\n",
              "      <td>OSLO</td>\n",
              "      <td>[OSLO, OSLO, MENY Grorud, 0963, Grorud]</td>\n",
              "    </tr>\n",
              "  </tbody>\n",
              "</table>\n",
              "</div>"
            ],
            "text/plain": [
              "              id  ...                                         suggestion\n",
              "0  7080001209629  ...  [TRONDHEIM, TRØNDELAG, MENY Tiller, 7075, Tiller]\n",
              "1  7080001022945  ...          [BÆRUM, VIKEN, MENY Kolsås, 1352, Kolsås]\n",
              "2  7080000003242  ...            [OSLO, OSLO, MENY Grorud, 0963, Grorud]\n",
              "\n",
              "[3 rows x 22 columns]"
            ]
          },
          "metadata": {
            "tags": []
          },
          "execution_count": 46
        }
      ]
    },
    {
      "cell_type": "markdown",
      "metadata": {
        "id": "ZC_SlcUoPM0E"
      },
      "source": [
        "\r\n",
        "\r\n",
        "På nuværende tidspunkt er latitude og longitude formateret såledelse. F.eks\r\n",
        "```\r\n",
        "{'latitude': 58.4729125984, 'longitude': 8.814.}\r\n",
        "```"
      ]
    },
    {
      "cell_type": "code",
      "metadata": {
        "colab": {
          "base_uri": "https://localhost:8080/",
          "height": 354
        },
        "id": "ov7rtzh2PMJn",
        "outputId": "adfdc3e3-f92c-4b5e-b51b-deeeb7b22cd1"
      },
      "source": [
        "database.head(3)"
      ],
      "execution_count": 37,
      "outputs": [
        {
          "output_type": "execute_result",
          "data": {
            "text/html": [
              "<div>\n",
              "<style scoped>\n",
              "    .dataframe tbody tr th:only-of-type {\n",
              "        vertical-align: middle;\n",
              "    }\n",
              "\n",
              "    .dataframe tbody tr th {\n",
              "        vertical-align: top;\n",
              "    }\n",
              "\n",
              "    .dataframe thead th {\n",
              "        text-align: right;\n",
              "    }\n",
              "</style>\n",
              "<table border=\"1\" class=\"dataframe\">\n",
              "  <thead>\n",
              "    <tr style=\"text-align: right;\">\n",
              "      <th></th>\n",
              "      <th>id</th>\n",
              "      <th>chainid</th>\n",
              "      <th>name</th>\n",
              "      <th>link</th>\n",
              "      <th>description</th>\n",
              "      <th>location</th>\n",
              "      <th>zipcode</th>\n",
              "      <th>zipcitycode</th>\n",
              "      <th>municipalitid</th>\n",
              "      <th>countyid</th>\n",
              "      <th>regionname</th>\n",
              "      <th>services</th>\n",
              "      <th>visitaddress</th>\n",
              "      <th>phone</th>\n",
              "      <th>fax</th>\n",
              "      <th>email</th>\n",
              "      <th>openinghours</th>\n",
              "      <th>istrumfactivated</th>\n",
              "      <th>loc</th>\n",
              "      <th>municipality</th>\n",
              "      <th>county</th>\n",
              "      <th>suggestion</th>\n",
              "    </tr>\n",
              "  </thead>\n",
              "  <tbody>\n",
              "    <tr>\n",
              "      <th>0</th>\n",
              "      <td>7080001381936</td>\n",
              "      <td>1300</td>\n",
              "      <td>MENY Teie Torg</td>\n",
              "      <td></td>\n",
              "      <td></td>\n",
              "      <td>{'latitude': 59.2519895565, 'longitude': 10.41...</td>\n",
              "      <td>3106</td>\n",
              "      <td>NØTTERØY</td>\n",
              "      <td>3811</td>\n",
              "      <td>38</td>\n",
              "      <td>VESTRE ØSTLAND</td>\n",
              "      <td>PIB, TRUMFBONUS, TIPPING</td>\n",
              "      <td>Ørsnesalléen 37 A</td>\n",
              "      <td>33 35 20 60</td>\n",
              "      <td>33 35 20 70</td>\n",
              "      <td>butikksjef.teietorg@meny.no</td>\n",
              "      <td>{'days': [{'date': None, 'label': 'Hverdager',...</td>\n",
              "      <td>True</td>\n",
              "      <td>{'lon': 10.4165030747, 'lat': 59.2519895565}</td>\n",
              "      <td>FÆRDER</td>\n",
              "      <td>VESTFOLD OG TELEMARK</td>\n",
              "      <td>[FÆRDER, VESTFOLD OG TELEMARK, MENY Teie Torg,...</td>\n",
              "    </tr>\n",
              "    <tr>\n",
              "      <th>1</th>\n",
              "      <td>7080001134044</td>\n",
              "      <td>1300</td>\n",
              "      <td>MENY Åneby</td>\n",
              "      <td></td>\n",
              "      <td></td>\n",
              "      <td>{'latitude': 60.0890270586, 'longitude': 10.87...</td>\n",
              "      <td>1488</td>\n",
              "      <td>HAKADAL</td>\n",
              "      <td>3031</td>\n",
              "      <td>30</td>\n",
              "      <td>ØST</td>\n",
              "      <td>PIB, TRUMFBONUS, TIPPING</td>\n",
              "      <td>Ånebyveien 17</td>\n",
              "      <td>67 06 20 00</td>\n",
              "      <td>67 06 20 10</td>\n",
              "      <td>butikksjef.aneby@meny.no</td>\n",
              "      <td>{'days': [{'date': None, 'label': 'Hverdager',...</td>\n",
              "      <td>True</td>\n",
              "      <td>{'lon': 10.8719540288, 'lat': 60.0890270586}</td>\n",
              "      <td>NITTEDAL</td>\n",
              "      <td>VIKEN</td>\n",
              "      <td>[NITTEDAL, VIKEN, MENY Åneby, 1488, Åneby]</td>\n",
              "    </tr>\n",
              "    <tr>\n",
              "      <th>2</th>\n",
              "      <td>7080001107253</td>\n",
              "      <td>1300</td>\n",
              "      <td>MENY Verdal</td>\n",
              "      <td></td>\n",
              "      <td></td>\n",
              "      <td>{'latitude': 63.7905740342, 'longitude': 11.48...</td>\n",
              "      <td>7650</td>\n",
              "      <td>VERDAL</td>\n",
              "      <td>5038</td>\n",
              "      <td>50</td>\n",
              "      <td>MIDT</td>\n",
              "      <td>TRUMFBONUS, TIPPING</td>\n",
              "      <td>Jernbanegata 7</td>\n",
              "      <td>74 04 93 00</td>\n",
              "      <td>74 04 93 01</td>\n",
              "      <td>butikksjef.verdal@meny.no</td>\n",
              "      <td>{'days': [{'date': None, 'label': 'Hverdager',...</td>\n",
              "      <td>True</td>\n",
              "      <td>{'lon': 11.4859998387, 'lat': 63.7905740342}</td>\n",
              "      <td>VERDAL</td>\n",
              "      <td>TRØNDELAG</td>\n",
              "      <td>[VERDAL, TRØNDELAG, MENY Verdal, 7650, Verdal]</td>\n",
              "    </tr>\n",
              "  </tbody>\n",
              "</table>\n",
              "</div>"
            ],
            "text/plain": [
              "              id  ...                                         suggestion\n",
              "0  7080001381936  ...  [FÆRDER, VESTFOLD OG TELEMARK, MENY Teie Torg,...\n",
              "1  7080001134044  ...         [NITTEDAL, VIKEN, MENY Åneby, 1488, Åneby]\n",
              "2  7080001107253  ...     [VERDAL, TRØNDELAG, MENY Verdal, 7650, Verdal]\n",
              "\n",
              "[3 rows x 22 columns]"
            ]
          },
          "metadata": {
            "tags": []
          },
          "execution_count": 37
        }
      ]
    },
    {
      "cell_type": "markdown",
      "metadata": {
        "id": "jUPVKhheNZ2W"
      },
      "source": [
        "\r\n",
        "\r\n",
        "**Oppgave:**\r\n",
        "\r\n",
        "Separere latitude og longitude i 2 separate kolonner ved navn \"latitude\" og \"longitude\", som vist i billedet\r\n",
        "\r\n",
        "![image.png](data:image/png;base64,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)\r\n",
        "\r\n",
        "\r\n",
        "\r\n",
        "\r\n"
      ]
    },
    {
      "cell_type": "markdown",
      "metadata": {
        "id": "7wxS36-PiMPx"
      },
      "source": [
        "\r\n",
        "Hints:\r\n",
        "\r\n",
        "* Du kan bruge tidligere eksempel, som template.\r\n",
        "\r\n",
        "\r\n",
        "Template:\r\n",
        "\r\n",
        "```\r\n",
        "database=[]\r\n",
        "for i, store in enumerate(data.store):\r\n",
        "\r\n",
        "  database.append(store)\r\n",
        "database=pd.DataFrame(database)\r\n",
        "database.head(3)\r\n",
        "```\r\n",
        "\r\n"
      ]
    }
  ]
}