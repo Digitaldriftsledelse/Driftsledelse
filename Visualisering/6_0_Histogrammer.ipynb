{
  "nbformat": 4,
  "nbformat_minor": 0,
  "metadata": {
    "colab": {
      "name": "6.0 Histogrammer.ipynb",
      "provenance": [],
      "toc_visible": true
    },
    "kernelspec": {
      "name": "python3",
      "display_name": "Python 3"
    },
    "language_info": {
      "name": "python"
    }
  },
  "cells": [
    {
      "cell_type": "markdown",
      "metadata": {
        "id": "HPFGUfdwSh1u"
      },
      "source": [
        "\n",
        "<img align=\"left\" style=\"padding-right:100px;\" src=\"http://pvexpect.com/Driftsledelse/Dagligvarer/nmbu.png\">\n",
        "\n",
        "  **Digital Driftsledelse - IND310**\n",
        "\n",
        " Jesper Ørntoft Frausig, 2021\n"
      ]
    },
    {
      "cell_type": "markdown",
      "metadata": {
        "id": "baDHb_HWZlkk"
      },
      "source": [
        "# **6.0 Histogrammer**"
      ]
    },
    {
      "cell_type": "markdown",
      "metadata": {
        "id": "nBnRmPAL-Ex8"
      },
      "source": [
        "- [6.1 Histogram med responsive binning](#6.)\n",
        "- [6.2 Histogram med et globalt gjennomsnittlig overlegg](#6.)\n",
        "- [6.3 Lagdelt histogram](#6.)\n",
        "- [6.3 Trellis Histogram](#6.)"
      ]
    },
    {
      "cell_type": "markdown",
      "metadata": {
        "id": "yDs5i_IKZRqT"
      },
      "source": [
        "## **6.1 Histogram med responsive binning**"
      ]
    },
    {
      "cell_type": "markdown",
      "metadata": {
        "id": "WLIjJkkiZLJ4"
      },
      "source": [
        "https://altair-viz.github.io/gallery/histogram_responsive.html"
      ]
    },
    {
      "cell_type": "markdown",
      "metadata": {
        "id": "crXEsihPZU4K"
      },
      "source": [
        "## **6.2 Histogram med et globalt gjennomsnittlig overlegg**"
      ]
    },
    {
      "cell_type": "markdown",
      "metadata": {
        "id": "c392en73ZeBJ"
      },
      "source": [
        "https://altair-viz.github.io/gallery/histogram_with_a_global_mean_overlay.html"
      ]
    },
    {
      "cell_type": "markdown",
      "metadata": {
        "id": "ahnDyx73ZXsX"
      },
      "source": [
        "## **6.3 Lagdelt histogram**"
      ]
    },
    {
      "cell_type": "markdown",
      "metadata": {
        "id": "LmvedFeFZhUP"
      },
      "source": [
        "https://altair-viz.github.io/gallery/layered_histogram.html"
      ]
    },
    {
      "cell_type": "markdown",
      "metadata": {
        "id": "AAyFRlt2ZaM6"
      },
      "source": [
        "## **6.4 Trellis Histogram**"
      ]
    },
    {
      "cell_type": "markdown",
      "metadata": {
        "id": "byeqM5EkZkIB"
      },
      "source": [
        "https://altair-viz.github.io/gallery/trellis_histogram.html"
      ]
    }
  ]
}