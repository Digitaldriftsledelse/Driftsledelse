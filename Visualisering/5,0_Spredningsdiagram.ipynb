{
  "nbformat": 4,
  "nbformat_minor": 0,
  "metadata": {
    "colab": {
      "name": "5,0 Spredningsdiagram.ipynb",
      "provenance": [],
      "collapsed_sections": [],
      "toc_visible": true
    },
    "kernelspec": {
      "name": "python3",
      "display_name": "Python 3"
    },
    "language_info": {
      "name": "python"
    }
  },
  "cells": [
    {
      "cell_type": "markdown",
      "metadata": {
        "id": "lH4v93dDSmEi"
      },
      "source": [
        "\n",
        "<img align=\"left\" style=\"padding-right:100px;\" src=\"http://pvexpect.com/Driftsledelse/Dagligvarer/nmbu.png\">\n",
        "\n",
        "  **Digital Driftsledelse - IND310**\n",
        "\n",
        " Jesper Ørntoft Frausig, 2021\n"
      ]
    },
    {
      "cell_type": "markdown",
      "metadata": {
        "id": "9Qxrh8tH3AZ7"
      },
      "source": [
        "##**5.0 Spredningsdiagram**"
      ]
    },
    {
      "cell_type": "markdown",
      "metadata": {
        "id": "_71ifwpF3JO8"
      },
      "source": [
        "- [5.1 Binned Spredningsdiagram](#5.1)\n",
        "- [5.2 Interaktivt Spredningsdiagram for å vise data på en datatabel](#5.2)\n",
        "- [5.3 Bobleplott](#5.3)\n",
        "- [5.4 Forbundet Spredningsdiagram (linjer med tilpassede stier)](#5.4)\n",
        "- [5.5 Dot Dash Plott](#5.5)\n",
        "- [5.6 Multifunksjons Spredningsdiagram](#5.6)\n",
        "- [5.7 Polynomial plott med regresjons](#5.7)\n",
        "- [5.8 Quantile-Quantile Plot](#5.8)\n",
        "- [5.9 Sprednings Matrise](#5.9)\n",
        "- [5.10 Spredningsdiagram med link](#5.10)\n",
        "- [5.11 Spredningsdiagram med LOESS -linjer](#5.11)\n",
        "- [5.12 Spredningsdiagram med Minimap](#5.12)\n",
        "- [5.13 Spredningsdiagram med rullende middel](#5.13)\n",
        "- [5.14 Enkelt spredningsdiagram med feillinjer](#5.14)\n",
        "- [5.15 Enkelt spredningsdiagram med etiketter](#5.15)\n",
        "- [5.16 Stripplot](#5.16)\n",
        "- [5.17 Data tabel boble plott](#5.17)\n",
        "- [5.18 Trellis Spredningsdiagram](#5.18)"
      ]
    },
    {
      "cell_type": "markdown",
      "metadata": {
        "id": "Q3j-t-ErZubM"
      },
      "source": [
        "<a name=\"5.1\"></a>\n",
        "## **5.1 Binned Spredningsdiagram**"
      ]
    },
    {
      "cell_type": "code",
      "metadata": {
        "id": "9sAaqyd6EHFo"
      },
      "source": [
        ""
      ],
      "execution_count": null,
      "outputs": []
    },
    {
      "cell_type": "markdown",
      "metadata": {
        "id": "xG2S0ZWla512"
      },
      "source": [
        "https://altair-viz.github.io/gallery/binned_scatterplot.html"
      ]
    },
    {
      "cell_type": "markdown",
      "metadata": {
        "id": "busm3u7nZxqu"
      },
      "source": [
        "<a name=\"5.2\"></a>\n",
        "##**5.2 Interaktivt Spredningsdiagram for å vise data på en datatabel**"
      ]
    },
    {
      "cell_type": "markdown",
      "metadata": {
        "id": "BDT7Ory9a7Nf"
      },
      "source": [
        "https://altair-viz.github.io/gallery/scatter_linked_table.html"
      ]
    },
    {
      "cell_type": "markdown",
      "metadata": {
        "id": "nPEjotU8Z1jt"
      },
      "source": [
        "<a name=\"5.3\"></a>\n",
        "##**5.3 Bobleplott**"
      ]
    },
    {
      "cell_type": "markdown",
      "metadata": {
        "id": "3UOKeSR8a8nZ"
      },
      "source": [
        "https://altair-viz.github.io/gallery/bubble_plot.html"
      ]
    },
    {
      "cell_type": "markdown",
      "metadata": {
        "id": "l7YU0El9aHkq"
      },
      "source": [
        "<a name=\"5.4\"></a>\n",
        "##**5.4 Forbundet Spredningsdiagram (linjer med tilpassede stier)**"
      ]
    },
    {
      "cell_type": "markdown",
      "metadata": {
        "id": "03b8y7OYa-MD"
      },
      "source": [
        "https://altair-viz.github.io/gallery/connected_scatterplot.html"
      ]
    },
    {
      "cell_type": "markdown",
      "metadata": {
        "id": "3Jbs-XIuaJXW"
      },
      "source": [
        "<a name=\"5.5\"></a>\n",
        "##**5.5 Dot Dash Plott**"
      ]
    },
    {
      "cell_type": "markdown",
      "metadata": {
        "id": "tZT8dzJHbAAb"
      },
      "source": [
        "https://altair-viz.github.io/gallery/dot_dash_plot.html"
      ]
    },
    {
      "cell_type": "markdown",
      "metadata": {
        "id": "rLGzRgQbaMVw"
      },
      "source": [
        "<a name=\"5.6\"></a>\n",
        "##**5.6 Multifunksjons Spredningsdiagram**"
      ]
    },
    {
      "cell_type": "markdown",
      "metadata": {
        "id": "JTCnDxCtbB0D"
      },
      "source": [
        "https://altair-viz.github.io/gallery/multifeature_scatter_plot.html"
      ]
    },
    {
      "cell_type": "markdown",
      "metadata": {
        "id": "MjUxxpKqaOgc"
      },
      "source": [
        "<a name=\"5.7\"></a>\n",
        "##**5.7 Polynomial plott med regresjons**"
      ]
    },
    {
      "cell_type": "markdown",
      "metadata": {
        "id": "hB_Jp9_mbEF_"
      },
      "source": [
        "https://altair-viz.github.io/gallery/poly_fit_regression.html"
      ]
    },
    {
      "cell_type": "markdown",
      "metadata": {
        "id": "0VEWVRCPaQ0b"
      },
      "source": [
        "<a name=\"5.8\"></a>\n",
        "##**5.8 Quantile-Quantile Plot**"
      ]
    },
    {
      "cell_type": "markdown",
      "metadata": {
        "id": "S7DubdmsbFXB"
      },
      "source": [
        "https://altair-viz.github.io/gallery/scatter_qq.html"
      ]
    },
    {
      "cell_type": "markdown",
      "metadata": {
        "id": "taGBnLk7aS__"
      },
      "source": [
        "<a name=\"5.9\"></a>\n",
        "##**5.9 Sprednings Matrise**"
      ]
    },
    {
      "cell_type": "markdown",
      "metadata": {
        "id": "9ncRVdbpbGzL"
      },
      "source": [
        "https://altair-viz.github.io/gallery/scatter_matrix.html"
      ]
    },
    {
      "cell_type": "markdown",
      "metadata": {
        "id": "WdCjcysqaVPX"
      },
      "source": [
        "<a name=\"5.11\"></a>\n",
        "##**5.10 Spredningsdiagram med link**"
      ]
    },
    {
      "cell_type": "markdown",
      "metadata": {
        "id": "Kt0zyKQcbIOs"
      },
      "source": [
        "https://altair-viz.github.io/gallery/scatter_href.html"
      ]
    },
    {
      "cell_type": "markdown",
      "metadata": {
        "id": "4ds9Md8saccI"
      },
      "source": [
        "<a name=\"5.11\"></a>\n",
        "##**5.11 Spredningsdiagram med LOESS -linjer**"
      ]
    },
    {
      "cell_type": "markdown",
      "metadata": {
        "id": "gMTyjQ90bJkB"
      },
      "source": [
        "https://altair-viz.github.io/gallery/scatter_with_loess.html"
      ]
    },
    {
      "cell_type": "markdown",
      "metadata": {
        "id": "ksFUv_5baZ9c"
      },
      "source": [
        "<a name=\"5.12\"></a>\n",
        "##**5.12 Spredningsdiagram med Minimap**"
      ]
    },
    {
      "cell_type": "markdown",
      "metadata": {
        "id": "a7l7YeldbLmC"
      },
      "source": [
        "https://altair-viz.github.io/gallery/scatter_with_minimap.html"
      ]
    },
    {
      "cell_type": "markdown",
      "metadata": {
        "id": "xkN5T-WxaX03"
      },
      "source": [
        "<a name=\"5.13\"></a>\n",
        "##**5.13 Spredningsdiagram med rullende middel**"
      ]
    },
    {
      "cell_type": "markdown",
      "metadata": {
        "id": "S2O6AldrbNPR"
      },
      "source": [
        "https://altair-viz.github.io/gallery/scatter_with_rolling_mean.html"
      ]
    },
    {
      "cell_type": "markdown",
      "metadata": {
        "id": "lRs-6dtwah6t"
      },
      "source": [
        "<a name=\"5.14\"></a>\n",
        "##**5.14 Enkelt spredningsdiagram med feillinjer**"
      ]
    },
    {
      "cell_type": "markdown",
      "metadata": {
        "id": "qxdSW9SjbOwH"
      },
      "source": [
        "https://altair-viz.github.io/gallery/simple_scatter_with_errorbars.html"
      ]
    },
    {
      "cell_type": "markdown",
      "metadata": {
        "id": "P5FIyJ2Saka1"
      },
      "source": [
        "<a name=\"5.15\"></a>\n",
        "##**5.15 Enkelt spredningsdiagram med etiketter**"
      ]
    },
    {
      "cell_type": "markdown",
      "metadata": {
        "id": "nHX-URGbbQ34"
      },
      "source": [
        "https://altair-viz.github.io/gallery/scatter_with_labels.html"
      ]
    },
    {
      "cell_type": "markdown",
      "metadata": {
        "id": "P0zRZ5BZanyD"
      },
      "source": [
        "<a name=\"5.16\"></a>\n",
        "##**5.16 Stripplot**"
      ]
    },
    {
      "cell_type": "markdown",
      "metadata": {
        "id": "O6Yapy7wbSHv"
      },
      "source": [
        "https://altair-viz.github.io/gallery/stripplot.html"
      ]
    },
    {
      "cell_type": "markdown",
      "metadata": {
        "id": "wGXNdKuEaqM0"
      },
      "source": [
        "<a name=\"5.18\"></a>\n",
        "##**5.17 Data tabel boble plott**"
      ]
    },
    {
      "cell_type": "markdown",
      "metadata": {
        "id": "izJrhaXCbTeR"
      },
      "source": [
        "https://altair-viz.github.io/gallery/table_bubble_plot_github.html"
      ]
    },
    {
      "cell_type": "markdown",
      "metadata": {
        "id": "vJSmJDK0asvH"
      },
      "source": [
        "<a name=\"5.18\"></a>\n",
        "##**5.18 Trellis Spredningsdiagram**"
      ]
    },
    {
      "cell_type": "markdown",
      "metadata": {
        "id": "QJKTBXgcbVIa"
      },
      "source": [
        "https://altair-viz.github.io/gallery/trellis_scatter_plot.html"
      ]
    }
  ]
}