{
  "nbformat": 4,
  "nbformat_minor": 0,
  "metadata": {
    "colab": {
      "name": "Algoritmisk kjøp av aktie_aksjedysten.ipynb",
      "provenance": [],
      "collapsed_sections": []
    },
    "kernelspec": {
      "name": "python3",
      "display_name": "Python 3"
    },
    "language_info": {
      "name": "python"
    }
  },
  "cells": [
    {
      "cell_type": "markdown",
      "metadata": {
        "id": "qXWoS2vCQ37o"
      },
      "source": [
        "# **Algoritmisk handel**"
      ]
    },
    {
      "cell_type": "markdown",
      "metadata": {
        "id": "t01vkqLzQ6Fw"
      },
      "source": [
        "For å bygge forståelse for algoritmisk handling, ønsker vi å teste prinsippet uten risiko / bruk av ekte penger.\n",
        "\n",
        "Derfor bruker vi papirhandel eller et virtuelt aksjespill.\n",
        "Der finns en rekke aksjespill:\n",
        "\n",
        "1.   www.tradingview.com/ideas/\n",
        "2.   www.markets.com\n",
        "3.   www.Aktiedysten.dk\n",
        "4.   www.traderr.dk\n",
        "5.   www.marketwatch.com\n",
        "\n",
        "De færreste aksjespillene har informasjon for det nordiske aksjemarkedet.\n",
        "\n",
        "Aksjespillet som er mest relevant for det nordiske aksjemarkedet er Aktiedysten.dk,\n",
        "det mangler imidlertid informasjon om det Norske markedet.\n",
        "\n",
        "\n",
        "\n",
        "Prinsippene kan også brukes for Nordnet, Saxo og andre.\n",
        "Dette vil imidlertid medføre risiko.\n"
      ]
    },
    {
      "cell_type": "markdown",
      "metadata": {
        "id": "uFDeRNQTxd8D"
      },
      "source": [
        "# **1. Forberedelse**"
      ]
    },
    {
      "cell_type": "markdown",
      "metadata": {
        "id": "xz_KAiYTPYcO"
      },
      "source": [
        "Her downloader vi zip fil med selenium programvarer,\n",
        "som kan benyttes til foretage webscraping eller interagere med hjemmesider"
      ]
    },
    {
      "cell_type": "code",
      "metadata": {
        "id": "cB1aK4DDoCQY",
        "colab": {
          "base_uri": "https://localhost:8080/"
        },
        "outputId": "f2381df4-0c9b-4c62-d74e-42c80bd9c1a5"
      },
      "source": [
        "!wget https://chromedriver.storage.googleapis.com/2.42/chromedriver_linux64.zip  && unzip chromedriver_linux64"
      ],
      "execution_count": null,
      "outputs": [
        {
          "output_type": "stream",
          "text": [
            "--2021-06-18 08:19:17--  https://chromedriver.storage.googleapis.com/2.42/chromedriver_linux64.zip\n",
            "Resolving chromedriver.storage.googleapis.com (chromedriver.storage.googleapis.com)... 74.125.134.128, 2607:f8b0:400c:c00::80\n",
            "Connecting to chromedriver.storage.googleapis.com (chromedriver.storage.googleapis.com)|74.125.134.128|:443... connected.\n",
            "HTTP request sent, awaiting response... 200 OK\n",
            "Length: 4039043 (3.9M) [application/zip]\n",
            "Saving to: ‘chromedriver_linux64.zip’\n",
            "\n",
            "\rchromedriver_linux6   0%[                    ]       0  --.-KB/s               \rchromedriver_linux6 100%[===================>]   3.85M  --.-KB/s    in 0.04s   \n",
            "\n",
            "2021-06-18 08:19:17 (106 MB/s) - ‘chromedriver_linux64.zip’ saved [4039043/4039043]\n",
            "\n",
            "Archive:  chromedriver_linux64.zip\n",
            "  inflating: chromedriver            \n"
          ],
          "name": "stdout"
        }
      ]
    },
    {
      "cell_type": "markdown",
      "metadata": {
        "id": "_Hyy5A5XPxLN"
      },
      "source": [
        "Heretter installeres softwaren"
      ]
    },
    {
      "cell_type": "code",
      "metadata": {
        "colab": {
          "base_uri": "https://localhost:8080/"
        },
        "id": "n5AoiQavnnrw",
        "outputId": "c1522ac8-8a8a-4f9a-e928-7350c3245bd6"
      },
      "source": [
        "# install chromium, its driver, and selenium\n",
        "!apt-get update\n",
        "!apt install chromium-chromedriver\n",
        "!cp /usr/lib/chromium-browser/chromedriver /usr/bin\n",
        "!pip install selenium\n",
        "# set options to be headless, ..\n",
        "from selenium import webdriver\n",
        "\n"
      ],
      "execution_count": null,
      "outputs": [
        {
          "output_type": "stream",
          "text": [
            "\r0% [Working]\r            \rGet:1 http://security.ubuntu.com/ubuntu bionic-security InRelease [88.7 kB]\n",
            "Hit:2 https://cloud.r-project.org/bin/linux/ubuntu bionic-cran40/ InRelease\n",
            "Ign:3 https://developer.download.nvidia.com/compute/cuda/repos/ubuntu1804/x86_64  InRelease\n",
            "Hit:4 http://ppa.launchpad.net/c2d4u.team/c2d4u4.0+/ubuntu bionic InRelease\n",
            "Hit:5 http://archive.ubuntu.com/ubuntu bionic InRelease\n",
            "Ign:6 https://developer.download.nvidia.com/compute/machine-learning/repos/ubuntu1804/x86_64  InRelease\n",
            "Hit:7 https://developer.download.nvidia.com/compute/cuda/repos/ubuntu1804/x86_64  Release\n",
            "Hit:8 https://developer.download.nvidia.com/compute/machine-learning/repos/ubuntu1804/x86_64  Release\n",
            "Get:9 http://archive.ubuntu.com/ubuntu bionic-updates InRelease [88.7 kB]\n",
            "Hit:10 http://ppa.launchpad.net/cran/libgit2/ubuntu bionic InRelease\n",
            "Hit:11 http://ppa.launchpad.net/deadsnakes/ppa/ubuntu bionic InRelease\n",
            "Get:12 http://security.ubuntu.com/ubuntu bionic-security/main amd64 Packages [2,185 kB]\n",
            "Get:13 http://archive.ubuntu.com/ubuntu bionic-backports InRelease [74.6 kB]\n",
            "Hit:14 http://ppa.launchpad.net/graphics-drivers/ppa/ubuntu bionic InRelease\n",
            "Get:15 http://security.ubuntu.com/ubuntu bionic-security/universe amd64 Packages [1,415 kB]\n",
            "Get:18 http://archive.ubuntu.com/ubuntu bionic-updates/main amd64 Packages [2,619 kB]\n",
            "Get:19 http://archive.ubuntu.com/ubuntu bionic-updates/universe amd64 Packages [2,185 kB]\n",
            "Fetched 8,655 kB in 3s (2,645 kB/s)\n",
            "Reading package lists... Done\n",
            "Reading package lists... Done\n",
            "Building dependency tree       \n",
            "Reading state information... Done\n",
            "The following additional packages will be installed:\n",
            "  chromium-browser chromium-browser-l10n chromium-codecs-ffmpeg-extra\n",
            "Suggested packages:\n",
            "  webaccounts-chromium-extension unity-chromium-extension\n",
            "The following NEW packages will be installed:\n",
            "  chromium-browser chromium-browser-l10n chromium-chromedriver\n",
            "  chromium-codecs-ffmpeg-extra\n",
            "0 upgraded, 4 newly installed, 0 to remove and 47 not upgraded.\n",
            "Need to get 86.0 MB of archives.\n",
            "After this operation, 298 MB of additional disk space will be used.\n",
            "Get:1 http://archive.ubuntu.com/ubuntu bionic-updates/universe amd64 chromium-codecs-ffmpeg-extra amd64 91.0.4472.101-0ubuntu0.18.04.1 [1,124 kB]\n",
            "Get:2 http://archive.ubuntu.com/ubuntu bionic-updates/universe amd64 chromium-browser amd64 91.0.4472.101-0ubuntu0.18.04.1 [76.1 MB]\n",
            "Get:3 http://archive.ubuntu.com/ubuntu bionic-updates/universe amd64 chromium-browser-l10n all 91.0.4472.101-0ubuntu0.18.04.1 [3,937 kB]\n",
            "Get:4 http://archive.ubuntu.com/ubuntu bionic-updates/universe amd64 chromium-chromedriver amd64 91.0.4472.101-0ubuntu0.18.04.1 [4,837 kB]\n",
            "Fetched 86.0 MB in 4s (23.6 MB/s)\n",
            "Selecting previously unselected package chromium-codecs-ffmpeg-extra.\n",
            "(Reading database ... 160772 files and directories currently installed.)\n",
            "Preparing to unpack .../chromium-codecs-ffmpeg-extra_91.0.4472.101-0ubuntu0.18.04.1_amd64.deb ...\n",
            "Unpacking chromium-codecs-ffmpeg-extra (91.0.4472.101-0ubuntu0.18.04.1) ...\n",
            "Selecting previously unselected package chromium-browser.\n",
            "Preparing to unpack .../chromium-browser_91.0.4472.101-0ubuntu0.18.04.1_amd64.deb ...\n",
            "Unpacking chromium-browser (91.0.4472.101-0ubuntu0.18.04.1) ...\n",
            "Selecting previously unselected package chromium-browser-l10n.\n",
            "Preparing to unpack .../chromium-browser-l10n_91.0.4472.101-0ubuntu0.18.04.1_all.deb ...\n",
            "Unpacking chromium-browser-l10n (91.0.4472.101-0ubuntu0.18.04.1) ...\n",
            "Selecting previously unselected package chromium-chromedriver.\n",
            "Preparing to unpack .../chromium-chromedriver_91.0.4472.101-0ubuntu0.18.04.1_amd64.deb ...\n",
            "Unpacking chromium-chromedriver (91.0.4472.101-0ubuntu0.18.04.1) ...\n",
            "Setting up chromium-codecs-ffmpeg-extra (91.0.4472.101-0ubuntu0.18.04.1) ...\n",
            "Setting up chromium-browser (91.0.4472.101-0ubuntu0.18.04.1) ...\n",
            "update-alternatives: using /usr/bin/chromium-browser to provide /usr/bin/x-www-browser (x-www-browser) in auto mode\n",
            "update-alternatives: using /usr/bin/chromium-browser to provide /usr/bin/gnome-www-browser (gnome-www-browser) in auto mode\n",
            "Setting up chromium-chromedriver (91.0.4472.101-0ubuntu0.18.04.1) ...\n",
            "Setting up chromium-browser-l10n (91.0.4472.101-0ubuntu0.18.04.1) ...\n",
            "Processing triggers for man-db (2.8.3-2ubuntu0.1) ...\n",
            "Processing triggers for hicolor-icon-theme (0.17-2) ...\n",
            "Processing triggers for mime-support (3.60ubuntu1) ...\n",
            "Processing triggers for libc-bin (2.27-3ubuntu1.2) ...\n",
            "/sbin/ldconfig.real: /usr/local/lib/python3.7/dist-packages/ideep4py/lib/libmkldnn.so.0 is not a symbolic link\n",
            "\n",
            "cp: '/usr/lib/chromium-browser/chromedriver' and '/usr/bin/chromedriver' are the same file\n",
            "Collecting selenium\n",
            "\u001b[?25l  Downloading https://files.pythonhosted.org/packages/80/d6/4294f0b4bce4de0abf13e17190289f9d0613b0a44e5dd6a7f5ca98459853/selenium-3.141.0-py2.py3-none-any.whl (904kB)\n",
            "\u001b[K     |████████████████████████████████| 911kB 5.5MB/s \n",
            "\u001b[?25hRequirement already satisfied: urllib3 in /usr/local/lib/python3.7/dist-packages (from selenium) (1.24.3)\n",
            "Installing collected packages: selenium\n",
            "Successfully installed selenium-3.141.0\n"
          ],
          "name": "stdout"
        }
      ]
    },
    {
      "cell_type": "markdown",
      "metadata": {
        "id": "qdFMEMtkP0BU"
      },
      "source": [
        "Seleniumen initeres som en \"Chrome\" browser,\n",
        "og den spesifikke side velges"
      ]
    },
    {
      "cell_type": "code",
      "metadata": {
        "colab": {
          "base_uri": "https://localhost:8080/"
        },
        "id": "tRmPPJRtnpD2",
        "outputId": "6750bf37-f687-4b05-f7c7-4e47645bcbf6"
      },
      "source": [
        "\n",
        "from selenium import webdriver\n",
        "options = webdriver.ChromeOptions()\n",
        "options.add_argument('--headless')\n",
        "options.add_argument('--no-sandbox')\n",
        "options.add_argument('--disable-dev-shm-usage')\n",
        "# open it, go to a website, and get results\n",
        "browser = webdriver.Chrome('chromedriver',options=options)\n",
        "browser.get(\"https://aktiedysten.dk/\")\n",
        "print(browser.page_source)  # results\n"
      ],
      "execution_count": null,
      "outputs": [
        {
          "output_type": "stream",
          "text": [
            "<html lang=\"en\"><head><meta charset=\"utf-8\"><meta name=\"viewport\" content=\"width=device-width,viewport-fit=cover,maximum-scale=1\"><link rel=\"apple-touch-icon\" sizes=\"180x180\" href=\"/apple-touch-icon.png\"><link rel=\"icon\" type=\"image/png\" sizes=\"32x32\" href=\"/favicon-32x32.png\"><link rel=\"icon\" type=\"image/png\" sizes=\"16x16\" href=\"/favicon-16x16.png\"><link rel=\"mask-icon\" href=\"/safari-pinned-tab.svg\" color=\"#3bd4a9\"><meta name=\"msapplication-TileColor\" content=\"#323538\"><meta name=\"theme-color\" content=\"#ffffff\"><link rel=\"manifest\" href=\"/manifest.json\"><link rel=\"shortcut icon\" href=\"/favicon.ico\"><meta name=\"eq-site-id\" content=\"AKTIEDYSTEN_DK\"><link href=\"https://fonts.googleapis.com/css?family=Quicksand:300,400,500,700\" rel=\"stylesheet\"><link href=\"/static/css/main.d5c9f3df.css\" rel=\"stylesheet\"><meta property=\"og:site_name\" content=\"Aktiedysten\"><meta property=\"og:title\" content=\"Aktiedysten\"><title>Aktiedysten</title><meta property=\"og:image\" content=\"https://static.aktiedysten.dk/gfx/ad-logo-opengraph-1.png\"><meta property=\"og:description\" content=\"Aktiedysten er et aktiespil, hvor man for fiktive penge kan dyste med venner (og fjender) i handel med aktier, krypto-valutaer, metaller, m.m.\"><meta name=\"description\" content=\"Aktiedysten er et aktiespil, hvor man for fiktive penge kan dyste med venner (og fjender) i handel med aktier, krypto-valutaer, metaller, m.m.\"><meta property=\"og:locale\" content=\"da_DK\"><meta property=\"og:url\" content=\"https://aktiedysten.dk/index.html\"><link rel=\"canonical\" href=\"https://aktiedysten.dk/index.html\"><script type=\"text/javascript\" async=\"\" src=\"https://www.googleadservices.com/pagead/conversion_async.js\"></script><script type=\"text/javascript\" async=\"\" src=\"https://www.googletagmanager.com/gtag/js?id=AW-653180923&amp;l=dataLayer&amp;cx=c\"></script><script type=\"text/javascript\" async=\"\" src=\"https://www.google-analytics.com/analytics.js\"></script><script async=\"\" src=\"//static.ads-twitter.com/uwt.js\"></script><script src=\"https://connect.facebook.net/signals/config/603606623392750?v=2.9.41&amp;r=stable\" async=\"\"></script><script async=\"\" src=\"https://connect.facebook.net/en_US/fbevents.js\"></script><script async=\"async\" src=\"https://www.googletagmanager.com/gtag/js?id=UA-132186629-1\"></script><script>\n",
            "\t\twindow.dataLayer = window.dataLayer || [];\n",
            "\t\tfunction gtag(){dataLayer.push(arguments);}\n",
            "\t\tgtag('js', new Date());\n",
            "\t\n",
            "\t\t\tgtag('config', \"UA-132186629-1\");\n",
            "\t\t\twindow.GLOBAL_GA_KEY = \"UA-132186629-1\";\n",
            "\t\t\n",
            "\t\t\tgtag('config', \"AW-653180923\");\n",
            "\t\t\twindow.GLOBAL_AW_KEY = \"AW-653180923\";\n",
            "\t\t\n",
            "\t\t\twindow.GLOBAL_AW_LABELS = {\"signup\":\"vdpWCPeK7PEBEPv_urcC\"};\n",
            "\t\t</script><script>\n",
            "!function(f,b,e,v,n,t,s)\n",
            "{if(f.fbq)return;n=f.fbq=function(){n.callMethod?\n",
            "n.callMethod.apply(n,arguments):n.queue.push(arguments)};\n",
            "if(!f._fbq)f._fbq=n;n.push=n;n.loaded=!0;n.version='2.0';\n",
            "n.queue=[];t=b.createElement(e);t.async=!0;\n",
            "t.src=v;s=b.getElementsByTagName(e)[0];\n",
            "s.parentNode.insertBefore(t,s)}(window, document,'script',\n",
            "'https://connect.facebook.net/en_US/fbevents.js');\n",
            "fbq('init', '603606623392750');\n",
            "fbq('track', 'PageView');\n",
            "\t</script><script>\n",
            "!function(e,t,n,s,u,a){e.twq||(s=e.twq=function(){s.exe?s.exe.apply(s,arguments):s.queue.push(arguments);\n",
            "},s.version='1.1',s.queue=[],u=t.createElement(n),u.async=!0,u.src='//static.ads-twitter.com/uwt.js',\n",
            "a=t.getElementsByTagName(n)[0],a.parentNode.insertBefore(u,a))}(window,document,'script');\n",
            "twq('init','o5uxp');\n",
            "twq('track','PageView');\n",
            "\t</script><script async=\"async\" src=\"//platform.twitter.com/oct.js\"></script><script type=\"text/javascript\" charset=\"utf-8\" async=\"\" src=\"/static/js/30.1194efb0.chunk.js\"></script><link type=\"text/css\" rel=\"stylesheet\" href=\"blob:https://aktiedysten.dk/7b92f733-0f0a-4074-82db-4069639e3f9c\"><style></style><script src=\"https://googleads.g.doubleclick.net/pagead/viewthroughconversion/653180923/?random=1624004396196&amp;cv=9&amp;fst=1624004396196&amp;num=1&amp;bg=ffffff&amp;guid=ON&amp;resp=GooglemKTybQhCsO&amp;eid=376635470%2C2505059650&amp;u_h=600&amp;u_w=800&amp;u_ah=600&amp;u_aw=800&amp;u_cd=24&amp;u_his=2&amp;u_tz=0&amp;u_java=false&amp;u_nplug=0&amp;u_nmime=0&amp;gtm=2oa6g0&amp;sendb=1&amp;ig=1&amp;data=event%3Dgtag.config&amp;frm=0&amp;url=https%3A%2F%2Faktiedysten.dk%2F&amp;tiba=Aktiedysten&amp;hn=www.googleadservices.com&amp;async=1&amp;rfmt=3&amp;fmt=4\"></script></head><body><noscript>Dude. No one is not using Javascript these days. Or is it you Nulpunkt?<img width=\"1\" height=\"1\" style=\"display:none\" src=\"https://www.facebook.com/tr?id=603606623392750&amp;ev=PageView&amp;noscript=1\"/></noscript><div id=\"root\"><script type=\"text/javascript\" src=\"/static/js/main.12c3aa7f.js\"></script></div><script src=\"https://analytics.twitter.com/i/adsct?type=javascript&amp;version=1.1.0&amp;p_id=Twitter&amp;p_user_id=0&amp;txn_id=o5uxp&amp;events=%5B%5B%22pageview%22%2Cnull%5D%5D&amp;tw_sale_amount=0&amp;tw_order_quantity=0&amp;tw_iframe_status=0&amp;tpx_cb=twttr.conversion.loadPixels&amp;tw_document_href=https%3A%2F%2Faktiedysten.dk%2F\" type=\"text/javascript\"></script><script src=\"https://analytics.twitter.com/i/adsct?type=javascript&amp;version=1.1.0&amp;p_id=Twitter&amp;p_user_id=0&amp;txn_id=o5uxp&amp;events=%5B%5B%22pageview%22%2Cnull%5D%5D&amp;tw_sale_amount=0&amp;tw_order_quantity=0&amp;tw_iframe_status=0&amp;tpx_cb=twttr.conversion.loadPixels&amp;tw_document_href=https%3A%2F%2Faktiedysten.dk%2F\" type=\"text/javascript\"></script></body></html>\n"
          ],
          "name": "stdout"
        }
      ]
    },
    {
      "cell_type": "code",
      "metadata": {
        "id": "hHko4fSTtwJA"
      },
      "source": [
        "#browser.maximize_window()\n",
        "\n"
      ],
      "execution_count": null,
      "outputs": []
    },
    {
      "cell_type": "markdown",
      "metadata": {
        "id": "1RMEr2Qpxjo0"
      },
      "source": [
        "# **2. Login**"
      ]
    },
    {
      "cell_type": "markdown",
      "metadata": {
        "id": "GKOAWsk_P7Wc"
      },
      "source": [
        "For at interagere med brukeren vår, bør vi logge inn.\n",
        "Først trykker vi på knappen"
      ]
    },
    {
      "cell_type": "code",
      "metadata": {
        "id": "ZQ8WTEnYn8lK"
      },
      "source": [
        "button = browser.find_element_by_xpath(\"/html/body/div/div[1]/div[1]/nav/div/div[2]/ul[4]/div/button[1]\")\n",
        "browser.execute_script(\"arguments[0].click();\", button)"
      ],
      "execution_count": null,
      "outputs": []
    },
    {
      "cell_type": "markdown",
      "metadata": {
        "id": "ribRYPZ0QEUX"
      },
      "source": [
        "Vi sender email addressen vår"
      ]
    },
    {
      "cell_type": "code",
      "metadata": {
        "id": "DkiedJ_fpA-2"
      },
      "source": [
        "browser.find_element_by_xpath(\"/html/body/div[2]/div/div[1]/div/div/div/div/div/div/div/div/div/div/form/div[1]/div/input\").send_keys(\"Jesper@frausig.com\")"
      ],
      "execution_count": null,
      "outputs": []
    },
    {
      "cell_type": "markdown",
      "metadata": {
        "id": "JjmwYEkcQIJ3"
      },
      "source": [
        "Vi sender kodeord"
      ]
    },
    {
      "cell_type": "code",
      "metadata": {
        "id": "-8sBOynjpnBQ"
      },
      "source": [
        "browser.find_element_by_xpath(\"/html/body/div[2]/div/div[1]/div/div/div/div/div/div/div/div/div/div/form/div[2]/div/input\").send_keys(\"IND310\")"
      ],
      "execution_count": null,
      "outputs": []
    },
    {
      "cell_type": "markdown",
      "metadata": {
        "id": "m2NjzCoHQKQX"
      },
      "source": [
        "Deretter klikker vi på login"
      ]
    },
    {
      "cell_type": "code",
      "metadata": {
        "id": "PzNco5R5pVMA"
      },
      "source": [
        "browser.find_element_by_xpath(\"/html/body/div[2]/div/div[1]/div/div/div/div/div/div/div/div/div/div/form/button\").click()"
      ],
      "execution_count": null,
      "outputs": []
    },
    {
      "cell_type": "markdown",
      "metadata": {
        "id": "MJeiF8drxmvF"
      },
      "source": [
        "# **3. Navigere til aktie**"
      ]
    },
    {
      "cell_type": "markdown",
      "metadata": {
        "id": "PzaSJ-wXQNHR"
      },
      "source": [
        "For at kjøpe/selge en bestemt aktie, navigere vi til den spesifikke aktie."
      ]
    },
    {
      "cell_type": "code",
      "metadata": {
        "id": "t6aI3qyprBVy"
      },
      "source": [
        "browser.find_element_by_xpath(\"/html/body/div/div[1]/div[1]/nav/div/div[2]/ul[1]/li/form/div/div[1]/input\").send_keys(\"aapl\")"
      ],
      "execution_count": null,
      "outputs": []
    },
    {
      "cell_type": "code",
      "metadata": {
        "id": "hQlX8Wp9wFIt"
      },
      "source": [
        "browser.find_element_by_xpath(\"/html/body/div/div[1]/div[1]/nav/div/div[2]/ul[1]/li/form/div/div[2]/div/button\").click()"
      ],
      "execution_count": null,
      "outputs": []
    },
    {
      "cell_type": "markdown",
      "metadata": {
        "id": "4lLmvkDgxqVS"
      },
      "source": [
        "# **4. Køb aktie**"
      ]
    },
    {
      "cell_type": "markdown",
      "metadata": {
        "id": "tvII1bz_QURf"
      },
      "source": [
        "Heretter kan vi kjøpe aktien. Først trykker vi \"kjøp/selg\""
      ]
    },
    {
      "cell_type": "code",
      "metadata": {
        "id": "UHx_Jmp8p3Q3"
      },
      "source": [
        "browser.find_element_by_xpath(\"/html/body/div/div[1]/main/div/div[2]/button\").click()"
      ],
      "execution_count": null,
      "outputs": []
    },
    {
      "cell_type": "markdown",
      "metadata": {
        "id": "9WfuzclKQY9F"
      },
      "source": [
        "Så velger vi beløbet, som vi kjøper for"
      ]
    },
    {
      "cell_type": "code",
      "metadata": {
        "id": "O1n4GztlqEGY"
      },
      "source": [
        "browser.find_element_by_xpath(\"/html/body/div[2]/div/div[1]/div/div/div/div/div/form/div/div[5]/div[1]/div/div[2]/input\").send_keys(\"10000\")"
      ],
      "execution_count": null,
      "outputs": []
    },
    {
      "cell_type": "markdown",
      "metadata": {
        "id": "Y5jMm7q8Qcp_"
      },
      "source": [
        "Tilsidst aktivere vi ordren"
      ]
    },
    {
      "cell_type": "code",
      "metadata": {
        "id": "H1VU25W0wg1F"
      },
      "source": [
        "browser.find_element_by_xpath(\"/html/body/div[2]/div/div[1]/div/div/div/div/div/form/div/div[6]/div[1]/button\").click()"
      ],
      "execution_count": null,
      "outputs": []
    },
    {
      "cell_type": "markdown",
      "metadata": {
        "id": "ftL-BeNRyBr8"
      },
      "source": [
        "# **5. Salg**"
      ]
    },
    {
      "cell_type": "markdown",
      "metadata": {
        "id": "BuFzSXMtQgdd"
      },
      "source": [
        "Vi kan også velge at selge en bestemt aktie"
      ]
    },
    {
      "cell_type": "code",
      "metadata": {
        "id": "Fo7xc2sdyMP9"
      },
      "source": [
        "browser.find_element_by_xpath(\"/html/body/div/div[1]/div[1]/nav/div/div[2]/ul[1]/li/form/div/div[1]/input\").send_keys(\"SAS-DKK\")"
      ],
      "execution_count": null,
      "outputs": []
    },
    {
      "cell_type": "markdown",
      "metadata": {
        "id": "Na3EjXZDQj-x"
      },
      "source": [
        "Vi velger \"kjøp/selg\""
      ]
    },
    {
      "cell_type": "code",
      "metadata": {
        "id": "qfQztN4GyLUw"
      },
      "source": [
        "browser.find_element_by_xpath(\"/html/body/div/div[1]/div[1]/nav/div/div[2]/ul[1]/li/form/div/div[2]/div/button/span\").click()"
      ],
      "execution_count": null,
      "outputs": []
    },
    {
      "cell_type": "markdown",
      "metadata": {
        "id": "nRzkMxqUQmsH"
      },
      "source": [
        "Vi navigerer til selg funksjonalitet"
      ]
    },
    {
      "cell_type": "code",
      "metadata": {
        "id": "EGgHmcxryS1_"
      },
      "source": [
        "browser.find_element_by_xpath(\"/html/body/div/div[1]/main/div/div[2]/button\").click()"
      ],
      "execution_count": null,
      "outputs": []
    },
    {
      "cell_type": "code",
      "metadata": {
        "id": "ZfS5XiVCzqRV"
      },
      "source": [
        "\n",
        "browser.find_element_by_xpath(\"/html/body/div[2]/div/div[1]/div/div/div/div/div/form/div/div[4]/span[3]/div\").click()"
      ],
      "execution_count": null,
      "outputs": []
    },
    {
      "cell_type": "markdown",
      "metadata": {
        "id": "C5gbRiyqQw_g"
      },
      "source": [
        "Vi velger antall, som vi ønsker at selge"
      ]
    },
    {
      "cell_type": "code",
      "metadata": {
        "id": "oBs0OCr-yW_Q"
      },
      "source": [
        "browser.find_element_by_xpath(\"/html/body/div[2]/div/div[1]/div/div/div/div/div/form/div/div[5]/div[1]/div/div[2]/input\").send_keys(\"31\")"
      ],
      "execution_count": null,
      "outputs": []
    },
    {
      "cell_type": "markdown",
      "metadata": {
        "id": "WOFfE-FmQzx-"
      },
      "source": [
        "Vi aktivere selgs orderen."
      ]
    },
    {
      "cell_type": "code",
      "metadata": {
        "id": "vVEybigjyUzQ"
      },
      "source": [
        "browser.find_element_by_xpath(\"/html/body/div[2]/div/div[1]/div/div/div/div/div/form/div/div[6]/div[1]/button\").click()"
      ],
      "execution_count": null,
      "outputs": []
    },
    {
      "cell_type": "markdown",
      "metadata": {
        "id": "alZOShRoYq11"
      },
      "source": [
        "# **6. Utkast - henting av portfolio av aksjer**"
      ]
    },
    {
      "cell_type": "code",
      "metadata": {
        "colab": {
          "base_uri": "https://localhost:8080/",
          "height": 391
        },
        "id": "vZUYPOXUYsnH",
        "outputId": "ae73c2c3-2f77-4078-963b-2ad8afa8d9c6"
      },
      "source": [
        "import time\n",
        "from selenium import webdriver\n",
        "options = webdriver.ChromeOptions()\n",
        "options.add_argument('--headless')\n",
        "options.add_argument('--no-sandbox')\n",
        "options.add_argument('--disable-dev-shm-usage')\n",
        "options.add_experimental_option('excludeSwitches', ['enable-logging'])\n",
        "# open it, go to a website, and get results\n",
        "browser = webdriver.Chrome('chromedriver',options=options)\n",
        "#browser = webdriver.Chrome()\n",
        "browser.get(\"https://aktiedysten.dk/\")\n",
        "#print(browser.page_source)  # results\n",
        "#return browser.page_source\n",
        "\n",
        "#login\n",
        "time.sleep(1)\n",
        "button = browser.find_element_by_xpath(\"/html/body/div/div[1]/div[1]/nav/div/div[2]/ul[4]/div/button[1]\")\n",
        "browser.execute_script(\"arguments[0].click();\", button)\n",
        "\n",
        "\n",
        "browser.find_element_by_xpath(\"/html/body/div[2]/div/div[1]/div/div/div/div/div/div/div/div/div/div/form/div[1]/div/input\").send_keys(\"Jesper@frausig.com\")\n",
        "\n",
        "\n",
        "browser.find_element_by_xpath(\"/html/body/div[2]/div/div[1]/div/div/div/div/div/div/div/div/div/div/form/div[2]/div/input\").send_keys(\"IND310\")\n",
        "\n",
        "\n",
        "browser.find_element_by_xpath(\"/html/body/div[2]/div/div[1]/div/div/div/div/div/div/div/div/div/div/form/button\").click()\n",
        "\n",
        "time.sleep(1)\n",
        "        \n",
        "browser.find_element_by_xpath(\"/html/body/div/div[1]/div[1]/nav/div/div[2]/ul[2]/li[3]\").click()\n",
        "time.sleep(1)\n",
        "\n",
        "browser.find_element_by_xpath(\"/html/body/div/div[1]/main/div/div/div[1]/div/div[2]/div[1]/div/div/div/a/div\").click()\n",
        "time.sleep(1)\n",
        "\n",
        "table=browser.find_element_by_xpath(\"/html/body/div/div[1]/main/span/div/div/div/div[1]/div[2]/div[1]/div/div/div[3]/div/table\").text\n",
        "\n",
        "print(table)"
      ],
      "execution_count": null,
      "outputs": [
        {
          "output_type": "error",
          "ename": "NoSuchElementException",
          "evalue": "ignored",
          "traceback": [
            "\u001b[0;31m---------------------------------------------------------------------------\u001b[0m",
            "\u001b[0;31mNoSuchElementException\u001b[0m                    Traceback (most recent call last)",
            "\u001b[0;32m<ipython-input-16-4405395ee5a6>\u001b[0m in \u001b[0;36m<module>\u001b[0;34m()\u001b[0m\n\u001b[1;32m     35\u001b[0m \u001b[0mtime\u001b[0m\u001b[0;34m.\u001b[0m\u001b[0msleep\u001b[0m\u001b[0;34m(\u001b[0m\u001b[0;36m1\u001b[0m\u001b[0;34m)\u001b[0m\u001b[0;34m\u001b[0m\u001b[0;34m\u001b[0m\u001b[0m\n\u001b[1;32m     36\u001b[0m \u001b[0;34m\u001b[0m\u001b[0m\n\u001b[0;32m---> 37\u001b[0;31m \u001b[0mtable\u001b[0m\u001b[0;34m=\u001b[0m\u001b[0mbrowser\u001b[0m\u001b[0;34m.\u001b[0m\u001b[0mfind_element_by_xpath\u001b[0m\u001b[0;34m(\u001b[0m\u001b[0;34m\"/html/body/div/div[1]/main/span/div/div/div/div[1]/div[2]/div[1]/div/div/div[3]/div/table\"\u001b[0m\u001b[0;34m)\u001b[0m\u001b[0;34m\u001b[0m\u001b[0;34m\u001b[0m\u001b[0m\n\u001b[0m\u001b[1;32m     38\u001b[0m \u001b[0;34m\u001b[0m\u001b[0m\n\u001b[1;32m     39\u001b[0m \u001b[0mprint\u001b[0m\u001b[0;34m(\u001b[0m\u001b[0mtable\u001b[0m\u001b[0;34m)\u001b[0m\u001b[0;34m\u001b[0m\u001b[0;34m\u001b[0m\u001b[0m\n",
            "\u001b[0;32m/usr/local/lib/python3.7/dist-packages/selenium/webdriver/remote/webdriver.py\u001b[0m in \u001b[0;36mfind_element_by_xpath\u001b[0;34m(self, xpath)\u001b[0m\n\u001b[1;32m    392\u001b[0m             \u001b[0melement\u001b[0m \u001b[0;34m=\u001b[0m \u001b[0mdriver\u001b[0m\u001b[0;34m.\u001b[0m\u001b[0mfind_element_by_xpath\u001b[0m\u001b[0;34m(\u001b[0m\u001b[0;34m'//div/td[1]'\u001b[0m\u001b[0;34m)\u001b[0m\u001b[0;34m\u001b[0m\u001b[0;34m\u001b[0m\u001b[0m\n\u001b[1;32m    393\u001b[0m         \"\"\"\n\u001b[0;32m--> 394\u001b[0;31m         \u001b[0;32mreturn\u001b[0m \u001b[0mself\u001b[0m\u001b[0;34m.\u001b[0m\u001b[0mfind_element\u001b[0m\u001b[0;34m(\u001b[0m\u001b[0mby\u001b[0m\u001b[0;34m=\u001b[0m\u001b[0mBy\u001b[0m\u001b[0;34m.\u001b[0m\u001b[0mXPATH\u001b[0m\u001b[0;34m,\u001b[0m \u001b[0mvalue\u001b[0m\u001b[0;34m=\u001b[0m\u001b[0mxpath\u001b[0m\u001b[0;34m)\u001b[0m\u001b[0;34m\u001b[0m\u001b[0;34m\u001b[0m\u001b[0m\n\u001b[0m\u001b[1;32m    395\u001b[0m \u001b[0;34m\u001b[0m\u001b[0m\n\u001b[1;32m    396\u001b[0m     \u001b[0;32mdef\u001b[0m \u001b[0mfind_elements_by_xpath\u001b[0m\u001b[0;34m(\u001b[0m\u001b[0mself\u001b[0m\u001b[0;34m,\u001b[0m \u001b[0mxpath\u001b[0m\u001b[0;34m)\u001b[0m\u001b[0;34m:\u001b[0m\u001b[0;34m\u001b[0m\u001b[0;34m\u001b[0m\u001b[0m\n",
            "\u001b[0;32m/usr/local/lib/python3.7/dist-packages/selenium/webdriver/remote/webdriver.py\u001b[0m in \u001b[0;36mfind_element\u001b[0;34m(self, by, value)\u001b[0m\n\u001b[1;32m    976\u001b[0m         return self.execute(Command.FIND_ELEMENT, {\n\u001b[1;32m    977\u001b[0m             \u001b[0;34m'using'\u001b[0m\u001b[0;34m:\u001b[0m \u001b[0mby\u001b[0m\u001b[0;34m,\u001b[0m\u001b[0;34m\u001b[0m\u001b[0;34m\u001b[0m\u001b[0m\n\u001b[0;32m--> 978\u001b[0;31m             'value': value})['value']\n\u001b[0m\u001b[1;32m    979\u001b[0m \u001b[0;34m\u001b[0m\u001b[0m\n\u001b[1;32m    980\u001b[0m     \u001b[0;32mdef\u001b[0m \u001b[0mfind_elements\u001b[0m\u001b[0;34m(\u001b[0m\u001b[0mself\u001b[0m\u001b[0;34m,\u001b[0m \u001b[0mby\u001b[0m\u001b[0;34m=\u001b[0m\u001b[0mBy\u001b[0m\u001b[0;34m.\u001b[0m\u001b[0mID\u001b[0m\u001b[0;34m,\u001b[0m \u001b[0mvalue\u001b[0m\u001b[0;34m=\u001b[0m\u001b[0;32mNone\u001b[0m\u001b[0;34m)\u001b[0m\u001b[0;34m:\u001b[0m\u001b[0;34m\u001b[0m\u001b[0;34m\u001b[0m\u001b[0m\n",
            "\u001b[0;32m/usr/local/lib/python3.7/dist-packages/selenium/webdriver/remote/webdriver.py\u001b[0m in \u001b[0;36mexecute\u001b[0;34m(self, driver_command, params)\u001b[0m\n\u001b[1;32m    319\u001b[0m         \u001b[0mresponse\u001b[0m \u001b[0;34m=\u001b[0m \u001b[0mself\u001b[0m\u001b[0;34m.\u001b[0m\u001b[0mcommand_executor\u001b[0m\u001b[0;34m.\u001b[0m\u001b[0mexecute\u001b[0m\u001b[0;34m(\u001b[0m\u001b[0mdriver_command\u001b[0m\u001b[0;34m,\u001b[0m \u001b[0mparams\u001b[0m\u001b[0;34m)\u001b[0m\u001b[0;34m\u001b[0m\u001b[0;34m\u001b[0m\u001b[0m\n\u001b[1;32m    320\u001b[0m         \u001b[0;32mif\u001b[0m \u001b[0mresponse\u001b[0m\u001b[0;34m:\u001b[0m\u001b[0;34m\u001b[0m\u001b[0;34m\u001b[0m\u001b[0m\n\u001b[0;32m--> 321\u001b[0;31m             \u001b[0mself\u001b[0m\u001b[0;34m.\u001b[0m\u001b[0merror_handler\u001b[0m\u001b[0;34m.\u001b[0m\u001b[0mcheck_response\u001b[0m\u001b[0;34m(\u001b[0m\u001b[0mresponse\u001b[0m\u001b[0;34m)\u001b[0m\u001b[0;34m\u001b[0m\u001b[0;34m\u001b[0m\u001b[0m\n\u001b[0m\u001b[1;32m    322\u001b[0m             response['value'] = self._unwrap_value(\n\u001b[1;32m    323\u001b[0m                 response.get('value', None))\n",
            "\u001b[0;32m/usr/local/lib/python3.7/dist-packages/selenium/webdriver/remote/errorhandler.py\u001b[0m in \u001b[0;36mcheck_response\u001b[0;34m(self, response)\u001b[0m\n\u001b[1;32m    240\u001b[0m                 \u001b[0malert_text\u001b[0m \u001b[0;34m=\u001b[0m \u001b[0mvalue\u001b[0m\u001b[0;34m[\u001b[0m\u001b[0;34m'alert'\u001b[0m\u001b[0;34m]\u001b[0m\u001b[0;34m.\u001b[0m\u001b[0mget\u001b[0m\u001b[0;34m(\u001b[0m\u001b[0;34m'text'\u001b[0m\u001b[0;34m)\u001b[0m\u001b[0;34m\u001b[0m\u001b[0;34m\u001b[0m\u001b[0m\n\u001b[1;32m    241\u001b[0m             \u001b[0;32mraise\u001b[0m \u001b[0mexception_class\u001b[0m\u001b[0;34m(\u001b[0m\u001b[0mmessage\u001b[0m\u001b[0;34m,\u001b[0m \u001b[0mscreen\u001b[0m\u001b[0;34m,\u001b[0m \u001b[0mstacktrace\u001b[0m\u001b[0;34m,\u001b[0m \u001b[0malert_text\u001b[0m\u001b[0;34m)\u001b[0m\u001b[0;34m\u001b[0m\u001b[0;34m\u001b[0m\u001b[0m\n\u001b[0;32m--> 242\u001b[0;31m         \u001b[0;32mraise\u001b[0m \u001b[0mexception_class\u001b[0m\u001b[0;34m(\u001b[0m\u001b[0mmessage\u001b[0m\u001b[0;34m,\u001b[0m \u001b[0mscreen\u001b[0m\u001b[0;34m,\u001b[0m \u001b[0mstacktrace\u001b[0m\u001b[0;34m)\u001b[0m\u001b[0;34m\u001b[0m\u001b[0;34m\u001b[0m\u001b[0m\n\u001b[0m\u001b[1;32m    243\u001b[0m \u001b[0;34m\u001b[0m\u001b[0m\n\u001b[1;32m    244\u001b[0m     \u001b[0;32mdef\u001b[0m \u001b[0m_value_or_default\u001b[0m\u001b[0;34m(\u001b[0m\u001b[0mself\u001b[0m\u001b[0;34m,\u001b[0m \u001b[0mobj\u001b[0m\u001b[0;34m,\u001b[0m \u001b[0mkey\u001b[0m\u001b[0;34m,\u001b[0m \u001b[0mdefault\u001b[0m\u001b[0;34m)\u001b[0m\u001b[0;34m:\u001b[0m\u001b[0;34m\u001b[0m\u001b[0;34m\u001b[0m\u001b[0m\n",
            "\u001b[0;31mNoSuchElementException\u001b[0m: Message: no such element: Unable to locate element: {\"method\":\"xpath\",\"selector\":\"/html/body/div/div[1]/main/span/div/div/div/div[1]/div[2]/div[1]/div/div/div[3]/div/table\"}\n  (Session info: headless chrome=91.0.4472.101)\n"
          ]
        }
      ]
    },
    {
      "cell_type": "code",
      "metadata": {
        "id": "qQLasYZKY61P"
      },
      "source": [
        "table=browser.find_element_by_xpath(\"/html/body/div/div[1]/main/span/div/div/div/div[1]/div[2]/div[1]/div/div/div[3]/div/table\").text"
      ],
      "execution_count": null,
      "outputs": []
    },
    {
      "cell_type": "code",
      "metadata": {
        "colab": {
          "base_uri": "https://localhost:8080/"
        },
        "id": "n-AxCouiaYJy",
        "outputId": "d5cf196b-a0f1-4dd9-afd1-3d4074830321"
      },
      "source": [
        "table.split('\\n')"
      ],
      "execution_count": null,
      "outputs": [
        {
          "output_type": "execute_result",
          "data": {
            "text/plain": [
              "['Antal Værdipapir Værdi Kurs nu (Gav) Ændring I dag Handl',\n",
              " '19',\n",
              " 'SAS AB',\n",
              " '29,22 kr. 1,54 kr. (1,57 kr.) -0,70 kr. (-2,32%) 1,28%',\n",
              " '37',\n",
              " 'Apple Inc',\n",
              " '30.370,18 kr. 820,82 kr. (786,79 kr.) 1.258,96 kr. (4,32%) — %',\n",
              " 'Total: 251.258,48 kr. 1.258,48 kr. (0,50%)']"
            ]
          },
          "metadata": {
            "tags": []
          },
          "execution_count": 36
        }
      ]
    },
    {
      "cell_type": "code",
      "metadata": {
        "id": "FdYhal05ZUQU"
      },
      "source": [
        "table_data=table.split('\\n')"
      ],
      "execution_count": null,
      "outputs": []
    },
    {
      "cell_type": "code",
      "metadata": {
        "colab": {
          "base_uri": "https://localhost:8080/"
        },
        "id": "d-R-xMC3ZUUj",
        "outputId": "fb872864-7c3a-43e3-c07f-ba9800a36b7f"
      },
      "source": [
        "import pandas as pd\n",
        "database=[]\n",
        "append_data={}\n",
        "try:\n",
        "  append_data.update({\"\": table_data[1]})\n",
        "  append_data.update({\"\": table_data[2]})\n",
        "  append_data.update({\"\": table_data[3]})\n",
        "  append_data.update({\"\": table_data[4]})\n",
        "  append_data.update({\"\": table_data[5]})\n",
        "except:\n",
        "  print(\"index mangler\")\n",
        "\n",
        "database.append(append_data)\n",
        "database"
      ],
      "execution_count": null,
      "outputs": [
        {
          "output_type": "execute_result",
          "data": {
            "text/plain": [
              "[{'Org_nr': '37',\n",
              "  'Sektor': 'Apple Inc',\n",
              "  'addresse': '29,22 kr. 1,54 kr. (1,57 kr.) -0,70 kr. (-2,32%) 1,28%',\n",
              "  'godkjenning': '19',\n",
              "  'navn': 'SAS AB'}]"
            ]
          },
          "metadata": {
            "tags": []
          },
          "execution_count": 37
        }
      ]
    },
    {
      "cell_type": "code",
      "metadata": {
        "id": "Ar05vGYxZ1Cb"
      },
      "source": [
        ""
      ],
      "execution_count": null,
      "outputs": []
    }
  ]
}