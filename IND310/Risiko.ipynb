{
  "nbformat": 4,
  "nbformat_minor": 0,
  "metadata": {
    "colab": {
      "name": "Risiko.ipynb",
      "provenance": []
    },
    "kernelspec": {
      "name": "python3",
      "display_name": "Python 3"
    },
    "language_info": {
      "name": "python"
    }
  },
  "cells": [
    {
      "cell_type": "code",
      "metadata": {
        "colab": {
          "base_uri": "https://localhost:8080/"
        },
        "id": "ARU_8ssxDLBX",
        "outputId": "7fca8992-d3e8-45e4-8013-310d6d63214a"
      },
      "source": [
        "!!pip install pytrends"
      ],
      "execution_count": 1,
      "outputs": [
        {
          "output_type": "execute_result",
          "data": {
            "text/plain": [
              "['Collecting pytrends',\n",
              " '  Downloading pytrends-4.7.3-py3-none-any.whl (14 kB)',\n",
              " 'Requirement already satisfied: pandas>=0.25 in /usr/local/lib/python3.7/dist-packages (from pytrends) (1.1.5)',\n",
              " 'Requirement already satisfied: requests in /usr/local/lib/python3.7/dist-packages (from pytrends) (2.23.0)',\n",
              " 'Requirement already satisfied: lxml in /usr/local/lib/python3.7/dist-packages (from pytrends) (4.2.6)',\n",
              " 'Requirement already satisfied: python-dateutil>=2.7.3 in /usr/local/lib/python3.7/dist-packages (from pandas>=0.25->pytrends) (2.8.2)',\n",
              " 'Requirement already satisfied: numpy>=1.15.4 in /usr/local/lib/python3.7/dist-packages (from pandas>=0.25->pytrends) (1.19.5)',\n",
              " 'Requirement already satisfied: pytz>=2017.2 in /usr/local/lib/python3.7/dist-packages (from pandas>=0.25->pytrends) (2018.9)',\n",
              " 'Requirement already satisfied: six>=1.5 in /usr/local/lib/python3.7/dist-packages (from python-dateutil>=2.7.3->pandas>=0.25->pytrends) (1.15.0)',\n",
              " 'Requirement already satisfied: idna<3,>=2.5 in /usr/local/lib/python3.7/dist-packages (from requests->pytrends) (2.10)',\n",
              " 'Requirement already satisfied: chardet<4,>=3.0.2 in /usr/local/lib/python3.7/dist-packages (from requests->pytrends) (3.0.4)',\n",
              " 'Requirement already satisfied: certifi>=2017.4.17 in /usr/local/lib/python3.7/dist-packages (from requests->pytrends) (2021.5.30)',\n",
              " 'Requirement already satisfied: urllib3!=1.25.0,!=1.25.1,<1.26,>=1.21.1 in /usr/local/lib/python3.7/dist-packages (from requests->pytrends) (1.24.3)',\n",
              " 'Installing collected packages: pytrends',\n",
              " 'Successfully installed pytrends-4.7.3']"
            ]
          },
          "metadata": {},
          "execution_count": 1
        }
      ]
    },
    {
      "cell_type": "code",
      "metadata": {
        "colab": {
          "base_uri": "https://localhost:8080/"
        },
        "id": "R0lsGLyeDMh0",
        "outputId": "11914c44-974e-4e8e-afc0-c56b89bb2aaf"
      },
      "source": [
        "#@title us\n",
        "# pip install pytrends\n",
        "import pandas as pd\n",
        "import numpy as np\n",
        "from pytrends.request import TrendReq\n",
        "pytrends = TrendReq(hl=\"en-US\", tz=360)\n",
        "#pytrends = TrendReq(hl=\"en-GB\", tz=360)\n",
        "recession_list=['riot', 'coup','bankruptcy','collapse','decline','deflation','downturn','civil war','hard times','inflation','stagnation','unemployment','bust','depression','bad times','Cyperattack','Cyperwar','Environmental disaster','Global warming','Warfare','Mass destruction','Crisis','Asteroid','Aliens','Pandemic','Volcanoes','Catastrophic risk','Emergency','Nuclear terrorism','Pandemic','Nuclear war','terrorism','world war']\n",
        "\n",
        "def gtrends_overtime(full_list, key_ref, save_name=\"\", directory=\"\", category=0, time='all', loc=''):\n",
        "    #iterate every 4 item in list plus a keyword reference as the relative comparison\n",
        "    i = 0\n",
        "    database=pd.DataFrame()\n",
        "    while i < len(recession_list):\n",
        "\n",
        "\n",
        "        l = recession_list[i:(i+4)]\n",
        "        l.append(key_ref)\n",
        "        l=[w.replace('_', ' ') for w in l]\n",
        "        #print(l)\n",
        "        pytrends.build_payload(l, cat=category, timeframe=time, geo=loc, gprop='')\n",
        "        df_time = pytrends.interest_over_time()\n",
        "        #df_time.reset_index(inplace=True)\n",
        "        df_time.drop(df_time.columns[len(df_time.columns)-1],axis=1, inplace=True)\n",
        "        #print(df_time)\n",
        "        database=pd.concat([database,df_time],join=\"outer\", axis=1)\n",
        "        #pd.merge(database,df_time, left_index=True, right_index=True)\n",
        "        #df_time_name = \"gtrends_overtime\"+str(save_name)+str((i+4)//4)+\".csv\"\n",
        "        #df_time.to_csv(directory+df_time_name, index = False)\n",
        "        i += 4\n",
        "    return database\n",
        "        \n",
        "data=gtrends_overtime(recession_list, \"recession\", \"_worldwide_\",directory=\"\",  category=71, time='today 5-y', loc=\"US\")\n",
        "\n",
        "data['date']=data.index\n",
        "\n",
        "data.replace([np.inf, -np.inf], np.nan)\n",
        "data=data.dropna()\n",
        "\n",
        "labels=list(data.columns.unique().drop(['date']))\n",
        "\n",
        "import altair as alt\n",
        "\n",
        "brush_sel = alt.selection(type='interval', encodings=['x'])\n",
        "\n",
        "nearest = alt.selection(type='single', nearest=True, on='mouseover',\n",
        "                        fields=['x'], empty='none')\n",
        "\n",
        "lower=alt.Chart(data).transform_fold(labels).mark_line().encode(\n",
        "    y=alt.Y('value:Q'),\n",
        "    x='date:T',\n",
        "    color='key:N'\n",
        ").properties(width=800,height=100).add_selection(brush_sel)\n",
        "\n",
        "upper=lower.transform_window(\n",
        "    rolling_mean='mean(value)',\n",
        "    frame=[-2, 2]\n",
        ").mark_bar(opacity=0.9).encode(\n",
        "    y=alt.Y(\"value:Q\"), #,sort='-y' , stack=None\n",
        "    x='yearmonthdate(date):O',\n",
        "    color='key:N',\n",
        "    \n",
        "    tooltip=alt.Tooltip(['key:N','value:N']),\n",
        ").properties(width=800,height=300).transform_filter(brush_sel)\n",
        "\n",
        "selectors = alt.Chart(data).transform_fold(labels).mark_point().encode(\n",
        "    x='value:Q',\n",
        "    color='key:N',\n",
        "    opacity=alt.value(0),\n",
        ").add_selection(\n",
        "    nearest\n",
        ")\n",
        "\n",
        "up=alt.layer(upper)\n",
        "\n",
        "\n",
        "alt.vconcat(up,lower) #.save(\"risiko.html\")"
      ],
      "execution_count": 2,
      "outputs": [
        {
          "output_type": "stream",
          "name": "stderr",
          "text": [
            "/usr/local/lib/python3.7/dist-packages/altair/utils/data.py:150: UserWarning: DataFrame columns are not unique, some columns will be omitted.\n",
            "  return {\"values\": data.to_dict(orient=\"records\")}\n"
          ]
        }
      ]
    }
  ]
}